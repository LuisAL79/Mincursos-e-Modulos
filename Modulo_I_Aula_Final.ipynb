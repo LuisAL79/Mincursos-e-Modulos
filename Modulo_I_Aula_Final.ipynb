{
  "nbformat": 4,
  "nbformat_minor": 0,
  "metadata": {
    "colab": {
      "provenance": [],
      "authorship_tag": "ABX9TyOB/KNbnqzDO8S3crIWDWhD",
      "include_colab_link": true
    },
    "kernelspec": {
      "name": "python3",
      "display_name": "Python 3"
    },
    "language_info": {
      "name": "python"
    }
  },
  "cells": [
    {
      "cell_type": "markdown",
      "metadata": {
        "id": "view-in-github",
        "colab_type": "text"
      },
      "source": [
        "<a href=\"https://colab.research.google.com/github/LuisAL79/Mincursos-e-Modulos/blob/main/Modulo_I_Aula_Final.ipynb\" target=\"_parent\"><img src=\"https://colab.research.google.com/assets/colab-badge.svg\" alt=\"Open In Colab\"/></a>"
      ]
    },
    {
      "cell_type": "code",
      "execution_count": null,
      "metadata": {
        "id": "HF1lhTnaFnzE"
      },
      "outputs": [],
      "source": [
        "import numpy as np"
      ]
    },
    {
      "cell_type": "code",
      "source": [
        "s = np.array( [ 1, 2, 3] )\n",
        "s"
      ],
      "metadata": {
        "id": "oCyJHGeKGelA",
        "colab": {
          "base_uri": "https://localhost:8080/"
        },
        "outputId": "64b80e6e-59ae-4792-f9c0-8bff663bdc58"
      },
      "execution_count": null,
      "outputs": [
        {
          "output_type": "execute_result",
          "data": {
            "text/plain": [
              "array([1, 2, 3])"
            ]
          },
          "metadata": {},
          "execution_count": 3
        }
      ]
    },
    {
      "cell_type": "code",
      "source": [
        "sc = np.array(\n",
        "    [\n",
        "        [1], [2] , [3]\n",
        "    ]\n",
        ")\n",
        "sc"
      ],
      "metadata": {
        "id": "xKnNodctGeBD",
        "colab": {
          "base_uri": "https://localhost:8080/"
        },
        "outputId": "c3bda8bb-b1f6-4058-d980-e6a1cca03a6b"
      },
      "execution_count": null,
      "outputs": [
        {
          "output_type": "execute_result",
          "data": {
            "text/plain": [
              "array([[1],\n",
              "       [2],\n",
              "       [3]])"
            ]
          },
          "metadata": {},
          "execution_count": 4
        }
      ]
    },
    {
      "cell_type": "code",
      "source": [
        "s*0.5"
      ],
      "metadata": {
        "id": "GpVvIpEvGdzu",
        "colab": {
          "base_uri": "https://localhost:8080/"
        },
        "outputId": "ff8c0559-ccc6-4c33-891f-a5c234946bdb"
      },
      "execution_count": null,
      "outputs": [
        {
          "output_type": "execute_result",
          "data": {
            "text/plain": [
              "array([0.5, 1. , 1.5])"
            ]
          },
          "metadata": {},
          "execution_count": 5
        }
      ]
    },
    {
      "cell_type": "code",
      "source": [
        "sc**2"
      ],
      "metadata": {
        "id": "2SPBeJwqG85Z",
        "colab": {
          "base_uri": "https://localhost:8080/"
        },
        "outputId": "b510e22a-538f-4329-f968-6f3cf4afe102"
      },
      "execution_count": null,
      "outputs": [
        {
          "output_type": "execute_result",
          "data": {
            "text/plain": [
              "array([[1],\n",
              "       [4],\n",
              "       [9]])"
            ]
          },
          "metadata": {},
          "execution_count": 6
        }
      ]
    },
    {
      "cell_type": "code",
      "source": [
        "Mm = np.array(\n",
        "    [\n",
        "        [3,8,5],\n",
        "     [0,2,8],\n",
        "     [-8,25,9]\n",
        "    ]\n",
        ")\n",
        "Mm"
      ],
      "metadata": {
        "id": "xAFUCBSFG8q8",
        "colab": {
          "base_uri": "https://localhost:8080/"
        },
        "outputId": "566b8125-6d46-4a33-dc2b-db0ada30582b"
      },
      "execution_count": null,
      "outputs": [
        {
          "output_type": "execute_result",
          "data": {
            "text/plain": [
              "array([[ 3,  8,  5],\n",
              "       [ 0,  2,  8],\n",
              "       [-8, 25,  9]])"
            ]
          },
          "metadata": {},
          "execution_count": 7
        }
      ]
    },
    {
      "cell_type": "markdown",
      "source": [
        "# Divisão de intervalos"
      ],
      "metadata": {
        "id": "41FhvSopPn-A"
      }
    },
    {
      "cell_type": "code",
      "source": [
        "c = np.arange(5.5)\n",
        "c"
      ],
      "metadata": {
        "colab": {
          "base_uri": "https://localhost:8080/"
        },
        "id": "o3w6S3KOOtGD",
        "outputId": "40b221ca-6ec3-41fb-aac2-bc6fd77fec26"
      },
      "execution_count": null,
      "outputs": [
        {
          "output_type": "execute_result",
          "data": {
            "text/plain": [
              "array([0., 1., 2., 3., 4., 5.])"
            ]
          },
          "metadata": {},
          "execution_count": 8
        }
      ]
    },
    {
      "cell_type": "code",
      "source": [
        "cp = np.arange(-2,12,3)\n",
        "cp"
      ],
      "metadata": {
        "colab": {
          "base_uri": "https://localhost:8080/"
        },
        "id": "Ggb-HXlCPjR7",
        "outputId": "bfdf252e-d4b8-43d5-bff2-64d7ccfab311"
      },
      "execution_count": null,
      "outputs": [
        {
          "output_type": "execute_result",
          "data": {
            "text/plain": [
              "array([-2,  1,  4,  7, 10])"
            ]
          },
          "metadata": {},
          "execution_count": 9
        }
      ]
    },
    {
      "cell_type": "code",
      "source": [
        "ll = np.linspace(-1,25)\n",
        "ll"
      ],
      "metadata": {
        "colab": {
          "base_uri": "https://localhost:8080/"
        },
        "id": "YV8nd192PjGH",
        "outputId": "512563e3-422a-45a5-8f7f-c29a57ddd705"
      },
      "execution_count": null,
      "outputs": [
        {
          "output_type": "execute_result",
          "data": {
            "text/plain": [
              "array([-1.        , -0.46938776,  0.06122449,  0.59183673,  1.12244898,\n",
              "        1.65306122,  2.18367347,  2.71428571,  3.24489796,  3.7755102 ,\n",
              "        4.30612245,  4.83673469,  5.36734694,  5.89795918,  6.42857143,\n",
              "        6.95918367,  7.48979592,  8.02040816,  8.55102041,  9.08163265,\n",
              "        9.6122449 , 10.14285714, 10.67346939, 11.20408163, 11.73469388,\n",
              "       12.26530612, 12.79591837, 13.32653061, 13.85714286, 14.3877551 ,\n",
              "       14.91836735, 15.44897959, 15.97959184, 16.51020408, 17.04081633,\n",
              "       17.57142857, 18.10204082, 18.63265306, 19.16326531, 19.69387755,\n",
              "       20.2244898 , 20.75510204, 21.28571429, 21.81632653, 22.34693878,\n",
              "       22.87755102, 23.40816327, 23.93877551, 24.46938776, 25.        ])"
            ]
          },
          "metadata": {},
          "execution_count": 10
        }
      ]
    },
    {
      "cell_type": "code",
      "source": [
        "lg = np.linspace(-1,25,10)\n",
        "lg"
      ],
      "metadata": {
        "colab": {
          "base_uri": "https://localhost:8080/"
        },
        "id": "k7useFa1QS_q",
        "outputId": "1912dbfe-8a2f-4cb4-edd3-bda32365a7c6"
      },
      "execution_count": null,
      "outputs": [
        {
          "output_type": "execute_result",
          "data": {
            "text/plain": [
              "array([-1.        ,  1.88888889,  4.77777778,  7.66666667, 10.55555556,\n",
              "       13.44444444, 16.33333333, 19.22222222, 22.11111111, 25.        ])"
            ]
          },
          "metadata": {},
          "execution_count": 11
        }
      ]
    },
    {
      "cell_type": "code",
      "source": [
        "np.set_printoptions(suppress=True)\n",
        "\n",
        "ep = np.array(\n",
        "    [1,5,3,58,-85,10.8,25.3,0.01,-0.001,38,-2,0.25,-0.025,10],dtype=float\n",
        ")\n",
        "ep.sort() # Ordena os valores\n",
        "ep"
      ],
      "metadata": {
        "colab": {
          "base_uri": "https://localhost:8080/"
        },
        "id": "97dRZibpQS82",
        "outputId": "9ba2c8e1-3f9b-4eea-fe80-8f237852ec42"
      },
      "execution_count": null,
      "outputs": [
        {
          "output_type": "execute_result",
          "data": {
            "text/plain": [
              "array([-85.   ,  -2.   ,  -0.025,  -0.001,   0.01 ,   0.25 ,   1.   ,\n",
              "         3.   ,   5.   ,  10.   ,  10.8  ,  25.3  ,  38.   ,  58.   ])"
            ]
          },
          "metadata": {},
          "execution_count": 18
        }
      ]
    },
    {
      "cell_type": "code",
      "source": [
        "ff = ep > 5\n",
        "ff"
      ],
      "metadata": {
        "colab": {
          "base_uri": "https://localhost:8080/"
        },
        "id": "k1P2WmFvQS6b",
        "outputId": "0aef241e-e08a-447c-d8c2-fb5dd04582dd"
      },
      "execution_count": null,
      "outputs": [
        {
          "output_type": "execute_result",
          "data": {
            "text/plain": [
              "array([False, False, False, False, False, False, False, False, False,\n",
              "        True,  True,  True,  True,  True])"
            ]
          },
          "metadata": {},
          "execution_count": 19
        }
      ]
    },
    {
      "cell_type": "code",
      "source": [
        "ep[ff]"
      ],
      "metadata": {
        "colab": {
          "base_uri": "https://localhost:8080/"
        },
        "id": "YlNtCGPoT5qD",
        "outputId": "ae8e2795-62ee-4fa7-d58a-185a73c58ea5"
      },
      "execution_count": null,
      "outputs": [
        {
          "output_type": "execute_result",
          "data": {
            "text/plain": [
              "array([10. , 10.8, 25.3, 38. , 58. ])"
            ]
          },
          "metadata": {},
          "execution_count": 20
        }
      ]
    },
    {
      "cell_type": "code",
      "source": [
        "ep.max()"
      ],
      "metadata": {
        "colab": {
          "base_uri": "https://localhost:8080/"
        },
        "id": "7sQBS8T4QS3R",
        "outputId": "47031f71-978e-4b24-f03c-f6b5769cbdad"
      },
      "execution_count": null,
      "outputs": [
        {
          "output_type": "execute_result",
          "data": {
            "text/plain": [
              "58.0"
            ]
          },
          "metadata": {},
          "execution_count": 21
        }
      ]
    },
    {
      "cell_type": "code",
      "source": [
        "ep.min()"
      ],
      "metadata": {
        "colab": {
          "base_uri": "https://localhost:8080/"
        },
        "id": "jqY8CeGqQS0B",
        "outputId": "3bf58dd2-d175-4fb3-cc58-7d20686e89f3"
      },
      "execution_count": null,
      "outputs": [
        {
          "output_type": "execute_result",
          "data": {
            "text/plain": [
              "-85.0"
            ]
          },
          "metadata": {},
          "execution_count": 22
        }
      ]
    },
    {
      "cell_type": "code",
      "source": [
        "Mm"
      ],
      "metadata": {
        "colab": {
          "base_uri": "https://localhost:8080/"
        },
        "id": "3Wr53TBxUgtT",
        "outputId": "abbe9105-0627-4b9b-a981-d5442bb177ca"
      },
      "execution_count": null,
      "outputs": [
        {
          "output_type": "execute_result",
          "data": {
            "text/plain": [
              "array([[ 3,  8,  5],\n",
              "       [ 0,  2,  8],\n",
              "       [-8, 25,  9]])"
            ]
          },
          "metadata": {},
          "execution_count": 23
        }
      ]
    },
    {
      "cell_type": "code",
      "source": [
        "# Somar colunas\n",
        "Mm.sum(axis=0)"
      ],
      "metadata": {
        "colab": {
          "base_uri": "https://localhost:8080/"
        },
        "id": "Z4FNpfB9Uku0",
        "outputId": "ba933e4e-35c5-44e5-df0e-3d3a4510fb1c"
      },
      "execution_count": null,
      "outputs": [
        {
          "output_type": "execute_result",
          "data": {
            "text/plain": [
              "array([-5, 35, 22])"
            ]
          },
          "metadata": {},
          "execution_count": 24
        }
      ]
    },
    {
      "cell_type": "code",
      "source": [
        "# Somar linhas\n",
        "Mm.sum(axis=1)"
      ],
      "metadata": {
        "colab": {
          "base_uri": "https://localhost:8080/"
        },
        "id": "cCUjpilFU_CZ",
        "outputId": "9b6dd310-5e76-4e2a-de7d-e5b43d8f343d"
      },
      "execution_count": null,
      "outputs": [
        {
          "output_type": "execute_result",
          "data": {
            "text/plain": [
              "array([16, 10, 26])"
            ]
          },
          "metadata": {},
          "execution_count": 25
        }
      ]
    },
    {
      "cell_type": "markdown",
      "source": [
        "# Produto escalar"
      ],
      "metadata": {
        "id": "T4wsIigRVWJN"
      }
    },
    {
      "cell_type": "code",
      "source": [
        "v1 = np.array(\n",
        "    [\n",
        "        [-8,6,9]\n",
        "    ]\n",
        ")\n",
        "v1"
      ],
      "metadata": {
        "colab": {
          "base_uri": "https://localhost:8080/"
        },
        "id": "NeGM6KyFVZnH",
        "outputId": "3212ab7f-7458-4f42-dbbe-1607e4bcf9e8"
      },
      "execution_count": null,
      "outputs": [
        {
          "output_type": "execute_result",
          "data": {
            "text/plain": [
              "array([[-8,  6,  9]])"
            ]
          },
          "metadata": {},
          "execution_count": 26
        }
      ]
    },
    {
      "cell_type": "code",
      "source": [
        "v2 = np.array(\n",
        "    [\n",
        "        [3,2,45]\n",
        "    ]\n",
        ")\n",
        "v2"
      ],
      "metadata": {
        "colab": {
          "base_uri": "https://localhost:8080/"
        },
        "id": "_Ka69VHMUkr_",
        "outputId": "db40c968-de80-4d9a-f22d-a4925abc5e0e"
      },
      "execution_count": null,
      "outputs": [
        {
          "output_type": "execute_result",
          "data": {
            "text/plain": [
              "array([[ 3,  2, 45]])"
            ]
          },
          "metadata": {},
          "execution_count": 27
        }
      ]
    },
    {
      "cell_type": "code",
      "source": [
        "vd = np.vdot(v1,v2)\n",
        "vd"
      ],
      "metadata": {
        "colab": {
          "base_uri": "https://localhost:8080/"
        },
        "id": "OOSLkGjtUkp5",
        "outputId": "e47a0dd7-921b-4794-e49a-5887d6ae232a"
      },
      "execution_count": null,
      "outputs": [
        {
          "output_type": "execute_result",
          "data": {
            "text/plain": [
              "393"
            ]
          },
          "metadata": {},
          "execution_count": 28
        }
      ]
    },
    {
      "cell_type": "markdown",
      "source": [
        "# Álgebra Linear"
      ],
      "metadata": {
        "id": "O1uYHcHJWicH"
      }
    },
    {
      "cell_type": "code",
      "source": [
        "m2 = np.array(\n",
        "    [\n",
        "        [-2,9],\n",
        "     [6,0.6]\n",
        "    ]\n",
        ")\n",
        "m2"
      ],
      "metadata": {
        "colab": {
          "base_uri": "https://localhost:8080/"
        },
        "id": "mPbLma0nWm_v",
        "outputId": "738c5ca7-cb22-47e3-eed2-fe21ad76e3e3"
      },
      "execution_count": null,
      "outputs": [
        {
          "output_type": "execute_result",
          "data": {
            "text/plain": [
              "array([[-2. ,  9. ],\n",
              "       [ 6. ,  0.6]])"
            ]
          },
          "metadata": {},
          "execution_count": 29
        }
      ]
    },
    {
      "cell_type": "markdown",
      "source": [
        "Inversa"
      ],
      "metadata": {
        "id": "4dRT6MTqW6ic"
      }
    },
    {
      "cell_type": "code",
      "source": [
        "m2inv = np.linalg.inv(m2)\n",
        "m2inv"
      ],
      "metadata": {
        "colab": {
          "base_uri": "https://localhost:8080/"
        },
        "id": "Y2OMJMzrW8Dr",
        "outputId": "a3ccf7e4-dce2-432c-ce92-4e8d42c88b13"
      },
      "execution_count": null,
      "outputs": [
        {
          "output_type": "execute_result",
          "data": {
            "text/plain": [
              "array([[-0.01086957,  0.16304348],\n",
              "       [ 0.10869565,  0.03623188]])"
            ]
          },
          "metadata": {},
          "execution_count": 30
        }
      ]
    },
    {
      "cell_type": "code",
      "source": [
        "ident = np.matmul(m2,m2inv)\n",
        "ident"
      ],
      "metadata": {
        "colab": {
          "base_uri": "https://localhost:8080/"
        },
        "id": "YsDKCIxYUknn",
        "outputId": "0e35c0d1-c881-4615-c11a-a576987f0083"
      },
      "execution_count": null,
      "outputs": [
        {
          "output_type": "execute_result",
          "data": {
            "text/plain": [
              "array([[1., 0.],\n",
              "       [0., 1.]])"
            ]
          },
          "metadata": {},
          "execution_count": 31
        }
      ]
    },
    {
      "cell_type": "code",
      "source": [
        "m2 @ m2inv"
      ],
      "metadata": {
        "colab": {
          "base_uri": "https://localhost:8080/"
        },
        "id": "JyWh4vLVUklO",
        "outputId": "535fe4d6-50a8-4712-a1c5-44906b8f0c53"
      },
      "execution_count": null,
      "outputs": [
        {
          "output_type": "execute_result",
          "data": {
            "text/plain": [
              "array([[1., 0.],\n",
              "       [0., 1.]])"
            ]
          },
          "metadata": {},
          "execution_count": 32
        }
      ]
    },
    {
      "cell_type": "markdown",
      "source": [
        "# Autovalores Autovetores"
      ],
      "metadata": {
        "id": "Fi_I4P1AYgEa"
      }
    },
    {
      "cell_type": "code",
      "source": [
        "m3 = np.array(\n",
        "    [\n",
        "        [2,5,9],\n",
        "     [89,56,0],\n",
        "     [-5,-6,-3]\n",
        "    ]\n",
        ")\n",
        "m3"
      ],
      "metadata": {
        "colab": {
          "base_uri": "https://localhost:8080/"
        },
        "id": "N2CT_W_8YkHi",
        "outputId": "69c78826-875c-41c2-ee29-f35335ec8269"
      },
      "execution_count": null,
      "outputs": [
        {
          "output_type": "execute_result",
          "data": {
            "text/plain": [
              "array([[ 2,  5,  9],\n",
              "       [89, 56,  0],\n",
              "       [-5, -6, -3]])"
            ]
          },
          "metadata": {},
          "execution_count": 33
        }
      ]
    },
    {
      "cell_type": "code",
      "source": [
        "sol = np.linalg.eig(m3)\n",
        "sol"
      ],
      "metadata": {
        "colab": {
          "base_uri": "https://localhost:8080/"
        },
        "id": "9ReP_02dUkip",
        "outputId": "c86f153b-9d07-4a8d-9593-ab1dcfefc978"
      },
      "execution_count": null,
      "outputs": [
        {
          "output_type": "execute_result",
          "data": {
            "text/plain": [
              "(array([62.10530498, -9.3270968 ,  2.22179182]),\n",
              " array([[-0.06811708, -0.56725233,  0.46473493],\n",
              "        [-0.99297582,  0.77281036, -0.76911095],\n",
              "        [ 0.09674235,  0.28458558,  0.43873658]]))"
            ]
          },
          "metadata": {},
          "execution_count": 35
        }
      ]
    },
    {
      "cell_type": "code",
      "source": [
        "# autovalores\n",
        "sol[0]"
      ],
      "metadata": {
        "colab": {
          "base_uri": "https://localhost:8080/"
        },
        "id": "LuECfRrsUkgb",
        "outputId": "93b83d1f-db68-4bc9-d8a0-aebc03e3aed4"
      },
      "execution_count": null,
      "outputs": [
        {
          "output_type": "execute_result",
          "data": {
            "text/plain": [
              "array([62.10530498, -9.3270968 ,  2.22179182])"
            ]
          },
          "metadata": {},
          "execution_count": 36
        }
      ]
    },
    {
      "cell_type": "code",
      "source": [
        "# auto vetores normalizados\n",
        "sol[1]"
      ],
      "metadata": {
        "colab": {
          "base_uri": "https://localhost:8080/"
        },
        "id": "1pkXimUAUkd9",
        "outputId": "c84deee4-c477-49e9-b50f-eec9265697eb"
      },
      "execution_count": null,
      "outputs": [
        {
          "output_type": "execute_result",
          "data": {
            "text/plain": [
              "array([[-0.06811708, -0.56725233,  0.46473493],\n",
              "       [-0.99297582,  0.77281036, -0.76911095],\n",
              "       [ 0.09674235,  0.28458558,  0.43873658]])"
            ]
          },
          "metadata": {},
          "execution_count": 37
        }
      ]
    },
    {
      "cell_type": "markdown",
      "source": [
        "$$\\hat{A}V=\\lambda V$$"
      ],
      "metadata": {
        "id": "Lz2CNxloaF3b"
      }
    },
    {
      "cell_type": "markdown",
      "source": [
        "# Determinante"
      ],
      "metadata": {
        "id": "wjUPum9Bal6e"
      }
    },
    {
      "cell_type": "code",
      "source": [
        "dm3 = np.linalg.det(m3)\n",
        "dm3"
      ],
      "metadata": {
        "colab": {
          "base_uri": "https://localhost:8080/"
        },
        "id": "VN4bsUvlakLA",
        "outputId": "f74cede2-fe18-4682-e944-6a2b77a55148"
      },
      "execution_count": null,
      "outputs": [
        {
          "output_type": "execute_result",
          "data": {
            "text/plain": [
              "-1287.0000000000005"
            ]
          },
          "metadata": {},
          "execution_count": 38
        }
      ]
    },
    {
      "cell_type": "markdown",
      "source": [
        "# Traço"
      ],
      "metadata": {
        "id": "nKTklFQEa8JK"
      }
    },
    {
      "cell_type": "code",
      "source": [
        "tm3 = np.trace(m3)\n",
        "tm3"
      ],
      "metadata": {
        "colab": {
          "base_uri": "https://localhost:8080/"
        },
        "id": "CUnEoteQa9vC",
        "outputId": "93711911-62b2-48cf-86ea-45034e6ebbf9"
      },
      "execution_count": null,
      "outputs": [
        {
          "output_type": "execute_result",
          "data": {
            "text/plain": [
              "55"
            ]
          },
          "metadata": {},
          "execution_count": 39
        }
      ]
    },
    {
      "cell_type": "code",
      "source": [
        "m3"
      ],
      "metadata": {
        "colab": {
          "base_uri": "https://localhost:8080/"
        },
        "id": "_vB4ZfLhakhL",
        "outputId": "ecc52e70-f5f0-4988-9e83-6147b9eab73c"
      },
      "execution_count": null,
      "outputs": [
        {
          "output_type": "execute_result",
          "data": {
            "text/plain": [
              "array([[ 2,  5,  9],\n",
              "       [89, 56,  0],\n",
              "       [-5, -6, -3]])"
            ]
          },
          "metadata": {},
          "execution_count": 40
        }
      ]
    },
    {
      "cell_type": "markdown",
      "source": [
        "## **Sistemas de Equações**\n",
        "\n",
        "\\begin{array}{lc}\n",
        "   x+y+z&= 6 \\\\\n",
        "   x+2y+2z& = 9 \\\\\n",
        "   2x+y+3z& = 11\n",
        "\\end{array}\n",
        "\n",
        "Pode ser escrito como : $$\\hat{A}X=U$$\n",
        "\n",
        "$$\\displaystyle \\left( \\begin{array}{c} 1 & 1 & 1 \\\\\n",
        "   1 & 2 & 2 \\\\\n",
        "   2 & 1 & 3 \\end{array} \\right)\\left( \\begin{array}{c} x \\\\\n",
        "   y \\\\\n",
        "   z \\end{array} \\right) = \\left( \\begin{array}{c} 6 \\\\\n",
        "   9 \\\\\n",
        "   11 \\end{array} \\right) $$\n",
        "\n",
        "Solução do sistema: $$X=\\hat{A}^{-1}U$$"
      ],
      "metadata": {
        "id": "H2VPrHnwGC4S"
      }
    },
    {
      "cell_type": "code",
      "source": [
        "A=np.array(\n",
        "    [\n",
        "        [1,1,1],\n",
        "     [1,2,2],\n",
        "     [2,1,3]\n",
        "    ]\n",
        ")\n",
        "A"
      ],
      "metadata": {
        "id": "sg0HGCSGGJW1",
        "colab": {
          "base_uri": "https://localhost:8080/"
        },
        "outputId": "c0632ca1-9237-4736-916a-01269484861a"
      },
      "execution_count": null,
      "outputs": [
        {
          "output_type": "execute_result",
          "data": {
            "text/plain": [
              "array([[1, 1, 1],\n",
              "       [1, 2, 2],\n",
              "       [2, 1, 3]])"
            ]
          },
          "metadata": {},
          "execution_count": 41
        }
      ]
    },
    {
      "cell_type": "code",
      "source": [
        "U=np.array(\n",
        "    [[6],[9],[11]]\n",
        ")\n",
        "U"
      ],
      "metadata": {
        "id": "i_ShAXOBGK7U",
        "colab": {
          "base_uri": "https://localhost:8080/"
        },
        "outputId": "646285b5-92d8-4f7e-e565-7fa1d45a37aa"
      },
      "execution_count": null,
      "outputs": [
        {
          "output_type": "execute_result",
          "data": {
            "text/plain": [
              "array([[ 6],\n",
              "       [ 9],\n",
              "       [11]])"
            ]
          },
          "metadata": {},
          "execution_count": 42
        }
      ]
    },
    {
      "cell_type": "code",
      "source": [
        "X=np.linalg.inv(A) @ U\n",
        "X"
      ],
      "metadata": {
        "id": "mMDHEdH3GS9z",
        "colab": {
          "base_uri": "https://localhost:8080/"
        },
        "outputId": "e284fdf0-5f79-44bc-8747-a52204615fab"
      },
      "execution_count": null,
      "outputs": [
        {
          "output_type": "execute_result",
          "data": {
            "text/plain": [
              "array([[3.],\n",
              "       [2.],\n",
              "       [1.]])"
            ]
          },
          "metadata": {},
          "execution_count": 43
        }
      ]
    }
  ]
}