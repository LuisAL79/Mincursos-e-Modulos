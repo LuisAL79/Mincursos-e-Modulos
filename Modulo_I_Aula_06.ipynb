{
  "nbformat": 4,
  "nbformat_minor": 0,
  "metadata": {
    "colab": {
      "provenance": [],
      "authorship_tag": "ABX9TyMsq9JaAPYy8wIRp6eO0hiN",
      "include_colab_link": true
    },
    "kernelspec": {
      "name": "python3",
      "display_name": "Python 3"
    },
    "language_info": {
      "name": "python"
    }
  },
  "cells": [
    {
      "cell_type": "markdown",
      "metadata": {
        "id": "view-in-github",
        "colab_type": "text"
      },
      "source": [
        "<a href=\"https://colab.research.google.com/github/LuisAL79/Mincursos-e-Modulos/blob/main/Modulo_I_Aula_06.ipynb\" target=\"_parent\"><img src=\"https://colab.research.google.com/assets/colab-badge.svg\" alt=\"Open In Colab\"/></a>"
      ]
    },
    {
      "cell_type": "code",
      "execution_count": null,
      "metadata": {
        "id": "oiskfOE-D4tV"
      },
      "outputs": [],
      "source": [
        "from sympy import*\n",
        "from sympy.interactive import printing\n",
        "printing.init_printing(use_latex=True)"
      ]
    },
    {
      "cell_type": "code",
      "source": [
        "m=5\n",
        "sqrt(m)"
      ],
      "metadata": {
        "colab": {
          "base_uri": "https://localhost:8080/",
          "height": 38
        },
        "id": "LPf9iHpCEpeb",
        "outputId": "fbbce9b0-a928-4c36-d23b-488c8f32b8af"
      },
      "execution_count": null,
      "outputs": [
        {
          "output_type": "execute_result",
          "data": {
            "text/plain": [
              "√5"
            ],
            "image/png": "[encoded data removed]",
            "text/latex": "$\\displaystyle \\sqrt{5}$"
          },
          "metadata": {},
          "execution_count": 92
        }
      ]
    },
    {
      "cell_type": "code",
      "source": [
        "sqrt(m).evalf()"
      ],
      "metadata": {
        "colab": {
          "base_uri": "https://localhost:8080/",
          "height": 37
        },
        "id": "xqsAvexpFDEy",
        "outputId": "7cdc3fcf-fe0e-4d18-c0a9-e48c546bf346"
      },
      "execution_count": null,
      "outputs": [
        {
          "output_type": "execute_result",
          "data": {
            "text/plain": [
              "2.23606797749979"
            ],
            "image/png": "[encoded data removed]",
            "text/latex": "$\\displaystyle 2.23606797749979$"
          },
          "metadata": {},
          "execution_count": 93
        }
      ]
    },
    {
      "cell_type": "code",
      "source": [
        "N(sqrt(m))"
      ],
      "metadata": {
        "colab": {
          "base_uri": "https://localhost:8080/",
          "height": 37
        },
        "id": "Ea77P-8KFVjP",
        "outputId": "23569619-3853-4556-86ba-4f230871c5a0"
      },
      "execution_count": null,
      "outputs": [
        {
          "output_type": "execute_result",
          "data": {
            "text/plain": [
              "2.23606797749979"
            ],
            "image/png": "[encoded data removed]",
            "text/latex": "$\\displaystyle 2.23606797749979$"
          },
          "metadata": {},
          "execution_count": 94
        }
      ]
    },
    {
      "cell_type": "markdown",
      "source": [
        "# **Declarar Símbolos**\n"
      ],
      "metadata": {
        "id": "ZGIbjcTvlmjS"
      }
    },
    {
      "cell_type": "code",
      "source": [
        "x, y, z = symbols('x y z')\n",
        "x"
      ],
      "metadata": {
        "colab": {
          "base_uri": "https://localhost:8080/",
          "height": 38
        },
        "id": "_RY2_BsMFsBL",
        "outputId": "5b574b8b-adf3-4b98-8d6f-ea27f51fc81f"
      },
      "execution_count": null,
      "outputs": [
        {
          "output_type": "execute_result",
          "data": {
            "text/plain": [
              "x"
            ],
            "image/png": "[encoded data removed]",
            "text/latex": "$\\displaystyle x$"
          },
          "metadata": {},
          "execution_count": 95
        }
      ]
    },
    {
      "cell_type": "code",
      "source": [
        "x+1"
      ],
      "metadata": {
        "colab": {
          "base_uri": "https://localhost:8080/",
          "height": 38
        },
        "id": "dF2QHdEKGDL6",
        "outputId": "7d4c64fb-a315-40fe-9e57-15a81fb65f49"
      },
      "execution_count": null,
      "outputs": [
        {
          "output_type": "execute_result",
          "data": {
            "text/plain": [
              "x + 1"
            ],
            "image/png": "[encoded data removed]",
            "text/latex": "$\\displaystyle x + 1$"
          },
          "metadata": {},
          "execution_count": 96
        }
      ]
    },
    {
      "cell_type": "code",
      "source": [
        "(x+1)**2"
      ],
      "metadata": {
        "colab": {
          "base_uri": "https://localhost:8080/",
          "height": 39
        },
        "id": "teQeV_xdGK9x",
        "outputId": "ceda4954-99c0-4a75-e54f-288daa38bf99"
      },
      "execution_count": null,
      "outputs": [
        {
          "output_type": "execute_result",
          "data": {
            "text/plain": [
              "       2\n",
              "(x + 1) "
            ],
            "image/png": "[encoded data removed]",
            "text/latex": "$\\displaystyle \\left(x + 1\\right)^{2}$"
          },
          "metadata": {},
          "execution_count": 97
        }
      ]
    },
    {
      "cell_type": "code",
      "source": [
        "y=(x+1)**2\n",
        "y"
      ],
      "metadata": {
        "colab": {
          "base_uri": "https://localhost:8080/",
          "height": 39
        },
        "id": "_mQS_A4iGSMx",
        "outputId": "c3651090-24e9-4932-caed-1e1349d1eabd"
      },
      "execution_count": null,
      "outputs": [
        {
          "output_type": "execute_result",
          "data": {
            "text/plain": [
              "       2\n",
              "(x + 1) "
            ],
            "image/png": "[encoded data removed]",
            "text/latex": "$\\displaystyle \\left(x + 1\\right)^{2}$"
          },
          "metadata": {},
          "execution_count": 98
        }
      ]
    },
    {
      "cell_type": "code",
      "source": [
        "sqrt(y)"
      ],
      "metadata": {
        "colab": {
          "base_uri": "https://localhost:8080/",
          "height": 48
        },
        "id": "iRAmsgThGbhR",
        "outputId": "f90118bd-200e-4e3d-f396-05b879c1dec5"
      },
      "execution_count": null,
      "outputs": [
        {
          "output_type": "execute_result",
          "data": {
            "text/plain": [
              "   __________\n",
              "  ╱        2 \n",
              "╲╱  (x + 1)  "
            ],
            "image/png": "[encoded data removed]",
            "text/latex": "$\\displaystyle \\sqrt{\\left(x + 1\\right)^{2}}$"
          },
          "metadata": {},
          "execution_count": 99
        }
      ]
    },
    {
      "cell_type": "code",
      "source": [
        "p = symbols('p')\n",
        "\n",
        "sqrt(p**2)"
      ],
      "metadata": {
        "colab": {
          "base_uri": "https://localhost:8080/",
          "height": 39
        },
        "id": "BRGzwA_OGjik",
        "outputId": "15deea63-945a-4aae-cea3-c46154c3f56e"
      },
      "execution_count": null,
      "outputs": [
        {
          "output_type": "execute_result",
          "data": {
            "text/plain": [
              "   ____\n",
              "  ╱  2 \n",
              "╲╱  p  "
            ],
            "image/png": "[encoded data removed]",
            "text/latex": "$\\displaystyle \\sqrt{p^{2}}$"
          },
          "metadata": {},
          "execution_count": 100
        }
      ]
    },
    {
      "cell_type": "markdown",
      "source": [
        "# **Números Reais**"
      ],
      "metadata": {
        "id": "ybhf-pwseW07"
      }
    },
    {
      "cell_type": "code",
      "source": [
        "p = symbols('p', real=True)\n",
        "sqrt(p**2)"
      ],
      "metadata": {
        "colab": {
          "base_uri": "https://localhost:8080/",
          "height": 38
        },
        "id": "VQtOBedhGxOz",
        "outputId": "9656706b-fd23-4b86-a0ea-e4ad397a3d18"
      },
      "execution_count": null,
      "outputs": [
        {
          "output_type": "execute_result",
          "data": {
            "text/plain": [
              "│p│"
            ],
            "image/png": "[encoded data removed]",
            "text/latex": "$\\displaystyle \\left|{p}\\right|$"
          },
          "metadata": {},
          "execution_count": 101
        }
      ]
    },
    {
      "cell_type": "code",
      "source": [
        "p = symbols('p', real=True, positive=True)\n",
        "sqrt(p**2)"
      ],
      "metadata": {
        "colab": {
          "base_uri": "https://localhost:8080/",
          "height": 38
        },
        "id": "2UtYoN63HHDf",
        "outputId": "dce90747-ef9b-4f02-fb3e-7d4db73b5018"
      },
      "execution_count": null,
      "outputs": [
        {
          "output_type": "execute_result",
          "data": {
            "text/plain": [
              "p"
            ],
            "image/png": "[encoded data removed]",
            "text/latex": "$\\displaystyle p$"
          },
          "metadata": {},
          "execution_count": 102
        }
      ]
    },
    {
      "cell_type": "code",
      "source": [
        "p = symbols('p', real=True, positive=False)\n",
        "sqrt(p**2).subs(p,-2)"
      ],
      "metadata": {
        "colab": {
          "base_uri": "https://localhost:8080/",
          "height": 37
        },
        "id": "CUdqcB3dHhXP",
        "outputId": "5e53b566-3f13-4e5e-eef0-0fe8d91355a6"
      },
      "execution_count": null,
      "outputs": [
        {
          "output_type": "execute_result",
          "data": {
            "text/plain": [
              "2"
            ],
            "image/png": "[encoded data removed]",
            "text/latex": "$\\displaystyle 2$"
          },
          "metadata": {},
          "execution_count": 103
        }
      ]
    },
    {
      "cell_type": "code",
      "source": [
        "r, u, v = symbols('r u v')\n",
        "\n",
        "pol = r**2 + 3*u-1/v\n",
        "pol"
      ],
      "metadata": {
        "colab": {
          "base_uri": "https://localhost:8080/",
          "height": 51
        },
        "id": "sRS6bdkeIBTT",
        "outputId": "2cf4993e-e1b8-49fd-e87f-a1cd74247ca3"
      },
      "execution_count": null,
      "outputs": [
        {
          "output_type": "execute_result",
          "data": {
            "text/plain": [
              " 2         1\n",
              "r  + 3⋅u - ─\n",
              "           v"
            ],
            "image/png": "[encoded data removed]",
            "text/latex": "$\\displaystyle r^{2} + 3 u - \\frac{1}{v}$"
          },
          "metadata": {},
          "execution_count": 104
        }
      ]
    },
    {
      "cell_type": "markdown",
      "source": [
        "# **Substituição**"
      ],
      "metadata": {
        "id": "B5yvQmz7lqc4"
      }
    },
    {
      "cell_type": "code",
      "source": [
        "# r= 3, u=5 e v=0.5\n",
        "display(pol)\n",
        "pol.subs({r:3,u:-5,v:0.5})"
      ],
      "metadata": {
        "colab": {
          "base_uri": "https://localhost:8080/",
          "height": 71
        },
        "id": "FnEukQrAIcSw",
        "outputId": "6837e8a9-3e8d-4e85-9b6c-c4293d9250c9"
      },
      "execution_count": null,
      "outputs": [
        {
          "output_type": "display_data",
          "data": {
            "text/plain": [
              " 2         1\n",
              "r  + 3⋅u - ─\n",
              "           v"
            ],
            "image/png": "[encoded data removed]",
            "text/latex": "$\\displaystyle r^{2} + 3 u - \\frac{1}{v}$"
          },
          "metadata": {}
        },
        {
          "output_type": "execute_result",
          "data": {
            "text/plain": [
              "-8.00000000000000"
            ],
            "image/png": "[encoded data removed]",
            "text/latex": "$\\displaystyle -8.0$"
          },
          "metadata": {},
          "execution_count": 105
        }
      ]
    },
    {
      "cell_type": "code",
      "source": [
        "lt = [2,3,5,8]\n",
        "for qq in lt:\n",
        "  valor=pol.subs({r:qq})\n",
        "  display(valor)\n",
        "  print()\n"
      ],
      "metadata": {
        "colab": {
          "base_uri": "https://localhost:8080/",
          "height": 222
        },
        "id": "gEbqUkjdJg26",
        "outputId": "ef3a7a22-3e44-496f-d549-3d94b6ce4e5e"
      },
      "execution_count": null,
      "outputs": [
        {
          "output_type": "display_data",
          "data": {
            "text/plain": [
              "          1\n",
              "3⋅u + 4 - ─\n",
              "          v"
            ],
            "image/png": "[encoded data removed]",
            "text/latex": "$\\displaystyle 3 u + 4 - \\frac{1}{v}$"
          },
          "metadata": {}
        },
        {
          "output_type": "stream",
          "name": "stdout",
          "text": [
            "\n"
          ]
        },
        {
          "output_type": "display_data",
          "data": {
            "text/plain": [
              "          1\n",
              "3⋅u + 9 - ─\n",
              "          v"
            ],
            "image/png": "[encoded data removed]",
            "text/latex": "$\\displaystyle 3 u + 9 - \\frac{1}{v}$"
          },
          "metadata": {}
        },
        {
          "output_type": "stream",
          "name": "stdout",
          "text": [
            "\n"
          ]
        },
        {
          "output_type": "display_data",
          "data": {
            "text/plain": [
              "           1\n",
              "3⋅u + 25 - ─\n",
              "           v"
            ],
            "image/png": "[encoded data removed]",
            "text/latex": "$\\displaystyle 3 u + 25 - \\frac{1}{v}$"
          },
          "metadata": {}
        },
        {
          "output_type": "stream",
          "name": "stdout",
          "text": [
            "\n"
          ]
        },
        {
          "output_type": "display_data",
          "data": {
            "text/plain": [
              "           1\n",
              "3⋅u + 64 - ─\n",
              "           v"
            ],
            "image/png": "[encoded data removed]",
            "text/latex": "$\\displaystyle 3 u + 64 - \\frac{1}{v}$"
          },
          "metadata": {}
        },
        {
          "output_type": "stream",
          "name": "stdout",
          "text": [
            "\n"
          ]
        }
      ]
    },
    {
      "cell_type": "code",
      "source": [
        "# Dicionário\n",
        "\n",
        "meudic = {'segunda':5, 'terça':10,'sábado':'gasto'}\n",
        "meudic"
      ],
      "metadata": {
        "id": "IWBtPeKGl0yd",
        "colab": {
          "base_uri": "https://localhost:8080/"
        },
        "outputId": "eb2e9f13-daab-4437-8f86-7c239489a45a"
      },
      "execution_count": null,
      "outputs": [
        {
          "output_type": "execute_result",
          "data": {
            "text/plain": [
              "{'segunda': 5, 'terça': 10, 'sábado': 'gasto'}"
            ]
          },
          "metadata": {},
          "execution_count": 107
        }
      ]
    },
    {
      "cell_type": "code",
      "source": [
        "outrodic=dict(quadrado='2**2',cubo='2**3',tesimo='2**n')\n",
        "outrodic"
      ],
      "metadata": {
        "colab": {
          "base_uri": "https://localhost:8080/"
        },
        "id": "lW30-7OO1Th2",
        "outputId": "d74135e3-50a8-4413-9630-b052e28cfa4a"
      },
      "execution_count": null,
      "outputs": [
        {
          "output_type": "execute_result",
          "data": {
            "text/plain": [
              "{'quadrado': '2**2', 'cubo': '2**3', 'tesimo': '2**n'}"
            ]
          },
          "metadata": {},
          "execution_count": 108
        }
      ]
    },
    {
      "cell_type": "code",
      "source": [
        "print('chaves=>',meudic.keys())\n",
        "print('valores=>',meudic.values())"
      ],
      "metadata": {
        "colab": {
          "base_uri": "https://localhost:8080/"
        },
        "id": "SVUyhjnA2ZmU",
        "outputId": "b9c89e56-f350-466f-bb1f-78f12561cf4d"
      },
      "execution_count": null,
      "outputs": [
        {
          "output_type": "stream",
          "name": "stdout",
          "text": [
            "chaves=> dict_keys(['segunda', 'terça', 'sábado'])\n",
            "valores=> dict_values([5, 10, 'gasto'])\n"
          ]
        }
      ]
    },
    {
      "cell_type": "code",
      "source": [
        "theta = symbols('theta')\n",
        "\n",
        "theta\n",
        "expr = sin(theta)\n",
        "display(expr)\n",
        "\n",
        "expr=expr.subs({theta:pi})\n",
        "expr\n"
      ],
      "metadata": {
        "colab": {
          "base_uri": "https://localhost:8080/",
          "height": 59
        },
        "id": "WSpC8iBY5YJC",
        "outputId": "2733efab-deae-4300-9621-6bca2f333ddb"
      },
      "execution_count": null,
      "outputs": [
        {
          "output_type": "display_data",
          "data": {
            "text/plain": [
              "sin(θ)"
            ],
            "image/png": "[encoded data removed]",
            "text/latex": "$\\displaystyle \\sin{\\left(\\theta \\right)}$"
          },
          "metadata": {}
        },
        {
          "output_type": "execute_result",
          "data": {
            "text/plain": [
              "0"
            ],
            "image/png": "[encoded data removed]",
            "text/latex": "$\\displaystyle 0$"
          },
          "metadata": {},
          "execution_count": 110
        }
      ]
    },
    {
      "cell_type": "code",
      "source": [
        "ang = [0,pi/2,pi,3*pi/2,2*pi]\n",
        "\n",
        "for elemento in ang:\n",
        "  expr1=sin(theta)\n",
        "  vals=expr1.subs({theta:elemento})\n",
        "  display(vals)"
      ],
      "metadata": {
        "colab": {
          "base_uri": "https://localhost:8080/",
          "height": 119
        },
        "id": "wHIWowo-7_-A",
        "outputId": "a71204e7-2a71-4faf-c42c-273fead869b7"
      },
      "execution_count": null,
      "outputs": [
        {
          "output_type": "display_data",
          "data": {
            "text/plain": [
              "0"
            ],
            "image/png": "[encoded data removed]",
            "text/latex": "$\\displaystyle 0$"
          },
          "metadata": {}
        },
        {
          "output_type": "display_data",
          "data": {
            "text/plain": [
              "1"
            ],
            "image/png": "[encoded data removed]",
            "text/latex": "$\\displaystyle 1$"
          },
          "metadata": {}
        },
        {
          "output_type": "display_data",
          "data": {
            "text/plain": [
              "0"
            ],
            "image/png": "[encoded data removed]",
            "text/latex": "$\\displaystyle 0$"
          },
          "metadata": {}
        },
        {
          "output_type": "display_data",
          "data": {
            "text/plain": [
              "-1"
            ],
            "image/png": "[encoded data removed]",
            "text/latex": "$\\displaystyle -1$"
          },
          "metadata": {}
        },
        {
          "output_type": "display_data",
          "data": {
            "text/plain": [
              "0"
            ],
            "image/png": "[encoded data removed]",
            "text/latex": "$\\displaystyle 0$"
          },
          "metadata": {}
        }
      ]
    },
    {
      "cell_type": "code",
      "source": [
        "ang = [0,pi/2,pi,3*pi/2,2*pi]\n",
        "\n",
        "for elemento in ang:\n",
        "  expr1=sin(theta)\n",
        "  vals1=expr1.subs({sin:cos,theta:elemento})\n",
        "  display(vals1)"
      ],
      "metadata": {
        "colab": {
          "base_uri": "https://localhost:8080/",
          "height": 119
        },
        "id": "HiVdZmbX_qGh",
        "outputId": "3db1a5e9-58ad-461b-bcc2-edb8f1e690bb"
      },
      "execution_count": null,
      "outputs": [
        {
          "output_type": "display_data",
          "data": {
            "text/plain": [
              "1"
            ],
            "image/png": "[encoded data removed]",
            "text/latex": "$\\displaystyle 1$"
          },
          "metadata": {}
        },
        {
          "output_type": "display_data",
          "data": {
            "text/plain": [
              "0"
            ],
            "image/png": "[encoded data removed]",
            "text/latex": "$\\displaystyle 0$"
          },
          "metadata": {}
        },
        {
          "output_type": "display_data",
          "data": {
            "text/plain": [
              "-1"
            ],
            "image/png": "[encoded data removed]",
            "text/latex": "$\\displaystyle -1$"
          },
          "metadata": {}
        },
        {
          "output_type": "display_data",
          "data": {
            "text/plain": [
              "0"
            ],
            "image/png": "[encoded data removed]",
            "text/latex": "$\\displaystyle 0$"
          },
          "metadata": {}
        },
        {
          "output_type": "display_data",
          "data": {
            "text/plain": [
              "1"
            ],
            "image/png": "[encoded data removed]",
            "text/latex": "$\\displaystyle 1$"
          },
          "metadata": {}
        }
      ]
    },
    {
      "cell_type": "markdown",
      "source": [
        "# **Operações algébricas**"
      ],
      "metadata": {
        "id": "DOOc3jUBAxLh"
      }
    },
    {
      "cell_type": "code",
      "source": [
        "x, nu, alpha, beta = symbols('x nu alpha beta')\n",
        "\n",
        "exp2 = x*sin(alpha)+cos(beta)+1/nu\n",
        "exp2"
      ],
      "metadata": {
        "colab": {
          "base_uri": "https://localhost:8080/",
          "height": 51
        },
        "id": "-QE0-O7q55fx",
        "outputId": "84e57e16-1d13-477d-a8b2-6af400722d37"
      },
      "execution_count": null,
      "outputs": [
        {
          "output_type": "execute_result",
          "data": {
            "text/plain": [
              "                    1\n",
              "x⋅sin(α) + cos(β) + ─\n",
              "                    ν"
            ],
            "image/png": "[encoded data removed]",
            "text/latex": "$\\displaystyle x \\sin{\\left(\\alpha \\right)} + \\cos{\\left(\\beta \\right)} + \\frac{1}{\\nu}$"
          },
          "metadata": {},
          "execution_count": 113
        }
      ]
    },
    {
      "cell_type": "code",
      "source": [
        "exp3=exp2**3\n",
        "exp3"
      ],
      "metadata": {
        "colab": {
          "base_uri": "https://localhost:8080/",
          "height": 61
        },
        "id": "2ZiXJzYlByLh",
        "outputId": "5a14416d-7af6-45bc-df64-44a9e597161d"
      },
      "execution_count": null,
      "outputs": [
        {
          "output_type": "execute_result",
          "data": {
            "text/plain": [
              "                       3\n",
              "⎛                    1⎞ \n",
              "⎜x⋅sin(α) + cos(β) + ─⎟ \n",
              "⎝                    ν⎠ "
            ],
            "image/png": "[encoded data removed]",
            "text/latex": "$\\displaystyle \\left(x \\sin{\\left(\\alpha \\right)} + \\cos{\\left(\\beta \\right)} + \\frac{1}{\\nu}\\right)^{3}$"
          },
          "metadata": {},
          "execution_count": 114
        }
      ]
    },
    {
      "cell_type": "code",
      "source": [
        "# Expand\n",
        "exp3.expand()"
      ],
      "metadata": {
        "colab": {
          "base_uri": "https://localhost:8080/",
          "height": 91
        },
        "id": "l49tPQvzCBVE",
        "outputId": "71d596cf-6d55-44a0-f50a-71f5511e4c3d"
      },
      "execution_count": null,
      "outputs": [
        {
          "output_type": "execute_result",
          "data": {
            "text/plain": [
              "                                                                     2    2   \n",
              " 3    3         2    2                           2         3      3⋅x ⋅sin (α)\n",
              "x ⋅sin (α) + 3⋅x ⋅sin (α)⋅cos(β) + 3⋅x⋅sin(α)⋅cos (β) + cos (β) + ────────────\n",
              "                                                                       ν      \n",
              "                                                                              \n",
              "\n",
              "                            2                                \n",
              "   6⋅x⋅sin(α)⋅cos(β)   3⋅cos (β)   3⋅x⋅sin(α)   3⋅cos(β)   1 \n",
              " + ───────────────── + ───────── + ────────── + ──────── + ──\n",
              "           ν               ν            2           2       3\n",
              "                                       ν           ν       ν "
            ],
            "image/png": "[encoded data removed]",
            "text/latex": "$\\displaystyle x^{3} \\sin^{3}{\\left(\\alpha \\right)} + 3 x^{2} \\sin^{2}{\\left(\\alpha \\right)} \\cos{\\left(\\beta \\right)} + 3 x \\sin{\\left(\\alpha \\right)} \\cos^{2}{\\left(\\beta \\right)} + \\cos^{3}{\\left(\\beta \\right)} + \\frac{3 x^{2} \\sin^{2}{\\left(\\alpha \\right)}}{\\nu} + \\frac{6 x \\sin{\\left(\\alpha \\right)} \\cos{\\left(\\beta \\right)}}{\\nu} + \\frac{3 \\cos^{2}{\\left(\\beta \\right)}}{\\nu} + \\frac{3 x \\sin{\\left(\\alpha \\right)}}{\\nu^{2}} + \\frac{3 \\cos{\\left(\\beta \\right)}}{\\nu^{2}} + \\frac{1}{\\nu^{3}}$"
          },
          "metadata": {},
          "execution_count": 115
        }
      ]
    },
    {
      "cell_type": "code",
      "source": [
        "px = (x+1)*(1-x/2)\n",
        "px.expand()"
      ],
      "metadata": {
        "colab": {
          "base_uri": "https://localhost:8080/",
          "height": 54
        },
        "id": "UVghKVP2DZm4",
        "outputId": "df846c18-22e9-4a5d-970b-7e08b519ccc5"
      },
      "execution_count": null,
      "outputs": [
        {
          "output_type": "execute_result",
          "data": {
            "text/plain": [
              "   2        \n",
              "  x    x    \n",
              "- ── + ─ + 1\n",
              "  2    2    "
            ],
            "image/png": "[encoded data removed]",
            "text/latex": "$\\displaystyle - \\frac{x^{2}}{2} + \\frac{x}{2} + 1$"
          },
          "metadata": {},
          "execution_count": 116
        }
      ]
    },
    {
      "cell_type": "code",
      "source": [
        "# Subindices\n",
        "x_i = symbols('x_i')\n",
        "x_i"
      ],
      "metadata": {
        "colab": {
          "base_uri": "https://localhost:8080/",
          "height": 38
        },
        "id": "KDR9y2RbDprD",
        "outputId": "768669d1-7543-4cdd-aa58-478e7abb11e9"
      },
      "execution_count": null,
      "outputs": [
        {
          "output_type": "execute_result",
          "data": {
            "text/plain": [
              "xᵢ"
            ],
            "image/png": "[encoded data removed]",
            "text/latex": "$\\displaystyle x_{i}$"
          },
          "metadata": {},
          "execution_count": 117
        }
      ]
    },
    {
      "cell_type": "code",
      "source": [
        "ppx = (1+x_i)**2\n",
        "ppx.expand()"
      ],
      "metadata": {
        "colab": {
          "base_uri": "https://localhost:8080/",
          "height": 38
        },
        "id": "5GQywKKUEBRP",
        "outputId": "7c16aee2-f699-4061-af5d-51a08af6a538"
      },
      "execution_count": null,
      "outputs": [
        {
          "output_type": "execute_result",
          "data": {
            "text/plain": [
              "  2           \n",
              "xᵢ  + 2⋅xᵢ + 1"
            ],
            "image/png": "[encoded data removed]",
            "text/latex": "$\\displaystyle x_{i}^{2} + 2 x_{i} + 1$"
          },
          "metadata": {},
          "execution_count": 118
        }
      ]
    },
    {
      "cell_type": "markdown",
      "source": [
        "# **Cálculo**"
      ],
      "metadata": {
        "id": "FzfzMBdaEUg_"
      }
    },
    {
      "cell_type": "code",
      "source": [
        "p, d, j = symbols('p d j')\n",
        "f, g = symbols('f g', cls=Function)\n",
        "\n",
        "f(p)\n",
        "g(f(p))"
      ],
      "metadata": {
        "colab": {
          "base_uri": "https://localhost:8080/",
          "height": 38
        },
        "id": "__gzIVjFEdEk",
        "outputId": "1da523ef-025f-4c97-ce77-40e8f60c235b"
      },
      "execution_count": null,
      "outputs": [
        {
          "output_type": "execute_result",
          "data": {
            "text/plain": [
              "g(f(p))"
            ],
            "image/png": "[encoded data removed]",
            "text/latex": "$\\displaystyle g{\\left(f{\\left(p \\right)} \\right)}$"
          },
          "metadata": {},
          "execution_count": 119
        }
      ]
    },
    {
      "cell_type": "code",
      "source": [
        "f = p+2\n",
        "f"
      ],
      "metadata": {
        "colab": {
          "base_uri": "https://localhost:8080/",
          "height": 38
        },
        "id": "iV0Nv-YPFFZv",
        "outputId": "a7d9b851-7c71-43ec-b141-2a0944480abe"
      },
      "execution_count": null,
      "outputs": [
        {
          "output_type": "execute_result",
          "data": {
            "text/plain": [
              "p + 2"
            ],
            "image/png": "[encoded data removed]",
            "text/latex": "$\\displaystyle p + 2$"
          },
          "metadata": {},
          "execution_count": 120
        }
      ]
    },
    {
      "cell_type": "markdown",
      "source": [
        "## **Limites**"
      ],
      "metadata": {
        "id": "SS5hUTzOgCSW"
      }
    },
    {
      "cell_type": "code",
      "source": [
        "Limit(f,p,2)"
      ],
      "metadata": {
        "colab": {
          "base_uri": "https://localhost:8080/",
          "height": 48
        },
        "id": "1qzsMiyaFfoO",
        "outputId": "eb3a1317-5c42-4c20-eca6-2330679663c7"
      },
      "execution_count": null,
      "outputs": [
        {
          "output_type": "execute_result",
          "data": {
            "text/plain": [
              " lim (p + 2)\n",
              "p─→2⁺       "
            ],
            "image/png": "[encoded data removed]",
            "text/latex": "$\\displaystyle \\lim_{p \\to 2^+}\\left(p + 2\\right)$"
          },
          "metadata": {},
          "execution_count": 121
        }
      ]
    },
    {
      "cell_type": "code",
      "source": [
        "Limit(f,p,2).doit()"
      ],
      "metadata": {
        "colab": {
          "base_uri": "https://localhost:8080/",
          "height": 37
        },
        "id": "LnFP3oV1F0Ah",
        "outputId": "5f5715f7-a86a-411b-f247-2370768c7e24"
      },
      "execution_count": null,
      "outputs": [
        {
          "output_type": "execute_result",
          "data": {
            "text/plain": [
              "4"
            ],
            "image/png": "[encoded data removed]",
            "text/latex": "$\\displaystyle 4$"
          },
          "metadata": {},
          "execution_count": 122
        }
      ]
    },
    {
      "cell_type": "code",
      "source": [
        "explimit = Limit((cos(p)-1)/p,p,0)\n",
        "display(explimit)\n",
        "explimit.doit()\n"
      ],
      "metadata": {
        "colab": {
          "base_uri": "https://localhost:8080/",
          "height": 78
        },
        "id": "a9fSLOfHGDgS",
        "outputId": "7e04b00f-40f5-4f28-8a48-829b1dc0370d"
      },
      "execution_count": null,
      "outputs": [
        {
          "output_type": "display_data",
          "data": {
            "text/plain": [
              "     ⎛cos(p) - 1⎞\n",
              " lim ⎜──────────⎟\n",
              "p─→0⁺⎝    p     ⎠"
            ],
            "image/png": "[encoded data removed]",
            "text/latex": "$\\displaystyle \\lim_{p \\to 0^+}\\left(\\frac{\\cos{\\left(p \\right)} - 1}{p}\\right)$"
          },
          "metadata": {}
        },
        {
          "output_type": "execute_result",
          "data": {
            "text/plain": [
              "0"
            ],
            "image/png": "[encoded data removed]",
            "text/latex": "$\\displaystyle 0$"
          },
          "metadata": {},
          "execution_count": 123
        }
      ]
    },
    {
      "cell_type": "code",
      "source": [
        "fp = exp(p)**2/p\n",
        "fp"
      ],
      "metadata": {
        "colab": {
          "base_uri": "https://localhost:8080/",
          "height": 57
        },
        "id": "7AS1TPblHBdp",
        "outputId": "b234352f-7b57-4c42-8a68-598df4479199"
      },
      "execution_count": null,
      "outputs": [
        {
          "output_type": "execute_result",
          "data": {
            "text/plain": [
              " 2⋅p\n",
              "ℯ   \n",
              "────\n",
              " p  "
            ],
            "image/png": "[encoded data removed]",
            "text/latex": "$\\displaystyle \\frac{e^{2 p}}{p}$"
          },
          "metadata": {},
          "execution_count": 124
        }
      ]
    },
    {
      "cell_type": "code",
      "source": [
        "limit(fp,p,-3)"
      ],
      "metadata": {
        "colab": {
          "base_uri": "https://localhost:8080/",
          "height": 51
        },
        "id": "Y4XGpGNBGuTB",
        "outputId": "bdf19352-043c-4073-dd9f-159add4ef968"
      },
      "execution_count": null,
      "outputs": [
        {
          "output_type": "execute_result",
          "data": {
            "text/plain": [
              "  -6 \n",
              "-ℯ   \n",
              "─────\n",
              "  3  "
            ],
            "image/png": "[encoded data removed]",
            "text/latex": "$\\displaystyle - \\frac{1}{3 e^{6}}$"
          },
          "metadata": {},
          "execution_count": 125
        }
      ]
    },
    {
      "cell_type": "code",
      "source": [
        "limit(fp,p,-oo)"
      ],
      "metadata": {
        "colab": {
          "base_uri": "https://localhost:8080/",
          "height": 37
        },
        "id": "UbEdsZaBH8xe",
        "outputId": "12ad45c9-d400-4161-a047-210350a6a408"
      },
      "execution_count": null,
      "outputs": [
        {
          "output_type": "execute_result",
          "data": {
            "text/plain": [
              "0"
            ],
            "image/png": "[encoded data removed]",
            "text/latex": "$\\displaystyle 0$"
          },
          "metadata": {},
          "execution_count": 126
        }
      ]
    },
    {
      "cell_type": "markdown",
      "source": [
        "$\\frac{\\exp(-p)}{p}=\\frac{1}{e^{p}p}$"
      ],
      "metadata": {
        "id": "iwP249LGIpc1"
      }
    },
    {
      "cell_type": "code",
      "source": [
        "limlateral = limit(fp,p,3,'+')\n",
        "limlateral"
      ],
      "metadata": {
        "id": "AscxnqfxIkY1",
        "colab": {
          "base_uri": "https://localhost:8080/",
          "height": 54
        },
        "outputId": "b2538542-5d82-4183-ae02-fdbfc95045ca"
      },
      "execution_count": null,
      "outputs": [
        {
          "output_type": "execute_result",
          "data": {
            "text/plain": [
              " 6\n",
              "ℯ \n",
              "──\n",
              "3 "
            ],
            "image/png": "[encoded data removed]",
            "text/latex": "$\\displaystyle \\frac{e^{6}}{3}$"
          },
          "metadata": {},
          "execution_count": 127
        }
      ]
    },
    {
      "cell_type": "code",
      "source": [
        "limlateral = limit(fp,p,3,'-')\n",
        "limlateral"
      ],
      "metadata": {
        "colab": {
          "base_uri": "https://localhost:8080/",
          "height": 54
        },
        "id": "qF_v0haoJshl",
        "outputId": "6e4461a7-5029-4380-fb53-babeab0baed5"
      },
      "execution_count": null,
      "outputs": [
        {
          "output_type": "execute_result",
          "data": {
            "text/plain": [
              " 6\n",
              "ℯ \n",
              "──\n",
              "3 "
            ],
            "image/png": "[encoded data removed]",
            "text/latex": "$\\displaystyle \\frac{e^{6}}{3}$"
          },
          "metadata": {},
          "execution_count": 128
        }
      ]
    },
    {
      "cell_type": "code",
      "source": [
        "limlateral = limit(fp,p,d)\n",
        "limlateral"
      ],
      "metadata": {
        "colab": {
          "base_uri": "https://localhost:8080/",
          "height": 54
        },
        "id": "FfMM1w_AJ4ul",
        "outputId": "e4f6dffd-fd96-447e-ed22-06f5b5f1d1fa"
      },
      "execution_count": null,
      "outputs": [
        {
          "output_type": "execute_result",
          "data": {
            "text/plain": [
              " 2⋅d\n",
              "ℯ   \n",
              "────\n",
              " d  "
            ],
            "image/png": "[encoded data removed]",
            "text/latex": "$\\displaystyle \\frac{e^{2 d}}{d}$"
          },
          "metadata": {},
          "execution_count": 129
        }
      ]
    },
    {
      "cell_type": "code",
      "source": [
        "limit(1/p,p,0,'+')"
      ],
      "metadata": {
        "colab": {
          "base_uri": "https://localhost:8080/",
          "height": 37
        },
        "id": "R-xHI39IKKys",
        "outputId": "22cb3354-a13f-4b73-d5ab-7e711b532991"
      },
      "execution_count": null,
      "outputs": [
        {
          "output_type": "execute_result",
          "data": {
            "text/plain": [
              "∞"
            ],
            "image/png": "[encoded data removed]",
            "text/latex": "$\\displaystyle \\infty$"
          },
          "metadata": {},
          "execution_count": 130
        }
      ]
    },
    {
      "cell_type": "code",
      "source": [
        "limit(1/p,p,0,'-')"
      ],
      "metadata": {
        "colab": {
          "base_uri": "https://localhost:8080/",
          "height": 37
        },
        "id": "WWdBxVVVKaqk",
        "outputId": "703916e0-44f7-461b-ec55-a2dfe5af76b5"
      },
      "execution_count": null,
      "outputs": [
        {
          "output_type": "execute_result",
          "data": {
            "text/plain": [
              "-∞"
            ],
            "image/png": "[encoded data removed]",
            "text/latex": "$\\displaystyle -\\infty$"
          },
          "metadata": {},
          "execution_count": 131
        }
      ]
    },
    {
      "cell_type": "code",
      "source": [
        "plot(1/p,(p,-2,2),ylim=[-500,500],line_color='red')"
      ],
      "metadata": {
        "colab": {
          "base_uri": "https://localhost:8080/",
          "height": 314
        },
        "id": "Lgqcu9Q_KjKn",
        "outputId": "b200bb04-6fd7-4ce1-c0b0-fdb2c864628d"
      },
      "execution_count": null,
      "outputs": [
        {
          "output_type": "display_data",
          "data": {
            "text/plain": [
              "<Figure size 432x288 with 1 Axes>"
            ],
            "image/png": "[encoded data removed]"
          },
          "metadata": {
            "needs_background": "light"
          }
        },
        {
          "output_type": "execute_result",
          "data": {
            "text/plain": [
              "<sympy.plotting.plot.Plot at 0x7fb33abb42e0>"
            ]
          },
          "metadata": {},
          "execution_count": 132
        }
      ]
    },
    {
      "cell_type": "markdown",
      "source": [
        "## **Derivada**"
      ],
      "metadata": {
        "id": "fsx9oVjNLyPJ"
      }
    },
    {
      "cell_type": "code",
      "source": [
        "fpp = sin(p)*exp(p)+sqrt(p)\n",
        "fpp"
      ],
      "metadata": {
        "colab": {
          "base_uri": "https://localhost:8080/",
          "height": 38
        },
        "id": "AJSY6gL_LsQZ",
        "outputId": "ffb92815-8d1b-455f-e96c-6fddd1287020"
      },
      "execution_count": null,
      "outputs": [
        {
          "output_type": "execute_result",
          "data": {
            "text/plain": [
              "      p       \n",
              "√p + ℯ ⋅sin(p)"
            ],
            "image/png": "[encoded data removed]",
            "text/latex": "$\\displaystyle \\sqrt{p} + e^{p} \\sin{\\left(p \\right)}$"
          },
          "metadata": {},
          "execution_count": 133
        }
      ]
    },
    {
      "cell_type": "code",
      "source": [
        "Derivative(fpp,p)"
      ],
      "metadata": {
        "colab": {
          "base_uri": "https://localhost:8080/",
          "height": 55
        },
        "id": "rsweQi2uMRlD",
        "outputId": "b5600cd5-7b1d-401e-9ef3-20c5549b9544"
      },
      "execution_count": null,
      "outputs": [
        {
          "output_type": "execute_result",
          "data": {
            "text/plain": [
              "d ⎛      p       ⎞\n",
              "──⎝√p + ℯ ⋅sin(p)⎠\n",
              "dp                "
            ],
            "image/png": "[encoded data removed]",
            "text/latex": "$\\displaystyle \\frac{d}{d p} \\left(\\sqrt{p} + e^{p} \\sin{\\left(p \\right)}\\right)$"
          },
          "metadata": {},
          "execution_count": 134
        }
      ]
    },
    {
      "cell_type": "code",
      "source": [
        "diff(fpp,p)"
      ],
      "metadata": {
        "colab": {
          "base_uri": "https://localhost:8080/",
          "height": 57
        },
        "id": "g2I6uPnyMjGe",
        "outputId": "e6b135ab-8bda-4392-a866-89566cf8881b"
      },
      "execution_count": null,
      "outputs": [
        {
          "output_type": "execute_result",
          "data": {
            "text/plain": [
              " p           p           1  \n",
              "ℯ ⋅sin(p) + ℯ ⋅cos(p) + ────\n",
              "                        2⋅√p"
            ],
            "image/png": "[encoded data removed]",
            "text/latex": "$\\displaystyle e^{p} \\sin{\\left(p \\right)} + e^{p} \\cos{\\left(p \\right)} + \\frac{1}{2 \\sqrt{p}}$"
          },
          "metadata": {},
          "execution_count": 135
        }
      ]
    },
    {
      "cell_type": "code",
      "source": [
        "diff(fpp,p,3)"
      ],
      "metadata": {
        "colab": {
          "base_uri": "https://localhost:8080/",
          "height": 57
        },
        "id": "c4gyd5gsNIDq",
        "outputId": "adfb1162-c46e-48ba-cbb6-2fb1903476fd"
      },
      "execution_count": null,
      "outputs": [
        {
          "output_type": "execute_result",
          "data": {
            "text/plain": [
              "     p             p            3   \n",
              "- 2⋅ℯ ⋅sin(p) + 2⋅ℯ ⋅cos(p) + ──────\n",
              "                                 5/2\n",
              "                              8⋅p   "
            ],
            "image/png": "[encoded data removed]",
            "text/latex": "$\\displaystyle - 2 e^{p} \\sin{\\left(p \\right)} + 2 e^{p} \\cos{\\left(p \\right)} + \\frac{3}{8 p^{\\frac{5}{2}}}$"
          },
          "metadata": {},
          "execution_count": 136
        }
      ]
    },
    {
      "cell_type": "code",
      "source": [
        "fppj = fpp+2*j\n",
        "fppj"
      ],
      "metadata": {
        "colab": {
          "base_uri": "https://localhost:8080/",
          "height": 38
        },
        "id": "nqknYMPjN7yd",
        "outputId": "f6eb7341-874d-4560-eaf6-c84cc592b3dc"
      },
      "execution_count": null,
      "outputs": [
        {
          "output_type": "execute_result",
          "data": {
            "text/plain": [
              "            p       \n",
              "2⋅j + √p + ℯ ⋅sin(p)"
            ],
            "image/png": "[encoded data removed]",
            "text/latex": "$\\displaystyle 2 j + \\sqrt{p} + e^{p} \\sin{\\left(p \\right)}$"
          },
          "metadata": {},
          "execution_count": 137
        }
      ]
    },
    {
      "cell_type": "code",
      "source": [
        "diff(fppj,j)"
      ],
      "metadata": {
        "colab": {
          "base_uri": "https://localhost:8080/",
          "height": 37
        },
        "id": "Q-lqzPyfOBVz",
        "outputId": "7e912aa5-cb41-4c26-ecf0-aeaae1e22277"
      },
      "execution_count": null,
      "outputs": [
        {
          "output_type": "execute_result",
          "data": {
            "text/plain": [
              "2"
            ],
            "image/png": "[encoded data removed]",
            "text/latex": "$\\displaystyle 2$"
          },
          "metadata": {},
          "execution_count": 138
        }
      ]
    },
    {
      "cell_type": "code",
      "source": [
        "Derivative(fppj,j)"
      ],
      "metadata": {
        "colab": {
          "base_uri": "https://localhost:8080/",
          "height": 55
        },
        "id": "wanCENiAOO4u",
        "outputId": "940c1297-5ade-421e-c60c-48e16d267261"
      },
      "execution_count": null,
      "outputs": [
        {
          "output_type": "execute_result",
          "data": {
            "text/plain": [
              "∂ ⎛            p       ⎞\n",
              "──⎝2⋅j + √p + ℯ ⋅sin(p)⎠\n",
              "∂j                      "
            ],
            "image/png": "[encoded data removed]",
            "text/latex": "$\\displaystyle \\frac{\\partial}{\\partial j} \\left(2 j + \\sqrt{p} + e^{p} \\sin{\\left(p \\right)}\\right)$"
          },
          "metadata": {},
          "execution_count": 139
        }
      ]
    },
    {
      "cell_type": "code",
      "source": [
        "x, y = symbols('x y')\n",
        "F, G = symbols('F G', cls=Function)\n",
        "\n",
        "display(F(x))\n",
        "F(G(x))"
      ],
      "metadata": {
        "colab": {
          "base_uri": "https://localhost:8080/",
          "height": 60
        },
        "id": "DWSsWpB54Xwf",
        "outputId": "18038a29-ae51-4a59-9af8-88df97b411a8"
      },
      "execution_count": null,
      "outputs": [
        {
          "output_type": "display_data",
          "data": {
            "text/plain": [
              "F(x)"
            ],
            "image/png": "[encoded data removed]",
            "text/latex": "$\\displaystyle F{\\left(x \\right)}$"
          },
          "metadata": {}
        },
        {
          "output_type": "execute_result",
          "data": {
            "text/plain": [
              "F(G(x))"
            ],
            "image/png": "[encoded data removed]",
            "text/latex": "$\\displaystyle F{\\left(G{\\left(x \\right)} \\right)}$"
          },
          "metadata": {},
          "execution_count": 140
        }
      ]
    },
    {
      "cell_type": "code",
      "source": [
        "Derivative(F(G(x)),x,2).doit()"
      ],
      "metadata": {
        "colab": {
          "base_uri": "https://localhost:8080/",
          "height": 64
        },
        "id": "mAW7i6en5tv6",
        "outputId": "a196d1a7-fe0b-422c-e133-c58fafd8ec15"
      },
      "execution_count": null,
      "outputs": [
        {
          "output_type": "execute_result",
          "data": {
            "text/plain": [
              "                 2            2                      2\n",
              "  d             d            d             ⎛d       ⎞ \n",
              "─────(F(G(x)))⋅───(G(x)) + ──────(F(G(x)))⋅⎜──(G(x))⎟ \n",
              "dG(x)            2              2          ⎝dx      ⎠ \n",
              "               dx          dG(x)                      "
            ],
            "image/png": "[encoded data removed]",
            "text/latex": "$\\displaystyle \\frac{d}{d G{\\left(x \\right)}} F{\\left(G{\\left(x \\right)} \\right)} \\frac{d^{2}}{d x^{2}} G{\\left(x \\right)} + \\frac{d^{2}}{d G{\\left(x \\right)}^{2}} F{\\left(G{\\left(x \\right)} \\right)} \\left(\\frac{d}{d x} G{\\left(x \\right)}\\right)^{2}$"
          },
          "metadata": {},
          "execution_count": 141
        }
      ]
    },
    {
      "cell_type": "code",
      "source": [
        "Derivative(F(G(x,y)),x,y).doit()"
      ],
      "metadata": {
        "colab": {
          "base_uri": "https://localhost:8080/",
          "height": 61
        },
        "id": "1sZcdmg76MoA",
        "outputId": "3996784f-8140-4bd5-99d3-6c4bbdc7250c"
      },
      "execution_count": null,
      "outputs": [
        {
          "output_type": "execute_result",
          "data": {
            "text/plain": [
              "                        2                  2                                  \n",
              "   ∂                   ∂                  ∂                 ∂           ∂     \n",
              "────────(F(G(x, y)))⋅─────(G(x, y)) + ─────────(F(G(x, y)))⋅──(G(x, y))⋅──(G(x\n",
              "∂G(x, y)             ∂y ∂x                    2             ∂x          ∂y    \n",
              "                                      ∂G(x, y)                                \n",
              "\n",
              "     \n",
              "     \n",
              ", y))\n",
              "     \n",
              "     "
            ],
            "image/png": "[encoded data removed]",
            "text/latex": "$\\displaystyle \\frac{\\partial}{\\partial G{\\left(x,y \\right)}} F{\\left(G{\\left(x,y \\right)} \\right)} \\frac{\\partial^{2}}{\\partial y\\partial x} G{\\left(x,y \\right)} + \\frac{\\partial^{2}}{\\partial G{\\left(x,y \\right)}^{2}} F{\\left(G{\\left(x,y \\right)} \\right)} \\frac{\\partial}{\\partial x} G{\\left(x,y \\right)} \\frac{\\partial}{\\partial y} G{\\left(x,y \\right)}$"
          },
          "metadata": {},
          "execution_count": 142
        }
      ]
    },
    {
      "cell_type": "code",
      "source": [
        "Derivative(F(G(x,y)),(x,2)).doit()"
      ],
      "metadata": {
        "colab": {
          "base_uri": "https://localhost:8080/",
          "height": 64
        },
        "id": "PBD9LQjQ6j76",
        "outputId": "d69a9f30-15ed-430d-ebc3-afa337dd3933"
      },
      "execution_count": null,
      "outputs": [
        {
          "output_type": "execute_result",
          "data": {
            "text/plain": [
              "                       2                 2                             2\n",
              "   ∂                  ∂                 ∂                 ⎛∂          ⎞ \n",
              "────────(F(G(x, y)))⋅───(G(x, y)) + ─────────(F(G(x, y)))⋅⎜──(G(x, y))⎟ \n",
              "∂G(x, y)               2                    2             ⎝∂x         ⎠ \n",
              "                     ∂x             ∂G(x, y)                            "
            ],
            "image/png": "[encoded data removed]",
            "text/latex": "$\\displaystyle \\frac{\\partial}{\\partial G{\\left(x,y \\right)}} F{\\left(G{\\left(x,y \\right)} \\right)} \\frac{\\partial^{2}}{\\partial x^{2}} G{\\left(x,y \\right)} + \\frac{\\partial^{2}}{\\partial G{\\left(x,y \\right)}^{2}} F{\\left(G{\\left(x,y \\right)} \\right)} \\left(\\frac{\\partial}{\\partial x} G{\\left(x,y \\right)}\\right)^{2}$"
          },
          "metadata": {},
          "execution_count": 143
        }
      ]
    },
    {
      "cell_type": "code",
      "source": [
        "F=sin(exp(2*x))\n",
        "\n",
        "display(F)\n",
        "print()\n",
        "diff(F,x)"
      ],
      "metadata": {
        "colab": {
          "base_uri": "https://localhost:8080/",
          "height": 77
        },
        "id": "hRw8F_816_0P",
        "outputId": "6dfec1da-36ff-4e1f-bdf7-3babacd4abd7"
      },
      "execution_count": null,
      "outputs": [
        {
          "output_type": "display_data",
          "data": {
            "text/plain": [
              "   ⎛ 2⋅x⎞\n",
              "sin⎝ℯ   ⎠"
            ],
            "image/png": "[encoded data removed]",
            "text/latex": "$\\displaystyle \\sin{\\left(e^{2 x} \\right)}$"
          },
          "metadata": {}
        },
        {
          "output_type": "stream",
          "name": "stdout",
          "text": [
            "\n"
          ]
        },
        {
          "output_type": "execute_result",
          "data": {
            "text/plain": [
              "   2⋅x    ⎛ 2⋅x⎞\n",
              "2⋅ℯ   ⋅cos⎝ℯ   ⎠"
            ],
            "image/png": "[encoded data removed]",
            "text/latex": "$\\displaystyle 2 e^{2 x} \\cos{\\left(e^{2 x} \\right)}$"
          },
          "metadata": {},
          "execution_count": 144
        }
      ]
    },
    {
      "cell_type": "code",
      "source": [
        "F, G = symbols('F G', cls=Function)\n",
        "h=F(-x)+G(x)\n",
        "\n",
        "diff(h,x,2)"
      ],
      "metadata": {
        "colab": {
          "base_uri": "https://localhost:8080/",
          "height": 62
        },
        "id": "oTZK5inN77dT",
        "outputId": "eee50d03-e62f-4443-cc28-c752ccf3c7bf"
      },
      "execution_count": null,
      "outputs": [
        {
          "output_type": "execute_result",
          "data": {
            "text/plain": [
              "  2         ⎛  2        ⎞│     \n",
              " d          ⎜ d         ⎟│     \n",
              "───(G(x)) + ⎜────(F(ξ₁))⎟│     \n",
              "  2         ⎜   2       ⎟│     \n",
              "dx          ⎝dξ₁        ⎠│ξ₁=-x"
            ],
            "text/latex": "$\\displaystyle \\frac{d^{2}}{d x^{2}} G{\\left(x \\right)} + \\left. \\frac{d^{2}}{d \\xi_{1}^{2}} F{\\left(\\xi_{1} \\right)} \\right|_{\\substack{ \\xi_{1}=- x }}$"
          },
          "metadata": {},
          "execution_count": 145
        }
      ]
    },
    {
      "cell_type": "code",
      "source": [
        "F=(x-0)**2\n",
        "display(F)\n",
        "print()\n",
        "dF=diff(F,x)\n",
        "display(dF)\n",
        "\n",
        "plot(F,(x,-5,5))"
      ],
      "metadata": {
        "colab": {
          "base_uri": "https://localhost:8080/",
          "height": 374
        },
        "id": "MqSkLzcJ9H3T",
        "outputId": "38832960-ae1f-47a2-c1c3-aa5eebe380d2"
      },
      "execution_count": null,
      "outputs": [
        {
          "output_type": "display_data",
          "data": {
            "text/plain": [
              " 2\n",
              "x "
            ],
            "image/png": "[encoded data removed]",
            "text/latex": "$\\displaystyle x^{2}$"
          },
          "metadata": {}
        },
        {
          "output_type": "stream",
          "name": "stdout",
          "text": [
            "\n"
          ]
        },
        {
          "output_type": "display_data",
          "data": {
            "text/plain": [
              "2⋅x"
            ],
            "image/png": "[encoded data removed]",
            "text/latex": "$\\displaystyle 2 x$"
          },
          "metadata": {}
        },
        {
          "output_type": "display_data",
          "data": {
            "text/plain": [
              "<Figure size 432x288 with 1 Axes>"
            ],
            "image/png": "[encoded data removed]"
          },
          "metadata": {
            "needs_background": "light"
          }
        },
        {
          "output_type": "execute_result",
          "data": {
            "text/plain": [
              "<sympy.plotting.plot.Plot at 0x7fb33ab7c9a0>"
            ]
          },
          "metadata": {},
          "execution_count": 146
        }
      ]
    },
    {
      "cell_type": "markdown",
      "source": [
        "![image.png](data:image/png;base64,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)"
      ],
      "metadata": {
        "id": "BAcDWf6a-CGV"
      }
    },
    {
      "cell_type": "markdown",
      "source": [
        "$y=mx+b$ \\\\\n",
        "A reta é construida com a inclinação e um ponto.\n",
        "\n",
        "$\\tan(\\theta)=\\frac{y-y_p}{x-x_p}=f'(x_p)$\n",
        "$$ y = f'(x_p)(x-x_p)+y_p $$\n",
        "\n",
        "$y_p=f(x_p)$"
      ],
      "metadata": {
        "id": "jsJ1So9N-f9S"
      }
    },
    {
      "cell_type": "code",
      "source": [
        "xp=2\n",
        "fxp=dF.subs(x,xp)\n",
        "fxp\n",
        "\n",
        "y = fxp*(x-xp)+F.subs(x,xp)\n",
        "y\n",
        "\n",
        "p1=plot(F,(x,-5,5),show=False)\n",
        "p2=plot(y,(x,-5,5),line_color='green',show=False)\n",
        "p1.append(p2[0])\n",
        "p1.show()"
      ],
      "metadata": {
        "colab": {
          "base_uri": "https://localhost:8080/",
          "height": 297
        },
        "id": "fxxCWzzDA6Qu",
        "outputId": "70392cdd-4e5f-4606-e100-93f0b386454b"
      },
      "execution_count": null,
      "outputs": [
        {
          "output_type": "display_data",
          "data": {
            "text/plain": [
              "<Figure size 432x288 with 1 Axes>"
            ],
            "image/png": "[encoded data removed]"
          },
          "metadata": {
            "needs_background": "light"
          }
        }
      ]
    },
    {
      "cell_type": "markdown",
      "source": [
        "# **Divisão de polinomios**\n",
        "\n",
        "$D(x)=d(x)q(x)+r(x) ⇒ \\frac{D(x)}{d(x)}=q(x)+\\frac{r(x)}{d(x)}$"
      ],
      "metadata": {
        "id": "cXCEaqH7FFuS"
      }
    },
    {
      "cell_type": "code",
      "source": [
        "a, b, c = symbols('a b c')\n",
        "\n",
        "pa = 3*a**4+10*a**3+4*a**2+5*a+6\n",
        "display(pa)\n",
        "print()\n",
        "qa=a+1\n",
        "\n",
        "q,r=div(pa,qa)\n",
        "q"
      ],
      "metadata": {
        "colab": {
          "base_uri": "https://localhost:8080/",
          "height": 77
        },
        "id": "yRGAYodRFE01",
        "outputId": "5bee13ec-d505-4a51-dcbe-e0ab7c50597d"
      },
      "execution_count": null,
      "outputs": [
        {
          "output_type": "display_data",
          "data": {
            "text/plain": [
              "   4       3      2          \n",
              "3⋅a  + 10⋅a  + 4⋅a  + 5⋅a + 6"
            ],
            "image/png": "[encoded data removed]",
            "text/latex": "$\\displaystyle 3 a^{4} + 10 a^{3} + 4 a^{2} + 5 a + 6$"
          },
          "metadata": {}
        },
        {
          "output_type": "stream",
          "name": "stdout",
          "text": [
            "\n"
          ]
        },
        {
          "output_type": "execute_result",
          "data": {
            "text/plain": [
              "   3      2          \n",
              "3⋅a  + 7⋅a  - 3⋅a + 8"
            ],
            "image/png": "[encoded data removed]",
            "text/latex": "$\\displaystyle 3 a^{3} + 7 a^{2} - 3 a + 8$"
          },
          "metadata": {},
          "execution_count": 148
        }
      ]
    },
    {
      "cell_type": "code",
      "source": [
        "resul2=div(q,qa) # A saída resul2 é uma tupla (quociente,resto)\n",
        "resul2"
      ],
      "metadata": {
        "colab": {
          "base_uri": "https://localhost:8080/",
          "height": 38
        },
        "id": "4oSX-hncHdfW",
        "outputId": "f660557d-3944-4143-ce4e-8e52bda4eb59"
      },
      "execution_count": null,
      "outputs": [
        {
          "output_type": "execute_result",
          "data": {
            "text/plain": [
              "⎛   2              ⎞\n",
              "⎝3⋅a  + 4⋅a - 7, 15⎠"
            ],
            "image/png": "[encoded data removed]",
            "text/latex": "$\\displaystyle \\left( 3 a^{2} + 4 a - 7, \\  15\\right)$"
          },
          "metadata": {},
          "execution_count": 149
        }
      ]
    },
    {
      "cell_type": "markdown",
      "source": [
        "# **Logaritmos**\n",
        "\n",
        "$$\\log_na^m=m\\log_na$$\n",
        "$$\\log(ab)=\\log(a)+\\log(b)$$\n",
        "$$\\log(a/b)=\\log(a)-\\log(b)$$"
      ],
      "metadata": {
        "id": "jNtSayHWIka6"
      }
    },
    {
      "cell_type": "code",
      "source": [
        "fl=ln(x)\n",
        "fl"
      ],
      "metadata": {
        "colab": {
          "base_uri": "https://localhost:8080/",
          "height": 38
        },
        "id": "4oui-kuNIjfV",
        "outputId": "4294c758-554a-42b9-bbf5-341fce8d9dc7"
      },
      "execution_count": null,
      "outputs": [
        {
          "output_type": "execute_result",
          "data": {
            "text/plain": [
              "log(x)"
            ],
            "image/png": "[encoded data removed]",
            "text/latex": "$\\displaystyle \\log{\\left(x \\right)}$"
          },
          "metadata": {},
          "execution_count": 150
        }
      ]
    },
    {
      "cell_type": "code",
      "source": [
        "x,y=symbols('x y')\n",
        "n = symbols('n', real=True)\n",
        "\n",
        "u = x**n # x*y, x/y\n",
        "fls = expand_log(log(u),force=True)\n",
        "fls"
      ],
      "metadata": {
        "colab": {
          "base_uri": "https://localhost:8080/",
          "height": 38
        },
        "id": "2YfGDHEWKAs6",
        "outputId": "e909d1b6-fbf8-4a97-e0e5-ce061fe7b3d8"
      },
      "execution_count": null,
      "outputs": [
        {
          "output_type": "execute_result",
          "data": {
            "text/plain": [
              "n⋅log(x)"
            ],
            "image/png": "[encoded data removed]",
            "text/latex": "$\\displaystyle n \\log{\\left(x \\right)}$"
          },
          "metadata": {},
          "execution_count": 151
        }
      ]
    },
    {
      "cell_type": "code",
      "source": [
        "fl3=logcombine(3*log(x)+log(y)/2,force=True)\n",
        "fl3"
      ],
      "metadata": {
        "colab": {
          "base_uri": "https://localhost:8080/",
          "height": 38
        },
        "id": "_OjzcsyMLJLX",
        "outputId": "e34d815e-14a0-4e74-ee54-05a5199076e8"
      },
      "execution_count": null,
      "outputs": [
        {
          "output_type": "execute_result",
          "data": {
            "text/plain": [
              "   ⎛ 3   ⎞\n",
              "log⎝x ⋅√y⎠"
            ],
            "image/png": "[encoded data removed]",
            "text/latex": "$\\displaystyle \\log{\\left(x^{3} \\sqrt{y} \\right)}$"
          },
          "metadata": {},
          "execution_count": 152
        }
      ]
    },
    {
      "cell_type": "markdown",
      "source": [
        "# **Fatorial e Combinatória**\n",
        "\n",
        "n!\n",
        "\n",
        "$$\\Gamma(z)=\\int_0^\\infty t^{z-1}\\exp(-t)dt=(z-1)!$$"
      ],
      "metadata": {
        "id": "isHI-HEDLtrp"
      }
    },
    {
      "cell_type": "code",
      "source": [
        "fat=factorial(n)\n",
        "fat"
      ],
      "metadata": {
        "colab": {
          "base_uri": "https://localhost:8080/",
          "height": 38
        },
        "id": "NiP-RMj0Lxq3",
        "outputId": "5e831765-a07c-493b-bd3f-e768dc2454bf"
      },
      "execution_count": null,
      "outputs": [
        {
          "output_type": "execute_result",
          "data": {
            "text/plain": [
              "n!"
            ],
            "image/png": "[encoded data removed]",
            "text/latex": "$\\displaystyle n!$"
          },
          "metadata": {},
          "execution_count": 153
        }
      ]
    },
    {
      "cell_type": "code",
      "source": [
        "factorial(5)"
      ],
      "metadata": {
        "colab": {
          "base_uri": "https://localhost:8080/",
          "height": 37
        },
        "id": "Ng6E_KlgM6nQ",
        "outputId": "c9d5d8ed-7093-4342-df2b-825b33c53289"
      },
      "execution_count": null,
      "outputs": [
        {
          "output_type": "execute_result",
          "data": {
            "text/plain": [
              "120"
            ],
            "image/png": "[encoded data removed]",
            "text/latex": "$\\displaystyle 120$"
          },
          "metadata": {},
          "execution_count": 154
        }
      ]
    },
    {
      "cell_type": "code",
      "source": [
        "z = symbols('z')\n",
        "\n",
        "gamma(z)\n",
        "gamma(5)"
      ],
      "metadata": {
        "colab": {
          "base_uri": "https://localhost:8080/",
          "height": 37
        },
        "id": "Pdtf018bNCSZ",
        "outputId": "3c1402b3-a3b3-403f-e2e9-e54aa5a603e7"
      },
      "execution_count": null,
      "outputs": [
        {
          "output_type": "execute_result",
          "data": {
            "text/plain": [
              "24"
            ],
            "image/png": "[encoded data removed]",
            "text/latex": "$\\displaystyle 24$"
          },
          "metadata": {},
          "execution_count": 155
        }
      ]
    },
    {
      "cell_type": "code",
      "source": [
        "k, n = symbols('k n', integer=True)\n",
        "\n",
        "bin = binomial(n,k)\n",
        "bin"
      ],
      "metadata": {
        "colab": {
          "base_uri": "https://localhost:8080/",
          "height": 58
        },
        "id": "BdZf36vgNh1r",
        "outputId": "03c05b99-97c1-4c3c-f8d6-92a418431c9d"
      },
      "execution_count": null,
      "outputs": [
        {
          "output_type": "execute_result",
          "data": {
            "text/plain": [
              "⎛n⎞\n",
              "⎜ ⎟\n",
              "⎝k⎠"
            ],
            "image/png": "[encoded data removed]",
            "text/latex": "$\\displaystyle {\\binom{n}{k}}$"
          },
          "metadata": {},
          "execution_count": 156
        }
      ]
    },
    {
      "cell_type": "code",
      "source": [
        "sifact=factorial(n)/factorial(n-3)\n",
        "display(sifact)\n",
        "print()\n",
        "simp = combsimp(sifact)\n",
        "simp"
      ],
      "metadata": {
        "colab": {
          "base_uri": "https://localhost:8080/",
          "height": 95
        },
        "id": "6pMSelwzOCfN",
        "outputId": "15b0cf4a-3e97-42ad-f56e-8e6c462c0c36"
      },
      "execution_count": null,
      "outputs": [
        {
          "output_type": "display_data",
          "data": {
            "text/plain": [
              "   n!   \n",
              "────────\n",
              "(n - 3)!"
            ],
            "image/png": "[encoded data removed]",
            "text/latex": "$\\displaystyle \\frac{n!}{\\left(n - 3\\right)!}$"
          },
          "metadata": {}
        },
        {
          "output_type": "stream",
          "name": "stdout",
          "text": [
            "\n"
          ]
        },
        {
          "output_type": "execute_result",
          "data": {
            "text/plain": [
              "n⋅(n - 2)⋅(n - 1)"
            ],
            "image/png": "[encoded data removed]",
            "text/latex": "$\\displaystyle n \\left(n - 2\\right) \\left(n - 1\\right)$"
          },
          "metadata": {},
          "execution_count": 157
        }
      ]
    },
    {
      "cell_type": "code",
      "source": [
        "sicomb=binomial(n+1,k+1)/binomial(n,k)\n",
        "display(sicomb)\n",
        "print()\n",
        "scmb=combsimp(sicomb)\n",
        "scmb"
      ],
      "metadata": {
        "colab": {
          "base_uri": "https://localhost:8080/",
          "height": 117
        },
        "id": "vSeO_FoxOqfW",
        "outputId": "9eaef6a5-57be-44c9-ee92-6d3a4686b413"
      },
      "execution_count": null,
      "outputs": [
        {
          "output_type": "display_data",
          "data": {
            "text/plain": [
              "⎛n + 1⎞\n",
              "⎜     ⎟\n",
              "⎝k + 1⎠\n",
              "───────\n",
              "  ⎛n⎞  \n",
              "  ⎜ ⎟  \n",
              "  ⎝k⎠  "
            ],
            "image/png": "[encoded data removed]",
            "text/latex": "$\\displaystyle \\frac{{\\binom{n + 1}{k + 1}}}{{\\binom{n}{k}}}$"
          },
          "metadata": {}
        },
        {
          "output_type": "stream",
          "name": "stdout",
          "text": [
            "\n"
          ]
        },
        {
          "output_type": "execute_result",
          "data": {
            "text/plain": [
              "n + 1\n",
              "─────\n",
              "k + 1"
            ],
            "image/png": "[encoded data removed]",
            "text/latex": "$\\displaystyle \\frac{n + 1}{k + 1}$"
          },
          "metadata": {},
          "execution_count": 158
        }
      ]
    },
    {
      "cell_type": "markdown",
      "source": [
        "# **Simplificação**"
      ],
      "metadata": {
        "id": "x7N6wNVlGkNw"
      }
    },
    {
      "cell_type": "code",
      "source": [
        "fx = 3*x+2/x**2+4*x**2\n",
        "gx = x**2-1/x\n"
      ],
      "metadata": {
        "id": "Wd7FGymzGtUQ"
      },
      "execution_count": null,
      "outputs": []
    },
    {
      "cell_type": "code",
      "source": [
        "hx = fx-gx\n",
        "display(hx)\n",
        "print()\n",
        "simplify(hx)"
      ],
      "metadata": {
        "colab": {
          "base_uri": "https://localhost:8080/",
          "height": 105
        },
        "id": "L7QMW2pQHWgd",
        "outputId": "3b30fd8f-6e4b-446f-cdee-7eb6abdac50f"
      },
      "execution_count": null,
      "outputs": [
        {
          "output_type": "display_data",
          "data": {
            "text/plain": [
              "   2         1   2 \n",
              "3⋅x  + 3⋅x + ─ + ──\n",
              "             x    2\n",
              "                 x "
            ],
            "image/png": "[encoded data removed]",
            "text/latex": "$\\displaystyle 3 x^{2} + 3 x + \\frac{1}{x} + \\frac{2}{x^{2}}$"
          },
          "metadata": {}
        },
        {
          "output_type": "stream",
          "name": "stdout",
          "text": [
            "\n"
          ]
        },
        {
          "output_type": "execute_result",
          "data": {
            "text/plain": [
              "   3                \n",
              "3⋅x ⋅(x + 1) + x + 2\n",
              "────────────────────\n",
              "          2         \n",
              "         x          "
            ],
            "image/png": "[encoded data removed]",
            "text/latex": "$\\displaystyle \\frac{3 x^{3} \\left(x + 1\\right) + x + 2}{x^{2}}$"
          },
          "metadata": {},
          "execution_count": 160
        }
      ]
    },
    {
      "cell_type": "code",
      "source": [
        "# Fatoração\n",
        "a,b,c,d = symbols('a b c d')\n",
        "mfrac = a/c+b/d\n",
        "mfrac = mfrac.factor()\n",
        "mfrac\n"
      ],
      "metadata": {
        "colab": {
          "base_uri": "https://localhost:8080/",
          "height": 52
        },
        "id": "ViaJsifvH3-4",
        "outputId": "09962ff1-5053-42d9-9fba-4a9784a700a0"
      },
      "execution_count": null,
      "outputs": [
        {
          "output_type": "execute_result",
          "data": {
            "text/plain": [
              "a⋅d + b⋅c\n",
              "─────────\n",
              "   c⋅d   "
            ],
            "image/png": "[encoded data removed]",
            "text/latex": "$\\displaystyle \\frac{a d + b c}{c d}$"
          },
          "metadata": {},
          "execution_count": 161
        }
      ]
    },
    {
      "cell_type": "code",
      "source": [
        "# Frações parciais\n",
        "\n",
        "expr6 = (-5*x**2+6+x)/(x**3-5*x+6*x**2)\n",
        "expr6\n"
      ],
      "metadata": {
        "colab": {
          "base_uri": "https://localhost:8080/",
          "height": 55
        },
        "id": "1kQn4X2dJWxj",
        "outputId": "65ca00fd-eb78-4ca7-c61b-795ed1deecd5"
      },
      "execution_count": null,
      "outputs": [
        {
          "output_type": "execute_result",
          "data": {
            "text/plain": [
              "      2        \n",
              " - 5⋅x  + x + 6\n",
              "───────────────\n",
              " 3      2      \n",
              "x  + 6⋅x  - 5⋅x"
            ],
            "image/png": "[encoded data removed]",
            "text/latex": "$\\displaystyle \\frac{- 5 x^{2} + x + 6}{x^{3} + 6 x^{2} - 5 x}$"
          },
          "metadata": {},
          "execution_count": 162
        }
      ]
    },
    {
      "cell_type": "code",
      "source": [
        "expr6.apart()"
      ],
      "metadata": {
        "colab": {
          "base_uri": "https://localhost:8080/",
          "height": 55
        },
        "id": "uVl4EdZlKKUF",
        "outputId": "de95fc8b-778e-4234-fd53-ff4f82dda3d4"
      },
      "execution_count": null,
      "outputs": [
        {
          "output_type": "execute_result",
          "data": {
            "text/plain": [
              "     19⋅x - 41        6 \n",
              "- ──────────────── - ───\n",
              "    ⎛ 2          ⎞   5⋅x\n",
              "  5⋅⎝x  + 6⋅x - 5⎠      "
            ],
            "image/png": "[encoded data removed]",
            "text/latex": "$\\displaystyle - \\frac{19 x - 41}{5 \\left(x^{2} + 6 x - 5\\right)} - \\frac{6}{5 x}$"
          },
          "metadata": {},
          "execution_count": 163
        }
      ]
    },
    {
      "cell_type": "code",
      "source": [
        "expr7 = (-5*x**3+6+x)/(-5*x+6*x**2)\n",
        "expr7"
      ],
      "metadata": {
        "colab": {
          "base_uri": "https://localhost:8080/",
          "height": 55
        },
        "id": "50JWcADkKs0D",
        "outputId": "1ca8bbd6-cb6c-42a7-e528-ff531dea5301"
      },
      "execution_count": null,
      "outputs": [
        {
          "output_type": "execute_result",
          "data": {
            "text/plain": [
              "     3        \n",
              "- 5⋅x  + x + 6\n",
              "──────────────\n",
              "     2        \n",
              "  6⋅x  - 5⋅x  "
            ],
            "image/png": "[encoded data removed]",
            "text/latex": "$\\displaystyle \\frac{- 5 x^{3} + x + 6}{6 x^{2} - 5 x}$"
          },
          "metadata": {},
          "execution_count": 164
        }
      ]
    },
    {
      "cell_type": "code",
      "source": [
        "expr7.apart()"
      ],
      "metadata": {
        "colab": {
          "base_uri": "https://localhost:8080/",
          "height": 55
        },
        "id": "lDbxm0RSLNbT",
        "outputId": "ea0572ff-b722-485b-ec68-28bb6d45651c"
      },
      "execution_count": null,
      "outputs": [
        {
          "output_type": "execute_result",
          "data": {
            "text/plain": [
              "  5⋅x   25        851         6 \n",
              "- ─── - ── + ───────────── - ───\n",
              "   6    36   180⋅(6⋅x - 5)   5⋅x"
            ],
            "image/png": "[encoded data removed]",
            "text/latex": "$\\displaystyle - \\frac{5 x}{6} - \\frac{25}{36} + \\frac{851}{180 \\left(6 x - 5\\right)} - \\frac{6}{5 x}$"
          },
          "metadata": {},
          "execution_count": 165
        }
      ]
    },
    {
      "cell_type": "code",
      "source": [
        "# Cancelamento\n",
        "\n",
        "pol1 = (x**2+2*x+1)/(x**2+x)\n",
        "pol1"
      ],
      "metadata": {
        "colab": {
          "base_uri": "https://localhost:8080/",
          "height": 55
        },
        "id": "rI3e3YYIMXuu",
        "outputId": "1c6809d4-5f43-4e76-c70d-ab5d246a9e53"
      },
      "execution_count": null,
      "outputs": [
        {
          "output_type": "execute_result",
          "data": {
            "text/plain": [
              " 2          \n",
              "x  + 2⋅x + 1\n",
              "────────────\n",
              "    2       \n",
              "   x  + x   "
            ],
            "image/png": "[encoded data removed]",
            "text/latex": "$\\displaystyle \\frac{x^{2} + 2 x + 1}{x^{2} + x}$"
          },
          "metadata": {},
          "execution_count": 166
        }
      ]
    },
    {
      "cell_type": "code",
      "source": [
        "pol1.cancel()"
      ],
      "metadata": {
        "colab": {
          "base_uri": "https://localhost:8080/",
          "height": 51
        },
        "id": "-QqXcEHRMzlV",
        "outputId": "4289b3ed-d029-4131-9925-53bd1a825ceb"
      },
      "execution_count": null,
      "outputs": [
        {
          "output_type": "execute_result",
          "data": {
            "text/plain": [
              "x + 1\n",
              "─────\n",
              "  x  "
            ],
            "image/png": "[encoded data removed]",
            "text/latex": "$\\displaystyle \\frac{x + 1}{x}$"
          },
          "metadata": {},
          "execution_count": 167
        }
      ]
    },
    {
      "cell_type": "markdown",
      "source": [
        "# **Simplificações Trigonomêtricas**"
      ],
      "metadata": {
        "id": "EY-DfKBNN0sJ"
      }
    },
    {
      "cell_type": "code",
      "source": [
        "exptg = sin(asin(pi/2))\n",
        "exptg"
      ],
      "metadata": {
        "colab": {
          "base_uri": "https://localhost:8080/",
          "height": 47
        },
        "id": "pEkdEmQ8N5Sr",
        "outputId": "fc700dd7-8a09-4b57-8f10-221339376351"
      },
      "execution_count": null,
      "outputs": [
        {
          "output_type": "execute_result",
          "data": {
            "text/plain": [
              "π\n",
              "─\n",
              "2"
            ],
            "image/png": "[encoded data removed]",
            "text/latex": "$\\displaystyle \\frac{\\pi}{2}$"
          },
          "metadata": {},
          "execution_count": 168
        }
      ]
    },
    {
      "cell_type": "code",
      "source": [
        "alpha, beta = symbols('alpha beta')\n",
        "exptg1 = (sin(alpha)+cos(alpha))**2\n",
        "exptg1"
      ],
      "metadata": {
        "colab": {
          "base_uri": "https://localhost:8080/",
          "height": 39
        },
        "id": "9iCO3OQOOVF-",
        "outputId": "49f96c25-27ee-4965-80ad-ae502ca27a67"
      },
      "execution_count": null,
      "outputs": [
        {
          "output_type": "execute_result",
          "data": {
            "text/plain": [
              "                 2\n",
              "(sin(α) + cos(α)) "
            ],
            "image/png": "[encoded data removed]",
            "text/latex": "$\\displaystyle \\left(\\sin{\\left(\\alpha \\right)} + \\cos{\\left(\\alpha \\right)}\\right)^{2}$"
          },
          "metadata": {},
          "execution_count": 169
        }
      ]
    },
    {
      "cell_type": "code",
      "source": [
        "exptg1.expand()"
      ],
      "metadata": {
        "colab": {
          "base_uri": "https://localhost:8080/",
          "height": 38
        },
        "id": "m-zgwZ4IOyGQ",
        "outputId": "85448f6d-3949-4167-99f5-29f63152a614"
      },
      "execution_count": null,
      "outputs": [
        {
          "output_type": "execute_result",
          "data": {
            "text/plain": [
              "   2                           2   \n",
              "sin (α) + 2⋅sin(α)⋅cos(α) + cos (α)"
            ],
            "image/png": "[encoded data removed]",
            "text/latex": "$\\displaystyle \\sin^{2}{\\left(\\alpha \\right)} + 2 \\sin{\\left(\\alpha \\right)} \\cos{\\left(\\alpha \\right)} + \\cos^{2}{\\left(\\alpha \\right)}$"
          },
          "metadata": {},
          "execution_count": 170
        }
      ]
    },
    {
      "cell_type": "code",
      "source": [
        "exptg1.trigsimp()"
      ],
      "metadata": {
        "colab": {
          "base_uri": "https://localhost:8080/",
          "height": 48
        },
        "id": "p6__QkAKPCCY",
        "outputId": "e0ea141d-846a-40b5-81ae-80222c1642ab"
      },
      "execution_count": null,
      "outputs": [
        {
          "output_type": "execute_result",
          "data": {
            "text/plain": [
              "     2⎛    π⎞\n",
              "2⋅sin ⎜α + ─⎟\n",
              "      ⎝    4⎠"
            ],
            "image/png": "[encoded data removed]",
            "text/latex": "$\\displaystyle 2 \\sin^{2}{\\left(\\alpha + \\frac{\\pi}{4} \\right)}$"
          },
          "metadata": {},
          "execution_count": 171
        }
      ]
    },
    {
      "cell_type": "code",
      "source": [
        "#Expansão trigonomêtrica\n",
        "exptg2 = exptg1.trigsimp()\n",
        "expand_trig(exptg2)"
      ],
      "metadata": {
        "colab": {
          "base_uri": "https://localhost:8080/",
          "height": 71
        },
        "id": "6PdQR-qAPhjX",
        "outputId": "c4d8ae1e-7ef2-4db0-bf89-d393525aaaf6"
      },
      "execution_count": null,
      "outputs": [
        {
          "output_type": "execute_result",
          "data": {
            "text/plain": [
              "                         2\n",
              "  ⎛√2⋅sin(α)   √2⋅cos(α)⎞ \n",
              "2⋅⎜───────── + ─────────⎟ \n",
              "  ⎝    2           2    ⎠ "
            ],
            "image/png": "[encoded data removed]",
            "text/latex": "$\\displaystyle 2 \\left(\\frac{\\sqrt{2} \\sin{\\left(\\alpha \\right)}}{2} + \\frac{\\sqrt{2} \\cos{\\left(\\alpha \\right)}}{2}\\right)^{2}$"
          },
          "metadata": {},
          "execution_count": 175
        }
      ]
    },
    {
      "cell_type": "markdown",
      "source": [
        "# **Equações Algébricas**"
      ],
      "metadata": {
        "id": "ZS1cQ25rQaaK"
      }
    },
    {
      "cell_type": "code",
      "source": [
        "q, s = symbols('q s')\n",
        "\n",
        "equ = Eq(q,0)\n",
        "equ"
      ],
      "metadata": {
        "colab": {
          "base_uri": "https://localhost:8080/",
          "height": 38
        },
        "id": "vJ_fpgILQdv3",
        "outputId": "d7e42551-dcd8-4b2a-d2f9-3c6506f6be9f"
      },
      "execution_count": null,
      "outputs": [
        {
          "output_type": "execute_result",
          "data": {
            "text/plain": [
              "q = 0"
            ],
            "image/png": "[encoded data removed]",
            "text/latex": "$\\displaystyle q = 0$"
          },
          "metadata": {},
          "execution_count": 176
        }
      ]
    },
    {
      "cell_type": "code",
      "source": [
        "eq1 = q**2+5*q+25\n",
        "neq1 = Eq(eq1,0)\n",
        "neq1"
      ],
      "metadata": {
        "colab": {
          "base_uri": "https://localhost:8080/",
          "height": 38
        },
        "id": "jDKql5RMQ3lO",
        "outputId": "d32d41fd-5fb2-40aa-85ff-f24c42556298"
      },
      "execution_count": null,
      "outputs": [
        {
          "output_type": "execute_result",
          "data": {
            "text/plain": [
              " 2               \n",
              "q  + 5⋅q + 25 = 0"
            ],
            "image/png": "[encoded data removed]",
            "text/latex": "$\\displaystyle q^{2} + 5 q + 25 = 0$"
          },
          "metadata": {},
          "execution_count": 178
        }
      ]
    },
    {
      "cell_type": "code",
      "source": [
        "solucao = solve(eq1,q)\n",
        "solucao"
      ],
      "metadata": {
        "colab": {
          "base_uri": "https://localhost:8080/",
          "height": 68
        },
        "id": "L1-3htWvRMe1",
        "outputId": "b8a596ac-c9c3-4cba-dcdb-d67c9fbc9b3f"
      },
      "execution_count": null,
      "outputs": [
        {
          "output_type": "execute_result",
          "data": {
            "text/plain": [
              "⎡  5   5⋅√3⋅ⅈ    5   5⋅√3⋅ⅈ⎤\n",
              "⎢- ─ - ──────, - ─ + ──────⎥\n",
              "⎣  2     2       2     2   ⎦"
            ],
            "image/png": "[encoded data removed]",
            "text/latex": "$\\displaystyle \\left[ - \\frac{5}{2} - \\frac{5 \\sqrt{3} i}{2}, \\  - \\frac{5}{2} + \\frac{5 \\sqrt{3} i}{2}\\right]$"
          },
          "metadata": {},
          "execution_count": 179
        }
      ]
    },
    {
      "cell_type": "code",
      "source": [
        "solu1 = solve(eq1,25)\n",
        "solu1"
      ],
      "metadata": {
        "colab": {
          "base_uri": "https://localhost:8080/",
          "height": 38
        },
        "id": "JwBtZJpTRrGO",
        "outputId": "780f1f43-55ef-41cf-a58f-881d29f2006c"
      },
      "execution_count": null,
      "outputs": [
        {
          "output_type": "execute_result",
          "data": {
            "text/plain": [
              "[-q⋅(q + 5)]"
            ],
            "image/png": "[encoded data removed]",
            "text/latex": "$\\displaystyle \\left[ - q \\left(q + 5\\right)\\right]$"
          },
          "metadata": {},
          "execution_count": 180
        }
      ]
    },
    {
      "cell_type": "code",
      "source": [
        "eqq2 = q**2+q*s+3*s\n",
        "display(Eq(eqq2,0))\n",
        "print()\n",
        "solu2 = solve(eqq2,s)\n",
        "solu2"
      ],
      "metadata": {
        "colab": {
          "base_uri": "https://localhost:8080/",
          "height": 97
        },
        "id": "A39IvHlWR6tz",
        "outputId": "2b2e4ed6-6226-4778-f7ef-6590806a6e73"
      },
      "execution_count": null,
      "outputs": [
        {
          "output_type": "display_data",
          "data": {
            "text/plain": [
              " 2                \n",
              "q  + q⋅s + 3⋅s = 0"
            ],
            "image/png": "[encoded data removed]",
            "text/latex": "$\\displaystyle q^{2} + q s + 3 s = 0$"
          },
          "metadata": {}
        },
        {
          "output_type": "stream",
          "name": "stdout",
          "text": [
            "\n"
          ]
        },
        {
          "output_type": "execute_result",
          "data": {
            "text/plain": [
              "⎡   2 ⎤\n",
              "⎢ -q  ⎥\n",
              "⎢─────⎥\n",
              "⎣q + 3⎦"
            ],
            "image/png": "[encoded data removed]",
            "text/latex": "$\\displaystyle \\left[ - \\frac{q^{2}}{q + 3}\\right]$"
          },
          "metadata": {},
          "execution_count": 183
        }
      ]
    },
    {
      "cell_type": "code",
      "source": [
        "solu3=solve(eqq2,q)\n",
        "solu3"
      ],
      "metadata": {
        "colab": {
          "base_uri": "https://localhost:8080/",
          "height": 68
        },
        "id": "TTPFX430Ssct",
        "outputId": "5dd1d616-565d-48db-bb81-57dbb6fffad6"
      },
      "execution_count": null,
      "outputs": [
        {
          "output_type": "execute_result",
          "data": {
            "text/plain": [
              "⎡        ____________          ____________⎤\n",
              "⎢  s   ╲╱ s⋅(s - 12)     s   ╲╱ s⋅(s - 12) ⎥\n",
              "⎢- ─ - ──────────────, - ─ + ──────────────⎥\n",
              "⎣  2         2           2         2       ⎦"
            ],
            "image/png": "[encoded data removed]",
            "text/latex": "$\\displaystyle \\left[ - \\frac{s}{2} - \\frac{\\sqrt{s \\left(s - 12\\right)}}{2}, \\  - \\frac{s}{2} + \\frac{\\sqrt{s \\left(s - 12\\right)}}{2}\\right]$"
          },
          "metadata": {},
          "execution_count": 184
        }
      ]
    },
    {
      "cell_type": "code",
      "source": [
        "fwg = 4*cos(s)-exp(pi)\n",
        "display(Eq(fwg,0))\n",
        "print()\n",
        "\n",
        "soluu = solve(fwg,s)\n",
        "soluu\n",
        "\n"
      ],
      "metadata": {
        "colab": {
          "base_uri": "https://localhost:8080/",
          "height": 96
        },
        "id": "kmojyOuyTCqg",
        "outputId": "ce0c58f0-2e3a-47ea-fd2d-4ead6b32f224"
      },
      "execution_count": null,
      "outputs": [
        {
          "output_type": "display_data",
          "data": {
            "text/plain": [
              "            π    \n",
              "4⋅cos(s) - ℯ  = 0"
            ],
            "image/png": "[encoded data removed]",
            "text/latex": "$\\displaystyle 4 \\cos{\\left(s \\right)} - e^{\\pi} = 0$"
          },
          "metadata": {}
        },
        {
          "output_type": "stream",
          "name": "stdout",
          "text": [
            "\n"
          ]
        },
        {
          "output_type": "execute_result",
          "data": {
            "text/plain": [
              "⎡          ⎛ π⎞      ⎛ π⎞⎤\n",
              "⎢          ⎜ℯ ⎟      ⎜ℯ ⎟⎥\n",
              "⎢2⋅π - acos⎜──⎟, acos⎜──⎟⎥\n",
              "⎣          ⎝4 ⎠      ⎝4 ⎠⎦"
            ],
            "image/png": "[encoded data removed]",
            "text/latex": "$\\displaystyle \\left[ 2 \\pi - \\operatorname{acos}{\\left(\\frac{e^{\\pi}}{4} \\right)}, \\  \\operatorname{acos}{\\left(\\frac{e^{\\pi}}{4} \\right)}\\right]$"
          },
          "metadata": {},
          "execution_count": 188
        }
      ]
    },
    {
      "cell_type": "code",
      "source": [
        "soluu[0].evalf()"
      ],
      "metadata": {
        "colab": {
          "base_uri": "https://localhost:8080/",
          "height": 38
        },
        "id": "tp6D8flkUKKw",
        "outputId": "30658806-6a7c-49a6-d43e-e0086451dfd6"
      },
      "execution_count": null,
      "outputs": [
        {
          "output_type": "execute_result",
          "data": {
            "text/plain": [
              "6.28318530717959 - 2.44089058873024⋅ⅈ"
            ],
            "image/png": "[encoded data removed]",
            "text/latex": "$\\displaystyle 6.28318530717959 - 2.44089058873024 i$"
          },
          "metadata": {},
          "execution_count": 190
        }
      ]
    },
    {
      "cell_type": "code",
      "source": [
        "fww = 4*cos(s)-exp(s)\n",
        "display(Eq(fww,0))\n",
        "\n",
        "print()\n",
        "\n",
        "soll = solve(fww,s)\n",
        "soll"
      ],
      "metadata": {
        "colab": {
          "base_uri": "https://localhost:8080/",
          "height": 420
        },
        "id": "Fyu_TX7ZUdUQ",
        "outputId": "ba0b66db-430b-4bae-ef4b-4a99aabd1b20"
      },
      "execution_count": null,
      "outputs": [
        {
          "output_type": "display_data",
          "data": {
            "text/plain": [
              "   s               \n",
              "- ℯ  + 4⋅cos(s) = 0"
            ],
            "image/png": "[encoded data removed]",
            "text/latex": "$\\displaystyle - e^{s} + 4 \\cos{\\left(s \\right)} = 0$"
          },
          "metadata": {}
        },
        {
          "output_type": "stream",
          "name": "stdout",
          "text": [
            "\n"
          ]
        },
        {
          "output_type": "error",
          "ename": "NotImplementedError",
          "evalue": "ignored",
          "traceback": [
            "\u001b[0;31m---------------------------------------------------------------------------\u001b[0m",
            "\u001b[0;31mNotImplementedError\u001b[0m                       Traceback (most recent call last)",
            "\u001b[0;32m<ipython-input-192-be3d81886e63>\u001b[0m in \u001b[0;36m<module>\u001b[0;34m\u001b[0m\n\u001b[1;32m      4\u001b[0m \u001b[0mprint\u001b[0m\u001b[0;34m(\u001b[0m\u001b[0;34m)\u001b[0m\u001b[0;34m\u001b[0m\u001b[0;34m\u001b[0m\u001b[0m\n\u001b[1;32m      5\u001b[0m \u001b[0;34m\u001b[0m\u001b[0m\n\u001b[0;32m----> 6\u001b[0;31m \u001b[0msoll\u001b[0m \u001b[0;34m=\u001b[0m \u001b[0msolve\u001b[0m\u001b[0;34m(\u001b[0m\u001b[0mfww\u001b[0m\u001b[0;34m,\u001b[0m\u001b[0ms\u001b[0m\u001b[0;34m)\u001b[0m\u001b[0;34m\u001b[0m\u001b[0;34m\u001b[0m\u001b[0m\n\u001b[0m\u001b[1;32m      7\u001b[0m \u001b[0msoll\u001b[0m\u001b[0;34m\u001b[0m\u001b[0;34m\u001b[0m\u001b[0m\n",
            "\u001b[0;32m/usr/local/lib/python3.8/dist-packages/sympy/solvers/solvers.py\u001b[0m in \u001b[0;36msolve\u001b[0;34m(f, *symbols, **flags)\u001b[0m\n\u001b[1;32m   1095\u001b[0m     \u001b[0;31m###########################################################################\u001b[0m\u001b[0;34m\u001b[0m\u001b[0;34m\u001b[0m\u001b[0;34m\u001b[0m\u001b[0m\n\u001b[1;32m   1096\u001b[0m     \u001b[0;32mif\u001b[0m \u001b[0mbare_f\u001b[0m\u001b[0;34m:\u001b[0m\u001b[0;34m\u001b[0m\u001b[0;34m\u001b[0m\u001b[0m\n\u001b[0;32m-> 1097\u001b[0;31m         \u001b[0msolution\u001b[0m \u001b[0;34m=\u001b[0m \u001b[0m_solve\u001b[0m\u001b[0;34m(\u001b[0m\u001b[0mf\u001b[0m\u001b[0;34m[\u001b[0m\u001b[0;36m0\u001b[0m\u001b[0;34m]\u001b[0m\u001b[0;34m,\u001b[0m \u001b[0;34m*\u001b[0m\u001b[0msymbols\u001b[0m\u001b[0;34m,\u001b[0m \u001b[0;34m**\u001b[0m\u001b[0mflags\u001b[0m\u001b[0;34m)\u001b[0m\u001b[0;34m\u001b[0m\u001b[0;34m\u001b[0m\u001b[0m\n\u001b[0m\u001b[1;32m   1098\u001b[0m     \u001b[0;32melse\u001b[0m\u001b[0;34m:\u001b[0m\u001b[0;34m\u001b[0m\u001b[0;34m\u001b[0m\u001b[0m\n\u001b[1;32m   1099\u001b[0m         \u001b[0msolution\u001b[0m \u001b[0;34m=\u001b[0m \u001b[0m_solve_system\u001b[0m\u001b[0;34m(\u001b[0m\u001b[0mf\u001b[0m\u001b[0;34m,\u001b[0m \u001b[0msymbols\u001b[0m\u001b[0;34m,\u001b[0m \u001b[0;34m**\u001b[0m\u001b[0mflags\u001b[0m\u001b[0;34m)\u001b[0m\u001b[0;34m\u001b[0m\u001b[0;34m\u001b[0m\u001b[0m\n",
            "\u001b[0;32m/usr/local/lib/python3.8/dist-packages/sympy/solvers/solvers.py\u001b[0m in \u001b[0;36m_solve\u001b[0;34m(f, *symbols, **flags)\u001b[0m\n\u001b[1;32m   1714\u001b[0m \u001b[0;34m\u001b[0m\u001b[0m\n\u001b[1;32m   1715\u001b[0m     \u001b[0;32mif\u001b[0m \u001b[0mresult\u001b[0m \u001b[0;32mis\u001b[0m \u001b[0;32mFalse\u001b[0m\u001b[0;34m:\u001b[0m\u001b[0;34m\u001b[0m\u001b[0;34m\u001b[0m\u001b[0m\n\u001b[0;32m-> 1716\u001b[0;31m         \u001b[0;32mraise\u001b[0m \u001b[0mNotImplementedError\u001b[0m\u001b[0;34m(\u001b[0m\u001b[0;34m'\\n'\u001b[0m\u001b[0;34m.\u001b[0m\u001b[0mjoin\u001b[0m\u001b[0;34m(\u001b[0m\u001b[0;34m[\u001b[0m\u001b[0mmsg\u001b[0m\u001b[0;34m,\u001b[0m \u001b[0mnot_impl_msg\u001b[0m \u001b[0;34m%\u001b[0m \u001b[0mf\u001b[0m\u001b[0;34m]\u001b[0m\u001b[0;34m)\u001b[0m\u001b[0;34m)\u001b[0m\u001b[0;34m\u001b[0m\u001b[0;34m\u001b[0m\u001b[0m\n\u001b[0m\u001b[1;32m   1717\u001b[0m \u001b[0;34m\u001b[0m\u001b[0m\n\u001b[1;32m   1718\u001b[0m     \u001b[0;32mif\u001b[0m \u001b[0mflags\u001b[0m\u001b[0;34m.\u001b[0m\u001b[0mget\u001b[0m\u001b[0;34m(\u001b[0m\u001b[0;34m'simplify'\u001b[0m\u001b[0;34m,\u001b[0m \u001b[0;32mTrue\u001b[0m\u001b[0;34m)\u001b[0m\u001b[0;34m:\u001b[0m\u001b[0;34m\u001b[0m\u001b[0;34m\u001b[0m\u001b[0m\n",
            "\u001b[0;31mNotImplementedError\u001b[0m: multiple generators [cos(s), exp(s)]\nNo algorithms are implemented to solve equation -exp(s) + 4*cos(s)"
          ]
        }
      ]
    },
    {
      "cell_type": "markdown",
      "source": [
        "# **Série de Taylor**\n",
        "\n",
        "$f(p)=f(p_o)+\\frac{f'(p_o)}{1!}(p-p_o)+\\frac{f''(p_o)}{2!}(p-p_o)^2+\\cdots +\\frac{f^n(p_o)}{n!}(p-p_o)^n$"
      ],
      "metadata": {
        "id": "Y1iYWpdNVw3-"
      }
    },
    {
      "cell_type": "code",
      "source": [
        "d = symbols('d')\n",
        "\n",
        "gp = exp(d)\n",
        "gp"
      ],
      "metadata": {
        "colab": {
          "base_uri": "https://localhost:8080/",
          "height": 38
        },
        "id": "m5n2OEsRV0W5",
        "outputId": "585b204a-998f-4eca-a60d-c472d22f3ca0"
      },
      "execution_count": null,
      "outputs": [
        {
          "output_type": "execute_result",
          "data": {
            "text/plain": [
              " d\n",
              "ℯ "
            ],
            "image/png": "[encoded data removed]",
            "text/latex": "$\\displaystyle e^{d}$"
          },
          "metadata": {},
          "execution_count": 193
        }
      ]
    },
    {
      "cell_type": "code",
      "source": [
        "gp.series(d)"
      ],
      "metadata": {
        "colab": {
          "base_uri": "https://localhost:8080/",
          "height": 54
        },
        "id": "F9pu7A1pVqY9",
        "outputId": "8c9de2c0-427b-458b-dd2b-fd465aea8dd4"
      },
      "execution_count": null,
      "outputs": [
        {
          "output_type": "execute_result",
          "data": {
            "text/plain": [
              "         2    3    4     5        \n",
              "        d    d    d     d     ⎛ 6⎞\n",
              "1 + d + ── + ── + ── + ─── + O⎝d ⎠\n",
              "        2    6    24   120        "
            ],
            "image/png": "[encoded data removed]",
            "text/latex": "$\\displaystyle 1 + d + \\frac{d^{2}}{2} + \\frac{d^{3}}{6} + \\frac{d^{4}}{24} + \\frac{d^{5}}{120} + O\\left(d^{6}\\right)$"
          },
          "metadata": {},
          "execution_count": 194
        }
      ]
    },
    {
      "cell_type": "code",
      "source": [
        "gp.series(d,-1,3)"
      ],
      "metadata": {
        "colab": {
          "base_uri": "https://localhost:8080/",
          "height": 56
        },
        "id": "1N256PpGYYYw",
        "outputId": "2e980c4f-2ba0-49af-f909-e0bb6c274dbc"
      },
      "execution_count": null,
      "outputs": [
        {
          "output_type": "execute_result",
          "data": {
            "text/plain": [
              "                           2  -1                      \n",
              " -1            -1   (d + 1) ⋅ℯ      ⎛       3        ⎞\n",
              "ℯ   + (d + 1)⋅ℯ   + ──────────── + O⎝(d + 1) ; d → -1⎠\n",
              "                         2                            "
            ],
            "image/png": "[encoded data removed]",
            "text/latex": "$\\displaystyle e^{-1} + \\frac{d + 1}{e} + \\frac{\\left(d + 1\\right)^{2}}{2 e} + O\\left(\\left(d + 1\\right)^{3}; d\\rightarrow -1\\right)$"
          },
          "metadata": {},
          "execution_count": 196
        }
      ]
    },
    {
      "cell_type": "code",
      "source": [
        "gp.series(d,-1,3).removeO()"
      ],
      "metadata": {
        "colab": {
          "base_uri": "https://localhost:8080/",
          "height": 56
        },
        "id": "3TL0zaCUY1PZ",
        "outputId": "353e1624-39f3-457f-87c4-7e71d44e9259"
      },
      "execution_count": null,
      "outputs": [
        {
          "output_type": "execute_result",
          "data": {
            "text/plain": [
              "       2  -1                    \n",
              "(d + 1) ⋅ℯ              -1    -1\n",
              "──────────── + (d + 1)⋅ℯ   + ℯ  \n",
              "     2                          "
            ],
            "image/png": "[encoded data removed]",
            "text/latex": "$\\displaystyle \\frac{\\left(d + 1\\right)^{2}}{2 e} + \\frac{d + 1}{e} + e^{-1}$"
          },
          "metadata": {},
          "execution_count": 197
        }
      ]
    },
    {
      "cell_type": "code",
      "source": [
        "gp.series(d,-1,3).removeO().subs(d,0.5).evalf()"
      ],
      "metadata": {
        "colab": {
          "base_uri": "https://localhost:8080/",
          "height": 37
        },
        "id": "n_Y4eDMiZAE0",
        "outputId": "47324397-6b24-46d0-e591-eea022568118"
      },
      "execution_count": null,
      "outputs": [
        {
          "output_type": "execute_result",
          "data": {
            "text/plain": [
              "1.33356297424648"
            ],
            "image/png": "[encoded data removed]",
            "text/latex": "$\\displaystyle 1.33356297424648$"
          },
          "metadata": {},
          "execution_count": 199
        }
      ]
    },
    {
      "cell_type": "markdown",
      "source": [
        "# **Integrais**"
      ],
      "metadata": {
        "id": "CkmrW33YZVO1"
      }
    },
    {
      "cell_type": "markdown",
      "source": [
        "## **Integral Indefinida**"
      ],
      "metadata": {
        "id": "5kr1QB9PaWXb"
      }
    },
    {
      "cell_type": "code",
      "source": [
        "p = symbols('p')\n",
        "\n",
        "fp= p**3#+sin(p)\n",
        "fp"
      ],
      "metadata": {
        "colab": {
          "base_uri": "https://localhost:8080/",
          "height": 38
        },
        "id": "z-C7B65HZatJ",
        "outputId": "8af771bc-8f1c-4f1c-e614-e183ed3fe36a"
      },
      "execution_count": null,
      "outputs": [
        {
          "output_type": "execute_result",
          "data": {
            "text/plain": [
              " 3\n",
              "p "
            ],
            "image/png": "[encoded data removed]",
            "text/latex": "$\\displaystyle p^{3}$"
          },
          "metadata": {},
          "execution_count": 202
        }
      ]
    },
    {
      "cell_type": "code",
      "source": [
        "Integral(fp,p)"
      ],
      "metadata": {
        "colab": {
          "base_uri": "https://localhost:8080/",
          "height": 55
        },
        "id": "Fe50BR8CZs1T",
        "outputId": "84a08416-7461-4334-9b94-8b976d4a40d3"
      },
      "execution_count": null,
      "outputs": [
        {
          "output_type": "execute_result",
          "data": {
            "text/plain": [
              "⌠      \n",
              "⎮  3   \n",
              "⎮ p  dp\n",
              "⌡      "
            ],
            "image/png": "[encoded data removed]",
            "text/latex": "$\\displaystyle \\int p^{3}\\, dp$"
          },
          "metadata": {},
          "execution_count": 203
        }
      ]
    },
    {
      "cell_type": "code",
      "source": [
        "Integral(fp,p).doit()"
      ],
      "metadata": {
        "colab": {
          "base_uri": "https://localhost:8080/",
          "height": 54
        },
        "id": "GzO2JWLEaEtC",
        "outputId": "b67496cf-ba81-4887-e72f-760e6b0d89dd"
      },
      "execution_count": null,
      "outputs": [
        {
          "output_type": "execute_result",
          "data": {
            "text/plain": [
              " 4\n",
              "p \n",
              "──\n",
              "4 "
            ],
            "image/png": "[encoded data removed]",
            "text/latex": "$\\displaystyle \\frac{p^{4}}{4}$"
          },
          "metadata": {},
          "execution_count": 204
        }
      ]
    },
    {
      "cell_type": "code",
      "source": [
        "fs= sin(p)\n",
        "Integral(fs,p)"
      ],
      "metadata": {
        "colab": {
          "base_uri": "https://localhost:8080/",
          "height": 55
        },
        "id": "debinpxXah7u",
        "outputId": "1a45253c-ca60-4eff-e483-ad8ad99da7d5"
      },
      "execution_count": null,
      "outputs": [
        {
          "output_type": "execute_result",
          "data": {
            "text/plain": [
              "⌠          \n",
              "⎮ sin(p) dp\n",
              "⌡          "
            ],
            "image/png": "[encoded data removed]",
            "text/latex": "$\\displaystyle \\int \\sin{\\left(p \\right)}\\, dp$"
          },
          "metadata": {},
          "execution_count": 205
        }
      ]
    },
    {
      "cell_type": "code",
      "source": [
        "Integral(fs,p).doit()"
      ],
      "metadata": {
        "colab": {
          "base_uri": "https://localhost:8080/",
          "height": 38
        },
        "id": "iD07HbSvaxWD",
        "outputId": "9211f236-6679-4219-8972-f282663e5d0c"
      },
      "execution_count": null,
      "outputs": [
        {
          "output_type": "execute_result",
          "data": {
            "text/plain": [
              "-cos(p)"
            ],
            "image/png": "[encoded data removed]",
            "text/latex": "$\\displaystyle - \\cos{\\left(p \\right)}$"
          },
          "metadata": {},
          "execution_count": 206
        }
      ]
    },
    {
      "cell_type": "code",
      "source": [
        "ff = p**3+sin(p)\n",
        "Integral(ff,p).doit()"
      ],
      "metadata": {
        "colab": {
          "base_uri": "https://localhost:8080/",
          "height": 54
        },
        "id": "fnay72KBa-n1",
        "outputId": "603436e6-c469-4de8-c9ef-a9769c7d718f"
      },
      "execution_count": null,
      "outputs": [
        {
          "output_type": "execute_result",
          "data": {
            "text/plain": [
              " 4         \n",
              "p          \n",
              "── - cos(p)\n",
              "4          "
            ],
            "image/png": "[encoded data removed]",
            "text/latex": "$\\displaystyle \\frac{p^{4}}{4} - \\cos{\\left(p \\right)}$"
          },
          "metadata": {},
          "execution_count": 208
        }
      ]
    },
    {
      "cell_type": "code",
      "source": [
        "j = symbols('j')\n",
        "\n",
        "fjp = p**3*j+sin(p)\n",
        "fjp"
      ],
      "metadata": {
        "colab": {
          "base_uri": "https://localhost:8080/",
          "height": 38
        },
        "id": "PO_bWWGFbQJY",
        "outputId": "d5acd8cd-e77e-4a98-bb79-3bddfadce151"
      },
      "execution_count": null,
      "outputs": [
        {
          "output_type": "execute_result",
          "data": {
            "text/plain": [
              "   3         \n",
              "j⋅p  + sin(p)"
            ],
            "image/png": "[encoded data removed]",
            "text/latex": "$\\displaystyle j p^{3} + \\sin{\\left(p \\right)}$"
          },
          "metadata": {},
          "execution_count": 210
        }
      ]
    },
    {
      "cell_type": "code",
      "source": [
        "Integral(fjp,j)"
      ],
      "metadata": {
        "colab": {
          "base_uri": "https://localhost:8080/",
          "height": 55
        },
        "id": "sAE553sLbcTE",
        "outputId": "1f3f8f47-0731-429b-8b6e-c779db026686"
      },
      "execution_count": null,
      "outputs": [
        {
          "output_type": "execute_result",
          "data": {
            "text/plain": [
              "⌠                   \n",
              "⎮ ⎛   3         ⎞   \n",
              "⎮ ⎝j⋅p  + sin(p)⎠ dj\n",
              "⌡                   "
            ],
            "image/png": "[encoded data removed]",
            "text/latex": "$\\displaystyle \\int \\left(j p^{3} + \\sin{\\left(p \\right)}\\right)\\, dj$"
          },
          "metadata": {},
          "execution_count": 211
        }
      ]
    },
    {
      "cell_type": "code",
      "source": [
        "Integral(fjp,j).doit()"
      ],
      "metadata": {
        "colab": {
          "base_uri": "https://localhost:8080/",
          "height": 54
        },
        "id": "bZvBLcJYbpKy",
        "outputId": "482358de-43c4-48e7-b36c-2fd2565a5ab8"
      },
      "execution_count": null,
      "outputs": [
        {
          "output_type": "execute_result",
          "data": {
            "text/plain": [
              " 2  3           \n",
              "j ⋅p            \n",
              "───── + j⋅sin(p)\n",
              "  2             "
            ],
            "image/png": "[encoded data removed]",
            "text/latex": "$\\displaystyle \\frac{j^{2} p^{3}}{2} + j \\sin{\\left(p \\right)}$"
          },
          "metadata": {},
          "execution_count": 212
        }
      ]
    },
    {
      "cell_type": "code",
      "source": [
        "integrate(fjp,j)"
      ],
      "metadata": {
        "colab": {
          "base_uri": "https://localhost:8080/",
          "height": 54
        },
        "id": "DFBNuMxUcAs9",
        "outputId": "9d7d5885-cf12-4110-bff3-725aa76b89d4"
      },
      "execution_count": null,
      "outputs": [
        {
          "output_type": "execute_result",
          "data": {
            "text/plain": [
              " 2  3           \n",
              "j ⋅p            \n",
              "───── + j⋅sin(p)\n",
              "  2             "
            ],
            "image/png": "[encoded data removed]",
            "text/latex": "$\\displaystyle \\frac{j^{2} p^{3}}{2} + j \\sin{\\left(p \\right)}$"
          },
          "metadata": {},
          "execution_count": 213
        }
      ]
    },
    {
      "cell_type": "markdown",
      "source": [
        "## **Integral Definida**\n",
        "\n",
        "$\\int\\limits_{a}^b f(x)dx = G(x)|_{a}^{b}=G(b)-G(a) $"
      ],
      "metadata": {
        "id": "-BEG-MhBc-ig"
      }
    },
    {
      "cell_type": "code",
      "source": [
        "fp"
      ],
      "metadata": {
        "colab": {
          "base_uri": "https://localhost:8080/",
          "height": 38
        },
        "id": "2TaN_lPleJOR",
        "outputId": "111c0406-9679-484d-86d5-4503ed378d36"
      },
      "execution_count": null,
      "outputs": [
        {
          "output_type": "execute_result",
          "data": {
            "text/plain": [
              " 3\n",
              "p "
            ],
            "image/png": "[encoded data removed]",
            "text/latex": "$\\displaystyle p^{3}$"
          },
          "metadata": {},
          "execution_count": 216
        }
      ]
    },
    {
      "cell_type": "code",
      "source": [
        "Integral(fp,(p,2,3))"
      ],
      "metadata": {
        "id": "FaCdlBfZeWzi",
        "outputId": "f5fb8c22-99ae-4efe-e38c-21e4db73999d",
        "colab": {
          "base_uri": "https://localhost:8080/",
          "height": 80
        }
      },
      "execution_count": null,
      "outputs": [
        {
          "output_type": "execute_result",
          "data": {
            "text/plain": [
              "3      \n",
              "⌠      \n",
              "⎮  3   \n",
              "⎮ p  dp\n",
              "⌡      \n",
              "2      "
            ],
            "image/png": "[encoded data removed]",
            "text/latex": "$\\displaystyle \\int\\limits_{2}^{3} p^{3}\\, dp$"
          },
          "metadata": {},
          "execution_count": 218
        }
      ]
    },
    {
      "cell_type": "code",
      "source": [
        "integrate(fp,(p,2,6))"
      ],
      "metadata": {
        "colab": {
          "base_uri": "https://localhost:8080/",
          "height": 37
        },
        "id": "xg0Q5BcXc-Aj",
        "outputId": "e5fbca96-4776-49db-fd45-758428b27b7a"
      },
      "execution_count": null,
      "outputs": [
        {
          "output_type": "execute_result",
          "data": {
            "text/plain": [
              "320"
            ],
            "image/png": "[encoded data removed]",
            "text/latex": "$\\displaystyle 320$"
          },
          "metadata": {},
          "execution_count": 217
        }
      ]
    }
  ]
}