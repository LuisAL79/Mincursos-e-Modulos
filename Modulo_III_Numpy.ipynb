{
  "nbformat": 4,
  "nbformat_minor": 0,
  "metadata": {
    "colab": {
      "provenance": [],
      "authorship_tag": "ABX9TyPswiljUvxyUPd2xN71vKfd",
      "include_colab_link": true
    },
    "kernelspec": {
      "name": "python3",
      "display_name": "Python 3"
    },
    "language_info": {
      "name": "python"
    }
  },
  "cells": [
    {
      "cell_type": "markdown",
      "metadata": {
        "id": "view-in-github",
        "colab_type": "text"
      },
      "source": [
        "<a href=\"https://colab.research.google.com/github/LuisAL79/Mincursos-e-Modulos/blob/main/Modulo_III_Numpy.ipynb\" target=\"_parent\"><img src=\"https://colab.research.google.com/assets/colab-badge.svg\" alt=\"Open In Colab\"/></a>"
      ]
    },
    {
      "cell_type": "code",
      "source": [
        "ltv= [1,2,6,8,9]\n",
        "ltv = 2*ltv\n",
        "ltv"
      ],
      "metadata": {
        "id": "zCOBj9rlLYOB"
      },
      "execution_count": null,
      "outputs": []
    },
    {
      "cell_type": "markdown",
      "source": [
        "\n",
        "# **Numpy Operações com arrays ndimensionais**\n",
        "\n",
        "\n",
        "---\n",
        "\n",
        "\n",
        "![image.png](data:image/png;base64,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)\n",
        "\n",
        "\n",
        "https://numpy.org/doc/stable/user/absolute_beginners.html"
      ],
      "metadata": {
        "id": "44_1TWE9yCw7"
      }
    },
    {
      "cell_type": "code",
      "execution_count": null,
      "metadata": {
        "id": "jPRVsppgwvv4"
      },
      "outputs": [],
      "source": [
        "import numpy as np"
      ]
    },
    {
      "cell_type": "markdown",
      "source": [
        "# **Operações com Arrays**"
      ],
      "metadata": {
        "id": "TKZFtOF52Vcp"
      }
    },
    {
      "cell_type": "code",
      "source": [
        "a = np.array(\n",
        "    [1,2,3,4]\n",
        ")\n",
        "a"
      ],
      "metadata": {
        "id": "JqLHKjFe11XO"
      },
      "execution_count": null,
      "outputs": []
    },
    {
      "cell_type": "code",
      "source": [
        "a+1"
      ],
      "metadata": {
        "id": "iey0xtlh1_vS"
      },
      "execution_count": null,
      "outputs": []
    },
    {
      "cell_type": "code",
      "source": [
        "a**2"
      ],
      "metadata": {
        "id": "OqJJ_ck_2B3E"
      },
      "execution_count": null,
      "outputs": []
    },
    {
      "cell_type": "code",
      "source": [
        "b=np.array(\n",
        "    [-2,-3,4,5]\n",
        ")\n",
        "a/b"
      ],
      "metadata": {
        "id": "X0G-XjgU2Ejq"
      },
      "execution_count": null,
      "outputs": []
    },
    {
      "cell_type": "markdown",
      "source": [
        "## **Dividir intervalos**"
      ],
      "metadata": {
        "id": "UXfiVhm5IyTi"
      }
    },
    {
      "cell_type": "code",
      "source": [
        "c=np.arange(5.5)\n",
        "c"
      ],
      "metadata": {
        "colab": {
          "base_uri": "https://localhost:8080/"
        },
        "id": "NEFkavng2dGg",
        "outputId": "abf7c3e0-d3ab-45ee-8efe-f385cb73d14f"
      },
      "execution_count": null,
      "outputs": [
        {
          "output_type": "execute_result",
          "data": {
            "text/plain": [
              "array([0., 1., 2., 3., 4., 5.])"
            ]
          },
          "metadata": {},
          "execution_count": 6
        }
      ]
    },
    {
      "cell_type": "code",
      "source": [
        "d=np.arange(-2,12,3)\n",
        "d"
      ],
      "metadata": {
        "colab": {
          "base_uri": "https://localhost:8080/"
        },
        "id": "EQ8JaSiE2pn8",
        "outputId": "7fa1d5fa-46de-409a-9fbe-c7a5028c58d7"
      },
      "execution_count": null,
      "outputs": [
        {
          "output_type": "execute_result",
          "data": {
            "text/plain": [
              "array([-2,  1,  4,  7, 10])"
            ]
          },
          "metadata": {},
          "execution_count": 5
        }
      ]
    },
    {
      "cell_type": "code",
      "source": [
        "d=np.arange(-2,12,3.5)\n",
        "d"
      ],
      "metadata": {
        "colab": {
          "base_uri": "https://localhost:8080/"
        },
        "id": "1YEVqEIyMNm6",
        "outputId": "6bef07fc-37c6-47fd-da10-c5b65d4be59b"
      },
      "execution_count": null,
      "outputs": [
        {
          "output_type": "execute_result",
          "data": {
            "text/plain": [
              "array([-2. ,  1.5,  5. ,  8.5])"
            ]
          },
          "metadata": {},
          "execution_count": 7
        }
      ]
    },
    {
      "cell_type": "code",
      "source": [
        "f=np.linspace(-1,25,10)\n",
        "f"
      ],
      "metadata": {
        "colab": {
          "base_uri": "https://localhost:8080/"
        },
        "id": "itJ-w8cu7Wf0",
        "outputId": "a8a5cb1c-20c6-44d6-81d9-baa0cdc73cfa"
      },
      "execution_count": null,
      "outputs": [
        {
          "output_type": "execute_result",
          "data": {
            "text/plain": [
              "array([-1.        ,  1.88888889,  4.77777778,  7.66666667, 10.55555556,\n",
              "       13.44444444, 16.33333333, 19.22222222, 22.11111111, 25.        ])"
            ]
          },
          "metadata": {},
          "execution_count": 8
        }
      ]
    },
    {
      "cell_type": "markdown",
      "source": [
        "## **Operações com os elementos**"
      ],
      "metadata": {
        "id": "TqVrOK8KJBiy"
      }
    },
    {
      "cell_type": "code",
      "source": [
        "np.set_printoptions(suppress=True) #prevent numpy exponential\n",
        "                                   #notation on print, default False"
      ],
      "metadata": {
        "id": "w5IMOcRT6v4v"
      },
      "execution_count": null,
      "outputs": []
    },
    {
      "cell_type": "code",
      "source": [
        "e=np.array(\n",
        "    [1,3,4,0,9.5,45,2,-8,0.1,9.01,5.2,-18,101,-89,0.005,-0.0001,9.8,22], dtype=float\n",
        ")\n",
        "e.sort()\n",
        "e"
      ],
      "metadata": {
        "id": "4KDNmeI8334y"
      },
      "execution_count": null,
      "outputs": []
    },
    {
      "cell_type": "code",
      "source": [
        "f5=f>5\n",
        "f[f5]"
      ],
      "metadata": {
        "colab": {
          "base_uri": "https://localhost:8080/"
        },
        "id": "6psJErvd7soJ",
        "outputId": "7b542eec-af67-4397-add7-590e16a46981"
      },
      "execution_count": null,
      "outputs": [
        {
          "output_type": "execute_result",
          "data": {
            "text/plain": [
              "array([ 7.66666667, 10.55555556, 13.44444444, 16.33333333, 19.22222222,\n",
              "       22.11111111, 25.        ])"
            ]
          },
          "metadata": {},
          "execution_count": 9
        }
      ]
    },
    {
      "cell_type": "code",
      "source": [
        "ff = f[(f > 5) & (f < 20)].sum()\n",
        "ff"
      ],
      "metadata": {
        "colab": {
          "base_uri": "https://localhost:8080/"
        },
        "id": "7m5viAh98WKB",
        "outputId": "e50acfa4-5d7b-4a6b-eda4-be9cf98dd3bc"
      },
      "execution_count": null,
      "outputs": [
        {
          "output_type": "execute_result",
          "data": {
            "text/plain": [
              "67.22222222222223"
            ]
          },
          "metadata": {},
          "execution_count": 13
        }
      ]
    },
    {
      "cell_type": "code",
      "source": [
        "mat = np.array(\n",
        "    [\n",
        "        [1,2,3],\n",
        "     [8,6,5]\n",
        "    ]\n",
        ")\n",
        "mat"
      ],
      "metadata": {
        "colab": {
          "base_uri": "https://localhost:8080/"
        },
        "id": "iOjPelT986Am",
        "outputId": "94f0af94-7e01-4bf2-c758-80014e5a61b5"
      },
      "execution_count": null,
      "outputs": [
        {
          "output_type": "execute_result",
          "data": {
            "text/plain": [
              "array([[1, 2, 3],\n",
              "       [8, 6, 5]])"
            ]
          },
          "metadata": {},
          "execution_count": 14
        }
      ]
    },
    {
      "cell_type": "code",
      "source": [
        "mat.max()"
      ],
      "metadata": {
        "colab": {
          "base_uri": "https://localhost:8080/"
        },
        "id": "4q9dgONt-Nv8",
        "outputId": "c0b72c9c-c2c6-49d9-8aae-f23bb8d36e81"
      },
      "execution_count": null,
      "outputs": [
        {
          "output_type": "execute_result",
          "data": {
            "text/plain": [
              "8"
            ]
          },
          "metadata": {},
          "execution_count": 15
        }
      ]
    },
    {
      "cell_type": "code",
      "source": [
        "mat.min()"
      ],
      "metadata": {
        "colab": {
          "base_uri": "https://localhost:8080/"
        },
        "id": "mM3ZG8TJ-QwN",
        "outputId": "7b77f014-8e3a-42f5-e11f-cee16b5f49a7"
      },
      "execution_count": null,
      "outputs": [
        {
          "output_type": "execute_result",
          "data": {
            "text/plain": [
              "1"
            ]
          },
          "metadata": {},
          "execution_count": 16
        }
      ]
    },
    {
      "cell_type": "code",
      "source": [
        "mat.sum(axis=0) # colunas"
      ],
      "metadata": {
        "colab": {
          "base_uri": "https://localhost:8080/"
        },
        "id": "lyFHJl0t-Yx0",
        "outputId": "a86db5f2-2a26-48e5-be0a-02b8b66f461a"
      },
      "execution_count": null,
      "outputs": [
        {
          "output_type": "execute_result",
          "data": {
            "text/plain": [
              "array([9, 8, 8])"
            ]
          },
          "metadata": {},
          "execution_count": 17
        }
      ]
    },
    {
      "cell_type": "code",
      "source": [
        "mat.sum(axis=1) # filas"
      ],
      "metadata": {
        "colab": {
          "base_uri": "https://localhost:8080/"
        },
        "id": "sixiF8aq-otD",
        "outputId": "9f2ce93b-e454-443c-d3df-cbd54f1613a0"
      },
      "execution_count": null,
      "outputs": [
        {
          "output_type": "execute_result",
          "data": {
            "text/plain": [
              "array([ 6, 19])"
            ]
          },
          "metadata": {},
          "execution_count": 18
        }
      ]
    },
    {
      "cell_type": "markdown",
      "source": [
        "## **Construindo arrays**"
      ],
      "metadata": {
        "id": "YiShufDdJIa7"
      }
    },
    {
      "cell_type": "code",
      "source": [
        "uvec = np.ones(3)\n",
        "uvec"
      ],
      "metadata": {
        "colab": {
          "base_uri": "https://localhost:8080/"
        },
        "id": "zE4-rVzy9xhd",
        "outputId": "6d934995-0a00-4892-84c1-a5bb168f7d75"
      },
      "execution_count": null,
      "outputs": [
        {
          "output_type": "execute_result",
          "data": {
            "text/plain": [
              "array([1., 1., 1.])"
            ]
          },
          "metadata": {},
          "execution_count": 19
        }
      ]
    },
    {
      "cell_type": "code",
      "source": [
        "umat = np.ones((3,3))\n",
        "umat"
      ],
      "metadata": {
        "colab": {
          "base_uri": "https://localhost:8080/"
        },
        "id": "chRr9_eY-3KT",
        "outputId": "34d6f59d-2415-4b6d-f334-cf5ecf729643"
      },
      "execution_count": null,
      "outputs": [
        {
          "output_type": "execute_result",
          "data": {
            "text/plain": [
              "array([[1., 1., 1.],\n",
              "       [1., 1., 1.],\n",
              "       [1., 1., 1.]])"
            ]
          },
          "metadata": {},
          "execution_count": 20
        }
      ]
    },
    {
      "cell_type": "code",
      "source": [
        "zmat = np.zeros((3,3))\n",
        "zmat"
      ],
      "metadata": {
        "id": "EMt9dz9i-_9-"
      },
      "execution_count": null,
      "outputs": []
    },
    {
      "cell_type": "code",
      "source": [
        "emat = np.identity(3)\n",
        "emat"
      ],
      "metadata": {
        "id": "Ock1yM4d_XFZ"
      },
      "execution_count": null,
      "outputs": []
    },
    {
      "cell_type": "markdown",
      "source": [
        "## **Manipulando arrays**"
      ],
      "metadata": {
        "id": "slImwzynJUn5"
      }
    },
    {
      "cell_type": "code",
      "source": [
        "vvec = np.array(\n",
        "    [1,2,3,1,2,5,4,-8,9,6,5,12,21,0,5,1,3,0,8,12,56,35,45,4,3,2,1,0,6,7,8,9,6 ]\n",
        ")\n",
        "vvec"
      ],
      "metadata": {
        "colab": {
          "base_uri": "https://localhost:8080/"
        },
        "id": "XTo79VVvAI32",
        "outputId": "f1ef4d10-7555-47e5-f701-1e0a75b3c70e"
      },
      "execution_count": null,
      "outputs": [
        {
          "output_type": "execute_result",
          "data": {
            "text/plain": [
              "array([ 1,  2,  3,  1,  2,  5,  4, -8,  9,  6,  5, 12, 21,  0,  5,  1,  3,\n",
              "        0,  8, 12, 56, 35, 45,  4,  3,  2,  1,  0,  6,  7,  8,  9,  6])"
            ]
          },
          "metadata": {},
          "execution_count": 21
        }
      ]
    },
    {
      "cell_type": "code",
      "source": [
        "vec=np.unique(vvec)\n",
        "vec"
      ],
      "metadata": {
        "colab": {
          "base_uri": "https://localhost:8080/"
        },
        "id": "yMtuJXoiAZJ4",
        "outputId": "4bef8f92-4d34-4b28-e54b-a11a5d965ece"
      },
      "execution_count": null,
      "outputs": [
        {
          "output_type": "execute_result",
          "data": {
            "text/plain": [
              "array([-8,  0,  1,  2,  3,  4,  5,  6,  7,  8,  9, 12, 21, 35, 45, 56])"
            ]
          },
          "metadata": {},
          "execution_count": 22
        }
      ]
    },
    {
      "cell_type": "code",
      "source": [
        "len(vvec)"
      ],
      "metadata": {
        "colab": {
          "base_uri": "https://localhost:8080/"
        },
        "id": "Yegy7OBJAsOq",
        "outputId": "c010b21e-5191-448d-c07d-03b85e0852d4"
      },
      "execution_count": null,
      "outputs": [
        {
          "output_type": "execute_result",
          "data": {
            "text/plain": [
              "33"
            ]
          },
          "metadata": {},
          "execution_count": 23
        }
      ]
    },
    {
      "cell_type": "code",
      "source": [
        "vec_indx=np.unique(vvec,return_index=True)\n",
        "vec_indx"
      ],
      "metadata": {
        "colab": {
          "base_uri": "https://localhost:8080/"
        },
        "id": "eNJJixUbA_VE",
        "outputId": "4bfb96dc-9620-40fb-f1d3-e98ca97be64f"
      },
      "execution_count": null,
      "outputs": [
        {
          "output_type": "execute_result",
          "data": {
            "text/plain": [
              "(array([-8,  0,  1,  2,  3,  4,  5,  6,  7,  8,  9, 12, 21, 35, 45, 56]),\n",
              " array([ 7, 13,  0,  1,  2,  6,  5,  9, 29, 18,  8, 11, 12, 21, 22, 20]))"
            ]
          },
          "metadata": {},
          "execution_count": 24
        }
      ]
    },
    {
      "cell_type": "code",
      "source": [
        "vec_freq=np.unique(vvec,return_counts=True)\n",
        "vec_freq[1]"
      ],
      "metadata": {
        "colab": {
          "base_uri": "https://localhost:8080/"
        },
        "id": "k3xaTFJGBro3",
        "outputId": "5735eaf2-6a63-480a-900b-7e7b5f3f65e4"
      },
      "execution_count": null,
      "outputs": [
        {
          "output_type": "execute_result",
          "data": {
            "text/plain": [
              "array([1, 3, 4, 3, 3, 2, 3, 3, 1, 2, 2, 2, 1, 1, 1, 1])"
            ]
          },
          "metadata": {},
          "execution_count": 25
        }
      ]
    },
    {
      "cell_type": "code",
      "source": [
        "m2d = np.array([[1, 2, 3, 4], [5, 6, 7, 8], [9, 10, 11, 12], [1, 2, 3, 4]])\n",
        "m2d"
      ],
      "metadata": {
        "colab": {
          "base_uri": "https://localhost:8080/"
        },
        "id": "Nl5N5OB-CeR9",
        "outputId": "926cd5bc-1b6b-447f-99fd-ae2c77fc7c47"
      },
      "execution_count": null,
      "outputs": [
        {
          "output_type": "execute_result",
          "data": {
            "text/plain": [
              "array([[ 1,  2,  3,  4],\n",
              "       [ 5,  6,  7,  8],\n",
              "       [ 9, 10, 11, 12],\n",
              "       [ 1,  2,  3,  4]])"
            ]
          },
          "metadata": {},
          "execution_count": 26
        }
      ]
    },
    {
      "cell_type": "code",
      "source": [
        "m2d_car=np.unique(m2d, return_index=True, return_counts=True)\n",
        "m2d_car"
      ],
      "metadata": {
        "colab": {
          "base_uri": "https://localhost:8080/"
        },
        "id": "gSdGSoglCh7_",
        "outputId": "f5a98e5e-b8e8-4530-f4af-6926ad3cb995"
      },
      "execution_count": null,
      "outputs": [
        {
          "output_type": "execute_result",
          "data": {
            "text/plain": [
              "(array([ 1,  2,  3,  4,  5,  6,  7,  8,  9, 10, 11, 12]),\n",
              " array([ 0,  1,  2,  3,  4,  5,  6,  7,  8,  9, 10, 11]),\n",
              " array([2, 2, 2, 2, 1, 1, 1, 1, 1, 1, 1, 1]))"
            ]
          },
          "metadata": {},
          "execution_count": 27
        }
      ]
    },
    {
      "cell_type": "code",
      "source": [
        "vecr=np.flip(vec)\n",
        "vecr"
      ],
      "metadata": {
        "colab": {
          "base_uri": "https://localhost:8080/"
        },
        "id": "6KxrFLJAC5k_",
        "outputId": "2253fb31-897a-46da-8f68-c806b106b50f"
      },
      "execution_count": null,
      "outputs": [
        {
          "output_type": "execute_result",
          "data": {
            "text/plain": [
              "array([56, 45, 35, 21, 12,  9,  8,  7,  6,  5,  4,  3,  2,  1,  0, -8])"
            ]
          },
          "metadata": {},
          "execution_count": 28
        }
      ]
    },
    {
      "cell_type": "code",
      "source": [
        "mat2d = np.array([[1, 2, 3, 4], [5, 6, 7, 8], [9, 10, 11, 12]])\n",
        "mat2d"
      ],
      "metadata": {
        "colab": {
          "base_uri": "https://localhost:8080/"
        },
        "id": "ZGcLun-IDOrZ",
        "outputId": "690973a9-f477-4f32-fdee-a1a41595b7d8"
      },
      "execution_count": null,
      "outputs": [
        {
          "output_type": "execute_result",
          "data": {
            "text/plain": [
              "array([[ 1,  2,  3,  4],\n",
              "       [ 5,  6,  7,  8],\n",
              "       [ 9, 10, 11, 12]])"
            ]
          },
          "metadata": {},
          "execution_count": 29
        }
      ]
    },
    {
      "cell_type": "code",
      "source": [
        "mat2d[2]=np.flip(mat2d[2]) # para linha\n",
        "mat2d"
      ],
      "metadata": {
        "colab": {
          "base_uri": "https://localhost:8080/"
        },
        "id": "hyp850DXDSw3",
        "outputId": "15fe5de8-c916-460c-de2f-766b42eb7f32"
      },
      "execution_count": null,
      "outputs": [
        {
          "output_type": "execute_result",
          "data": {
            "text/plain": [
              "array([[ 1,  2,  3,  4],\n",
              "       [ 5,  6,  7,  8],\n",
              "       [12, 11, 10,  9]])"
            ]
          },
          "metadata": {},
          "execution_count": 30
        }
      ]
    },
    {
      "cell_type": "code",
      "source": [
        "mat2d[:,2]=np.flip(mat2d[:,2]) # para coluna\n",
        "mat2d"
      ],
      "metadata": {
        "colab": {
          "base_uri": "https://localhost:8080/"
        },
        "id": "JU6rx4uRD0AZ",
        "outputId": "340214df-adc0-419d-a1eb-e7566972f74d"
      },
      "execution_count": null,
      "outputs": [
        {
          "output_type": "execute_result",
          "data": {
            "text/plain": [
              "array([[ 1,  2, 10,  4],\n",
              "       [ 5,  6,  7,  8],\n",
              "       [12, 11,  3,  9]])"
            ]
          },
          "metadata": {},
          "execution_count": 31
        }
      ]
    },
    {
      "cell_type": "markdown",
      "source": [
        "## **Produto escalar**"
      ],
      "metadata": {
        "id": "mRTF8ZbxJbfo"
      }
    },
    {
      "cell_type": "code",
      "source": [
        "v1d=mat2d[0]\n",
        "v2d=mat2d[2]\n",
        "\n",
        "print(v1d,v2d)"
      ],
      "metadata": {
        "id": "dv5jbdtlEsD7"
      },
      "execution_count": null,
      "outputs": []
    },
    {
      "cell_type": "code",
      "source": [
        "vd = np.vdot(v1d,v2d) #multiplica elemento a elemento\n",
        "vd"
      ],
      "metadata": {
        "id": "GSuANPujE34J"
      },
      "execution_count": null,
      "outputs": []
    },
    {
      "cell_type": "code",
      "source": [
        "a = np.matrix([[1, 0], [0, 1]])\n",
        "b = np.array([[4, 1], [2, 2]])\n",
        "\n",
        "cd=np.dot(a,b) # multiplicação de matriz\n",
        "cd"
      ],
      "metadata": {
        "colab": {
          "base_uri": "https://localhost:8080/"
        },
        "id": "W-zfUgGwFWgp",
        "outputId": "756860cc-4b9d-4af4-8865-24f1b42df1e5"
      },
      "execution_count": null,
      "outputs": [
        {
          "output_type": "execute_result",
          "data": {
            "text/plain": [
              "matrix([[4, 1],\n",
              "        [2, 2]])"
            ]
          },
          "metadata": {},
          "execution_count": 33
        }
      ]
    },
    {
      "cell_type": "code",
      "source": [
        "pmat = np.matmul(a,b)\n",
        "pmat"
      ],
      "metadata": {
        "id": "4cP6vEDcG6vQ"
      },
      "execution_count": null,
      "outputs": []
    },
    {
      "cell_type": "code",
      "source": [
        "modv = np.vdot(v1d,v1d)\n",
        "modv"
      ],
      "metadata": {
        "id": "AHuSJh83HivP"
      },
      "execution_count": null,
      "outputs": []
    },
    {
      "cell_type": "markdown",
      "source": [
        "### **Distância**\n",
        "\n",
        "![image.png](data:image/png;base64,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)\n",
        "\n",
        "$$A=|\\vec{A}|=\\sqrt{\\vec{A}\\cdot \\vec{A}}=\\sqrt{a_1^2+a_2^2+\\cdots+a_n^2}$$"
      ],
      "metadata": {
        "id": "FjiXUsFtJl5C"
      }
    },
    {
      "cell_type": "code",
      "source": [
        "dist=np.sqrt(modv)\n",
        "dist"
      ],
      "metadata": {
        "id": "UwyyxwzGJzQM"
      },
      "execution_count": null,
      "outputs": []
    },
    {
      "cell_type": "code",
      "source": [
        "from sympy import *\n",
        "\n",
        "Matrix([v1d]).norm()"
      ],
      "metadata": {
        "id": "cUxx2YA4gGrI"
      },
      "execution_count": null,
      "outputs": []
    },
    {
      "cell_type": "markdown",
      "source": [
        "# **Álgebra Linear**"
      ],
      "metadata": {
        "id": "9EPgIhI1Jm4X"
      }
    },
    {
      "cell_type": "code",
      "source": [
        "display(cd,cd.T)"
      ],
      "metadata": {
        "colab": {
          "base_uri": "https://localhost:8080/",
          "height": 86
        },
        "id": "FWcdQjUEKmdn",
        "outputId": "e5d20723-eff1-4312-b422-54c494df6d70"
      },
      "execution_count": null,
      "outputs": [
        {
          "output_type": "display_data",
          "data": {
            "text/plain": [
              "matrix([[4, 1],\n",
              "        [2, 2]])"
            ]
          },
          "metadata": {}
        },
        {
          "output_type": "display_data",
          "data": {
            "text/plain": [
              "matrix([[4, 2],\n",
              "        [1, 2]])"
            ]
          },
          "metadata": {}
        }
      ]
    },
    {
      "cell_type": "markdown",
      "source": [
        "## **Inversa, Multiplicação e Transposta**"
      ],
      "metadata": {
        "id": "JasHnCI1sD_8"
      }
    },
    {
      "cell_type": "code",
      "source": [
        "cdi=np.linalg.inv(cd.T)\n",
        "cdi"
      ],
      "metadata": {
        "id": "eqes6QuHLFQA"
      },
      "execution_count": null,
      "outputs": []
    },
    {
      "cell_type": "code",
      "source": [
        "np.matmul(cdi,cd.T)"
      ],
      "metadata": {
        "id": "_X2yLwjQLdCd"
      },
      "execution_count": null,
      "outputs": []
    },
    {
      "cell_type": "code",
      "source": [
        "cdi@cd.T"
      ],
      "metadata": {
        "id": "pWwcdEkDnplo"
      },
      "execution_count": null,
      "outputs": []
    },
    {
      "cell_type": "markdown",
      "source": [
        "## **Eigenvalues & Eigenvectors**"
      ],
      "metadata": {
        "id": "5_gp_DWcsVUc"
      }
    },
    {
      "cell_type": "code",
      "source": [
        "Mm=np.matrix(\n",
        "    [\n",
        "        [3,-1,1],\n",
        "     [-1,5,-1],\n",
        "     [1,-1,3]\n",
        "    ]\n",
        ")\n",
        "Mm"
      ],
      "metadata": {
        "id": "QZzWemm2LkPG"
      },
      "execution_count": null,
      "outputs": []
    },
    {
      "cell_type": "code",
      "source": [
        "sol =np.linalg.eig(Mm)\n",
        "print('autovetores normalizados')\n",
        "display(sol[0],sol[1])"
      ],
      "metadata": {
        "id": "qklwNjwCMaGs"
      },
      "execution_count": null,
      "outputs": []
    },
    {
      "cell_type": "markdown",
      "source": [
        "## **Determinante e Traço**"
      ],
      "metadata": {
        "id": "D74Gb81Lsbad"
      }
    },
    {
      "cell_type": "code",
      "source": [
        "dMm=np.linalg.det(Mm)\n",
        "dMm"
      ],
      "metadata": {
        "id": "20TD5PYfMYYG"
      },
      "execution_count": null,
      "outputs": []
    },
    {
      "cell_type": "code",
      "source": [
        "Mmtra = np.trace(sol[1])\n",
        "Mmtra"
      ],
      "metadata": {
        "id": "aaxK2i_o5Q69"
      },
      "execution_count": null,
      "outputs": []
    },
    {
      "cell_type": "markdown",
      "source": [
        "## **Sistemas de Equações**\n",
        "\n",
        "\n",
        "\n",
        "\\begin{array}{lc}\n",
        "   x+y+z&= 6 \\\\\n",
        "   x+2y+2z& = 9 \\\\\n",
        "   2x+y+3z& = 11\n",
        "\\end{array}\n",
        "\n",
        "Pode ser escrito como : $$\\hat{A}X=U$$\n",
        "\n",
        "$$\\displaystyle \\left( \\begin{array}{c} 1 & 1 & 1 \\\\\n",
        "   1 & 2 & 2 \\\\\n",
        "   2 & 1 & 3 \\end{array} \\right)\\left( \\begin{array}{c} x \\\\\n",
        "   y \\\\\n",
        "   z \\end{array} \\right) = \\left( \\begin{array}{c} 6 \\\\\n",
        "   9 \\\\\n",
        "   11 \\end{array} \\right) $$\n",
        "\n",
        "Solução do sistema: $$X=\\hat{A}^{-1}U$$"
      ],
      "metadata": {
        "id": "P6f6DdZ0cBNc"
      }
    },
    {
      "cell_type": "code",
      "source": [
        "A=np.array(\n",
        "    [\n",
        "        [1,1,1],\n",
        "     [1,2,2],\n",
        "     [2,1,3]\n",
        "    ]\n",
        ")\n",
        "A"
      ],
      "metadata": {
        "id": "ZfnbZWoCcD6n"
      },
      "execution_count": null,
      "outputs": []
    },
    {
      "cell_type": "code",
      "source": [
        "U=np.array(\n",
        "    [[6],[9],[11]]\n",
        ")\n",
        "U"
      ],
      "metadata": {
        "id": "gpwJnz9LdOLO"
      },
      "execution_count": null,
      "outputs": []
    },
    {
      "cell_type": "code",
      "source": [
        "X=np.linalg.inv(A) @ U\n",
        "X"
      ],
      "metadata": {
        "id": "zGN41tvYdRMf"
      },
      "execution_count": null,
      "outputs": []
    },
    {
      "cell_type": "markdown",
      "source": [
        "## **List comprehensions**"
      ],
      "metadata": {
        "id": "Rc2kOWnYsCbb"
      }
    },
    {
      "cell_type": "code",
      "source": [
        "lt=[ x**2 for x in range(-5,5) ]\n",
        "lt"
      ],
      "metadata": {
        "id": "Rr3Nds9gpARs"
      },
      "execution_count": null,
      "outputs": []
    },
    {
      "cell_type": "code",
      "source": [
        "lt1 = [u for u in lt if u > 9]\n",
        "lt1"
      ],
      "metadata": {
        "id": "m1S9TDxRpQew"
      },
      "execution_count": null,
      "outputs": []
    },
    {
      "cell_type": "code",
      "source": [],
      "metadata": {
        "id": "Sv_ieLqBXEAo"
      },
      "execution_count": null,
      "outputs": []
    },
    {
      "cell_type": "code",
      "source": [],
      "metadata": {
        "id": "IIk_-6m9ley8"
      },
      "execution_count": null,
      "outputs": []
    },
    {
      "cell_type": "markdown",
      "source": [
        "# **Introducção à Estatística**"
      ],
      "metadata": {
        "id": "CReGcpfw1hos"
      }
    },
    {
      "cell_type": "code",
      "execution_count": null,
      "metadata": {
        "id": "XKf0Ql3Op_RO"
      },
      "outputs": [],
      "source": [
        "import numpy as np\n",
        "import matplotlib.pyplot as plt\n",
        "import scipy as sc\n",
        "from scipy import stats as st\n"
      ]
    },
    {
      "cell_type": "markdown",
      "source": [
        "## **Média, Mediana e Moda**"
      ],
      "metadata": {
        "id": "sxB4nPyEA8_U"
      }
    },
    {
      "cell_type": "code",
      "source": [
        "dados = np.random.randint(0,22,25)\n",
        "dados"
      ],
      "metadata": {
        "colab": {
          "base_uri": "https://localhost:8080/"
        },
        "id": "6vb5JAMb41Mx",
        "outputId": "de9b1c9a-60ce-479a-99a9-ead83996a753"
      },
      "execution_count": null,
      "outputs": [
        {
          "output_type": "execute_result",
          "data": {
            "text/plain": [
              "array([11, 16,  5, 20,  5, 11,  5,  8, 12, 18, 14, 16,  0,  1, 16,  6, 21,\n",
              "        4,  1,  1,  6, 12,  7, 11,  7])"
            ]
          },
          "metadata": {},
          "execution_count": 2
        }
      ]
    },
    {
      "cell_type": "code",
      "source": [
        "plt.plot(dados,'ro')"
      ],
      "metadata": {
        "colab": {
          "base_uri": "https://localhost:8080/",
          "height": 282
        },
        "id": "HifcQ93N9UI-",
        "outputId": "7196ed59-3ce7-4802-cfcd-63b3e38514c6"
      },
      "execution_count": null,
      "outputs": [
        {
          "output_type": "execute_result",
          "data": {
            "text/plain": [
              "[<matplotlib.lines.Line2D at 0x7f1188e3bfd0>]"
            ]
          },
          "metadata": {},
          "execution_count": 3
        },
        {
          "output_type": "display_data",
          "data": {
            "text/plain": [
              "<Figure size 432x288 with 1 Axes>"
            ],
            "image/png": "[encoded data removed]"
          },
          "metadata": {
            "needs_background": "light"
          }
        }
      ]
    },
    {
      "cell_type": "code",
      "source": [],
      "metadata": {
        "id": "ra1PivPElqPq"
      },
      "execution_count": null,
      "outputs": []
    },
    {
      "cell_type": "code",
      "source": [
        "media_dados = np.mean(dados)\n",
        "media_dados"
      ],
      "metadata": {
        "colab": {
          "base_uri": "https://localhost:8080/"
        },
        "id": "mK9nICbn1nfx",
        "outputId": "afbca380-77b9-44bf-d412-31ee9bc387ef"
      },
      "execution_count": null,
      "outputs": [
        {
          "output_type": "execute_result",
          "data": {
            "text/plain": [
              "9.36"
            ]
          },
          "metadata": {},
          "execution_count": 4
        }
      ]
    },
    {
      "cell_type": "code",
      "source": [
        "# valor que está no meio dos dados\n",
        "mediana_dados = np.median(dados)\n",
        "mediana_dados"
      ],
      "metadata": {
        "colab": {
          "base_uri": "https://localhost:8080/"
        },
        "id": "wRNa1TaeAntK",
        "outputId": "5bd71b02-1317-4c87-dd06-56a7b9cbd8e5"
      },
      "execution_count": null,
      "outputs": [
        {
          "output_type": "execute_result",
          "data": {
            "text/plain": [
              "8.0"
            ]
          },
          "metadata": {},
          "execution_count": 5
        }
      ]
    },
    {
      "cell_type": "markdown",
      "source": [
        "## **Medidas de Dispersão**"
      ],
      "metadata": {
        "id": "yEJ9d9vWO5ZN"
      }
    },
    {
      "cell_type": "markdown",
      "source": [
        "### **Quartis e Percentil**"
      ],
      "metadata": {
        "id": "W6tH2EJicfc5"
      }
    },
    {
      "cell_type": "code",
      "source": [
        "# indica valores <=  aos quartis (divisão dos dados em 4 partes)\n",
        "quartis_dados = np.quantile(dados,[0.25, 0.5]) # de 0 a1\n",
        "quartis_dados"
      ],
      "metadata": {
        "colab": {
          "base_uri": "https://localhost:8080/"
        },
        "id": "q9FkTQk_MbmN",
        "outputId": "5d045119-49b2-4fc1-93de-42c66c3a1741"
      },
      "execution_count": null,
      "outputs": [
        {
          "output_type": "execute_result",
          "data": {
            "text/plain": [
              "array([5., 8.])"
            ]
          },
          "metadata": {},
          "execution_count": 9
        }
      ]
    },
    {
      "cell_type": "code",
      "source": [
        "percentis_dados = np.percentile(dados,[25, 50, 75]) #de 0 a 100\n",
        "percentis_dados"
      ],
      "metadata": {
        "colab": {
          "base_uri": "https://localhost:8080/"
        },
        "id": "OqzBpmcaQvK6",
        "outputId": "8fbfc1c8-6c5a-41b3-d3ba-a3fa00f33b6c"
      },
      "execution_count": null,
      "outputs": [
        {
          "output_type": "execute_result",
          "data": {
            "text/plain": [
              "array([ 5.,  8., 14.])"
            ]
          },
          "metadata": {},
          "execution_count": 10
        }
      ]
    },
    {
      "cell_type": "markdown",
      "source": [
        "### **Desvio padrão, Variança e Amplitude**"
      ],
      "metadata": {
        "id": "o1AhsouNRN97"
      }
    },
    {
      "cell_type": "markdown",
      "source": [
        "$$\\sigma=\\sqrt{\\frac{\\sum(x_i-\\mu)^2}{N}}$$\n",
        "\n",
        "* $\\sigma$ = desvio padrão da população\n",
        "\n",
        "* $N$ = tamanho da população\n",
        "* $x_i$ = cada valor da população\n",
        "* $\\mu$ = média da população\n",
        "* $\\sigma^2$ = variança"
      ],
      "metadata": {
        "id": "ovGp0J31SBAw"
      }
    },
    {
      "cell_type": "code",
      "source": [
        "desvio_dados = np.std(dados)\n",
        "desvio_dados"
      ],
      "metadata": {
        "colab": {
          "base_uri": "https://localhost:8080/"
        },
        "id": "uUZDQHSxRQ5Q",
        "outputId": "049dc920-fa27-4d23-c2c9-4b011b63e3ca"
      },
      "execution_count": null,
      "outputs": [
        {
          "output_type": "execute_result",
          "data": {
            "text/plain": [
              "6.058910793203676"
            ]
          },
          "metadata": {},
          "execution_count": 11
        }
      ]
    },
    {
      "cell_type": "code",
      "source": [
        "varian_dados = np.var(dados)\n",
        "varian_dados"
      ],
      "metadata": {
        "colab": {
          "base_uri": "https://localhost:8080/"
        },
        "id": "lieqm9WBRrAl",
        "outputId": "e1100565-d37f-40ea-80a3-6248f21306da"
      },
      "execution_count": null,
      "outputs": [
        {
          "output_type": "execute_result",
          "data": {
            "text/plain": [
              "36.7104"
            ]
          },
          "metadata": {},
          "execution_count": 12
        }
      ]
    },
    {
      "cell_type": "markdown",
      "source": [
        "## **Gráficos**"
      ],
      "metadata": {
        "id": "EIwgjsGEgvqj"
      }
    },
    {
      "cell_type": "code",
      "source": [
        "dados_order=sorted(dados)\n",
        "\n",
        "plt.boxplot(dados_order,vert=False,autorange=True)\n",
        "plt.grid()\n",
        "\n",
        "plt.show()"
      ],
      "metadata": {
        "colab": {
          "base_uri": "https://localhost:8080/",
          "height": 265
        },
        "id": "4V0hqmOQbQcQ",
        "outputId": "4b86a433-0ec8-480f-cac3-36d83110a68d"
      },
      "execution_count": null,
      "outputs": [
        {
          "output_type": "display_data",
          "data": {
            "text/plain": [
              "<Figure size 432x288 with 1 Axes>"
            ],
            "image/png": "[encoded data removed]"
          },
          "metadata": {
            "needs_background": "light"
          }
        }
      ]
    },
    {
      "cell_type": "code",
      "source": [
        "plt.hist(dados_order,bins=20)"
      ],
      "metadata": {
        "colab": {
          "base_uri": "https://localhost:8080/",
          "height": 386
        },
        "id": "fIxXV2N7b8Zj",
        "outputId": "de5df66c-622c-41e4-f6a8-c25752457302"
      },
      "execution_count": null,
      "outputs": [
        {
          "output_type": "execute_result",
          "data": {
            "text/plain": [
              "(array([4., 0., 0., 1., 3., 2., 2., 1., 0., 0., 3., 2., 0., 1., 0., 3., 0.,\n",
              "        1., 0., 2.]),\n",
              " array([ 0.  ,  1.05,  2.1 ,  3.15,  4.2 ,  5.25,  6.3 ,  7.35,  8.4 ,\n",
              "         9.45, 10.5 , 11.55, 12.6 , 13.65, 14.7 , 15.75, 16.8 , 17.85,\n",
              "        18.9 , 19.95, 21.  ]),\n",
              " <a list of 20 Patch objects>)"
            ]
          },
          "metadata": {},
          "execution_count": 15
        },
        {
          "output_type": "display_data",
          "data": {
            "text/plain": [
              "<Figure size 432x288 with 1 Axes>"
            ],
            "image/png": "[encoded data removed]"
          },
          "metadata": {
            "needs_background": "light"
          }
        }
      ]
    }
  ]
}