{
  "nbformat": 4,
  "nbformat_minor": 0,
  "metadata": {
    "colab": {
      "provenance": [],
      "authorship_tag": "ABX9TyOp8uh7mRhRwVv770GF6kYH",
      "include_colab_link": true
    },
    "kernelspec": {
      "name": "python3",
      "display_name": "Python 3"
    },
    "language_info": {
      "name": "python"
    }
  },
  "cells": [
    {
      "cell_type": "markdown",
      "metadata": {
        "id": "view-in-github",
        "colab_type": "text"
      },
      "source": [
        "<a href=\"https://colab.research.google.com/github/LuisAL79/Mincursos-e-Modulos/blob/main/Modulo_II_Aula01.ipynb\" target=\"_parent\"><img src=\"https://colab.research.google.com/assets/colab-badge.svg\" alt=\"Open In Colab\"/></a>"
      ]
    },
    {
      "cell_type": "markdown",
      "source": [
        "**Aqui** um texo!\n"
      ],
      "metadata": {
        "id": "lYFJgo9Kqf2E"
      }
    },
    {
      "cell_type": "code",
      "execution_count": null,
      "metadata": {
        "colab": {
          "base_uri": "https://localhost:8080/"
        },
        "id": "nYC6qerzpSmk",
        "outputId": "b48e0505-e0f6-46cf-c6c9-0ba4897e9097"
      },
      "outputs": [
        {
          "output_type": "execute_result",
          "data": {
            "text/plain": [
              "46"
            ]
          },
          "metadata": {},
          "execution_count": 2
        }
      ],
      "source": [
        "# Operações Aritméticas\n",
        "\n",
        "20+26"
      ]
    },
    {
      "cell_type": "code",
      "source": [
        "-9-6"
      ],
      "metadata": {
        "colab": {
          "base_uri": "https://localhost:8080/"
        },
        "id": "NjdDv0VytGSr",
        "outputId": "a8d79cf0-d8e6-42be-c214-e10ee141dfe4"
      },
      "execution_count": null,
      "outputs": [
        {
          "output_type": "execute_result",
          "data": {
            "text/plain": [
              "-15"
            ]
          },
          "metadata": {},
          "execution_count": 3
        }
      ]
    },
    {
      "cell_type": "code",
      "source": [
        "3*89"
      ],
      "metadata": {
        "colab": {
          "base_uri": "https://localhost:8080/"
        },
        "id": "KJ_EvzamtPF6",
        "outputId": "626fb18b-a84f-4904-bd9f-f6508eb0d1fa"
      },
      "execution_count": null,
      "outputs": [
        {
          "output_type": "execute_result",
          "data": {
            "text/plain": [
              "267"
            ]
          },
          "metadata": {},
          "execution_count": 4
        }
      ]
    },
    {
      "cell_type": "code",
      "source": [
        "# Divisão\n",
        "56/13"
      ],
      "metadata": {
        "colab": {
          "base_uri": "https://localhost:8080/"
        },
        "id": "CSHvgwNutUDh",
        "outputId": "1e9c0a6e-73a8-4b3f-9ead-b546322c2728"
      },
      "execution_count": null,
      "outputs": [
        {
          "output_type": "execute_result",
          "data": {
            "text/plain": [
              "4.3076923076923075"
            ]
          },
          "metadata": {},
          "execution_count": 5
        }
      ]
    },
    {
      "cell_type": "code",
      "source": [
        "# Divisão inteira\n",
        "56 // 13"
      ],
      "metadata": {
        "colab": {
          "base_uri": "https://localhost:8080/"
        },
        "id": "WxpvS0TItbR3",
        "outputId": "49b2e72e-eae6-4a44-bc22-d1f59db92fd1"
      },
      "execution_count": null,
      "outputs": [
        {
          "output_type": "execute_result",
          "data": {
            "text/plain": [
              "4"
            ]
          },
          "metadata": {},
          "execution_count": 6
        }
      ]
    },
    {
      "cell_type": "code",
      "source": [
        "# Resto da divisão\n",
        "56 % 13"
      ],
      "metadata": {
        "colab": {
          "base_uri": "https://localhost:8080/"
        },
        "id": "1dMPDSQ9tqu-",
        "outputId": "446dfc57-bc8d-4b21-8119-647aa7bc3123"
      },
      "execution_count": null,
      "outputs": [
        {
          "output_type": "execute_result",
          "data": {
            "text/plain": [
              "4"
            ]
          },
          "metadata": {},
          "execution_count": 7
        }
      ]
    },
    {
      "cell_type": "code",
      "source": [
        "# texto...\n",
        "\n",
        "13*4+4"
      ],
      "metadata": {
        "colab": {
          "base_uri": "https://localhost:8080/"
        },
        "id": "uVzFEwDguDwK",
        "outputId": "afcb8160-8ef9-4513-a8c8-4e120b9b1db7"
      },
      "execution_count": null,
      "outputs": [
        {
          "output_type": "execute_result",
          "data": {
            "text/plain": [
              "56"
            ]
          },
          "metadata": {},
          "execution_count": 8
        }
      ]
    },
    {
      "cell_type": "code",
      "source": [
        "# Potência\n",
        "\n",
        "2.38**2"
      ],
      "metadata": {
        "colab": {
          "base_uri": "https://localhost:8080/"
        },
        "id": "0BEzpfUru0zh",
        "outputId": "1f2fcf95-65ff-43db-b276-437e7adb983c"
      },
      "execution_count": null,
      "outputs": [
        {
          "output_type": "execute_result",
          "data": {
            "text/plain": [
              "5.6644"
            ]
          },
          "metadata": {},
          "execution_count": 9
        }
      ]
    },
    {
      "cell_type": "code",
      "source": [
        "(38)**(0.5)+56"
      ],
      "metadata": {
        "colab": {
          "base_uri": "https://localhost:8080/"
        },
        "id": "FMtZRFtKvUQT",
        "outputId": "23ec3217-c05e-434c-b914-92d7c5588dfe"
      },
      "execution_count": null,
      "outputs": [
        {
          "output_type": "execute_result",
          "data": {
            "text/plain": [
              "62.164414002968975"
            ]
          },
          "metadata": {},
          "execution_count": 10
        }
      ]
    },
    {
      "cell_type": "code",
      "source": [
        "35**(-3)"
      ],
      "metadata": {
        "colab": {
          "base_uri": "https://localhost:8080/"
        },
        "id": "zRrJrFC5vrPo",
        "outputId": "cfbdae28-c6e3-4960-97df-509c24216d96"
      },
      "execution_count": null,
      "outputs": [
        {
          "output_type": "execute_result",
          "data": {
            "text/plain": [
              "2.3323615160349855e-05"
            ]
          },
          "metadata": {},
          "execution_count": 11
        }
      ]
    },
    {
      "cell_type": "markdown",
      "source": [
        "# **Inteiros, Reais, complexos**"
      ],
      "metadata": {
        "id": "CLJLdiGEwUMo"
      }
    },
    {
      "cell_type": "code",
      "source": [
        "int(5)"
      ],
      "metadata": {
        "colab": {
          "base_uri": "https://localhost:8080/"
        },
        "id": "5OuuEtFQwLd4",
        "outputId": "29de03c8-caa1-4042-a32d-006175813188"
      },
      "execution_count": null,
      "outputs": [
        {
          "output_type": "execute_result",
          "data": {
            "text/plain": [
              "5"
            ]
          },
          "metadata": {},
          "execution_count": 12
        }
      ]
    },
    {
      "cell_type": "code",
      "source": [
        "int(5.35)"
      ],
      "metadata": {
        "colab": {
          "base_uri": "https://localhost:8080/"
        },
        "id": "UHx6E2R-xHYl",
        "outputId": "7a665e46-57ad-472e-911c-2a9bf5c9c1e2"
      },
      "execution_count": null,
      "outputs": [
        {
          "output_type": "execute_result",
          "data": {
            "text/plain": [
              "5"
            ]
          },
          "metadata": {},
          "execution_count": 13
        }
      ]
    },
    {
      "cell_type": "code",
      "source": [
        "float(6)"
      ],
      "metadata": {
        "colab": {
          "base_uri": "https://localhost:8080/"
        },
        "id": "UIKcA9wxxQNV",
        "outputId": "fba9f219-730b-4384-daea-9697d894c06c"
      },
      "execution_count": null,
      "outputs": [
        {
          "output_type": "execute_result",
          "data": {
            "text/plain": [
              "6.0"
            ]
          },
          "metadata": {},
          "execution_count": 14
        }
      ]
    },
    {
      "cell_type": "code",
      "source": [
        "float(-5.356)"
      ],
      "metadata": {
        "colab": {
          "base_uri": "https://localhost:8080/"
        },
        "id": "GgfJuhVMxj4F",
        "outputId": "32ba3452-75cc-4927-8e51-a210726d3d76"
      },
      "execution_count": null,
      "outputs": [
        {
          "output_type": "execute_result",
          "data": {
            "text/plain": [
              "-5.356"
            ]
          },
          "metadata": {},
          "execution_count": 15
        }
      ]
    },
    {
      "cell_type": "code",
      "source": [
        "complex(9,-3)"
      ],
      "metadata": {
        "colab": {
          "base_uri": "https://localhost:8080/"
        },
        "id": "OvDe52Axxu3x",
        "outputId": "a7742c23-1c23-4aca-fb35-cc128f2c0089"
      },
      "execution_count": null,
      "outputs": [
        {
          "output_type": "execute_result",
          "data": {
            "text/plain": [
              "(9-3j)"
            ]
          },
          "metadata": {},
          "execution_count": 16
        }
      ]
    },
    {
      "cell_type": "code",
      "source": [
        "complex(9.5,0.13**2)"
      ],
      "metadata": {
        "colab": {
          "base_uri": "https://localhost:8080/"
        },
        "id": "RX6VWc_hyI0Z",
        "outputId": "dbff7109-e16b-452a-c4ed-f919102ac8f5"
      },
      "execution_count": null,
      "outputs": [
        {
          "output_type": "execute_result",
          "data": {
            "text/plain": [
              "(9.5+0.016900000000000002j)"
            ]
          },
          "metadata": {},
          "execution_count": 17
        }
      ]
    },
    {
      "cell_type": "code",
      "source": [
        "5*complex(0.1,-2)"
      ],
      "metadata": {
        "colab": {
          "base_uri": "https://localhost:8080/"
        },
        "id": "IZYagmVcyxQ-",
        "outputId": "4f6940aa-a451-4861-efce-6e01943d77f2"
      },
      "execution_count": null,
      "outputs": [
        {
          "output_type": "execute_result",
          "data": {
            "text/plain": [
              "(0.5-10j)"
            ]
          },
          "metadata": {},
          "execution_count": 18
        }
      ]
    },
    {
      "cell_type": "markdown",
      "source": [
        "## **Notação científica**"
      ],
      "metadata": {
        "id": "zt3NiaoBzMF5"
      }
    },
    {
      "cell_type": "code",
      "source": [
        "3*10**8"
      ],
      "metadata": {
        "colab": {
          "base_uri": "https://localhost:8080/"
        },
        "id": "S-uL-w3szK_a",
        "outputId": "7fc67118-9121-4289-89b4-c89f9c196c49"
      },
      "execution_count": null,
      "outputs": [
        {
          "output_type": "execute_result",
          "data": {
            "text/plain": [
              "300000000"
            ]
          },
          "metadata": {},
          "execution_count": 19
        }
      ]
    },
    {
      "cell_type": "code",
      "source": [
        "3.0e8"
      ],
      "metadata": {
        "colab": {
          "base_uri": "https://localhost:8080/"
        },
        "id": "6szq9c8_zxsd",
        "outputId": "5968ad10-509d-4ed7-8ca2-d70c8086aacd"
      },
      "execution_count": null,
      "outputs": [
        {
          "output_type": "execute_result",
          "data": {
            "text/plain": [
              "300000000.0"
            ]
          },
          "metadata": {},
          "execution_count": 20
        }
      ]
    },
    {
      "cell_type": "code",
      "source": [
        "-2.5E-9"
      ],
      "metadata": {
        "colab": {
          "base_uri": "https://localhost:8080/"
        },
        "id": "Gpu1zyW60E3R",
        "outputId": "a940f8d3-f149-4e99-b404-81037fe72cc1"
      },
      "execution_count": null,
      "outputs": [
        {
          "output_type": "execute_result",
          "data": {
            "text/plain": [
              "-2.5e-09"
            ]
          },
          "metadata": {},
          "execution_count": 21
        }
      ]
    },
    {
      "cell_type": "markdown",
      "source": [
        "## **Declaração de variáveis**"
      ],
      "metadata": {
        "id": "ErhkkfZx0v2N"
      }
    },
    {
      "cell_type": "code",
      "source": [
        "a = 5\n",
        "a"
      ],
      "metadata": {
        "colab": {
          "base_uri": "https://localhost:8080/"
        },
        "id": "OdXnr7eg01xR",
        "outputId": "a66c7aad-fac6-4e89-f67a-90bb080e9722"
      },
      "execution_count": null,
      "outputs": [
        {
          "output_type": "execute_result",
          "data": {
            "text/plain": [
              "5"
            ]
          },
          "metadata": {},
          "execution_count": 22
        }
      ]
    },
    {
      "cell_type": "code",
      "source": [
        "qalaknalkfnal = 58"
      ],
      "metadata": {
        "id": "CTuuiOnu1dlG"
      },
      "execution_count": null,
      "outputs": []
    },
    {
      "cell_type": "code",
      "source": [
        "qalaknalkfnal"
      ],
      "metadata": {
        "colab": {
          "base_uri": "https://localhost:8080/"
        },
        "id": "zEDWgkc91r3z",
        "outputId": "9460b8ba-318b-487a-a25d-00087d23bff0"
      },
      "execution_count": null,
      "outputs": [
        {
          "output_type": "execute_result",
          "data": {
            "text/plain": [
              "58"
            ]
          },
          "metadata": {},
          "execution_count": 24
        }
      ]
    },
    {
      "cell_type": "code",
      "source": [
        "var32 = 32\n",
        "var32"
      ],
      "metadata": {
        "colab": {
          "base_uri": "https://localhost:8080/"
        },
        "id": "X0dXEJhr1yt_",
        "outputId": "2b69a20f-d713-494b-e3e5-537a0fae6c4c"
      },
      "execution_count": null,
      "outputs": [
        {
          "output_type": "execute_result",
          "data": {
            "text/plain": [
              "32"
            ]
          },
          "metadata": {},
          "execution_count": 25
        }
      ]
    },
    {
      "cell_type": "code",
      "source": [
        "25var = 25"
      ],
      "metadata": {
        "colab": {
          "base_uri": "https://localhost:8080/",
          "height": 131
        },
        "id": "3fuI8Sgs15Ro",
        "outputId": "a72a49c3-40d0-4016-ca56-5f69dfe8b731"
      },
      "execution_count": null,
      "outputs": [
        {
          "output_type": "error",
          "ename": "SyntaxError",
          "evalue": "ignored",
          "traceback": [
            "\u001b[0;36m  File \u001b[0;32m\"<ipython-input-26-6d98e3c59281>\"\u001b[0;36m, line \u001b[0;32m1\u001b[0m\n\u001b[0;31m    25var = 25\u001b[0m\n\u001b[0m      ^\u001b[0m\n\u001b[0;31mSyntaxError\u001b[0m\u001b[0;31m:\u001b[0m invalid syntax\n"
          ]
        }
      ]
    },
    {
      "cell_type": "code",
      "source": [
        "l25var = 25"
      ],
      "metadata": {
        "id": "G1P64Zqg2JWl"
      },
      "execution_count": null,
      "outputs": []
    },
    {
      "cell_type": "code",
      "source": [
        "A = 5.36"
      ],
      "metadata": {
        "id": "JZgbNs9M2OvD"
      },
      "execution_count": null,
      "outputs": []
    },
    {
      "cell_type": "code",
      "source": [
        "A**2"
      ],
      "metadata": {
        "colab": {
          "base_uri": "https://localhost:8080/"
        },
        "id": "nLnWzn-z2gZ-",
        "outputId": "38a4713a-1c6f-4579-91db-44822e4ab158"
      },
      "execution_count": null,
      "outputs": [
        {
          "output_type": "execute_result",
          "data": {
            "text/plain": [
              "28.729600000000005"
            ]
          },
          "metadata": {},
          "execution_count": 29
        }
      ]
    },
    {
      "cell_type": "code",
      "source": [
        "A = A +1\n",
        "A"
      ],
      "metadata": {
        "colab": {
          "base_uri": "https://localhost:8080/"
        },
        "id": "KnQPmScs22u-",
        "outputId": "19425dfd-328f-4192-ebca-8192a478f013"
      },
      "execution_count": null,
      "outputs": [
        {
          "output_type": "execute_result",
          "data": {
            "text/plain": [
              "6.36"
            ]
          },
          "metadata": {},
          "execution_count": 30
        }
      ]
    },
    {
      "cell_type": "code",
      "source": [
        "texto1 = '2+59'\n",
        "texto1"
      ],
      "metadata": {
        "colab": {
          "base_uri": "https://localhost:8080/",
          "height": 36
        },
        "id": "-I6THsQk3nc9",
        "outputId": "193a3030-2e9b-4467-e720-5643ad6f5126"
      },
      "execution_count": null,
      "outputs": [
        {
          "output_type": "execute_result",
          "data": {
            "text/plain": [
              "'2+59'"
            ],
            "application/vnd.google.colaboratory.intrinsic+json": {
              "type": "string"
            }
          },
          "metadata": {},
          "execution_count": 31
        }
      ]
    },
    {
      "cell_type": "code",
      "source": [
        "tx2 = 'Texto longo aqui... '\n",
        "tx2"
      ],
      "metadata": {
        "colab": {
          "base_uri": "https://localhost:8080/",
          "height": 36
        },
        "id": "7rusMyAE4Drw",
        "outputId": "eaee980d-ae4a-498a-9c50-7dce05eab90d"
      },
      "execution_count": null,
      "outputs": [
        {
          "output_type": "execute_result",
          "data": {
            "text/plain": [
              "'Texto longo aqui... '"
            ],
            "application/vnd.google.colaboratory.intrinsic+json": {
              "type": "string"
            }
          },
          "metadata": {},
          "execution_count": 32
        }
      ]
    },
    {
      "cell_type": "code",
      "source": [
        "var0 = 25.56\n",
        "\n",
        "var0 < 0"
      ],
      "metadata": {
        "colab": {
          "base_uri": "https://localhost:8080/"
        },
        "id": "dPYkky0I4LtI",
        "outputId": "63469f3c-f9b0-4774-92e3-a23877c54b0a"
      },
      "execution_count": null,
      "outputs": [
        {
          "output_type": "execute_result",
          "data": {
            "text/plain": [
              "False"
            ]
          },
          "metadata": {},
          "execution_count": 33
        }
      ]
    },
    {
      "cell_type": "code",
      "source": [
        "var0 = 25.56\n",
        "\n",
        "var0 == 0"
      ],
      "metadata": {
        "colab": {
          "base_uri": "https://localhost:8080/"
        },
        "id": "IQgkNoAT41kT",
        "outputId": "b0828dad-f140-4ca6-8565-55e8adcbde02"
      },
      "execution_count": null,
      "outputs": [
        {
          "output_type": "execute_result",
          "data": {
            "text/plain": [
              "False"
            ]
          },
          "metadata": {},
          "execution_count": 34
        }
      ]
    },
    {
      "cell_type": "markdown",
      "source": [
        "## **Saída - Método format**"
      ],
      "metadata": {
        "id": "DWsb0iA-5Tjj"
      }
    },
    {
      "cell_type": "code",
      "source": [
        "m = 45 ; n = 0.5**(0.5)\n",
        "\n",
        "soma = m + n\n",
        "prod = m*n\n",
        "\n",
        "print(f'O resultado da soma de {m} e {n} é {soma}')\n",
        "print( )\n",
        "print(f'O resultado da soma de {m} e {n:.3} é {soma:.5}')"
      ],
      "metadata": {
        "colab": {
          "base_uri": "https://localhost:8080/"
        },
        "id": "CM7Kyafa5fEI",
        "outputId": "e4dc0d3e-e958-40f3-8171-f52444bf2e2d"
      },
      "execution_count": null,
      "outputs": [
        {
          "output_type": "stream",
          "name": "stdout",
          "text": [
            "O resultado da soma de 45 e 0.7071067811865476 é 45.707106781186546\n",
            "\n",
            "O resultado da soma de 45 e 0.707 é 45.707\n"
          ]
        }
      ]
    },
    {
      "cell_type": "markdown",
      "source": [
        "# **SYMPY**: Python library for symbolic mathematics\n",
        "\n",
        "----\n",
        "\n",
        "![image.png](data:image/png;base64,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)\n",
        "\n",
        "----\n",
        "\n",
        "https://docs.sympy.org/latest/tutorials/intro-tutorial/features.html"
      ],
      "metadata": {
        "id": "tznG75gWnAZM"
      }
    },
    {
      "cell_type": "markdown",
      "source": [
        "![image.png](data:image/png;base64,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)"
      ],
      "metadata": {
        "id": "pXXN9D9ena4i"
      }
    },
    {
      "cell_type": "code",
      "source": [
        "from sympy import *\n",
        "from sympy.interactive import printing\n",
        "printing.init_printing(use_latex=True)\n"
      ],
      "metadata": {
        "id": "hmzHbPydv8Nr"
      },
      "execution_count": null,
      "outputs": []
    },
    {
      "cell_type": "markdown",
      "source": [
        "# **Valores numéricos**\n",
        ".evalf()\n"
      ],
      "metadata": {
        "id": "ITIvH7WDxfjT"
      }
    },
    {
      "cell_type": "code",
      "source": [
        "var1= sqrt(5)\n",
        "var1"
      ],
      "metadata": {
        "colab": {
          "base_uri": "https://localhost:8080/",
          "height": 38
        },
        "id": "zMp6SsPtxvxz",
        "outputId": "93d0dbe9-9c9e-4b42-d10d-14d1235919a0"
      },
      "execution_count": null,
      "outputs": [
        {
          "output_type": "execute_result",
          "data": {
            "text/plain": [
              "√5"
            ],
            "text/latex": "$\\displaystyle \\sqrt{5}$"
          },
          "metadata": {},
          "execution_count": 37
        }
      ]
    },
    {
      "cell_type": "code",
      "source": [
        "var1.evalf()"
      ],
      "metadata": {
        "colab": {
          "base_uri": "https://localhost:8080/",
          "height": 37
        },
        "id": "KLUnKKlvyFLv",
        "outputId": "14d599db-d55e-4708-c1ee-311646706a7b"
      },
      "execution_count": null,
      "outputs": [
        {
          "output_type": "execute_result",
          "data": {
            "text/plain": [
              "2.23606797749979"
            ],
            "text/latex": "$\\displaystyle 2.23606797749979$"
          },
          "metadata": {},
          "execution_count": 38
        }
      ]
    },
    {
      "cell_type": "code",
      "source": [
        "var2=sin(30)\n",
        "var2.evalf()"
      ],
      "metadata": {
        "colab": {
          "base_uri": "https://localhost:8080/",
          "height": 37
        },
        "id": "RAi9XLMoyY8h",
        "outputId": "d65815a3-6a26-4c80-aca3-d2fc33087ff8"
      },
      "execution_count": null,
      "outputs": [
        {
          "output_type": "execute_result",
          "data": {
            "text/plain": [
              "-0.988031624092862"
            ],
            "text/latex": "$\\displaystyle -0.988031624092862$"
          },
          "metadata": {},
          "execution_count": 39
        }
      ]
    },
    {
      "cell_type": "code",
      "source": [
        "var3=sin(pi/6)\n",
        "var3.evalf()"
      ],
      "metadata": {
        "colab": {
          "base_uri": "https://localhost:8080/",
          "height": 37
        },
        "id": "ZUuUlnKxy0fb",
        "outputId": "55bcb207-700f-45a7-b727-721b8f35fafa"
      },
      "execution_count": null,
      "outputs": [
        {
          "output_type": "execute_result",
          "data": {
            "text/plain": [
              "0.500000000000000"
            ],
            "text/latex": "$\\displaystyle 0.5$"
          },
          "metadata": {},
          "execution_count": 40
        }
      ]
    },
    {
      "cell_type": "markdown",
      "source": [
        "# **DEfinição de Símbolos em Sympy**"
      ],
      "metadata": {
        "id": "DKXKw1yZzITD"
      }
    },
    {
      "cell_type": "code",
      "source": [
        "t = symbols('t')\n",
        "\n",
        "t"
      ],
      "metadata": {
        "colab": {
          "base_uri": "https://localhost:8080/",
          "height": 39
        },
        "id": "Je_uv6XezaRj",
        "outputId": "20f297aa-fd19-49d1-9c17-6add98ba991b"
      },
      "execution_count": null,
      "outputs": [
        {
          "output_type": "execute_result",
          "data": {
            "text/plain": [
              "t"
            ],
            "text/latex": "$\\displaystyle t$"
          },
          "metadata": {},
          "execution_count": 41
        }
      ]
    },
    {
      "cell_type": "code",
      "source": [
        "t+1"
      ],
      "metadata": {
        "colab": {
          "base_uri": "https://localhost:8080/",
          "height": 39
        },
        "id": "z3MJeSkCzqTt",
        "outputId": "4fb13899-8a8d-4412-92fa-d49f9a3bfbd0"
      },
      "execution_count": null,
      "outputs": [
        {
          "output_type": "execute_result",
          "data": {
            "text/plain": [
              "t + 1"
            ],
            "text/latex": "$\\displaystyle t + 1$"
          },
          "metadata": {},
          "execution_count": 42
        }
      ]
    },
    {
      "cell_type": "code",
      "source": [
        "sqrt(t+1)"
      ],
      "metadata": {
        "colab": {
          "base_uri": "https://localhost:8080/",
          "height": 37
        },
        "id": "5dR70DvHzvXJ",
        "outputId": "6a1e7101-27f5-4e22-978b-a3893f50c67a"
      },
      "execution_count": null,
      "outputs": [
        {
          "output_type": "execute_result",
          "data": {
            "text/plain": [
              "  _______\n",
              "╲╱ t + 1 "
            ],
            "text/latex": "$\\displaystyle \\sqrt{t + 1}$"
          },
          "metadata": {},
          "execution_count": 43
        }
      ]
    },
    {
      "cell_type": "code",
      "source": [
        "(t+1)**2"
      ],
      "metadata": {
        "colab": {
          "base_uri": "https://localhost:8080/",
          "height": 40
        },
        "id": "2j2bXK_Lz4Gc",
        "outputId": "320e19ad-03e0-41a1-f603-a95aab5674a0"
      },
      "execution_count": null,
      "outputs": [
        {
          "output_type": "execute_result",
          "data": {
            "text/plain": [
              "       2\n",
              "(t + 1) "
            ],
            "text/latex": "$\\displaystyle \\left(t + 1\\right)^{2}$"
          },
          "metadata": {},
          "execution_count": 44
        }
      ]
    },
    {
      "cell_type": "code",
      "source": [
        "(t+5)/t"
      ],
      "metadata": {
        "colab": {
          "base_uri": "https://localhost:8080/",
          "height": 51
        },
        "id": "s3osJLOE0BMf",
        "outputId": "ac24de2d-803b-4a31-93ee-339f450f2b40"
      },
      "execution_count": null,
      "outputs": [
        {
          "output_type": "execute_result",
          "data": {
            "text/plain": [
              "t + 5\n",
              "─────\n",
              "  t  "
            ],
            "text/latex": "$\\displaystyle \\frac{t + 5}{t}$"
          },
          "metadata": {},
          "execution_count": 45
        }
      ]
    },
    {
      "cell_type": "code",
      "source": [
        "sqrt(t**2)"
      ],
      "metadata": {
        "colab": {
          "base_uri": "https://localhost:8080/",
          "height": 39
        },
        "id": "QkkilPE90I72",
        "outputId": "255f9e2f-3d60-470f-8446-e9faf1070dc3"
      },
      "execution_count": null,
      "outputs": [
        {
          "output_type": "execute_result",
          "data": {
            "text/plain": [
              "   ____\n",
              "  ╱  2 \n",
              "╲╱  t  "
            ],
            "text/latex": "$\\displaystyle \\sqrt{t^{2}}$"
          },
          "metadata": {},
          "execution_count": 46
        }
      ]
    },
    {
      "cell_type": "markdown",
      "source": [
        "# **Números Reais**"
      ],
      "metadata": {
        "id": "_tusgbAT0f1z"
      }
    },
    {
      "cell_type": "code",
      "source": [
        "p = symbols('p', real=True)\n",
        "\n",
        "sqrt(p**2)"
      ],
      "metadata": {
        "colab": {
          "base_uri": "https://localhost:8080/",
          "height": 39
        },
        "id": "f7EikEps0j1X",
        "outputId": "43ec7854-6e3d-42c5-ed57-1365d1c4b30b"
      },
      "execution_count": null,
      "outputs": [
        {
          "output_type": "execute_result",
          "data": {
            "text/plain": [
              "│p│"
            ],
            "text/latex": "$\\displaystyle \\left|{p}\\right|$"
          },
          "metadata": {},
          "execution_count": 47
        }
      ]
    },
    {
      "cell_type": "code",
      "source": [
        "p = symbols('p', real=True, positive=True  )\n",
        "\n",
        "sqrt(p**2)"
      ],
      "metadata": {
        "colab": {
          "base_uri": "https://localhost:8080/",
          "height": 39
        },
        "id": "64Y3MzVo1SyT",
        "outputId": "eaf4042b-e816-4d66-d6a3-ba7d716dd84e"
      },
      "execution_count": null,
      "outputs": [
        {
          "output_type": "execute_result",
          "data": {
            "text/plain": [
              "p"
            ],
            "text/latex": "$\\displaystyle p$"
          },
          "metadata": {},
          "execution_count": 48
        }
      ]
    },
    {
      "cell_type": "code",
      "source": [
        "p = symbols('p', real=True, positive=False  )\n",
        "\n",
        "sqrt(p**2)"
      ],
      "metadata": {
        "colab": {
          "base_uri": "https://localhost:8080/",
          "height": 39
        },
        "id": "IfGoanZG1l9u",
        "outputId": "fd3b2c27-1e6c-4bb0-c147-186bf72b8fb8"
      },
      "execution_count": null,
      "outputs": [
        {
          "output_type": "execute_result",
          "data": {
            "text/plain": [
              "-p"
            ],
            "text/latex": "$\\displaystyle - p$"
          },
          "metadata": {},
          "execution_count": 49
        }
      ]
    },
    {
      "cell_type": "code",
      "source": [
        "# Substituição de varáveis simbólicas\n",
        "\n",
        "sqrt(p**2).subs(p,6)\n"
      ],
      "metadata": {
        "colab": {
          "base_uri": "https://localhost:8080/",
          "height": 37
        },
        "id": "RNiTn10I1wOG",
        "outputId": "ce9df86a-1199-4dbd-b2d8-eb40cf83bac0"
      },
      "execution_count": null,
      "outputs": [
        {
          "output_type": "execute_result",
          "data": {
            "text/plain": [
              "-6"
            ],
            "text/latex": "$\\displaystyle -6$"
          },
          "metadata": {},
          "execution_count": 50
        }
      ]
    },
    {
      "cell_type": "code",
      "source": [
        "sqrt(p**2).subs(p,25)"
      ],
      "metadata": {
        "colab": {
          "base_uri": "https://localhost:8080/",
          "height": 37
        },
        "id": "ma8KTGJn2swg",
        "outputId": "d82c1a7a-bde4-485f-a50e-b6f336cb1c2e"
      },
      "execution_count": null,
      "outputs": [
        {
          "output_type": "execute_result",
          "data": {
            "text/plain": [
              "-25"
            ],
            "text/latex": "$\\displaystyle -25$"
          },
          "metadata": {},
          "execution_count": 51
        }
      ]
    },
    {
      "cell_type": "code",
      "source": [
        "u , v = symbols('u v')\n",
        "\n",
        "ff = u**3 + 1/sqrt(v)\n",
        "ff"
      ],
      "metadata": {
        "colab": {
          "base_uri": "https://localhost:8080/",
          "height": 55
        },
        "id": "dxxe-gCu25OL",
        "outputId": "3c2dcb57-b973-4ea0-b1e2-036af4bde670"
      },
      "execution_count": null,
      "outputs": [
        {
          "output_type": "execute_result",
          "data": {
            "text/plain": [
              " 3   1 \n",
              "u  + ──\n",
              "     √v"
            ],
            "text/latex": "$\\displaystyle u^{3} + \\frac{1}{\\sqrt{v}}$"
          },
          "metadata": {},
          "execution_count": 52
        }
      ]
    },
    {
      "cell_type": "code",
      "source": [
        "ff=ff.subs( { u:5 , v:16 } )\n",
        "ff"
      ],
      "metadata": {
        "colab": {
          "base_uri": "https://localhost:8080/",
          "height": 51
        },
        "id": "-uBT6Zmq3VOv",
        "outputId": "39024cba-ebea-44de-dcb0-b877d436892c"
      },
      "execution_count": null,
      "outputs": [
        {
          "output_type": "execute_result",
          "data": {
            "text/plain": [
              "501/4"
            ],
            "text/latex": "$\\displaystyle \\frac{501}{4}$"
          },
          "metadata": {},
          "execution_count": 53
        }
      ]
    },
    {
      "cell_type": "code",
      "source": [
        "ff.evalf()"
      ],
      "metadata": {
        "colab": {
          "base_uri": "https://localhost:8080/",
          "height": 37
        },
        "id": "MGXu6F1d340S",
        "outputId": "637e80a8-7390-41b2-92ae-6117a211a112"
      },
      "execution_count": null,
      "outputs": [
        {
          "output_type": "execute_result",
          "data": {
            "text/plain": [
              "125.250000000000"
            ],
            "text/latex": "$\\displaystyle 125.25$"
          },
          "metadata": {},
          "execution_count": 54
        }
      ]
    },
    {
      "cell_type": "code",
      "source": [
        "gg = u**2+2/v\n",
        "gg = gg.subs( { v:8 } )\n",
        "gg"
      ],
      "metadata": {
        "colab": {
          "base_uri": "https://localhost:8080/",
          "height": 51
        },
        "id": "8nYMc1cb4Cos",
        "outputId": "9a9b58f2-3608-4d93-a5c4-930132be51b6"
      },
      "execution_count": null,
      "outputs": [
        {
          "output_type": "execute_result",
          "data": {
            "text/plain": [
              " 2   1\n",
              "u  + ─\n",
              "     4"
            ],
            "text/latex": "$\\displaystyle u^{2} + \\frac{1}{4}$"
          },
          "metadata": {},
          "execution_count": 55
        }
      ]
    },
    {
      "cell_type": "markdown",
      "source": [
        "## **Dicionários**\n",
        "\n",
        "{  key:value  }"
      ],
      "metadata": {
        "id": "jZp-9-0q4fEZ"
      }
    },
    {
      "cell_type": "code",
      "source": [
        "meudic = { 'segunda':5 , 'terça':30, 'sábado':'hoje' }\n",
        "meudic"
      ],
      "metadata": {
        "colab": {
          "base_uri": "https://localhost:8080/"
        },
        "id": "uRt58Xgc4cP_",
        "outputId": "6647dd73-af1c-436e-d96c-8f8be4157eac"
      },
      "execution_count": null,
      "outputs": [
        {
          "output_type": "execute_result",
          "data": {
            "text/plain": [
              "{'segunda': 5, 'terça': 30, 'sábado': 'hoje'}"
            ]
          },
          "metadata": {},
          "execution_count": 56
        }
      ]
    },
    {
      "cell_type": "code",
      "source": [
        "outrodic = dict( quadrado = '2**2', cubo='2**3', tesima='2**t' )\n",
        "outrodic"
      ],
      "metadata": {
        "colab": {
          "base_uri": "https://localhost:8080/"
        },
        "id": "abb3ArY65RFf",
        "outputId": "abc9d267-eb9e-4f1c-924b-9d1f185b4d9f"
      },
      "execution_count": null,
      "outputs": [
        {
          "output_type": "execute_result",
          "data": {
            "text/plain": [
              "{'quadrado': '2**2', 'cubo': '2**3', 'tesima': '2**t'}"
            ]
          },
          "metadata": {},
          "execution_count": 57
        }
      ]
    },
    {
      "cell_type": "code",
      "source": [
        "print('chaves da variável meudic:', meudic.keys() )"
      ],
      "metadata": {
        "colab": {
          "base_uri": "https://localhost:8080/"
        },
        "id": "aEwk1mS45qHP",
        "outputId": "dd3f06aa-717e-4e33-d2a1-479b26fa6c48"
      },
      "execution_count": null,
      "outputs": [
        {
          "output_type": "stream",
          "name": "stdout",
          "text": [
            "chaves da variável meudic: dict_keys(['segunda', 'terça', 'sábado'])\n"
          ]
        }
      ]
    },
    {
      "cell_type": "code",
      "source": [
        "print( 'os valores da minha variável meudic =>', meudic.values() )"
      ],
      "metadata": {
        "colab": {
          "base_uri": "https://localhost:8080/"
        },
        "id": "6eOdDpoI6Kpo",
        "outputId": "67ba2f3c-bc26-42f9-9829-6bcd2f5a7585"
      },
      "execution_count": null,
      "outputs": [
        {
          "output_type": "stream",
          "name": "stdout",
          "text": [
            "os valores da minha variável meudic => dict_values([5, 30, 'hoje'])\n"
          ]
        }
      ]
    },
    {
      "cell_type": "markdown",
      "source": [
        "# **Operações algébricas**"
      ],
      "metadata": {
        "id": "81cmLjm76j2k"
      }
    },
    {
      "cell_type": "code",
      "source": [
        "x , y = symbols('x y')\n",
        "\n",
        "n = symbols('n', real=True)\n",
        "\n",
        "exp1= x**x+2*x+2\n",
        "exp2= y**3-5*y+1/y\n",
        "\n",
        "display(exp1)\n",
        "display(exp2)"
      ],
      "metadata": {
        "colab": {
          "base_uri": "https://localhost:8080/",
          "height": 76
        },
        "id": "NP4rw9_L6d9i",
        "outputId": "304ce69a-70eb-4cb9-cf28-dacad1e99420"
      },
      "execution_count": null,
      "outputs": [
        {
          "output_type": "display_data",
          "data": {
            "text/plain": [
              "       x    \n",
              "2⋅x + x  + 2"
            ],
            "text/latex": "$\\displaystyle 2 x + x^{x} + 2$"
          },
          "metadata": {}
        },
        {
          "output_type": "display_data",
          "data": {
            "text/plain": [
              " 3         1\n",
              "y  - 5⋅y + ─\n",
              "           y"
            ],
            "text/latex": "$\\displaystyle y^{3} - 5 y + \\frac{1}{y}$"
          },
          "metadata": {}
        }
      ]
    },
    {
      "cell_type": "code",
      "source": [
        "soma = exp1+exp2\n",
        "soma"
      ],
      "metadata": {
        "colab": {
          "base_uri": "https://localhost:8080/",
          "height": 54
        },
        "id": "2Q81aL1W7YzA",
        "outputId": "b14c8618-7d9f-43c8-df53-684044d779c9"
      },
      "execution_count": null,
      "outputs": [
        {
          "output_type": "execute_result",
          "data": {
            "text/plain": [
              "       x    3             1\n",
              "2⋅x + x  + y  - 5⋅y + 2 + ─\n",
              "                          y"
            ],
            "text/latex": "$\\displaystyle 2 x + x^{x} + y^{3} - 5 y + 2 + \\frac{1}{y}$"
          },
          "metadata": {},
          "execution_count": 61
        }
      ]
    },
    {
      "cell_type": "code",
      "source": [
        "(soma**2).expand()"
      ],
      "metadata": {
        "colab": {
          "base_uri": "https://localhost:8080/",
          "height": 55
        },
        "id": "SZAHMjIu7lS2",
        "outputId": "27d32837-edf4-4d00-eeea-1b9bbcab6683"
      },
      "execution_count": null,
      "outputs": [
        {
          "output_type": "execute_result",
          "data": {
            "text/plain": [
              "                                                                              \n",
              "   2        x        3                  4⋅x    2⋅x      x  3       x        x \n",
              "4⋅x  + 4⋅x⋅x  + 4⋅x⋅y  - 20⋅x⋅y + 8⋅x + ─── + x    + 2⋅x ⋅y  - 10⋅x ⋅y + 4⋅x  \n",
              "                                         y                                    \n",
              "                                                                              \n",
              "\n",
              "     x                                                \n",
              "  2⋅x     6       4      3       2              4   1 \n",
              "+ ──── + y  - 10⋅y  + 4⋅y  + 27⋅y  - 20⋅y - 6 + ─ + ──\n",
              "   y                                            y    2\n",
              "                                                    y "
            ],
            "text/latex": "$\\displaystyle 4 x^{2} + 4 x x^{x} + 4 x y^{3} - 20 x y + 8 x + \\frac{4 x}{y} + x^{2 x} + 2 x^{x} y^{3} - 10 x^{x} y + 4 x^{x} + \\frac{2 x^{x}}{y} + y^{6} - 10 y^{4} + 4 y^{3} + 27 y^{2} - 20 y - 6 + \\frac{4}{y} + \\frac{1}{y^{2}}$"
          },
          "metadata": {},
          "execution_count": 62
        }
      ]
    },
    {
      "cell_type": "code",
      "source": [
        "fxy = sin(x)+4*y\n",
        "\n",
        "display(fxy)\n",
        "\n",
        "fxy = fxy.subs( { x:y/2} )\n",
        "fxy"
      ],
      "metadata": {
        "colab": {
          "base_uri": "https://localhost:8080/",
          "height": 70
        },
        "id": "igkJ6CCB8B8H",
        "outputId": "f9e82bd0-6ca1-42d9-a2eb-5c1f9a9c4f5c"
      },
      "execution_count": null,
      "outputs": [
        {
          "output_type": "display_data",
          "data": {
            "text/plain": [
              "4⋅y + sin(x)"
            ],
            "text/latex": "$\\displaystyle 4 y + \\sin{\\left(x \\right)}$"
          },
          "metadata": {}
        },
        {
          "output_type": "execute_result",
          "data": {
            "text/plain": [
              "         ⎛y⎞\n",
              "4⋅y + sin⎜─⎟\n",
              "         ⎝2⎠"
            ],
            "text/latex": "$\\displaystyle 4 y + \\sin{\\left(\\frac{y}{2} \\right)}$"
          },
          "metadata": {},
          "execution_count": 63
        }
      ]
    },
    {
      "cell_type": "markdown",
      "source": [
        "## **lambdify**"
      ],
      "metadata": {
        "id": "6B5hNB-T89SO"
      }
    },
    {
      "cell_type": "code",
      "source": [
        "w = symbols('w')\n",
        "\n",
        "fexp = 3-6*w+w**2\n",
        "\n",
        "display(fexp)\n",
        "\n",
        "fval = lambdify( w, fexp )\n",
        "\n",
        "fval( 0 )"
      ],
      "metadata": {
        "colab": {
          "base_uri": "https://localhost:8080/",
          "height": 59
        },
        "id": "l-LnXpES8olq",
        "outputId": "9adea66c-e8d3-4f64-c431-fed7f8ccd6b6"
      },
      "execution_count": null,
      "outputs": [
        {
          "output_type": "display_data",
          "data": {
            "text/plain": [
              " 2          \n",
              "w  - 6⋅w + 3"
            ],
            "text/latex": "$\\displaystyle w^{2} - 6 w + 3$"
          },
          "metadata": {}
        },
        {
          "output_type": "execute_result",
          "data": {
            "text/plain": [
              "3"
            ],
            "text/latex": "$\\displaystyle 3$"
          },
          "metadata": {},
          "execution_count": 64
        }
      ]
    },
    {
      "cell_type": "code",
      "source": [
        "fval(8)"
      ],
      "metadata": {
        "colab": {
          "base_uri": "https://localhost:8080/",
          "height": 37
        },
        "id": "og8fujeT8odH",
        "outputId": "762d5e26-0e62-4517-f4f3-1977dfea595d"
      },
      "execution_count": null,
      "outputs": [
        {
          "output_type": "execute_result",
          "data": {
            "text/plain": [
              "19"
            ],
            "text/latex": "$\\displaystyle 19$"
          },
          "metadata": {},
          "execution_count": 65
        }
      ]
    },
    {
      "cell_type": "code",
      "source": [
        "# Valor numérico de uma expressão algébrica para um intervalo fechado\n",
        "\n",
        "import numpy as np\n",
        "\n",
        "u = np.linspace(0,5,100)\n",
        "#u\n",
        "fval1=lambdify(w,fexp,'numpy')\n",
        "\n",
        "fval1(u)"
      ],
      "metadata": {
        "colab": {
          "base_uri": "https://localhost:8080/"
        },
        "id": "byMwDFsx91da",
        "outputId": "c6374dba-2ed2-4d55-d7f8-1a5aaaa028d9"
      },
      "execution_count": null,
      "outputs": [
        {
          "output_type": "execute_result",
          "data": {
            "text/plain": [
              "array([ 3.        ,  2.69952046,  2.40414243,  2.11386593,  1.82869095,\n",
              "        1.54861749,  1.27364555,  1.00377512,  0.73900622,  0.47933884,\n",
              "        0.22477298, -0.02469136, -0.26905418, -0.50831548, -0.74247526,\n",
              "       -0.97153352, -1.19549026, -1.41434547, -1.62809917, -1.83675135,\n",
              "       -2.04030201, -2.23875115, -2.43209877, -2.62034486, -2.80348944,\n",
              "       -2.9815325 , -3.15447403, -3.32231405, -3.48505255, -3.64268952,\n",
              "       -3.79522498, -3.94265891, -4.08499133, -4.22222222, -4.3543516 ,\n",
              "       -4.48137945, -4.60330579, -4.7201306 , -4.83185389, -4.93847567,\n",
              "       -5.03999592, -5.13641465, -5.22773186, -5.31394756, -5.39506173,\n",
              "       -5.47107438, -5.54198551, -5.60779512, -5.66850321, -5.72410978,\n",
              "       -5.77461484, -5.82001837, -5.86032038, -5.89552087, -5.92561983,\n",
              "       -5.95061728, -5.97051321, -5.98530762, -5.99500051, -5.99959188,\n",
              "       -5.99908173, -5.99347005, -5.98275686, -5.96694215, -5.94602592,\n",
              "       -5.92000816, -5.88888889, -5.8526681 , -5.81134578, -5.76492195,\n",
              "       -5.71339659, -5.65676972, -5.59504132, -5.52821141, -5.45627997,\n",
              "       -5.37924702, -5.29711254, -5.20987654, -5.11753903, -5.02009999,\n",
              "       -4.91755943, -4.80991736, -4.69717376, -4.57932864, -4.456382  ,\n",
              "       -4.32833384, -4.19518416, -4.05693297, -3.91358025, -3.76512601,\n",
              "       -3.61157025, -3.45291297, -3.28915417, -3.12029385, -2.94633201,\n",
              "       -2.76726865, -2.58310376, -2.39383736, -2.19946944, -2.        ])"
            ]
          },
          "metadata": {},
          "execution_count": 66
        }
      ]
    },
    {
      "cell_type": "markdown",
      "source": [
        "# **REsolução de Equações e Inequações**"
      ],
      "metadata": {
        "id": "ZIThQUan_jOR"
      }
    },
    {
      "cell_type": "code",
      "source": [
        "x , s = symbols('x s')\n",
        "\n",
        "q = x**2+3*x-5\n",
        "\n",
        "display(q)\n",
        "\n",
        "equ = Eq(q,0)\n",
        "\n",
        "display(equ)\n",
        "\n",
        "print()\n",
        "\n",
        "sol = solve( equ, x )\n",
        "sol\n"
      ],
      "metadata": {
        "colab": {
          "base_uri": "https://localhost:8080/",
          "height": 129
        },
        "id": "0VeZyYxt91J4",
        "outputId": "240cdf98-f265-48d2-cdb9-36f30f2aec84"
      },
      "execution_count": null,
      "outputs": [
        {
          "output_type": "display_data",
          "data": {
            "text/plain": [
              " 2          \n",
              "x  + 3⋅x - 5"
            ],
            "text/latex": "$\\displaystyle x^{2} + 3 x - 5$"
          },
          "metadata": {}
        },
        {
          "output_type": "display_data",
          "data": {
            "text/plain": [
              " 2              \n",
              "x  + 3⋅x - 5 = 0"
            ],
            "text/latex": "$\\displaystyle x^{2} + 3 x - 5 = 0$"
          },
          "metadata": {}
        },
        {
          "output_type": "stream",
          "name": "stdout",
          "text": [
            "\n"
          ]
        },
        {
          "output_type": "execute_result",
          "data": {
            "text/plain": [
              "⎡  3   √29    √29   3⎤\n",
              "⎢- ─ + ───, - ─── - ─⎥\n",
              "⎣  2    2      2    2⎦"
            ],
            "text/latex": "$\\displaystyle \\left[ - \\frac{3}{2} + \\frac{\\sqrt{29}}{2}, \\  - \\frac{\\sqrt{29}}{2} - \\frac{3}{2}\\right]$"
          },
          "metadata": {},
          "execution_count": 67
        }
      ]
    },
    {
      "cell_type": "code",
      "source": [
        "qq = x**2+x*s+s\n",
        "\n",
        "display(qq)\n",
        "\n",
        "eq1 = Eq(qq,0)\n",
        "display(eq1)\n",
        "\n",
        "solx = solve( eq1,x )\n",
        "display(solx)\n",
        "\n",
        "print()\n",
        "sol_s = solve(  eq1,s )\n",
        "display(sol_s)"
      ],
      "metadata": {
        "colab": {
          "base_uri": "https://localhost:8080/",
          "height": 171
        },
        "id": "yXzI6d0hA4Hi",
        "outputId": "43d84fd5-eaf6-4ce0-82ae-9eca72f35545"
      },
      "execution_count": null,
      "outputs": [
        {
          "output_type": "display_data",
          "data": {
            "text/plain": [
              "           2\n",
              "s⋅x + s + x "
            ],
            "text/latex": "$\\displaystyle s x + s + x^{2}$"
          },
          "metadata": {}
        },
        {
          "output_type": "display_data",
          "data": {
            "text/plain": [
              "           2    \n",
              "s⋅x + s + x  = 0"
            ],
            "text/latex": "$\\displaystyle s x + s + x^{2} = 0$"
          },
          "metadata": {}
        },
        {
          "output_type": "display_data",
          "data": {
            "text/plain": [
              "⎡        ___________          ___________⎤\n",
              "⎢  s   ╲╱ s⋅(s - 4)     s   ╲╱ s⋅(s - 4) ⎥\n",
              "⎢- ─ - ─────────────, - ─ + ─────────────⎥\n",
              "⎣  2         2          2         2      ⎦"
            ],
            "text/latex": "$\\displaystyle \\left[ - \\frac{s}{2} - \\frac{\\sqrt{s \\left(s - 4\\right)}}{2}, \\  - \\frac{s}{2} + \\frac{\\sqrt{s \\left(s - 4\\right)}}{2}\\right]$"
          },
          "metadata": {}
        },
        {
          "output_type": "stream",
          "name": "stdout",
          "text": [
            "\n"
          ]
        },
        {
          "output_type": "display_data",
          "data": {
            "text/plain": [
              "⎡   2 ⎤\n",
              "⎢ -x  ⎥\n",
              "⎢─────⎥\n",
              "⎣x + 1⎦"
            ],
            "text/latex": "$\\displaystyle \\left[ - \\frac{x^{2}}{x + 1}\\right]$"
          },
          "metadata": {}
        }
      ]
    },
    {
      "cell_type": "code",
      "source": [
        "# Por exemplo, para s=6\n",
        "display(solx)\n",
        "\n",
        "print()\n",
        "\n",
        "display(solx[0].subs( { s:6 } ))\n",
        "\n",
        "display( solx[1].subs( { s:6} ) )"
      ],
      "metadata": {
        "colab": {
          "base_uri": "https://localhost:8080/",
          "height": 127
        },
        "id": "7FlI46dVCt_J",
        "outputId": "012c3a1c-01cd-43d9-aecf-2922c6b6121d"
      },
      "execution_count": null,
      "outputs": [
        {
          "output_type": "display_data",
          "data": {
            "text/plain": [
              "⎡        ___________          ___________⎤\n",
              "⎢  s   ╲╱ s⋅(s - 4)     s   ╲╱ s⋅(s - 4) ⎥\n",
              "⎢- ─ - ─────────────, - ─ + ─────────────⎥\n",
              "⎣  2         2          2         2      ⎦"
            ],
            "text/latex": "$\\displaystyle \\left[ - \\frac{s}{2} - \\frac{\\sqrt{s \\left(s - 4\\right)}}{2}, \\  - \\frac{s}{2} + \\frac{\\sqrt{s \\left(s - 4\\right)}}{2}\\right]$"
          },
          "metadata": {}
        },
        {
          "output_type": "stream",
          "name": "stdout",
          "text": [
            "\n"
          ]
        },
        {
          "output_type": "display_data",
          "data": {
            "text/plain": [
              "-3 - √3"
            ],
            "text/latex": "$\\displaystyle -3 - \\sqrt{3}$"
          },
          "metadata": {}
        },
        {
          "output_type": "display_data",
          "data": {
            "text/plain": [
              "-3 + √3"
            ],
            "text/latex": "$\\displaystyle -3 + \\sqrt{3}$"
          },
          "metadata": {}
        }
      ]
    },
    {
      "cell_type": "code",
      "source": [
        "# Lista\n",
        "\n",
        "lista1 = [ 2, 5, 1/2, 'hoje', 'ct', s, 0.5 ]\n",
        "lista1"
      ],
      "metadata": {
        "colab": {
          "base_uri": "https://localhost:8080/"
        },
        "id": "iigWLFzMESDu",
        "outputId": "da047f9e-b7cf-439c-933b-7781c49ee91d"
      },
      "execution_count": null,
      "outputs": [
        {
          "output_type": "execute_result",
          "data": {
            "text/plain": [
              "[2, 5, 0.5, 'hoje', 'ct', s, 0.5]"
            ]
          },
          "metadata": {},
          "execution_count": 70
        }
      ]
    },
    {
      "cell_type": "code",
      "source": [
        "lista1[3]"
      ],
      "metadata": {
        "colab": {
          "base_uri": "https://localhost:8080/",
          "height": 36
        },
        "id": "ttbkSAxGEq1r",
        "outputId": "1fffeab3-5bee-4536-fa86-488b79ef3043"
      },
      "execution_count": null,
      "outputs": [
        {
          "output_type": "execute_result",
          "data": {
            "text/plain": [
              "'hoje'"
            ],
            "application/vnd.google.colaboratory.intrinsic+json": {
              "type": "string"
            }
          },
          "metadata": {},
          "execution_count": 71
        }
      ]
    },
    {
      "cell_type": "code",
      "source": [
        "fg = 4*cos(w)-exp(pi)\n",
        "\n",
        "display(fg)\n",
        "\n",
        "print()\n",
        "sol3 = solve( fg, w)\n",
        "sol3"
      ],
      "metadata": {
        "colab": {
          "base_uri": "https://localhost:8080/",
          "height": 97
        },
        "id": "n0BcUIzFE5uS",
        "outputId": "bed07c6a-9d9f-4412-ca04-e40d1e22ea72"
      },
      "execution_count": null,
      "outputs": [
        {
          "output_type": "display_data",
          "data": {
            "text/plain": [
              "            π\n",
              "4⋅cos(w) - ℯ "
            ],
            "text/latex": "$\\displaystyle 4 \\cos{\\left(w \\right)} - e^{\\pi}$"
          },
          "metadata": {}
        },
        {
          "output_type": "stream",
          "name": "stdout",
          "text": [
            "\n"
          ]
        },
        {
          "output_type": "execute_result",
          "data": {
            "text/plain": [
              "⎡          ⎛ π⎞      ⎛ π⎞⎤\n",
              "⎢          ⎜ℯ ⎟      ⎜ℯ ⎟⎥\n",
              "⎢2⋅π - acos⎜──⎟, acos⎜──⎟⎥\n",
              "⎣          ⎝4 ⎠      ⎝4 ⎠⎦"
            ],
            "text/latex": "$\\displaystyle \\left[ 2 \\pi - \\operatorname{acos}{\\left(\\frac{e^{\\pi}}{4} \\right)}, \\  \\operatorname{acos}{\\left(\\frac{e^{\\pi}}{4} \\right)}\\right]$"
          },
          "metadata": {},
          "execution_count": 72
        }
      ]
    },
    {
      "cell_type": "code",
      "source": [
        "fg1 = 4*cos(w)-exp(w)\n",
        "\n",
        "sol4 = solve( fg1, w )\n",
        "sol4"
      ],
      "metadata": {
        "colab": {
          "base_uri": "https://localhost:8080/",
          "height": 381
        },
        "id": "a418vcRvFlaK",
        "outputId": "76a93643-03e0-4c02-9e8b-81da19f19a47"
      },
      "execution_count": null,
      "outputs": [
        {
          "output_type": "error",
          "ename": "NotImplementedError",
          "evalue": "ignored",
          "traceback": [
            "\u001b[0;31m---------------------------------------------------------------------------\u001b[0m",
            "\u001b[0;31mNotImplementedError\u001b[0m                       Traceback (most recent call last)",
            "\u001b[0;32m<ipython-input-73-f8da1fc9f194>\u001b[0m in \u001b[0;36m<module>\u001b[0;34m\u001b[0m\n\u001b[1;32m      1\u001b[0m \u001b[0mfg1\u001b[0m \u001b[0;34m=\u001b[0m \u001b[0;36m4\u001b[0m\u001b[0;34m*\u001b[0m\u001b[0mcos\u001b[0m\u001b[0;34m(\u001b[0m\u001b[0mw\u001b[0m\u001b[0;34m)\u001b[0m\u001b[0;34m-\u001b[0m\u001b[0mexp\u001b[0m\u001b[0;34m(\u001b[0m\u001b[0mw\u001b[0m\u001b[0;34m)\u001b[0m\u001b[0;34m\u001b[0m\u001b[0;34m\u001b[0m\u001b[0m\n\u001b[1;32m      2\u001b[0m \u001b[0;34m\u001b[0m\u001b[0m\n\u001b[0;32m----> 3\u001b[0;31m \u001b[0msol4\u001b[0m \u001b[0;34m=\u001b[0m \u001b[0msolve\u001b[0m\u001b[0;34m(\u001b[0m \u001b[0mfg1\u001b[0m\u001b[0;34m,\u001b[0m \u001b[0mw\u001b[0m \u001b[0;34m)\u001b[0m\u001b[0;34m\u001b[0m\u001b[0;34m\u001b[0m\u001b[0m\n\u001b[0m\u001b[1;32m      4\u001b[0m \u001b[0msol4\u001b[0m\u001b[0;34m\u001b[0m\u001b[0;34m\u001b[0m\u001b[0m\n",
            "\u001b[0;32m/usr/local/lib/python3.9/dist-packages/sympy/solvers/solvers.py\u001b[0m in \u001b[0;36msolve\u001b[0;34m(f, *symbols, **flags)\u001b[0m\n\u001b[1;32m   1110\u001b[0m     \u001b[0;31m###########################################################################\u001b[0m\u001b[0;34m\u001b[0m\u001b[0;34m\u001b[0m\u001b[0m\n\u001b[1;32m   1111\u001b[0m     \u001b[0;32mif\u001b[0m \u001b[0mbare_f\u001b[0m\u001b[0;34m:\u001b[0m\u001b[0;34m\u001b[0m\u001b[0;34m\u001b[0m\u001b[0m\n\u001b[0;32m-> 1112\u001b[0;31m         \u001b[0msolution\u001b[0m \u001b[0;34m=\u001b[0m \u001b[0m_solve\u001b[0m\u001b[0;34m(\u001b[0m\u001b[0mf\u001b[0m\u001b[0;34m[\u001b[0m\u001b[0;36m0\u001b[0m\u001b[0;34m]\u001b[0m\u001b[0;34m,\u001b[0m \u001b[0;34m*\u001b[0m\u001b[0msymbols\u001b[0m\u001b[0;34m,\u001b[0m \u001b[0;34m**\u001b[0m\u001b[0mflags\u001b[0m\u001b[0;34m)\u001b[0m\u001b[0;34m\u001b[0m\u001b[0;34m\u001b[0m\u001b[0m\n\u001b[0m\u001b[1;32m   1113\u001b[0m     \u001b[0;32melse\u001b[0m\u001b[0;34m:\u001b[0m\u001b[0;34m\u001b[0m\u001b[0;34m\u001b[0m\u001b[0m\n\u001b[1;32m   1114\u001b[0m         \u001b[0msolution\u001b[0m \u001b[0;34m=\u001b[0m \u001b[0m_solve_system\u001b[0m\u001b[0;34m(\u001b[0m\u001b[0mf\u001b[0m\u001b[0;34m,\u001b[0m \u001b[0msymbols\u001b[0m\u001b[0;34m,\u001b[0m \u001b[0;34m**\u001b[0m\u001b[0mflags\u001b[0m\u001b[0;34m)\u001b[0m\u001b[0;34m\u001b[0m\u001b[0;34m\u001b[0m\u001b[0m\n",
            "\u001b[0;32m/usr/local/lib/python3.9/dist-packages/sympy/solvers/solvers.py\u001b[0m in \u001b[0;36m_solve\u001b[0;34m(f, *symbols, **flags)\u001b[0m\n\u001b[1;32m   1742\u001b[0m \u001b[0;34m\u001b[0m\u001b[0m\n\u001b[1;32m   1743\u001b[0m     \u001b[0;32mif\u001b[0m \u001b[0mresult\u001b[0m \u001b[0;32mis\u001b[0m \u001b[0;32mFalse\u001b[0m\u001b[0;34m:\u001b[0m\u001b[0;34m\u001b[0m\u001b[0;34m\u001b[0m\u001b[0m\n\u001b[0;32m-> 1744\u001b[0;31m         \u001b[0;32mraise\u001b[0m \u001b[0mNotImplementedError\u001b[0m\u001b[0;34m(\u001b[0m\u001b[0;34m'\\n'\u001b[0m\u001b[0;34m.\u001b[0m\u001b[0mjoin\u001b[0m\u001b[0;34m(\u001b[0m\u001b[0;34m[\u001b[0m\u001b[0mmsg\u001b[0m\u001b[0;34m,\u001b[0m \u001b[0mnot_impl_msg\u001b[0m \u001b[0;34m%\u001b[0m \u001b[0mf\u001b[0m\u001b[0;34m]\u001b[0m\u001b[0;34m)\u001b[0m\u001b[0;34m)\u001b[0m\u001b[0;34m\u001b[0m\u001b[0;34m\u001b[0m\u001b[0m\n\u001b[0m\u001b[1;32m   1745\u001b[0m \u001b[0;34m\u001b[0m\u001b[0m\n\u001b[1;32m   1746\u001b[0m     \u001b[0;32mif\u001b[0m \u001b[0mflags\u001b[0m\u001b[0;34m.\u001b[0m\u001b[0mget\u001b[0m\u001b[0;34m(\u001b[0m\u001b[0;34m'simplify'\u001b[0m\u001b[0;34m,\u001b[0m \u001b[0;32mTrue\u001b[0m\u001b[0;34m)\u001b[0m\u001b[0;34m:\u001b[0m\u001b[0;34m\u001b[0m\u001b[0;34m\u001b[0m\u001b[0m\n",
            "\u001b[0;31mNotImplementedError\u001b[0m: multiple generators [cos(w), exp(w)]\nNo algorithms are implemented to solve equation -exp(w) + 4*cos(w)"
          ]
        }
      ]
    },
    {
      "cell_type": "markdown",
      "source": [
        "## **Valor Absoluto**"
      ],
      "metadata": {
        "id": "siCTpOJnxggw"
      }
    },
    {
      "cell_type": "code",
      "source": [
        "v = symbols('v', real=True )\n",
        "\n",
        "fabs = abs( v**2 -2 )-3\n",
        "\n",
        "display( Eq( fabs, 0 ) )\n",
        "print()\n",
        "\n",
        "solabs = solve( fabs, v )\n",
        "solabs"
      ],
      "metadata": {
        "colab": {
          "base_uri": "https://localhost:8080/",
          "height": 87
        },
        "id": "s_48ZQdMxXfo",
        "outputId": "7efa35d0-e175-4c4f-e3f3-b10840069046"
      },
      "execution_count": null,
      "outputs": [
        {
          "output_type": "display_data",
          "data": {
            "text/plain": [
              "│ 2    │        \n",
              "│v  - 2│ - 3 = 0"
            ],
            "text/latex": "$\\displaystyle \\left|{v^{2} - 2}\\right| - 3 = 0$"
          },
          "metadata": {}
        },
        {
          "output_type": "stream",
          "name": "stdout",
          "text": [
            "\n"
          ]
        },
        {
          "output_type": "execute_result",
          "data": {
            "text/plain": [
              "[-√5, √5]"
            ],
            "text/latex": "$\\displaystyle \\left[ - \\sqrt{5}, \\  \\sqrt{5}\\right]$"
          },
          "metadata": {},
          "execution_count": 74
        }
      ]
    },
    {
      "cell_type": "markdown",
      "source": [
        "## **Inequações**"
      ],
      "metadata": {
        "id": "BuGNbsOYy_Fm"
      }
    },
    {
      "cell_type": "code",
      "source": [
        "finq = v**3+sqrt( 2*v - 1 ) + 8\n",
        "\n",
        "display(finq)\n",
        "print()\n",
        "solinq = solveset( finq >=0 , v , domain=S.Reals)\n",
        "solinq"
      ],
      "metadata": {
        "colab": {
          "base_uri": "https://localhost:8080/",
          "height": 97
        },
        "id": "ThdaJwsmzZ22",
        "outputId": "65476003-3502-4930-c840-f0d15398e54d"
      },
      "execution_count": null,
      "outputs": [
        {
          "output_type": "display_data",
          "data": {
            "text/plain": [
              " 3     _________    \n",
              "v  + ╲╱ 2⋅v - 1  + 8"
            ],
            "text/latex": "$\\displaystyle v^{3} + \\sqrt{2 v - 1} + 8$"
          },
          "metadata": {}
        },
        {
          "output_type": "stream",
          "name": "stdout",
          "text": [
            "\n"
          ]
        },
        {
          "output_type": "execute_result",
          "data": {
            "text/plain": [
              "[1/2, ∞)"
            ],
            "text/latex": "$\\displaystyle \\left[\\frac{1}{2}, \\infty\\right)$"
          },
          "metadata": {},
          "execution_count": 75
        }
      ]
    },
    {
      "cell_type": "markdown",
      "source": [
        "# **Sistema de Equações**"
      ],
      "metadata": {
        "id": "hwnXDRZL0soM"
      }
    },
    {
      "cell_type": "code",
      "source": [
        "x, y, z = symbols(' x y z')\n",
        "\n",
        "sis1 = Eq(x-y,4)\n",
        "sis2 = Eq(x+y,1)\n",
        "\n",
        "display(sis1,sis2)\n",
        "\n",
        "print()\n",
        "\n",
        "solsis = linsolve( [ sis1, sis2 ], (x,y) )\n",
        "solsis"
      ],
      "metadata": {
        "colab": {
          "base_uri": "https://localhost:8080/",
          "height": 119
        },
        "id": "Sc7PrrWj0sSu",
        "outputId": "c826895b-2225-4133-d5c8-c2b008904bc5"
      },
      "execution_count": null,
      "outputs": [
        {
          "output_type": "display_data",
          "data": {
            "text/plain": [
              "x - y = 4"
            ],
            "text/latex": "$\\displaystyle x - y = 4$"
          },
          "metadata": {}
        },
        {
          "output_type": "display_data",
          "data": {
            "text/plain": [
              "x + y = 1"
            ],
            "text/latex": "$\\displaystyle x + y = 1$"
          },
          "metadata": {}
        },
        {
          "output_type": "stream",
          "name": "stdout",
          "text": [
            "\n"
          ]
        },
        {
          "output_type": "execute_result",
          "data": {
            "text/plain": [
              "{(5/2, -3/2)}"
            ],
            "text/latex": "$\\displaystyle \\left\\{\\left( \\frac{5}{2}, \\  - \\frac{3}{2}\\right)\\right\\}$"
          },
          "metadata": {},
          "execution_count": 76
        }
      ]
    },
    {
      "cell_type": "markdown",
      "source": [
        "# **Sistemas de Inequações**"
      ],
      "metadata": {
        "id": "u4NTg9Yy2qHT"
      }
    },
    {
      "cell_type": "code",
      "source": [
        "from sympy.solvers.inequalities import solve_poly_inequalities as sinq\n",
        "\n",
        "sis1inq = x**2-3\n",
        "sis2inq = -x**2+1\n",
        "\n",
        "solsisinq = sinq(  ( (  Poly(sis1inq) , \">\" )  , ( Poly(sis2inq) , \">\" ) )  )\n",
        "solsisinq\n"
      ],
      "metadata": {
        "colab": {
          "base_uri": "https://localhost:8080/",
          "height": 47
        },
        "id": "kdNY5Zc_2p4G",
        "outputId": "fb3f7bd9-6c89-4bab-f55b-3ab7d448f0ea"
      },
      "execution_count": null,
      "outputs": [
        {
          "output_type": "execute_result",
          "data": {
            "text/plain": [
              "(-∞, -√3) ∪ (-1, 1) ∪ (√3, ∞)"
            ],
            "text/latex": "$\\displaystyle \\left(-\\infty, - \\sqrt{3}\\right) \\cup \\left(-1, 1\\right) \\cup \\left(\\sqrt{3}, \\infty\\right)$"
          },
          "metadata": {},
          "execution_count": 77
        }
      ]
    },
    {
      "cell_type": "markdown",
      "source": [
        "# **Sistemas não lineares**"
      ],
      "metadata": {
        "id": "bFXc3XBM4tA5"
      }
    },
    {
      "cell_type": "code",
      "source": [
        "a,b = symbols ('a b')\n",
        "\n",
        "solsisnl = nonlinsolve( [ a**2+a-2 , 3*a-b ] , [ a, b ]  )\n",
        "solsisnl"
      ],
      "metadata": {
        "colab": {
          "base_uri": "https://localhost:8080/",
          "height": 37
        },
        "id": "_eQbrcUH40oP",
        "outputId": "55dbf616-c873-443c-fd8e-8f787909d488"
      },
      "execution_count": null,
      "outputs": [
        {
          "output_type": "execute_result",
          "data": {
            "text/plain": [
              "{(-2, -6), (1, 3)}"
            ],
            "text/latex": "$\\displaystyle \\left\\{\\left( -2, \\  -6\\right), \\left( 1, \\  3\\right)\\right\\}$"
          },
          "metadata": {},
          "execution_count": 78
        }
      ]
    },
    {
      "cell_type": "markdown",
      "source": [
        "\n",
        "# **Calculo**"
      ],
      "metadata": {
        "id": "IkUvYfRp5sjc"
      }
    },
    {
      "cell_type": "code",
      "source": [
        "p, d, j = symbols('p d j')\n",
        "\n",
        "f, g = symbols('f g', cls=Function)\n",
        "\n",
        "display( f(p) )\n",
        "\n",
        "d = g(p)\n",
        "print()\n",
        "display(d)\n",
        "\n",
        "print()\n",
        "\n",
        "f(d)"
      ],
      "metadata": {
        "colab": {
          "base_uri": "https://localhost:8080/",
          "height": 118
        },
        "id": "7a0ELaUd5-Ot",
        "outputId": "d7e64017-56c4-480c-ae7f-ccc64dfcc048"
      },
      "execution_count": null,
      "outputs": [
        {
          "output_type": "display_data",
          "data": {
            "text/plain": [
              "f(p)"
            ],
            "text/latex": "$\\displaystyle f{\\left(p \\right)}$"
          },
          "metadata": {}
        },
        {
          "output_type": "stream",
          "name": "stdout",
          "text": [
            "\n"
          ]
        },
        {
          "output_type": "display_data",
          "data": {
            "text/plain": [
              "g(p)"
            ],
            "text/latex": "$\\displaystyle g{\\left(p \\right)}$"
          },
          "metadata": {}
        },
        {
          "output_type": "stream",
          "name": "stdout",
          "text": [
            "\n"
          ]
        },
        {
          "output_type": "execute_result",
          "data": {
            "text/plain": [
              "f(g(p))"
            ],
            "text/latex": "$\\displaystyle f{\\left(g{\\left(p \\right)} \\right)}$"
          },
          "metadata": {},
          "execution_count": 79
        }
      ]
    },
    {
      "cell_type": "markdown",
      "source": [
        "## **Limite**"
      ],
      "metadata": {
        "id": "t8E_R8Es7cMz"
      }
    },
    {
      "cell_type": "code",
      "source": [
        "fp = (cos(p)-1)/p\n",
        "\n",
        "display(fp)\n",
        "\n",
        "print()\n",
        "\n",
        "Limit( fp, p, 0 )"
      ],
      "metadata": {
        "colab": {
          "base_uri": "https://localhost:8080/",
          "height": 114
        },
        "id": "u2kxgyiz7YwP",
        "outputId": "8a1d3daf-2e2d-48c6-c7e0-d8178d0ce7ce"
      },
      "execution_count": null,
      "outputs": [
        {
          "output_type": "display_data",
          "data": {
            "text/plain": [
              "cos(p) - 1\n",
              "──────────\n",
              "    p     "
            ],
            "text/latex": "$\\displaystyle \\frac{\\cos{\\left(p \\right)} - 1}{p}$"
          },
          "metadata": {}
        },
        {
          "output_type": "stream",
          "name": "stdout",
          "text": [
            "\n"
          ]
        },
        {
          "output_type": "execute_result",
          "data": {
            "text/plain": [
              "     ⎛cos(p) - 1⎞\n",
              " lim ⎜──────────⎟\n",
              "p─→0⁺⎝    p     ⎠"
            ],
            "text/latex": "$\\displaystyle \\lim_{p \\to 0^+}\\left(\\frac{\\cos{\\left(p \\right)} - 1}{p}\\right)$"
          },
          "metadata": {},
          "execution_count": 80
        }
      ]
    },
    {
      "cell_type": "code",
      "source": [
        "ffp = fp.subs( {p:0 } )\n",
        "ffp"
      ],
      "metadata": {
        "colab": {
          "base_uri": "https://localhost:8080/",
          "height": 37
        },
        "id": "F-cEdEAa8kdI",
        "outputId": "91b251da-d8a3-4ac9-f7dc-3f9f025ffaee"
      },
      "execution_count": null,
      "outputs": [
        {
          "output_type": "execute_result",
          "data": {
            "text/plain": [
              "nan"
            ],
            "text/latex": "$\\displaystyle \\text{NaN}$"
          },
          "metadata": {},
          "execution_count": 81
        }
      ]
    },
    {
      "cell_type": "code",
      "source": [
        "Limit( fp, p, 0 ).doit()"
      ],
      "metadata": {
        "colab": {
          "base_uri": "https://localhost:8080/",
          "height": 37
        },
        "id": "CSAfmTeL851S",
        "outputId": "31e11b7a-6b97-45bc-d457-49f30968fca1"
      },
      "execution_count": null,
      "outputs": [
        {
          "output_type": "execute_result",
          "data": {
            "text/plain": [
              "0"
            ],
            "text/latex": "$\\displaystyle 0$"
          },
          "metadata": {},
          "execution_count": 82
        }
      ]
    },
    {
      "cell_type": "code",
      "source": [
        "fp2 = p**2/exp(p)\n",
        "\n",
        "display(fp2)\n",
        "print()\n",
        "\n",
        "display(Limit(fp2,p,oo))\n",
        "\n",
        "print()\n",
        "\n",
        "display(fp2.subs({ p:oo }))\n",
        "\n",
        "print()\n",
        "\n",
        "limit(fp2,p,oo)\n"
      ],
      "metadata": {
        "colab": {
          "base_uri": "https://localhost:8080/",
          "height": 161
        },
        "id": "ZYNoZvZu9jEx",
        "outputId": "7ae67aea-6208-44dd-d9c9-3e9bce8c8c30"
      },
      "execution_count": null,
      "outputs": [
        {
          "output_type": "display_data",
          "data": {
            "text/plain": [
              " 2  -p\n",
              "p ⋅ℯ  "
            ],
            "text/latex": "$\\displaystyle p^{2} e^{- p}$"
          },
          "metadata": {}
        },
        {
          "output_type": "stream",
          "name": "stdout",
          "text": [
            "\n"
          ]
        },
        {
          "output_type": "display_data",
          "data": {
            "text/plain": [
              "    ⎛ 2  -p⎞\n",
              "lim ⎝p ⋅ℯ  ⎠\n",
              "p─→∞        "
            ],
            "text/latex": "$\\displaystyle \\lim_{p \\to \\infty}\\left(p^{2} e^{- p}\\right)$"
          },
          "metadata": {}
        },
        {
          "output_type": "stream",
          "name": "stdout",
          "text": [
            "\n"
          ]
        },
        {
          "output_type": "display_data",
          "data": {
            "text/plain": [
              "nan"
            ],
            "text/latex": "$\\displaystyle \\text{NaN}$"
          },
          "metadata": {}
        },
        {
          "output_type": "stream",
          "name": "stdout",
          "text": [
            "\n"
          ]
        },
        {
          "output_type": "execute_result",
          "data": {
            "text/plain": [
              "0"
            ],
            "text/latex": "$\\displaystyle 0$"
          },
          "metadata": {},
          "execution_count": 83
        }
      ]
    },
    {
      "cell_type": "code",
      "source": [
        "plot( fp2 )"
      ],
      "metadata": {
        "colab": {
          "base_uri": "https://localhost:8080/",
          "height": 314
        },
        "id": "XgPd1j2U-zcQ",
        "outputId": "6f0be79b-187f-4362-fce0-2ddbf1b6abe2"
      },
      "execution_count": null,
      "outputs": [
        {
          "output_type": "display_data",
          "data": {
            "text/plain": [
              "<Figure size 432x288 with 1 Axes>"
            ],
            "image/png": "[encoded data removed]"
          },
          "metadata": {
            "needs_background": "light"
          }
        },
        {
          "output_type": "execute_result",
          "data": {
            "text/plain": [
              "<sympy.plotting.plot.Plot at 0x7f31584e7340>"
            ]
          },
          "metadata": {},
          "execution_count": 84
        }
      ]
    },
    {
      "cell_type": "markdown",
      "source": [
        "## **Limite Lateral**"
      ],
      "metadata": {
        "id": "Znhkxlxi_Xqd"
      }
    },
    {
      "cell_type": "code",
      "source": [
        "fpn = fp\n",
        "fpn\n",
        "\n",
        "print()\n",
        "\n",
        "lim1 = Limit(fpn,p,3,'+')\n",
        "lim1.doit()"
      ],
      "metadata": {
        "colab": {
          "base_uri": "https://localhost:8080/",
          "height": 70
        },
        "id": "ifr18Vwr_XXj",
        "outputId": "0635614b-dccd-4e11-a66d-ad5557358935"
      },
      "execution_count": null,
      "outputs": [
        {
          "output_type": "stream",
          "name": "stdout",
          "text": [
            "\n"
          ]
        },
        {
          "output_type": "execute_result",
          "data": {
            "text/plain": [
              "  1   cos(3)\n",
              "- ─ + ──────\n",
              "  3     3   "
            ],
            "text/latex": "$\\displaystyle - \\frac{1}{3} + \\frac{\\cos{\\left(3 \\right)}}{3}$"
          },
          "metadata": {},
          "execution_count": 85
        }
      ]
    },
    {
      "cell_type": "code",
      "source": [
        "lim2 = limit(fpn,p,3,'-')\n",
        "lim2"
      ],
      "metadata": {
        "colab": {
          "base_uri": "https://localhost:8080/",
          "height": 53
        },
        "id": "u2mNUvYDATGA",
        "outputId": "7f22e8ff-5c5e-4cf3-8a76-41ae8756ecc3"
      },
      "execution_count": null,
      "outputs": [
        {
          "output_type": "execute_result",
          "data": {
            "text/plain": [
              "  1   cos(3)\n",
              "- ─ + ──────\n",
              "  3     3   "
            ],
            "text/latex": "$\\displaystyle - \\frac{1}{3} + \\frac{\\cos{\\left(3 \\right)}}{3}$"
          },
          "metadata": {},
          "execution_count": 86
        }
      ]
    },
    {
      "cell_type": "code",
      "source": [
        "limit(1/p,p,0,'+')"
      ],
      "metadata": {
        "colab": {
          "base_uri": "https://localhost:8080/",
          "height": 37
        },
        "id": "KCrdZ2KHAu4R",
        "outputId": "01ffc524-eb1c-4518-d919-60190f28d744"
      },
      "execution_count": null,
      "outputs": [
        {
          "output_type": "execute_result",
          "data": {
            "text/plain": [
              "∞"
            ],
            "text/latex": "$\\displaystyle \\infty$"
          },
          "metadata": {},
          "execution_count": 87
        }
      ]
    },
    {
      "cell_type": "code",
      "source": [
        "limit(1/p,p,0,'-')"
      ],
      "metadata": {
        "colab": {
          "base_uri": "https://localhost:8080/",
          "height": 37
        },
        "id": "h4oV-FDaBK0b",
        "outputId": "c4aff26d-eb8d-4df7-db11-aa44c0345793"
      },
      "execution_count": null,
      "outputs": [
        {
          "output_type": "execute_result",
          "data": {
            "text/plain": [
              "-∞"
            ],
            "text/latex": "$\\displaystyle -\\infty$"
          },
          "metadata": {},
          "execution_count": 88
        }
      ]
    },
    {
      "cell_type": "code",
      "source": [
        "plot(1/p, xlim=[-6,6],ylim=[-20,20],line_color='red' )"
      ],
      "metadata": {
        "colab": {
          "base_uri": "https://localhost:8080/",
          "height": 314
        },
        "id": "q6udzoymA7uq",
        "outputId": "6cd5c234-7f2f-41f0-c647-03db2e951207"
      },
      "execution_count": null,
      "outputs": [
        {
          "output_type": "display_data",
          "data": {
            "text/plain": [
              "<Figure size 432x288 with 1 Axes>"
            ],
            "image/png": "[encoded data removed]"
          },
          "metadata": {
            "needs_background": "light"
          }
        },
        {
          "output_type": "execute_result",
          "data": {
            "text/plain": [
              "<sympy.plotting.plot.Plot at 0x7f3158284f40>"
            ]
          },
          "metadata": {},
          "execution_count": 89
        }
      ]
    },
    {
      "cell_type": "markdown",
      "source": [
        "## **Derivada**"
      ],
      "metadata": {
        "id": "F8yOsaWqCDn3"
      }
    },
    {
      "cell_type": "code",
      "source": [
        "x, y = symbols('x y')\n",
        "f, g = symbols('f g', cls=Function)\n",
        "\n",
        "Derivative(f(x),(x))"
      ],
      "metadata": {
        "colab": {
          "base_uri": "https://localhost:8080/",
          "height": 52
        },
        "id": "_tbVf6AWB-bm",
        "outputId": "3336e4b2-97a2-4139-da64-5d1f1aadb42c"
      },
      "execution_count": null,
      "outputs": [
        {
          "output_type": "execute_result",
          "data": {
            "text/plain": [
              "d       \n",
              "──(f(x))\n",
              "dx      "
            ],
            "text/latex": "$\\displaystyle \\frac{d}{d x} f{\\left(x \\right)}$"
          },
          "metadata": {},
          "execution_count": 90
        }
      ]
    },
    {
      "cell_type": "code",
      "source": [
        "Derivative(f(x) , (x,2))"
      ],
      "metadata": {
        "colab": {
          "base_uri": "https://localhost:8080/",
          "height": 54
        },
        "id": "zcr2puYZDV5O",
        "outputId": "bffbd08d-7f87-4cad-a032-e4f15c4ee44d"
      },
      "execution_count": null,
      "outputs": [
        {
          "output_type": "execute_result",
          "data": {
            "text/plain": [
              "  2      \n",
              " d       \n",
              "───(f(x))\n",
              "  2      \n",
              "dx       "
            ],
            "text/latex": "$\\displaystyle \\frac{d^{2}}{d x^{2}} f{\\left(x \\right)}$"
          },
          "metadata": {},
          "execution_count": 91
        }
      ]
    },
    {
      "cell_type": "code",
      "source": [
        "Derivative( f(g(x)) , (x,1) )"
      ],
      "metadata": {
        "colab": {
          "base_uri": "https://localhost:8080/",
          "height": 52
        },
        "id": "rQFag2L0Dk9h",
        "outputId": "b549e1b9-a483-4de3-cb36-1a3079a074e6"
      },
      "execution_count": null,
      "outputs": [
        {
          "output_type": "execute_result",
          "data": {
            "text/plain": [
              "d          \n",
              "──(f(g(x)))\n",
              "dx         "
            ],
            "text/latex": "$\\displaystyle \\frac{d}{d x} f{\\left(g{\\left(x \\right)} \\right)}$"
          },
          "metadata": {},
          "execution_count": 92
        }
      ]
    },
    {
      "cell_type": "code",
      "source": [
        "Derivative( f(g(x)) , (x,1) ).doit()"
      ],
      "metadata": {
        "colab": {
          "base_uri": "https://localhost:8080/",
          "height": 56
        },
        "id": "EMpExHfJD5xm",
        "outputId": "500b17b3-5c0d-4ac3-fadd-e9bedb4f04e1"
      },
      "execution_count": null,
      "outputs": [
        {
          "output_type": "execute_result",
          "data": {
            "text/plain": [
              "  d            d       \n",
              "─────(f(g(x)))⋅──(g(x))\n",
              "dg(x)          dx      "
            ],
            "text/latex": "$\\displaystyle \\frac{d}{d g{\\left(x \\right)}} f{\\left(g{\\left(x \\right)} \\right)} \\frac{d}{d x} g{\\left(x \\right)}$"
          },
          "metadata": {},
          "execution_count": 93
        }
      ]
    },
    {
      "cell_type": "code",
      "source": [
        "fx = sin(x)\n",
        "gx = exp(x*2)\n",
        "\n",
        "display(fx,gx)\n",
        "\n",
        "print()\n",
        "\n",
        "diff(fx,(x,2))"
      ],
      "metadata": {
        "colab": {
          "base_uri": "https://localhost:8080/",
          "height": 101
        },
        "id": "SHuBBI8RELhp",
        "outputId": "f1e4abdb-ba43-4ac9-f5c3-4ef3d562a64a"
      },
      "execution_count": null,
      "outputs": [
        {
          "output_type": "display_data",
          "data": {
            "text/plain": [
              "sin(x)"
            ],
            "text/latex": "$\\displaystyle \\sin{\\left(x \\right)}$"
          },
          "metadata": {}
        },
        {
          "output_type": "display_data",
          "data": {
            "text/plain": [
              " 2⋅x\n",
              "ℯ   "
            ],
            "text/latex": "$\\displaystyle e^{2 x}$"
          },
          "metadata": {}
        },
        {
          "output_type": "stream",
          "name": "stdout",
          "text": [
            "\n"
          ]
        },
        {
          "output_type": "execute_result",
          "data": {
            "text/plain": [
              "-sin(x)"
            ],
            "text/latex": "$\\displaystyle - \\sin{\\left(x \\right)}$"
          },
          "metadata": {},
          "execution_count": 94
        }
      ]
    },
    {
      "cell_type": "code",
      "source": [
        "diff(gx,(x,2))"
      ],
      "metadata": {
        "colab": {
          "base_uri": "https://localhost:8080/",
          "height": 39
        },
        "id": "qRchqXLfEnk6",
        "outputId": "faa3c884-4d2e-4425-db3a-11c21a5603ed"
      },
      "execution_count": null,
      "outputs": [
        {
          "output_type": "execute_result",
          "data": {
            "text/plain": [
              "   2⋅x\n",
              "4⋅ℯ   "
            ],
            "text/latex": "$\\displaystyle 4 e^{2 x}$"
          },
          "metadata": {},
          "execution_count": 95
        }
      ]
    },
    {
      "cell_type": "code",
      "source": [
        "fgg = exp(fx)\n",
        "\n",
        "display(fgg)\n",
        "print()\n",
        "diff(fgg,(x,1))"
      ],
      "metadata": {
        "colab": {
          "base_uri": "https://localhost:8080/",
          "height": 79
        },
        "id": "KVUKCZ5iE4-5",
        "outputId": "a9253db4-3997-4082-d2dd-8af20efff550"
      },
      "execution_count": null,
      "outputs": [
        {
          "output_type": "display_data",
          "data": {
            "text/plain": [
              " sin(x)\n",
              "ℯ      "
            ],
            "text/latex": "$\\displaystyle e^{\\sin{\\left(x \\right)}}$"
          },
          "metadata": {}
        },
        {
          "output_type": "stream",
          "name": "stdout",
          "text": [
            "\n"
          ]
        },
        {
          "output_type": "execute_result",
          "data": {
            "text/plain": [
              " sin(x)       \n",
              "ℯ      ⋅cos(x)"
            ],
            "text/latex": "$\\displaystyle e^{\\sin{\\left(x \\right)}} \\cos{\\left(x \\right)}$"
          },
          "metadata": {},
          "execution_count": 96
        }
      ]
    },
    {
      "cell_type": "code",
      "source": [
        "diff(fgg,(x,2))"
      ],
      "metadata": {
        "colab": {
          "base_uri": "https://localhost:8080/",
          "height": 40
        },
        "id": "w_jR33eWFL5l",
        "outputId": "ff2e0db0-29b8-4294-f195-214663d75800"
      },
      "execution_count": null,
      "outputs": [
        {
          "output_type": "execute_result",
          "data": {
            "text/plain": [
              "⎛             2   ⎞  sin(x)\n",
              "⎝-sin(x) + cos (x)⎠⋅ℯ      "
            ],
            "text/latex": "$\\displaystyle \\left(- \\sin{\\left(x \\right)} + \\cos^{2}{\\left(x \\right)}\\right) e^{\\sin{\\left(x \\right)}}$"
          },
          "metadata": {},
          "execution_count": 97
        }
      ]
    },
    {
      "cell_type": "markdown",
      "source": [
        "### **Derivada de duas variáveis**"
      ],
      "metadata": {
        "id": "8BqGG7SQFdd5"
      }
    },
    {
      "cell_type": "code",
      "source": [
        "Derivative( f(x,y), (x,1), (y,2) ).doit()"
      ],
      "metadata": {
        "colab": {
          "base_uri": "https://localhost:8080/",
          "height": 57
        },
        "id": "XwdcGCCRFYWU",
        "outputId": "ee4b6232-5428-4910-de8e-97a3e3352457"
      },
      "execution_count": null,
      "outputs": [
        {
          "output_type": "execute_result",
          "data": {
            "text/plain": [
              "   3           \n",
              "  ∂            \n",
              "──────(f(x, y))\n",
              "  2            \n",
              "∂y  ∂x         "
            ],
            "text/latex": "$\\displaystyle \\frac{\\partial^{3}}{\\partial y^{2}\\partial x} f{\\left(x,y \\right)}$"
          },
          "metadata": {},
          "execution_count": 98
        }
      ]
    },
    {
      "cell_type": "code",
      "source": [
        "fxy = y*cos(x+y)\n",
        "\n",
        "diff(fxy,(x,2))"
      ],
      "metadata": {
        "colab": {
          "base_uri": "https://localhost:8080/",
          "height": 39
        },
        "id": "L2f3qqT7Gfsq",
        "outputId": "05cc3b19-b3b4-402c-fb8b-72f82035e511"
      },
      "execution_count": null,
      "outputs": [
        {
          "output_type": "execute_result",
          "data": {
            "text/plain": [
              "-y⋅cos(x + y)"
            ],
            "text/latex": "$\\displaystyle - y \\cos{\\left(x + y \\right)}$"
          },
          "metadata": {},
          "execution_count": 99
        }
      ]
    },
    {
      "cell_type": "code",
      "source": [
        "diff(fxy,(x,2),(y,1))"
      ],
      "metadata": {
        "id": "rdR5PP8xGuaF",
        "outputId": "aaf3c594-8751-4bdf-f67b-8bd1682f493e",
        "colab": {
          "base_uri": "https://localhost:8080/",
          "height": 39
        }
      },
      "execution_count": null,
      "outputs": [
        {
          "output_type": "execute_result",
          "data": {
            "text/plain": [
              "y⋅sin(x + y) - cos(x + y)"
            ],
            "text/latex": "$\\displaystyle y \\sin{\\left(x + y \\right)} - \\cos{\\left(x + y \\right)}$"
          },
          "metadata": {},
          "execution_count": 100
        }
      ]
    },
    {
      "cell_type": "code",
      "source": [],
      "metadata": {
        "id": "5NuRsMeyMd51"
      },
      "execution_count": null,
      "outputs": []
    },
    {
      "cell_type": "markdown",
      "source": [
        "## **Series de Taylor**\n",
        "\n",
        "$$f(p)=f(p_o)+\\frac{f'(p_o)}{1!}(p-p_o)+\\frac{f''(p_o)}{2!}(p-p_o)^2+\\cdots+\\frac{f^n(p_o)}{n!}(p-p_o)^n+\\cdots$$"
      ],
      "metadata": {
        "id": "nNAjQA13Mecd"
      }
    },
    {
      "cell_type": "code",
      "source": [
        "exp(3).evalf()"
      ],
      "metadata": {
        "id": "aPqcDHlLMd2c",
        "colab": {
          "base_uri": "https://localhost:8080/",
          "height": 37
        },
        "outputId": "06df7c5e-7562-4bda-c231-fcbcbdb7b2b8"
      },
      "execution_count": null,
      "outputs": [
        {
          "output_type": "execute_result",
          "data": {
            "text/plain": [
              "20.0855369231877"
            ],
            "text/latex": "$\\displaystyle 20.0855369231877$"
          },
          "metadata": {},
          "execution_count": 102
        }
      ]
    },
    {
      "cell_type": "code",
      "source": [
        "x = symbols('x')\n",
        "\n",
        "fexp = exp(x)\n",
        "fexp\n",
        "print()\n",
        "\n",
        "fexp.series()"
      ],
      "metadata": {
        "colab": {
          "base_uri": "https://localhost:8080/",
          "height": 71
        },
        "id": "LNzffiGQ0rRQ",
        "outputId": "09046114-f6bf-4063-f821-7b2183c74cb5"
      },
      "execution_count": null,
      "outputs": [
        {
          "output_type": "stream",
          "name": "stdout",
          "text": [
            "\n"
          ]
        },
        {
          "output_type": "execute_result",
          "data": {
            "text/plain": [
              "         2    3    4     5        \n",
              "        x    x    x     x     ⎛ 6⎞\n",
              "1 + x + ── + ── + ── + ─── + O⎝x ⎠\n",
              "        2    6    24   120        "
            ],
            "text/latex": "$\\displaystyle 1 + x + \\frac{x^{2}}{2} + \\frac{x^{3}}{6} + \\frac{x^{4}}{24} + \\frac{x^{5}}{120} + O\\left(x^{6}\\right)$"
          },
          "metadata": {},
          "execution_count": 105
        }
      ]
    },
    {
      "cell_type": "code",
      "source": [
        "fexp.series(x,0,3)"
      ],
      "metadata": {
        "colab": {
          "base_uri": "https://localhost:8080/",
          "height": 54
        },
        "id": "mRZGxA2z0rOx",
        "outputId": "2abd09f7-b3a7-4937-fbc0-9ae38c77f553"
      },
      "execution_count": null,
      "outputs": [
        {
          "output_type": "execute_result",
          "data": {
            "text/plain": [
              "         2        \n",
              "        x     ⎛ 3⎞\n",
              "1 + x + ── + O⎝x ⎠\n",
              "        2         "
            ],
            "text/latex": "$\\displaystyle 1 + x + \\frac{x^{2}}{2} + O\\left(x^{3}\\right)$"
          },
          "metadata": {},
          "execution_count": 107
        }
      ]
    },
    {
      "cell_type": "code",
      "source": [
        "aprox1 = fexp.series(x,0,2).removeO()\n",
        "aprox1.subs({x:3})"
      ],
      "metadata": {
        "colab": {
          "base_uri": "https://localhost:8080/",
          "height": 37
        },
        "id": "gveFabGF0rMB",
        "outputId": "6a1fb900-9f1f-4606-c26d-880d0d3b9134"
      },
      "execution_count": null,
      "outputs": [
        {
          "output_type": "execute_result",
          "data": {
            "text/plain": [
              "4"
            ],
            "text/latex": "$\\displaystyle 4$"
          },
          "metadata": {},
          "execution_count": 110
        }
      ]
    },
    {
      "cell_type": "code",
      "source": [
        "aprox2 = fexp.series(x,0,10).removeO()\n",
        "aprox2.subs({x:3}).evalf()"
      ],
      "metadata": {
        "colab": {
          "base_uri": "https://localhost:8080/",
          "height": 37
        },
        "id": "gxobdaly2Nyq",
        "outputId": "481bbdda-697b-4ab3-c6c4-24b0feb1d223"
      },
      "execution_count": null,
      "outputs": [
        {
          "output_type": "execute_result",
          "data": {
            "text/plain": [
              "20.0633928571429"
            ],
            "text/latex": "$\\displaystyle 20.0633928571429$"
          },
          "metadata": {},
          "execution_count": 116
        }
      ]
    },
    {
      "cell_type": "code",
      "source": [],
      "metadata": {
        "id": "eYrWEIXc2Nwl"
      },
      "execution_count": null,
      "outputs": []
    },
    {
      "cell_type": "markdown",
      "source": [
        "# **Integrais**"
      ],
      "metadata": {
        "id": "ZjladScMNI-M"
      }
    },
    {
      "cell_type": "markdown",
      "source": [
        "## **Indefinidas**"
      ],
      "metadata": {
        "id": "TGEM7YOp43QN"
      }
    },
    {
      "cell_type": "code",
      "source": [
        "p = symbols('p')\n",
        "\n",
        "gp = sin(p)\n",
        "gp"
      ],
      "metadata": {
        "id": "Cwvv-VN7NIzo",
        "colab": {
          "base_uri": "https://localhost:8080/",
          "height": 39
        },
        "outputId": "eff3ea9a-f772-446f-f042-9a1752d4cbe7"
      },
      "execution_count": null,
      "outputs": [
        {
          "output_type": "execute_result",
          "data": {
            "text/plain": [
              "sin(p)"
            ],
            "text/latex": "$\\displaystyle \\sin{\\left(p \\right)}$"
          },
          "metadata": {},
          "execution_count": 120
        }
      ]
    },
    {
      "cell_type": "code",
      "source": [
        "Integral(gp,p)"
      ],
      "metadata": {
        "colab": {
          "base_uri": "https://localhost:8080/",
          "height": 55
        },
        "id": "pZd4pX9d47dJ",
        "outputId": "7fb7711c-9f90-4f0c-e97c-5b2c1f7acc8b"
      },
      "execution_count": null,
      "outputs": [
        {
          "output_type": "execute_result",
          "data": {
            "text/plain": [
              "⌠          \n",
              "⎮ sin(p) dp\n",
              "⌡          "
            ],
            "text/latex": "$\\displaystyle \\int \\sin{\\left(p \\right)}\\, dp$"
          },
          "metadata": {},
          "execution_count": 121
        }
      ]
    },
    {
      "cell_type": "code",
      "source": [
        "Integral(gp,p).doit()"
      ],
      "metadata": {
        "colab": {
          "base_uri": "https://localhost:8080/",
          "height": 39
        },
        "id": "YKCNGsi95OjX",
        "outputId": "5002b815-326f-4a75-e3e0-af68c4bd15c6"
      },
      "execution_count": null,
      "outputs": [
        {
          "output_type": "execute_result",
          "data": {
            "text/plain": [
              "-cos(p)"
            ],
            "text/latex": "$\\displaystyle - \\cos{\\left(p \\right)}$"
          },
          "metadata": {},
          "execution_count": 123
        }
      ]
    },
    {
      "cell_type": "markdown",
      "source": [
        "$$\\int f(x)dx = F(x)+C$$"
      ],
      "metadata": {
        "id": "aEG_zeSV54RJ"
      }
    },
    {
      "cell_type": "code",
      "source": [
        "integrate(gp,p)"
      ],
      "metadata": {
        "colab": {
          "base_uri": "https://localhost:8080/",
          "height": 39
        },
        "id": "NDFMd4tv6O1-",
        "outputId": "f18621aa-5ae4-46ee-fbe9-3ab4cd8668d2"
      },
      "execution_count": null,
      "outputs": [
        {
          "output_type": "execute_result",
          "data": {
            "text/plain": [
              "-cos(p)"
            ],
            "text/latex": "$\\displaystyle - \\cos{\\left(p \\right)}$"
          },
          "metadata": {},
          "execution_count": 124
        }
      ]
    },
    {
      "cell_type": "markdown",
      "source": [
        "## **Definida**"
      ],
      "metadata": {
        "id": "He_LHQMD6rao"
      }
    },
    {
      "cell_type": "markdown",
      "source": [
        "$$\\int_a^b f(x)dx = F(b)-F(a)$$"
      ],
      "metadata": {
        "id": "7NoV4X9S7WnF"
      }
    },
    {
      "cell_type": "code",
      "source": [
        "integrate(gp,(p,-3,5)).evalf()"
      ],
      "metadata": {
        "colab": {
          "base_uri": "https://localhost:8080/",
          "height": 37
        },
        "id": "n7AQcKBO6g3g",
        "outputId": "8e82744d-e851-47ef-ca95-39eb654d7c50"
      },
      "execution_count": null,
      "outputs": [
        {
          "output_type": "execute_result",
          "data": {
            "text/plain": [
              "-1.27365468206367"
            ],
            "text/latex": "$\\displaystyle -1.27365468206367$"
          },
          "metadata": {},
          "execution_count": 126
        }
      ]
    },
    {
      "cell_type": "code",
      "source": [
        "plot(gp,(p,-3,5))"
      ],
      "metadata": {
        "colab": {
          "base_uri": "https://localhost:8080/",
          "height": 314
        },
        "id": "XTXj590E8_vk",
        "outputId": "913febdd-548c-4f3d-bebe-8836af585762"
      },
      "execution_count": null,
      "outputs": [
        {
          "output_type": "display_data",
          "data": {
            "text/plain": [
              "<Figure size 432x288 with 1 Axes>"
            ],
            "image/png": "[encoded data removed]"
          },
          "metadata": {
            "needs_background": "light"
          }
        },
        {
          "output_type": "execute_result",
          "data": {
            "text/plain": [
              "<sympy.plotting.plot.Plot at 0x7f315084a5e0>"
            ]
          },
          "metadata": {},
          "execution_count": 132
        }
      ]
    },
    {
      "cell_type": "code",
      "source": [
        "integrate(gp,(p,0,2*pi))"
      ],
      "metadata": {
        "colab": {
          "base_uri": "https://localhost:8080/",
          "height": 37
        },
        "id": "uKm1UhDa8BKM",
        "outputId": "1be91a6d-dd5a-41d1-8ed5-d027594add34"
      },
      "execution_count": null,
      "outputs": [
        {
          "output_type": "execute_result",
          "data": {
            "text/plain": [
              "0"
            ],
            "text/latex": "$\\displaystyle 0$"
          },
          "metadata": {},
          "execution_count": 128
        }
      ]
    },
    {
      "cell_type": "code",
      "source": [
        "plot(gp,(p,0,2*pi))"
      ],
      "metadata": {
        "colab": {
          "base_uri": "https://localhost:8080/",
          "height": 314
        },
        "id": "Jcmi1n0G8VHZ",
        "outputId": "140648e8-e938-44f3-dc5b-9b1b45ff6634"
      },
      "execution_count": null,
      "outputs": [
        {
          "output_type": "display_data",
          "data": {
            "text/plain": [
              "<Figure size 432x288 with 1 Axes>"
            ],
            "image/png": "[encoded data removed]"
          },
          "metadata": {
            "needs_background": "light"
          }
        },
        {
          "output_type": "execute_result",
          "data": {
            "text/plain": [
              "<sympy.plotting.plot.Plot at 0x7f315080adf0>"
            ]
          },
          "metadata": {},
          "execution_count": 131
        }
      ]
    },
    {
      "cell_type": "code",
      "source": [
        "gp1 = (p-2)**2\n",
        "integrate(gp1,(p,-2,2)).evalf()"
      ],
      "metadata": {
        "colab": {
          "base_uri": "https://localhost:8080/",
          "height": 37
        },
        "id": "-0QYrY409s_0",
        "outputId": "37524a21-c3e6-4aa1-b0da-8e53c350cbf8"
      },
      "execution_count": null,
      "outputs": [
        {
          "output_type": "execute_result",
          "data": {
            "text/plain": [
              "21.3333333333333"
            ],
            "text/latex": "$\\displaystyle 21.3333333333333$"
          },
          "metadata": {},
          "execution_count": 151
        }
      ]
    },
    {
      "cell_type": "code",
      "source": [
        "plot(gp1,(p,-2,2),ylim=[0,15])"
      ],
      "metadata": {
        "colab": {
          "base_uri": "https://localhost:8080/",
          "height": 314
        },
        "id": "ayU5-hxf-BcH",
        "outputId": "dad36d18-faf3-4ebe-dbc5-283c2552e71d"
      },
      "execution_count": null,
      "outputs": [
        {
          "output_type": "display_data",
          "data": {
            "text/plain": [
              "<Figure size 432x288 with 1 Axes>"
            ],
            "image/png": "[encoded data removed]"
          },
          "metadata": {
            "needs_background": "light"
          }
        },
        {
          "output_type": "execute_result",
          "data": {
            "text/plain": [
              "<sympy.plotting.plot.Plot at 0x7f3150263df0>"
            ]
          },
          "metadata": {},
          "execution_count": 150
        }
      ]
    },
    {
      "cell_type": "code",
      "source": [
        "i, j = symbols('i j')\n",
        "\n",
        "f2v = i**2+3*j\n",
        "f2v"
      ],
      "metadata": {
        "colab": {
          "base_uri": "https://localhost:8080/",
          "height": 39
        },
        "id": "zFHfSpwk_dWL",
        "outputId": "640c9754-2964-4cc7-d5a9-3e5694c9bf76"
      },
      "execution_count": null,
      "outputs": [
        {
          "output_type": "execute_result",
          "data": {
            "text/plain": [
              " 2      \n",
              "i  + 3⋅j"
            ],
            "text/latex": "$\\displaystyle i^{2} + 3 j$"
          },
          "metadata": {},
          "execution_count": 152
        }
      ]
    },
    {
      "cell_type": "code",
      "source": [
        "Integral(f2v,i,j)"
      ],
      "metadata": {
        "colab": {
          "base_uri": "https://localhost:8080/",
          "height": 55
        },
        "id": "bk-cjcDs_tl9",
        "outputId": "4688aab5-4978-4ddf-c113-ada5a736cd31"
      },
      "execution_count": null,
      "outputs": [
        {
          "output_type": "execute_result",
          "data": {
            "text/plain": [
              "⌠ ⌠                 \n",
              "⎮ ⎮ ⎛ 2      ⎞      \n",
              "⎮ ⎮ ⎝i  + 3⋅j⎠ di dj\n",
              "⌡ ⌡                 "
            ],
            "text/latex": "$\\displaystyle \\iint \\left(i^{2} + 3 j\\right)\\, di\\, dj$"
          },
          "metadata": {},
          "execution_count": 157
        }
      ]
    },
    {
      "cell_type": "code",
      "source": [
        "Integral(f2v,i,j).doit()"
      ],
      "metadata": {
        "colab": {
          "base_uri": "https://localhost:8080/",
          "height": 54
        },
        "id": "pfU16XAzAB9_",
        "outputId": "0626c6f3-704e-4e51-d330-48968599916c"
      },
      "execution_count": null,
      "outputs": [
        {
          "output_type": "execute_result",
          "data": {
            "text/plain": [
              " 3          2\n",
              "i ⋅j   3⋅i⋅j \n",
              "──── + ──────\n",
              " 3       2   "
            ],
            "text/latex": "$\\displaystyle \\frac{i^{3} j}{3} + \\frac{3 i j^{2}}{2}$"
          },
          "metadata": {},
          "execution_count": 158
        }
      ]
    },
    {
      "cell_type": "code",
      "source": [
        "integrate(f2v,(i,2,8),(j,1,2))"
      ],
      "metadata": {
        "colab": {
          "base_uri": "https://localhost:8080/",
          "height": 37
        },
        "id": "t_afTj8OAVTn",
        "outputId": "2cebaad1-8051-4531-b949-4918fe747a9c"
      },
      "execution_count": null,
      "outputs": [
        {
          "output_type": "execute_result",
          "data": {
            "text/plain": [
              "195"
            ],
            "text/latex": "$\\displaystyle 195$"
          },
          "metadata": {},
          "execution_count": 160
        }
      ]
    },
    {
      "cell_type": "code",
      "source": [],
      "metadata": {
        "id": "oy4m_clHBbh9"
      },
      "execution_count": null,
      "outputs": []
    },
    {
      "cell_type": "markdown",
      "source": [
        "# **Equações Diferencias Ordinárias - EDOs**\n",
        "\n",
        "\n",
        "\n",
        "$$\\frac{dy}{dt}=f(y,t)$$\n",
        "\n",
        "$$y(0)=y_o$$ , condição inicial"
      ],
      "metadata": {
        "id": "bDRwLI6sBcCa"
      }
    },
    {
      "cell_type": "markdown",
      "source": [
        "## **EDO de 1ª ordem**"
      ],
      "metadata": {
        "id": "oe7xyjCwDH9F"
      }
    },
    {
      "cell_type": "code",
      "source": [
        "t = symbols('t')\n",
        "y = Function('y')\n",
        "\n",
        "Edo = Eq( y(t).diff(t),exp(t) )\n",
        "display(Edo)\n",
        "print()\n",
        "\n",
        "sol = dsolve(Edo, y(t))\n",
        "sol"
      ],
      "metadata": {
        "colab": {
          "base_uri": "https://localhost:8080/",
          "height": 91
        },
        "id": "PdGLAKBKBvwh",
        "outputId": "7dd96f30-17be-486e-fe8d-90389ebea7c9"
      },
      "execution_count": null,
      "outputs": [
        {
          "output_type": "display_data",
          "data": {
            "text/plain": [
              "d           t\n",
              "──(y(t)) = ℯ \n",
              "dt           "
            ],
            "text/latex": "$\\displaystyle \\frac{d}{d t} y{\\left(t \\right)} = e^{t}$"
          },
          "metadata": {}
        },
        {
          "output_type": "stream",
          "name": "stdout",
          "text": [
            "\n"
          ]
        },
        {
          "output_type": "execute_result",
          "data": {
            "text/plain": [
              "             t\n",
              "y(t) = C₁ + ℯ "
            ],
            "text/latex": "$\\displaystyle y{\\left(t \\right)} = C_{1} + e^{t}$"
          },
          "metadata": {},
          "execution_count": 163
        }
      ]
    },
    {
      "cell_type": "markdown",
      "source": [
        "### **Condições iniciais**"
      ],
      "metadata": {
        "id": "twoBEDSYEkk8"
      }
    },
    {
      "cell_type": "code",
      "source": [
        "Edo = Eq( y(t).diff(t) , exp(t))\n",
        "display(Edo)\n",
        "print()\n",
        "\n",
        "solic = dsolve(Edo,y(t), ics = {y(0):5} )\n",
        "display(solic)\n",
        "\n",
        "solr = solic.args[1]\n",
        "solr"
      ],
      "metadata": {
        "colab": {
          "base_uri": "https://localhost:8080/",
          "height": 113
        },
        "id": "HiUgb7okETzH",
        "outputId": "4e1f3e22-3b3b-4461-b9a9-4c7a188bc1e6"
      },
      "execution_count": null,
      "outputs": [
        {
          "output_type": "display_data",
          "data": {
            "text/plain": [
              "d           t\n",
              "──(y(t)) = ℯ \n",
              "dt           "
            ],
            "text/latex": "$\\displaystyle \\frac{d}{d t} y{\\left(t \\right)} = e^{t}$"
          },
          "metadata": {}
        },
        {
          "output_type": "stream",
          "name": "stdout",
          "text": [
            "\n"
          ]
        },
        {
          "output_type": "display_data",
          "data": {
            "text/plain": [
              "        t    \n",
              "y(t) = ℯ  + 4"
            ],
            "text/latex": "$\\displaystyle y{\\left(t \\right)} = e^{t} + 4$"
          },
          "metadata": {}
        },
        {
          "output_type": "execute_result",
          "data": {
            "text/plain": [
              " t    \n",
              "ℯ  + 4"
            ],
            "text/latex": "$\\displaystyle e^{t} + 4$"
          },
          "metadata": {},
          "execution_count": 165
        }
      ]
    },
    {
      "cell_type": "code",
      "source": [
        "plot(solr)"
      ],
      "metadata": {
        "colab": {
          "base_uri": "https://localhost:8080/",
          "height": 313
        },
        "id": "ZSCyQTxkFj3M",
        "outputId": "9b1d8535-ac7d-4b18-8fce-a37eacbb0394"
      },
      "execution_count": null,
      "outputs": [
        {
          "output_type": "display_data",
          "data": {
            "text/plain": [
              "<Figure size 432x288 with 1 Axes>"
            ],
            "image/png": "[encoded data removed]"
          },
          "metadata": {
            "needs_background": "light"
          }
        },
        {
          "output_type": "execute_result",
          "data": {
            "text/plain": [
              "<sympy.plotting.plot.Plot at 0x7f315028c4c0>"
            ]
          },
          "metadata": {},
          "execution_count": 166
        }
      ]
    },
    {
      "cell_type": "markdown",
      "source": [
        "## **EDO de Ordem Superior**"
      ],
      "metadata": {
        "id": "1IdeUES0F9mh"
      }
    },
    {
      "cell_type": "code",
      "source": [
        "Edo2 = Eq( y(t).diff(t,t) - y(t),exp(t))\n",
        "display(Edo2)\n",
        "print()\n",
        "\n",
        "# Condições iniciais\n",
        "# y(0) = 5 ; y'(0)=2\n",
        "\n",
        "sol2 = dsolve( Edo2, y(t), ics = { y(0):5, y(t).diff(t).subs(t,0):2 } )\n",
        "sol2"
      ],
      "metadata": {
        "colab": {
          "base_uri": "https://localhost:8080/",
          "height": 112
        },
        "id": "ElMhQ-nZGA6l",
        "outputId": "2a0b2f80-0dad-457b-dac0-60c331e8a2f6"
      },
      "execution_count": null,
      "outputs": [
        {
          "output_type": "display_data",
          "data": {
            "text/plain": [
              "          2           \n",
              "         d           t\n",
              "-y(t) + ───(y(t)) = ℯ \n",
              "          2           \n",
              "        dt            "
            ],
            "text/latex": "$\\displaystyle - y{\\left(t \\right)} + \\frac{d^{2}}{d t^{2}} y{\\left(t \\right)} = e^{t}$"
          },
          "metadata": {}
        },
        {
          "output_type": "stream",
          "name": "stdout",
          "text": [
            "\n"
          ]
        },
        {
          "output_type": "execute_result",
          "data": {
            "text/plain": [
              "                        -t\n",
              "       ⎛t   13⎞  t   7⋅ℯ  \n",
              "y(t) = ⎜─ + ──⎟⋅ℯ  + ─────\n",
              "       ⎝2   4 ⎠        4  "
            ],
            "text/latex": "$\\displaystyle y{\\left(t \\right)} = \\left(\\frac{t}{2} + \\frac{13}{4}\\right) e^{t} + \\frac{7 e^{- t}}{4}$"
          },
          "metadata": {},
          "execution_count": 168
        }
      ]
    },
    {
      "cell_type": "code",
      "source": [
        "sol2r=sol2.args[1]\n",
        "plot(sol2r)"
      ],
      "metadata": {
        "colab": {
          "base_uri": "https://localhost:8080/",
          "height": 313
        },
        "id": "Zl37TFG3HrIK",
        "outputId": "f3d74d35-d358-4466-b7cf-6d1ec7d3d84b"
      },
      "execution_count": null,
      "outputs": [
        {
          "output_type": "display_data",
          "data": {
            "text/plain": [
              "<Figure size 432x288 with 1 Axes>"
            ],
            "image/png": "[encoded data removed]"
          },
          "metadata": {
            "needs_background": "light"
          }
        },
        {
          "output_type": "execute_result",
          "data": {
            "text/plain": [
              "<sympy.plotting.plot.Plot at 0x7f3147f45a60>"
            ]
          },
          "metadata": {},
          "execution_count": 170
        }
      ]
    },
    {
      "cell_type": "code",
      "source": [
        "Edo3 = Eq ( y(t).diff(t,3) - y(t),exp(t)  )\n",
        "display(Edo3)\n",
        "print()\n",
        "\n",
        "sol3 = dsolve( Edo3, y(t) )\n",
        "sol3\n",
        "\n",
        "# y(0) = 6, y'(0)=7, y''(0)=0"
      ],
      "metadata": {
        "colab": {
          "base_uri": "https://localhost:8080/",
          "height": 122
        },
        "id": "iPYUqX07IMn0",
        "outputId": "76e13fae-57f3-4dcc-e8eb-d3a3393fe776"
      },
      "execution_count": null,
      "outputs": [
        {
          "output_type": "display_data",
          "data": {
            "text/plain": [
              "          3           \n",
              "         d           t\n",
              "-y(t) + ───(y(t)) = ℯ \n",
              "          3           \n",
              "        dt            "
            ],
            "text/latex": "$\\displaystyle - y{\\left(t \\right)} + \\frac{d^{3}}{d t^{3}} y{\\left(t \\right)} = e^{t}$"
          },
          "metadata": {}
        },
        {
          "output_type": "stream",
          "name": "stdout",
          "text": [
            "\n"
          ]
        },
        {
          "output_type": "execute_result",
          "data": {
            "text/plain": [
              "                                                    -t \n",
              "                                                    ───\n",
              "       ⎛     t⎞  t   ⎛      ⎛√3⋅t⎞         ⎛√3⋅t⎞⎞   2 \n",
              "y(t) = ⎜C₁ + ─⎟⋅ℯ  + ⎜C₂⋅sin⎜────⎟ + C₃⋅cos⎜────⎟⎟⋅ℯ   \n",
              "       ⎝     3⎠      ⎝      ⎝ 2  ⎠         ⎝ 2  ⎠⎠     "
            ],
            "text/latex": "$\\displaystyle y{\\left(t \\right)} = \\left(C_{1} + \\frac{t}{3}\\right) e^{t} + \\left(C_{2} \\sin{\\left(\\frac{\\sqrt{3} t}{2} \\right)} + C_{3} \\cos{\\left(\\frac{\\sqrt{3} t}{2} \\right)}\\right) e^{- \\frac{t}{2}}$"
          },
          "metadata": {},
          "execution_count": 172
        }
      ]
    },
    {
      "cell_type": "code",
      "source": [
        "sol3 = dsolve( Edo3, y(t) ,\n",
        "              ics = {y(0):6, y(t).diff(t).subs(t,0):7 ,\n",
        "                     y(t).diff(t,2).subs(t,0):0} )\n",
        "sol3"
      ],
      "metadata": {
        "colab": {
          "base_uri": "https://localhost:8080/",
          "height": 80
        },
        "id": "uMaPsb-fJPpe",
        "outputId": "6df76dd9-b599-4263-ff1c-c4b8a5b44c13"
      },
      "execution_count": null,
      "outputs": [
        {
          "output_type": "execute_result",
          "data": {
            "text/plain": [
              "                    ⎛         ⎛√3⋅t⎞              ⎞  -t \n",
              "                    ⎜22⋅√3⋅sin⎜────⎟              ⎟  ───\n",
              "       ⎛t    ⎞  t   ⎜         ⎝ 2  ⎠        ⎛√3⋅t⎞⎟   2 \n",
              "y(t) = ⎜─ + 4⎟⋅ℯ  + ⎜─────────────── + 2⋅cos⎜────⎟⎟⋅ℯ   \n",
              "       ⎝3    ⎠      ⎝       9               ⎝ 2  ⎠⎠     "
            ],
            "text/latex": "$\\displaystyle y{\\left(t \\right)} = \\left(\\frac{t}{3} + 4\\right) e^{t} + \\left(\\frac{22 \\sqrt{3} \\sin{\\left(\\frac{\\sqrt{3} t}{2} \\right)}}{9} + 2 \\cos{\\left(\\frac{\\sqrt{3} t}{2} \\right)}\\right) e^{- \\frac{t}{2}}$"
          },
          "metadata": {},
          "execution_count": 175
        }
      ]
    },
    {
      "cell_type": "code",
      "source": [
        "sol3r = sol3.args[1]\n",
        "plot(sol3r,ylim=[-50,200])"
      ],
      "metadata": {
        "colab": {
          "base_uri": "https://localhost:8080/",
          "height": 314
        },
        "id": "lwEqoDPeJylt",
        "outputId": "58064580-d264-4638-a2e6-57bf4b5a14bb"
      },
      "execution_count": null,
      "outputs": [
        {
          "output_type": "display_data",
          "data": {
            "text/plain": [
              "<Figure size 432x288 with 1 Axes>"
            ],
            "image/png": "[encoded data removed]"
          },
          "metadata": {
            "needs_background": "light"
          }
        },
        {
          "output_type": "execute_result",
          "data": {
            "text/plain": [
              "<sympy.plotting.plot.Plot at 0x7f315010cbb0>"
            ]
          },
          "metadata": {},
          "execution_count": 179
        }
      ]
    },
    {
      "cell_type": "code",
      "source": [],
      "metadata": {
        "id": "aRSWNIFo2iqp"
      },
      "execution_count": null,
      "outputs": []
    },
    {
      "cell_type": "markdown",
      "source": [
        "# **Operações com Matrizes e Vetores**"
      ],
      "metadata": {
        "id": "Z7Gx1d4u2eAB"
      }
    },
    {
      "cell_type": "markdown",
      "source": [
        "Matriz 2x2 ,"
      ],
      "metadata": {
        "id": "CBZWa-7z5kgp"
      }
    },
    {
      "cell_type": "code",
      "source": [
        "M = Matrix( [\n",
        "    [ 1, 2 ] , [ 5,8 ]\n",
        " ] )\n",
        "M"
      ],
      "metadata": {
        "colab": {
          "base_uri": "https://localhost:8080/",
          "height": 58
        },
        "id": "Z-HcK7Uf2iIC",
        "outputId": "db1ce9bd-ec36-4803-f07b-a4635961e9d6"
      },
      "execution_count": null,
      "outputs": [
        {
          "output_type": "execute_result",
          "data": {
            "text/plain": [
              "⎡1  2⎤\n",
              "⎢    ⎥\n",
              "⎣5  8⎦"
            ],
            "text/latex": "$\\displaystyle \\left[\\begin{matrix}1 & 2\\\\5 & 8\\end{matrix}\\right]$"
          },
          "metadata": {},
          "execution_count": 2
        }
      ]
    },
    {
      "cell_type": "code",
      "source": [
        "a, b , c, d, e, f = symbols(' a b c d e f ')\n",
        "\n",
        "M1 = Matrix(\n",
        "    [\n",
        "        [a, b, c] ,\n",
        "     [d,e,f]\n",
        "    ]\n",
        ")\n",
        "M1"
      ],
      "metadata": {
        "colab": {
          "base_uri": "https://localhost:8080/",
          "height": 58
        },
        "id": "mlFRPyzq6SM1",
        "outputId": "7dea184c-7c3c-4d2e-94c3-e7b24ee7e59b"
      },
      "execution_count": null,
      "outputs": [
        {
          "output_type": "execute_result",
          "data": {
            "text/plain": [
              "⎡a  b  c⎤\n",
              "⎢       ⎥\n",
              "⎣d  e  f⎦"
            ],
            "text/latex": "$\\displaystyle \\left[\\begin{matrix}a & b & c\\\\d & e & f\\end{matrix}\\right]$"
          },
          "metadata": {},
          "execution_count": 4
        }
      ]
    },
    {
      "cell_type": "code",
      "source": [
        "M[1,1]"
      ],
      "metadata": {
        "colab": {
          "base_uri": "https://localhost:8080/",
          "height": 37
        },
        "id": "_GSsgvDz7HUY",
        "outputId": "4096924b-ad9e-4995-bbf0-71eb44a69f8e"
      },
      "execution_count": null,
      "outputs": [
        {
          "output_type": "execute_result",
          "data": {
            "text/plain": [
              "8"
            ],
            "text/latex": "$\\displaystyle 8$"
          },
          "metadata": {},
          "execution_count": 5
        }
      ]
    },
    {
      "cell_type": "code",
      "source": [
        "M[1,0]"
      ],
      "metadata": {
        "colab": {
          "base_uri": "https://localhost:8080/",
          "height": 37
        },
        "id": "rc4QAIdz7k92",
        "outputId": "7540f290-9a85-440c-9059-2d8533a999d1"
      },
      "execution_count": null,
      "outputs": [
        {
          "output_type": "execute_result",
          "data": {
            "text/plain": [
              "5"
            ],
            "text/latex": "$\\displaystyle 5$"
          },
          "metadata": {},
          "execution_count": 6
        }
      ]
    },
    {
      "cell_type": "code",
      "source": [
        "M1[1,2]"
      ],
      "metadata": {
        "colab": {
          "base_uri": "https://localhost:8080/",
          "height": 38
        },
        "id": "wIUA3Uyo7rrl",
        "outputId": "b4e7be2c-b133-4b62-f904-75f6d49ba2e4"
      },
      "execution_count": null,
      "outputs": [
        {
          "output_type": "execute_result",
          "data": {
            "text/plain": [
              "f"
            ],
            "text/latex": "$\\displaystyle f$"
          },
          "metadata": {},
          "execution_count": 7
        }
      ]
    },
    {
      "cell_type": "code",
      "source": [
        "conta = M[1,1]+M[1,0]+M1[1,2]\n",
        "conta"
      ],
      "metadata": {
        "colab": {
          "base_uri": "https://localhost:8080/",
          "height": 38
        },
        "id": "eRArn7vY72Vq",
        "outputId": "6c584454-7b83-4088-89d0-d99bb44913fa"
      },
      "execution_count": null,
      "outputs": [
        {
          "output_type": "execute_result",
          "data": {
            "text/plain": [
              "f + 13"
            ],
            "text/latex": "$\\displaystyle f + 13$"
          },
          "metadata": {},
          "execution_count": 8
        }
      ]
    },
    {
      "cell_type": "code",
      "source": [
        "# Vetor\n",
        "V1 = Matrix(\n",
        "    [ 1,0,9 ]\n",
        ")\n",
        "V1"
      ],
      "metadata": {
        "colab": {
          "base_uri": "https://localhost:8080/",
          "height": 78
        },
        "id": "28SM6hZW8GKA",
        "outputId": "a26810b7-878f-4fa9-8555-edd3ad0a2541"
      },
      "execution_count": null,
      "outputs": [
        {
          "output_type": "execute_result",
          "data": {
            "text/plain": [
              "⎡1⎤\n",
              "⎢ ⎥\n",
              "⎢0⎥\n",
              "⎢ ⎥\n",
              "⎣9⎦"
            ],
            "text/latex": "$\\displaystyle \\left[\\begin{matrix}1\\\\0\\\\9\\end{matrix}\\right]$"
          },
          "metadata": {},
          "execution_count": 10
        }
      ]
    },
    {
      "cell_type": "code",
      "source": [
        "V2 = Matrix(\n",
        "    [\n",
        "        [2],\n",
        "     [5]\n",
        "     ]\n",
        ")\n",
        "V2"
      ],
      "metadata": {
        "colab": {
          "base_uri": "https://localhost:8080/",
          "height": 58
        },
        "id": "e0RswZSl8xH0",
        "outputId": "bc875ae1-bb1e-43dd-ff13-29aa6fc32ae3"
      },
      "execution_count": null,
      "outputs": [
        {
          "output_type": "execute_result",
          "data": {
            "text/plain": [
              "⎡2⎤\n",
              "⎢ ⎥\n",
              "⎣5⎦"
            ],
            "text/latex": "$\\displaystyle \\left[\\begin{matrix}2\\\\5\\end{matrix}\\right]$"
          },
          "metadata": {},
          "execution_count": 11
        }
      ]
    },
    {
      "cell_type": "markdown",
      "source": [
        "M { 2 x 3 }  T {3 x 2}"
      ],
      "metadata": {
        "id": "h42ygSrX9Rxq"
      }
    },
    {
      "cell_type": "code",
      "source": [
        "M1"
      ],
      "metadata": {
        "colab": {
          "base_uri": "https://localhost:8080/",
          "height": 58
        },
        "id": "nIUR6hdd9lan",
        "outputId": "8c900b7d-5e41-402b-db20-8193b90a46c8"
      },
      "execution_count": null,
      "outputs": [
        {
          "output_type": "execute_result",
          "data": {
            "text/plain": [
              "⎡a  b  c⎤\n",
              "⎢       ⎥\n",
              "⎣d  e  f⎦"
            ],
            "text/latex": "$\\displaystyle \\left[\\begin{matrix}a & b & c\\\\d & e & f\\end{matrix}\\right]$"
          },
          "metadata": {},
          "execution_count": 12
        }
      ]
    },
    {
      "cell_type": "code",
      "source": [
        "# peroduto de M1 {2x3} * V1 {3x1} ==> {2x1}\n",
        "produto = M1*V1\n",
        "produto"
      ],
      "metadata": {
        "colab": {
          "base_uri": "https://localhost:8080/",
          "height": 58
        },
        "id": "pL25P1Zd9FJW",
        "outputId": "baf7c089-7763-4d9e-e7c4-6cf5278b7add"
      },
      "execution_count": null,
      "outputs": [
        {
          "output_type": "execute_result",
          "data": {
            "text/plain": [
              "⎡a + 9⋅c⎤\n",
              "⎢       ⎥\n",
              "⎣d + 9⋅f⎦"
            ],
            "text/latex": "$\\displaystyle \\left[\\begin{matrix}a + 9 c\\\\d + 9 f\\end{matrix}\\right]$"
          },
          "metadata": {},
          "execution_count": 13
        }
      ]
    },
    {
      "cell_type": "code",
      "source": [
        "M1.shape"
      ],
      "metadata": {
        "colab": {
          "base_uri": "https://localhost:8080/",
          "height": 37
        },
        "id": "-5V_c3eN-xY2",
        "outputId": "06db2b11-8140-4a92-b02d-8df570190e80"
      },
      "execution_count": null,
      "outputs": [
        {
          "output_type": "execute_result",
          "data": {
            "text/plain": [
              "(2, 3)"
            ],
            "text/latex": "$\\displaystyle \\left( 2, \\  3\\right)$"
          },
          "metadata": {},
          "execution_count": 14
        }
      ]
    },
    {
      "cell_type": "code",
      "source": [
        "M1.row(0)"
      ],
      "metadata": {
        "colab": {
          "base_uri": "https://localhost:8080/",
          "height": 38
        },
        "id": "FsHd5sBz--p3",
        "outputId": "ae025642-ad78-4fa8-d7a3-7e4bb52e3342"
      },
      "execution_count": null,
      "outputs": [
        {
          "output_type": "execute_result",
          "data": {
            "text/plain": [
              "[a  b  c]"
            ],
            "text/latex": "$\\displaystyle \\left[\\begin{matrix}a & b & c\\end{matrix}\\right]$"
          },
          "metadata": {},
          "execution_count": 15
        }
      ]
    },
    {
      "cell_type": "code",
      "source": [
        "M1.col(2)"
      ],
      "metadata": {
        "colab": {
          "base_uri": "https://localhost:8080/",
          "height": 58
        },
        "id": "jh9x1EzD_Lfr",
        "outputId": "8d10caff-905c-4ddb-edd8-9c8f5dda744d"
      },
      "execution_count": null,
      "outputs": [
        {
          "output_type": "execute_result",
          "data": {
            "text/plain": [
              "⎡c⎤\n",
              "⎢ ⎥\n",
              "⎣f⎦"
            ],
            "text/latex": "$\\displaystyle \\left[\\begin{matrix}c\\\\f\\end{matrix}\\right]$"
          },
          "metadata": {},
          "execution_count": 16
        }
      ]
    },
    {
      "cell_type": "markdown",
      "source": [
        "## **Transposta**"
      ],
      "metadata": {
        "id": "if0pUQ1-_c7V"
      }
    },
    {
      "cell_type": "code",
      "source": [
        "M"
      ],
      "metadata": {
        "colab": {
          "base_uri": "https://localhost:8080/",
          "height": 58
        },
        "id": "MA9L3pxy_zCk",
        "outputId": "f8e518df-80c1-48e3-c224-e9a1b7ef3ef6"
      },
      "execution_count": null,
      "outputs": [
        {
          "output_type": "execute_result",
          "data": {
            "text/plain": [
              "⎡1  2⎤\n",
              "⎢    ⎥\n",
              "⎣5  8⎦"
            ],
            "text/latex": "$\\displaystyle \\left[\\begin{matrix}1 & 2\\\\5 & 8\\end{matrix}\\right]$"
          },
          "metadata": {},
          "execution_count": 17
        }
      ]
    },
    {
      "cell_type": "code",
      "source": [
        "# elemento (1,2) ==> (2,1)\n",
        "\n",
        "M.T"
      ],
      "metadata": {
        "colab": {
          "base_uri": "https://localhost:8080/",
          "height": 58
        },
        "id": "oL9uvc04_ZCp",
        "outputId": "c9328450-4524-4863-8bb7-74a6e478462b"
      },
      "execution_count": null,
      "outputs": [
        {
          "output_type": "execute_result",
          "data": {
            "text/plain": [
              "⎡1  5⎤\n",
              "⎢    ⎥\n",
              "⎣2  8⎦"
            ],
            "text/latex": "$\\displaystyle \\left[\\begin{matrix}1 & 5\\\\2 & 8\\end{matrix}\\right]$"
          },
          "metadata": {},
          "execution_count": 18
        }
      ]
    },
    {
      "cell_type": "code",
      "source": [
        "M3 = Matrix(\n",
        "    [\n",
        "        [1,3,-19],\n",
        "     [2,10,89],\n",
        "     [-9,-6,-2]\n",
        "    ]\n",
        ")\n",
        "M3"
      ],
      "metadata": {
        "colab": {
          "base_uri": "https://localhost:8080/",
          "height": 78
        },
        "id": "1W4Zfq0EAPrH",
        "outputId": "4e7880ce-c2f4-4764-8a94-e18c6a423132"
      },
      "execution_count": null,
      "outputs": [
        {
          "output_type": "execute_result",
          "data": {
            "text/plain": [
              "⎡1   3   -19⎤\n",
              "⎢           ⎥\n",
              "⎢2   10  89 ⎥\n",
              "⎢           ⎥\n",
              "⎣-9  -6  -2 ⎦"
            ],
            "text/latex": "$\\displaystyle \\left[\\begin{matrix}1 & 3 & -19\\\\2 & 10 & 89\\\\-9 & -6 & -2\\end{matrix}\\right]$"
          },
          "metadata": {},
          "execution_count": 20
        }
      ]
    },
    {
      "cell_type": "code",
      "source": [
        "M3.T"
      ],
      "metadata": {
        "colab": {
          "base_uri": "https://localhost:8080/",
          "height": 78
        },
        "id": "gor_ObhNAgi7",
        "outputId": "f396b8da-b255-4d27-8789-53e49b25a1f6"
      },
      "execution_count": null,
      "outputs": [
        {
          "output_type": "execute_result",
          "data": {
            "text/plain": [
              "⎡ 1   2   -9⎤\n",
              "⎢           ⎥\n",
              "⎢ 3   10  -6⎥\n",
              "⎢           ⎥\n",
              "⎣-19  89  -2⎦"
            ],
            "text/latex": "$\\displaystyle \\left[\\begin{matrix}1 & 2 & -9\\\\3 & 10 & -6\\\\-19 & 89 & -2\\end{matrix}\\right]$"
          },
          "metadata": {},
          "execution_count": 21
        }
      ]
    },
    {
      "cell_type": "markdown",
      "source": [
        "## **Inversa**"
      ],
      "metadata": {
        "id": "mBjKCH1AAnU1"
      }
    },
    {
      "cell_type": "code",
      "source": [
        "M"
      ],
      "metadata": {
        "colab": {
          "base_uri": "https://localhost:8080/",
          "height": 58
        },
        "id": "hvKED2YCAwRI",
        "outputId": "74ea2c05-e800-45be-d4aa-f5863c6bb543"
      },
      "execution_count": null,
      "outputs": [
        {
          "output_type": "execute_result",
          "data": {
            "text/plain": [
              "⎡1  2⎤\n",
              "⎢    ⎥\n",
              "⎣5  8⎦"
            ],
            "text/latex": "$\\displaystyle \\left[\\begin{matrix}1 & 2\\\\5 & 8\\end{matrix}\\right]$"
          },
          "metadata": {},
          "execution_count": 22
        }
      ]
    },
    {
      "cell_type": "code",
      "source": [
        "Mi = M**(-1)\n",
        "Mi"
      ],
      "metadata": {
        "colab": {
          "base_uri": "https://localhost:8080/",
          "height": 58
        },
        "id": "YGgEyy50Aq3A",
        "outputId": "2381d7f1-9163-49e3-9db9-3788d98b67b6"
      },
      "execution_count": null,
      "outputs": [
        {
          "output_type": "execute_result",
          "data": {
            "text/plain": [
              "⎡-4    1  ⎤\n",
              "⎢         ⎥\n",
              "⎣5/2  -1/2⎦"
            ],
            "text/latex": "$\\displaystyle \\left[\\begin{matrix}-4 & 1\\\\\\frac{5}{2} & - \\frac{1}{2}\\end{matrix}\\right]$"
          },
          "metadata": {},
          "execution_count": 23
        }
      ]
    },
    {
      "cell_type": "code",
      "source": [
        "M3"
      ],
      "metadata": {
        "colab": {
          "base_uri": "https://localhost:8080/",
          "height": 78
        },
        "id": "L0fvVdpXBO5l",
        "outputId": "c50ef71d-25e6-444b-cc4a-32d8ea29cdd8"
      },
      "execution_count": null,
      "outputs": [
        {
          "output_type": "execute_result",
          "data": {
            "text/plain": [
              "⎡1   3   -19⎤\n",
              "⎢           ⎥\n",
              "⎢2   10  89 ⎥\n",
              "⎢           ⎥\n",
              "⎣-9  -6  -2 ⎦"
            ],
            "text/latex": "$\\displaystyle \\left[\\begin{matrix}1 & 3 & -19\\\\2 & 10 & 89\\\\-9 & -6 & -2\\end{matrix}\\right]$"
          },
          "metadata": {},
          "execution_count": 26
        }
      ]
    },
    {
      "cell_type": "code",
      "source": [
        "M3i = M3.inv()\n",
        "M3i"
      ],
      "metadata": {
        "colab": {
          "base_uri": "https://localhost:8080/",
          "height": 78
        },
        "id": "FMeMuqBgBHWJ",
        "outputId": "2ac94ad8-f5a9-44c0-8f7b-528ab0b65ff9"
      },
      "execution_count": null,
      "outputs": [
        {
          "output_type": "execute_result",
          "data": {
            "text/plain": [
              "⎡-514   -120    -457  ⎤\n",
              "⎢─────  ─────   ───── ⎥\n",
              "⎢ 3359   3359    3359 ⎥\n",
              "⎢                     ⎥\n",
              "⎢797    173     127   ⎥\n",
              "⎢────   ────    ────  ⎥\n",
              "⎢3359   3359    3359  ⎥\n",
              "⎢                     ⎥\n",
              "⎢-78     21           ⎥\n",
              "⎢────   ────   -4/3359⎥\n",
              "⎣3359   3359          ⎦"
            ],
            "text/latex": "$\\displaystyle \\left[\\begin{matrix}- \\frac{514}{3359} & - \\frac{120}{3359} & - \\frac{457}{3359}\\\\\\frac{797}{3359} & \\frac{173}{3359} & \\frac{127}{3359}\\\\- \\frac{78}{3359} & \\frac{21}{3359} & - \\frac{4}{3359}\\end{matrix}\\right]$"
          },
          "metadata": {},
          "execution_count": 27
        }
      ]
    },
    {
      "cell_type": "code",
      "source": [
        "M4 = Matrix(\n",
        "    [\n",
        "        [a,b,c],\n",
        "     [c,d,e],\n",
        "    [2*c,a,-f]\n",
        "    ]\n",
        ")\n",
        "M4"
      ],
      "metadata": {
        "colab": {
          "base_uri": "https://localhost:8080/",
          "height": 78
        },
        "id": "VLuum92nB3rx",
        "outputId": "a7a7af3a-b0d7-4d30-ee00-8dda028ecdec"
      },
      "execution_count": null,
      "outputs": [
        {
          "output_type": "execute_result",
          "data": {
            "text/plain": [
              "⎡ a   b  c ⎤\n",
              "⎢          ⎥\n",
              "⎢ c   d  e ⎥\n",
              "⎢          ⎥\n",
              "⎣2⋅c  a  -f⎦"
            ],
            "text/latex": "$\\displaystyle \\left[\\begin{matrix}a & b & c\\\\c & d & e\\\\2 c & a & - f\\end{matrix}\\right]$"
          },
          "metadata": {},
          "execution_count": 28
        }
      ]
    },
    {
      "cell_type": "code",
      "source": [
        "M4i = M4.inv()\n",
        "M4i"
      ],
      "metadata": {
        "colab": {
          "base_uri": "https://localhost:8080/",
          "height": 93
        },
        "id": "3Qmp9wrrCIVd",
        "outputId": "c158ba1d-ede0-452b-9500-6e1f036aa00c"
      },
      "execution_count": null,
      "outputs": [
        {
          "output_type": "execute_result",
          "data": {
            "text/plain": [
              "⎡                  a⋅e + d⋅f                                       -a⋅c - b⋅f \n",
              "⎢──────────────────────────────────────────────  ─────────────────────────────\n",
              "⎢ 2        2                                2     2        2                  \n",
              "⎢a ⋅e - a⋅c  + a⋅d⋅f - 2⋅b⋅c⋅e - b⋅c⋅f + 2⋅c ⋅d  a ⋅e - a⋅c  + a⋅d⋅f - 2⋅b⋅c⋅e\n",
              "⎢                                                                             \n",
              "⎢                                                                           2 \n",
              "⎢                 -2⋅c⋅e - c⋅f                                     a⋅f + 2⋅c  \n",
              "⎢──────────────────────────────────────────────  ─────────────────────────────\n",
              "⎢ 2        2                                2     2        2                  \n",
              "⎢a ⋅e - a⋅c  + a⋅d⋅f - 2⋅b⋅c⋅e - b⋅c⋅f + 2⋅c ⋅d  a ⋅e - a⋅c  + a⋅d⋅f - 2⋅b⋅c⋅e\n",
              "⎢                                                                             \n",
              "⎢                                                                   2         \n",
              "⎢                 -a⋅c + 2⋅c⋅d                                     a  - 2⋅b⋅c \n",
              "⎢──────────────────────────────────────────────  ─────────────────────────────\n",
              "⎢ 2        2                                2     2        2                  \n",
              "⎣a ⋅e - a⋅c  + a⋅d⋅f - 2⋅b⋅c⋅e - b⋅c⋅f + 2⋅c ⋅d  a ⋅e - a⋅c  + a⋅d⋅f - 2⋅b⋅c⋅e\n",
              "\n",
              "                                     -b⋅e + c⋅d                  ⎤\n",
              "─────────────────  ──────────────────────────────────────────────⎥\n",
              "              2     2        2                                2  ⎥\n",
              " - b⋅c⋅f + 2⋅c ⋅d  a ⋅e - a⋅c  + a⋅d⋅f - 2⋅b⋅c⋅e - b⋅c⋅f + 2⋅c ⋅d⎥\n",
              "                                                                 ⎥\n",
              "                                             2                   ⎥\n",
              "                                      a⋅e - c                    ⎥\n",
              "─────────────────  ──────────────────────────────────────────────⎥\n",
              "              2     2        2                                2  ⎥\n",
              " - b⋅c⋅f + 2⋅c ⋅d  a ⋅e - a⋅c  + a⋅d⋅f - 2⋅b⋅c⋅e - b⋅c⋅f + 2⋅c ⋅d⎥\n",
              "                                                                 ⎥\n",
              "                                                                 ⎥\n",
              "                                     -a⋅d + b⋅c                  ⎥\n",
              "─────────────────  ──────────────────────────────────────────────⎥\n",
              "              2     2        2                                2  ⎥\n",
              " - b⋅c⋅f + 2⋅c ⋅d  a ⋅e - a⋅c  + a⋅d⋅f - 2⋅b⋅c⋅e - b⋅c⋅f + 2⋅c ⋅d⎦"
            ],
            "text/latex": "$\\displaystyle \\left[\\begin{matrix}\\frac{a e + d f}{a^{2} e - a c^{2} + a d f - 2 b c e - b c f + 2 c^{2} d} & \\frac{- a c - b f}{a^{2} e - a c^{2} + a d f - 2 b c e - b c f + 2 c^{2} d} & \\frac{- b e + c d}{a^{2} e - a c^{2} + a d f - 2 b c e - b c f + 2 c^{2} d}\\\\\\frac{- 2 c e - c f}{a^{2} e - a c^{2} + a d f - 2 b c e - b c f + 2 c^{2} d} & \\frac{a f + 2 c^{2}}{a^{2} e - a c^{2} + a d f - 2 b c e - b c f + 2 c^{2} d} & \\frac{a e - c^{2}}{a^{2} e - a c^{2} + a d f - 2 b c e - b c f + 2 c^{2} d}\\\\\\frac{- a c + 2 c d}{a^{2} e - a c^{2} + a d f - 2 b c e - b c f + 2 c^{2} d} & \\frac{a^{2} - 2 b c}{a^{2} e - a c^{2} + a d f - 2 b c e - b c f + 2 c^{2} d} & \\frac{- a d + b c}{a^{2} e - a c^{2} + a d f - 2 b c e - b c f + 2 c^{2} d}\\end{matrix}\\right]$"
          },
          "metadata": {},
          "execution_count": 29
        }
      ]
    },
    {
      "cell_type": "code",
      "source": [
        "MI = M4*M4i\n",
        "MI"
      ],
      "metadata": {
        "colab": {
          "base_uri": "https://localhost:8080/",
          "height": 129
        },
        "id": "3IT1UJ9gCq0x",
        "outputId": "fdea8d0f-3c57-4a8e-dd75-3ecbcb9403bc"
      },
      "execution_count": null,
      "outputs": [
        {
          "output_type": "execute_result",
          "data": {
            "text/plain": [
              "⎡                                                                             \n",
              "⎢                a⋅(a⋅e + d⋅f)                                   b⋅(-2⋅c⋅e - c\n",
              "⎢────────────────────────────────────────────── + ────────────────────────────\n",
              "⎢ 2        2                                2      2        2                 \n",
              "⎢a ⋅e - a⋅c  + a⋅d⋅f - 2⋅b⋅c⋅e - b⋅c⋅f + 2⋅c ⋅d   a ⋅e - a⋅c  + a⋅d⋅f - 2⋅b⋅c⋅\n",
              "⎢                                                                             \n",
              "⎢                                                                             \n",
              "⎢                c⋅(a⋅e + d⋅f)                                   d⋅(-2⋅c⋅e - c\n",
              "⎢────────────────────────────────────────────── + ────────────────────────────\n",
              "⎢ 2        2                                2      2        2                 \n",
              "⎢a ⋅e - a⋅c  + a⋅d⋅f - 2⋅b⋅c⋅e - b⋅c⋅f + 2⋅c ⋅d   a ⋅e - a⋅c  + a⋅d⋅f - 2⋅b⋅c⋅\n",
              "⎢                                                                             \n",
              "⎢                                                                             \n",
              "⎢               a⋅(-2⋅c⋅e - c⋅f)                                 2⋅c⋅(a⋅e + d⋅\n",
              "⎢────────────────────────────────────────────── + ────────────────────────────\n",
              "⎢ 2        2                                2      2        2                 \n",
              "⎣a ⋅e - a⋅c  + a⋅d⋅f - 2⋅b⋅c⋅e - b⋅c⋅f + 2⋅c ⋅d   a ⋅e - a⋅c  + a⋅d⋅f - 2⋅b⋅c⋅\n",
              "\n",
              "                                                                              \n",
              "⋅f)                                 c⋅(-a⋅c + 2⋅c⋅d)                          \n",
              "────────────────── + ──────────────────────────────────────────────  ─────────\n",
              "               2      2        2                                2     2       \n",
              "e - b⋅c⋅f + 2⋅c ⋅d   a ⋅e - a⋅c  + a⋅d⋅f - 2⋅b⋅c⋅e - b⋅c⋅f + 2⋅c ⋅d  a ⋅e - a⋅\n",
              "                                                                              \n",
              "                                                                              \n",
              "⋅f)                                 e⋅(-a⋅c + 2⋅c⋅d)                          \n",
              "────────────────── + ──────────────────────────────────────────────  ─────────\n",
              "               2      2        2                                2     2       \n",
              "e - b⋅c⋅f + 2⋅c ⋅d   a ⋅e - a⋅c  + a⋅d⋅f - 2⋅b⋅c⋅e - b⋅c⋅f + 2⋅c ⋅d  a ⋅e - a⋅\n",
              "                                                                              \n",
              "                                                                              \n",
              "f)                                  f⋅(-a⋅c + 2⋅c⋅d)                          \n",
              "────────────────── - ──────────────────────────────────────────────  ─────────\n",
              "               2      2        2                                2     2       \n",
              "e - b⋅c⋅f + 2⋅c ⋅d   a ⋅e - a⋅c  + a⋅d⋅f - 2⋅b⋅c⋅e - b⋅c⋅f + 2⋅c ⋅d  a ⋅e - a⋅\n",
              "\n",
              "                                                          ⎛         2⎞        \n",
              "       a⋅(-a⋅c - b⋅f)                                   b⋅⎝a⋅f + 2⋅c ⎠        \n",
              "───────────────────────────────────── + ──────────────────────────────────────\n",
              " 2                                2      2        2                           \n",
              "c  + a⋅d⋅f - 2⋅b⋅c⋅e - b⋅c⋅f + 2⋅c ⋅d   a ⋅e - a⋅c  + a⋅d⋅f - 2⋅b⋅c⋅e - b⋅c⋅f \n",
              "                                                                              \n",
              "                                                          ⎛         2⎞        \n",
              "       c⋅(-a⋅c - b⋅f)                                   d⋅⎝a⋅f + 2⋅c ⎠        \n",
              "───────────────────────────────────── + ──────────────────────────────────────\n",
              " 2                                2      2        2                           \n",
              "c  + a⋅d⋅f - 2⋅b⋅c⋅e - b⋅c⋅f + 2⋅c ⋅d   a ⋅e - a⋅c  + a⋅d⋅f - 2⋅b⋅c⋅e - b⋅c⋅f \n",
              "                                                                              \n",
              "         ⎛         2⎞                                                         \n",
              "       a⋅⎝a⋅f + 2⋅c ⎠                                  2⋅c⋅(-a⋅c - b⋅f)       \n",
              "───────────────────────────────────── + ──────────────────────────────────────\n",
              " 2                                2      2        2                           \n",
              "c  + a⋅d⋅f - 2⋅b⋅c⋅e - b⋅c⋅f + 2⋅c ⋅d   a ⋅e - a⋅c  + a⋅d⋅f - 2⋅b⋅c⋅e - b⋅c⋅f \n",
              "\n",
              "                             ⎛ 2        ⎞                                     \n",
              "                           c⋅⎝a  - 2⋅b⋅c⎠                                  a⋅(\n",
              "──────── + ──────────────────────────────────────────────  ───────────────────\n",
              "     2      2        2                                2     2        2        \n",
              "+ 2⋅c ⋅d   a ⋅e - a⋅c  + a⋅d⋅f - 2⋅b⋅c⋅e - b⋅c⋅f + 2⋅c ⋅d  a ⋅e - a⋅c  + a⋅d⋅f\n",
              "                                                                              \n",
              "                             ⎛ 2        ⎞                                     \n",
              "                           e⋅⎝a  - 2⋅b⋅c⎠                                  c⋅(\n",
              "──────── + ──────────────────────────────────────────────  ───────────────────\n",
              "     2      2        2                                2     2        2        \n",
              "+ 2⋅c ⋅d   a ⋅e - a⋅c  + a⋅d⋅f - 2⋅b⋅c⋅e - b⋅c⋅f + 2⋅c ⋅d  a ⋅e - a⋅c  + a⋅d⋅f\n",
              "                                                                              \n",
              "                             ⎛ 2        ⎞                                     \n",
              "                           f⋅⎝a  - 2⋅b⋅c⎠                                   a⋅\n",
              "──────── - ──────────────────────────────────────────────  ───────────────────\n",
              "     2      2        2                                2     2        2        \n",
              "+ 2⋅c ⋅d   a ⋅e - a⋅c  + a⋅d⋅f - 2⋅b⋅c⋅e - b⋅c⋅f + 2⋅c ⋅d  a ⋅e - a⋅c  + a⋅d⋅f\n",
              "\n",
              "                                                 ⎛       2⎞                   \n",
              "-b⋅e + c⋅d)                                    b⋅⎝a⋅e - c ⎠                   \n",
              "─────────────────────────── + ────────────────────────────────────────────── +\n",
              "                        2      2        2                                2    \n",
              " - 2⋅b⋅c⋅e - b⋅c⋅f + 2⋅c ⋅d   a ⋅e - a⋅c  + a⋅d⋅f - 2⋅b⋅c⋅e - b⋅c⋅f + 2⋅c ⋅d  \n",
              "                                                                              \n",
              "                                                 ⎛       2⎞                   \n",
              "-b⋅e + c⋅d)                                    d⋅⎝a⋅e - c ⎠                   \n",
              "─────────────────────────── + ────────────────────────────────────────────── +\n",
              "                        2      2        2                                2    \n",
              " - 2⋅b⋅c⋅e - b⋅c⋅f + 2⋅c ⋅d   a ⋅e - a⋅c  + a⋅d⋅f - 2⋅b⋅c⋅e - b⋅c⋅f + 2⋅c ⋅d  \n",
              "                                                                              \n",
              "⎛       2⎞                                                                    \n",
              "⎝a⋅e - c ⎠                                   2⋅c⋅(-b⋅e + c⋅d)                 \n",
              "─────────────────────────── + ────────────────────────────────────────────── -\n",
              "                        2      2        2                                2    \n",
              " - 2⋅b⋅c⋅e - b⋅c⋅f + 2⋅c ⋅d   a ⋅e - a⋅c  + a⋅d⋅f - 2⋅b⋅c⋅e - b⋅c⋅f + 2⋅c ⋅d  \n",
              "\n",
              "                                               ⎤\n",
              "                 c⋅(-a⋅d + b⋅c)                ⎥\n",
              " ──────────────────────────────────────────────⎥\n",
              "  2        2                                2  ⎥\n",
              " a ⋅e - a⋅c  + a⋅d⋅f - 2⋅b⋅c⋅e - b⋅c⋅f + 2⋅c ⋅d⎥\n",
              "                                               ⎥\n",
              "                                               ⎥\n",
              "                 e⋅(-a⋅d + b⋅c)                ⎥\n",
              " ──────────────────────────────────────────────⎥\n",
              "  2        2                                2  ⎥\n",
              " a ⋅e - a⋅c  + a⋅d⋅f - 2⋅b⋅c⋅e - b⋅c⋅f + 2⋅c ⋅d⎥\n",
              "                                               ⎥\n",
              "                                               ⎥\n",
              "                 f⋅(-a⋅d + b⋅c)                ⎥\n",
              " ──────────────────────────────────────────────⎥\n",
              "  2        2                                2  ⎥\n",
              " a ⋅e - a⋅c  + a⋅d⋅f - 2⋅b⋅c⋅e - b⋅c⋅f + 2⋅c ⋅d⎦"
            ],
            "text/latex": "$\\displaystyle \\left[\\begin{matrix}\\frac{a \\left(a e + d f\\right)}{a^{2} e - a c^{2} + a d f - 2 b c e - b c f + 2 c^{2} d} + \\frac{b \\left(- 2 c e - c f\\right)}{a^{2} e - a c^{2} + a d f - 2 b c e - b c f + 2 c^{2} d} + \\frac{c \\left(- a c + 2 c d\\right)}{a^{2} e - a c^{2} + a d f - 2 b c e - b c f + 2 c^{2} d} & \\frac{a \\left(- a c - b f\\right)}{a^{2} e - a c^{2} + a d f - 2 b c e - b c f + 2 c^{2} d} + \\frac{b \\left(a f + 2 c^{2}\\right)}{a^{2} e - a c^{2} + a d f - 2 b c e - b c f + 2 c^{2} d} + \\frac{c \\left(a^{2} - 2 b c\\right)}{a^{2} e - a c^{2} + a d f - 2 b c e - b c f + 2 c^{2} d} & \\frac{a \\left(- b e + c d\\right)}{a^{2} e - a c^{2} + a d f - 2 b c e - b c f + 2 c^{2} d} + \\frac{b \\left(a e - c^{2}\\right)}{a^{2} e - a c^{2} + a d f - 2 b c e - b c f + 2 c^{2} d} + \\frac{c \\left(- a d + b c\\right)}{a^{2} e - a c^{2} + a d f - 2 b c e - b c f + 2 c^{2} d}\\\\\\frac{c \\left(a e + d f\\right)}{a^{2} e - a c^{2} + a d f - 2 b c e - b c f + 2 c^{2} d} + \\frac{d \\left(- 2 c e - c f\\right)}{a^{2} e - a c^{2} + a d f - 2 b c e - b c f + 2 c^{2} d} + \\frac{e \\left(- a c + 2 c d\\right)}{a^{2} e - a c^{2} + a d f - 2 b c e - b c f + 2 c^{2} d} & \\frac{c \\left(- a c - b f\\right)}{a^{2} e - a c^{2} + a d f - 2 b c e - b c f + 2 c^{2} d} + \\frac{d \\left(a f + 2 c^{2}\\right)}{a^{2} e - a c^{2} + a d f - 2 b c e - b c f + 2 c^{2} d} + \\frac{e \\left(a^{2} - 2 b c\\right)}{a^{2} e - a c^{2} + a d f - 2 b c e - b c f + 2 c^{2} d} & \\frac{c \\left(- b e + c d\\right)}{a^{2} e - a c^{2} + a d f - 2 b c e - b c f + 2 c^{2} d} + \\frac{d \\left(a e - c^{2}\\right)}{a^{2} e - a c^{2} + a d f - 2 b c e - b c f + 2 c^{2} d} + \\frac{e \\left(- a d + b c\\right)}{a^{2} e - a c^{2} + a d f - 2 b c e - b c f + 2 c^{2} d}\\\\\\frac{a \\left(- 2 c e - c f\\right)}{a^{2} e - a c^{2} + a d f - 2 b c e - b c f + 2 c^{2} d} + \\frac{2 c \\left(a e + d f\\right)}{a^{2} e - a c^{2} + a d f - 2 b c e - b c f + 2 c^{2} d} - \\frac{f \\left(- a c + 2 c d\\right)}{a^{2} e - a c^{2} + a d f - 2 b c e - b c f + 2 c^{2} d} & \\frac{a \\left(a f + 2 c^{2}\\right)}{a^{2} e - a c^{2} + a d f - 2 b c e - b c f + 2 c^{2} d} + \\frac{2 c \\left(- a c - b f\\right)}{a^{2} e - a c^{2} + a d f - 2 b c e - b c f + 2 c^{2} d} - \\frac{f \\left(a^{2} - 2 b c\\right)}{a^{2} e - a c^{2} + a d f - 2 b c e - b c f + 2 c^{2} d} & \\frac{a \\left(a e - c^{2}\\right)}{a^{2} e - a c^{2} + a d f - 2 b c e - b c f + 2 c^{2} d} + \\frac{2 c \\left(- b e + c d\\right)}{a^{2} e - a c^{2} + a d f - 2 b c e - b c f + 2 c^{2} d} - \\frac{f \\left(- a d + b c\\right)}{a^{2} e - a c^{2} + a d f - 2 b c e - b c f + 2 c^{2} d}\\end{matrix}\\right]$"
          },
          "metadata": {},
          "execution_count": 30
        }
      ]
    },
    {
      "cell_type": "code",
      "source": [
        "MIn = simplify(M4*M4i)\n",
        "MIn"
      ],
      "metadata": {
        "colab": {
          "base_uri": "https://localhost:8080/",
          "height": 78
        },
        "id": "lHskVHDKDB2x",
        "outputId": "008d95ef-b0c2-4023-b34c-8b9ee0549943"
      },
      "execution_count": null,
      "outputs": [
        {
          "output_type": "execute_result",
          "data": {
            "text/plain": [
              "⎡1  0  0⎤\n",
              "⎢       ⎥\n",
              "⎢0  1  0⎥\n",
              "⎢       ⎥\n",
              "⎣0  0  1⎦"
            ],
            "text/latex": "$\\displaystyle \\left[\\begin{matrix}1 & 0 & 0\\\\0 & 1 & 0\\\\0 & 0 & 1\\end{matrix}\\right]$"
          },
          "metadata": {},
          "execution_count": 33
        }
      ]
    },
    {
      "cell_type": "code",
      "source": [
        "MIM = M*Mi\n",
        "MIM"
      ],
      "metadata": {
        "colab": {
          "base_uri": "https://localhost:8080/",
          "height": 58
        },
        "id": "V8FHTbuZDtTT",
        "outputId": "f10a013d-3da8-47b8-f306-98cfa5e244aa"
      },
      "execution_count": null,
      "outputs": [
        {
          "output_type": "execute_result",
          "data": {
            "text/plain": [
              "⎡1  0⎤\n",
              "⎢    ⎥\n",
              "⎣0  1⎦"
            ],
            "text/latex": "$\\displaystyle \\left[\\begin{matrix}1 & 0\\\\0 & 1\\end{matrix}\\right]$"
          },
          "metadata": {},
          "execution_count": 34
        }
      ]
    },
    {
      "cell_type": "markdown",
      "source": [
        "# **Sistemas Lineares**\n",
        "\n",
        "\n",
        "Sistemas de equações:\n",
        "\n",
        "\\begin{array}{lc}\n",
        "   x+y+z&= 6 \\\\\n",
        "   x+2y+2z& = 9 \\\\\n",
        "   2x+y+3z& = 11\n",
        "\\end{array}\n",
        "\n",
        "Pode ser escrito como : $$\\hat{A}X=U$$\n",
        "\n",
        "$$\\displaystyle \\left( \\begin{array}{c} 1 & 1 & 1 \\\\\n",
        "   1 & 2 & 2 \\\\\n",
        "   2 & 1 & 3 \\end{array} \\right)\\left( \\begin{array}{c} x \\\\\n",
        "   y \\\\\n",
        "   z \\end{array} \\right) = \\left( \\begin{array}{c} 6 \\\\\n",
        "   9 \\\\\n",
        "   11 \\end{array} \\right) $$\n",
        "\n",
        "Solução do sistema: $$X=\\hat{A}^{-1}U$$\n",
        "\n"
      ],
      "metadata": {
        "id": "pqAaDc-zD5bR"
      }
    },
    {
      "cell_type": "code",
      "source": [
        "A = Matrix(\n",
        "    [\n",
        "        [1,1,1],\n",
        "     [1,2,2],\n",
        "     [2,1,3]\n",
        "    ]\n",
        ")\n",
        "A"
      ],
      "metadata": {
        "colab": {
          "base_uri": "https://localhost:8080/",
          "height": 78
        },
        "id": "lkydqYMXEV5l",
        "outputId": "cacd9fcf-74d1-4f0f-ec79-d85a7f9abe75"
      },
      "execution_count": null,
      "outputs": [
        {
          "output_type": "execute_result",
          "data": {
            "text/plain": [
              "⎡1  1  1⎤\n",
              "⎢       ⎥\n",
              "⎢1  2  2⎥\n",
              "⎢       ⎥\n",
              "⎣2  1  3⎦"
            ],
            "text/latex": "$\\displaystyle \\left[\\begin{matrix}1 & 1 & 1\\\\1 & 2 & 2\\\\2 & 1 & 3\\end{matrix}\\right]$"
          },
          "metadata": {},
          "execution_count": 36
        }
      ]
    },
    {
      "cell_type": "code",
      "source": [
        "U = Matrix(\n",
        "    [\n",
        "        [6],\n",
        "     [9],\n",
        "     [11]\n",
        "    ]\n",
        ")\n",
        "U"
      ],
      "metadata": {
        "colab": {
          "base_uri": "https://localhost:8080/",
          "height": 78
        },
        "id": "9FyA9_GNFUh1",
        "outputId": "bf6760c4-db26-4c1c-c68e-72247d6d02b9"
      },
      "execution_count": null,
      "outputs": [
        {
          "output_type": "execute_result",
          "data": {
            "text/plain": [
              "⎡6 ⎤\n",
              "⎢  ⎥\n",
              "⎢9 ⎥\n",
              "⎢  ⎥\n",
              "⎣11⎦"
            ],
            "text/latex": "$\\displaystyle \\left[\\begin{matrix}6\\\\9\\\\11\\end{matrix}\\right]$"
          },
          "metadata": {},
          "execution_count": 37
        }
      ]
    },
    {
      "cell_type": "code",
      "source": [
        "X = A.inv()*U\n",
        "X"
      ],
      "metadata": {
        "colab": {
          "base_uri": "https://localhost:8080/",
          "height": 78
        },
        "id": "wApXFEUpFeIV",
        "outputId": "51ee4b40-5c9b-48eb-f8d5-ad4ccd3f16ff"
      },
      "execution_count": null,
      "outputs": [
        {
          "output_type": "execute_result",
          "data": {
            "text/plain": [
              "⎡3⎤\n",
              "⎢ ⎥\n",
              "⎢2⎥\n",
              "⎢ ⎥\n",
              "⎣1⎦"
            ],
            "text/latex": "$\\displaystyle \\left[\\begin{matrix}3\\\\2\\\\1\\end{matrix}\\right]$"
          },
          "metadata": {},
          "execution_count": 38
        }
      ]
    },
    {
      "cell_type": "markdown",
      "source": [
        "## **Produto Escalar e Vetorial**"
      ],
      "metadata": {
        "id": "mENvRy1qF6-g"
      }
    },
    {
      "cell_type": "code",
      "source": [
        "v1 = Matrix(\n",
        "    [1,2,-8,3]\n",
        ")\n",
        "display(v1)\n",
        "v2 = Matrix(\n",
        "    [6,3,2,1]\n",
        ")\n",
        "display(v2)\n",
        "\n",
        "vdot = v1.dot(v2)\n",
        "vdot"
      ],
      "metadata": {
        "colab": {
          "base_uri": "https://localhost:8080/",
          "height": 200
        },
        "id": "RxP3mTUOF6Y8",
        "outputId": "9335533c-3bf2-44f1-a7c3-1037ee10ff1b"
      },
      "execution_count": null,
      "outputs": [
        {
          "output_type": "display_data",
          "data": {
            "text/plain": [
              "⎡1 ⎤\n",
              "⎢  ⎥\n",
              "⎢2 ⎥\n",
              "⎢  ⎥\n",
              "⎢-8⎥\n",
              "⎢  ⎥\n",
              "⎣3 ⎦"
            ],
            "text/latex": "$\\displaystyle \\left[\\begin{matrix}1\\\\2\\\\-8\\\\3\\end{matrix}\\right]$"
          },
          "metadata": {}
        },
        {
          "output_type": "display_data",
          "data": {
            "text/plain": [
              "⎡6⎤\n",
              "⎢ ⎥\n",
              "⎢3⎥\n",
              "⎢ ⎥\n",
              "⎢2⎥\n",
              "⎢ ⎥\n",
              "⎣1⎦"
            ],
            "text/latex": "$\\displaystyle \\left[\\begin{matrix}6\\\\3\\\\2\\\\1\\end{matrix}\\right]$"
          },
          "metadata": {}
        },
        {
          "output_type": "execute_result",
          "data": {
            "text/plain": [
              "-1"
            ],
            "text/latex": "$\\displaystyle -1$"
          },
          "metadata": {},
          "execution_count": 42
        }
      ]
    },
    {
      "cell_type": "code",
      "source": [
        "m1 = Matrix(\n",
        "    [\n",
        "        [1,3,5,6],\n",
        "     [2,5,9,-7],\n",
        "     [0,-3,7,5],\n",
        "     [5,9,-78,6]\n",
        "    ]\n",
        ")\n",
        "m1"
      ],
      "metadata": {
        "colab": {
          "base_uri": "https://localhost:8080/",
          "height": 98
        },
        "id": "IGkW65XAG7mR",
        "outputId": "8cc7587a-5586-4260-ee17-090881082cad"
      },
      "execution_count": null,
      "outputs": [
        {
          "output_type": "execute_result",
          "data": {
            "text/plain": [
              "⎡1  3    5   6 ⎤\n",
              "⎢              ⎥\n",
              "⎢2  5    9   -7⎥\n",
              "⎢              ⎥\n",
              "⎢0  -3   7   5 ⎥\n",
              "⎢              ⎥\n",
              "⎣5  9   -78  6 ⎦"
            ],
            "text/latex": "$\\displaystyle \\left[\\begin{matrix}1 & 3 & 5 & 6\\\\2 & 5 & 9 & -7\\\\0 & -3 & 7 & 5\\\\5 & 9 & -78 & 6\\end{matrix}\\right]$"
          },
          "metadata": {},
          "execution_count": 44
        }
      ]
    },
    {
      "cell_type": "code",
      "source": [
        "vdot1 = v2.dot(m1.col(2))\n",
        "vdot1"
      ],
      "metadata": {
        "colab": {
          "base_uri": "https://localhost:8080/",
          "height": 37
        },
        "id": "D_eL2QI6HYOS",
        "outputId": "6521ed4f-dccb-4865-871b-95e41de80e75"
      },
      "execution_count": null,
      "outputs": [
        {
          "output_type": "execute_result",
          "data": {
            "text/plain": [
              "-7"
            ],
            "text/latex": "$\\displaystyle -7$"
          },
          "metadata": {},
          "execution_count": 45
        }
      ]
    },
    {
      "cell_type": "code",
      "source": [
        "M2 = 2*M\n",
        "M2"
      ],
      "metadata": {
        "colab": {
          "base_uri": "https://localhost:8080/",
          "height": 58
        },
        "id": "kMlW_EQ1H0as",
        "outputId": "13f4cf7a-bbdc-42db-ffdf-5c07b05db83c"
      },
      "execution_count": null,
      "outputs": [
        {
          "output_type": "execute_result",
          "data": {
            "text/plain": [
              "⎡2   4 ⎤\n",
              "⎢      ⎥\n",
              "⎣10  16⎦"
            ],
            "text/latex": "$\\displaystyle \\left[\\begin{matrix}2 & 4\\\\10 & 16\\end{matrix}\\right]$"
          },
          "metadata": {},
          "execution_count": 47
        }
      ]
    },
    {
      "cell_type": "code",
      "source": [
        "Mdot = M@M2\n",
        "Mdot"
      ],
      "metadata": {
        "colab": {
          "base_uri": "https://localhost:8080/",
          "height": 58
        },
        "id": "OZKBvZC7H6Lg",
        "outputId": "90a5b5cd-6ab7-44e2-94d2-e83328d9d304"
      },
      "execution_count": null,
      "outputs": [
        {
          "output_type": "execute_result",
          "data": {
            "text/plain": [
              "⎡22  36 ⎤\n",
              "⎢       ⎥\n",
              "⎣90  148⎦"
            ],
            "text/latex": "$\\displaystyle \\left[\\begin{matrix}22 & 36\\\\90 & 148\\end{matrix}\\right]$"
          },
          "metadata": {},
          "execution_count": 49
        }
      ]
    },
    {
      "cell_type": "code",
      "source": [
        "# Produto vetorial\n",
        "\n",
        "u = Matrix([1,0,0])\n",
        "v = Matrix([0,1,0])\n",
        "\n",
        "pvect = u.cross(v)\n",
        "pvect"
      ],
      "metadata": {
        "colab": {
          "base_uri": "https://localhost:8080/",
          "height": 78
        },
        "id": "TjSQGx4jIKXd",
        "outputId": "35093971-f012-4d00-b8e3-6217a6c1fa84"
      },
      "execution_count": null,
      "outputs": [
        {
          "output_type": "execute_result",
          "data": {
            "text/plain": [
              "⎡0⎤\n",
              "⎢ ⎥\n",
              "⎢0⎥\n",
              "⎢ ⎥\n",
              "⎣1⎦"
            ],
            "text/latex": "$\\displaystyle \\left[\\begin{matrix}0\\\\0\\\\1\\end{matrix}\\right]$"
          },
          "metadata": {},
          "execution_count": 50
        }
      ]
    },
    {
      "cell_type": "markdown",
      "source": [
        "# **Identidade, diagonal e Determinate**"
      ],
      "metadata": {
        "id": "seMlwJdYI4eT"
      }
    },
    {
      "cell_type": "code",
      "source": [
        "Miden = eye(4)\n",
        "Miden"
      ],
      "metadata": {
        "colab": {
          "base_uri": "https://localhost:8080/",
          "height": 98
        },
        "id": "U5o-gaUEI-1T",
        "outputId": "0f4c7547-f13d-4d12-8202-7c3c57972254"
      },
      "execution_count": null,
      "outputs": [
        {
          "output_type": "execute_result",
          "data": {
            "text/plain": [
              "⎡1  0  0  0⎤\n",
              "⎢          ⎥\n",
              "⎢0  1  0  0⎥\n",
              "⎢          ⎥\n",
              "⎢0  0  1  0⎥\n",
              "⎢          ⎥\n",
              "⎣0  0  0  1⎦"
            ],
            "text/latex": "$\\displaystyle \\left[\\begin{matrix}1 & 0 & 0 & 0\\\\0 & 1 & 0 & 0\\\\0 & 0 & 1 & 0\\\\0 & 0 & 0 & 1\\end{matrix}\\right]$"
          },
          "metadata": {},
          "execution_count": 52
        }
      ]
    },
    {
      "cell_type": "code",
      "source": [
        "Mdiag = diag(b,c,5,7)\n",
        "Mdiag"
      ],
      "metadata": {
        "colab": {
          "base_uri": "https://localhost:8080/",
          "height": 98
        },
        "id": "OhWboTtRJb0R",
        "outputId": "143dd73e-7deb-4e02-c67a-1e6b8cc384ca"
      },
      "execution_count": null,
      "outputs": [
        {
          "output_type": "execute_result",
          "data": {
            "text/plain": [
              "⎡b  0  0  0⎤\n",
              "⎢          ⎥\n",
              "⎢0  c  0  0⎥\n",
              "⎢          ⎥\n",
              "⎢0  0  5  0⎥\n",
              "⎢          ⎥\n",
              "⎣0  0  0  7⎦"
            ],
            "text/latex": "$\\displaystyle \\left[\\begin{matrix}b & 0 & 0 & 0\\\\0 & c & 0 & 0\\\\0 & 0 & 5 & 0\\\\0 & 0 & 0 & 7\\end{matrix}\\right]$"
          },
          "metadata": {},
          "execution_count": 53
        }
      ]
    },
    {
      "cell_type": "code",
      "source": [
        "# Determinante\n",
        "\n",
        "display(M2)\n",
        "print()\n",
        "\n",
        "display(M)\n",
        "print()\n",
        "\n",
        "Mdet = det(M2)\n",
        "Mdet\n"
      ],
      "metadata": {
        "colab": {
          "base_uri": "https://localhost:8080/",
          "height": 153
        },
        "id": "XIMoBYRPJn18",
        "outputId": "136ff810-ef1c-4365-f18b-d5fbfa062810"
      },
      "execution_count": null,
      "outputs": [
        {
          "output_type": "display_data",
          "data": {
            "text/plain": [
              "⎡2   4 ⎤\n",
              "⎢      ⎥\n",
              "⎣10  16⎦"
            ],
            "text/latex": "$\\displaystyle \\left[\\begin{matrix}2 & 4\\\\10 & 16\\end{matrix}\\right]$"
          },
          "metadata": {}
        },
        {
          "output_type": "stream",
          "name": "stdout",
          "text": [
            "\n"
          ]
        },
        {
          "output_type": "display_data",
          "data": {
            "text/plain": [
              "⎡1  2⎤\n",
              "⎢    ⎥\n",
              "⎣5  8⎦"
            ],
            "text/latex": "$\\displaystyle \\left[\\begin{matrix}1 & 2\\\\5 & 8\\end{matrix}\\right]$"
          },
          "metadata": {}
        },
        {
          "output_type": "stream",
          "name": "stdout",
          "text": [
            "\n"
          ]
        },
        {
          "output_type": "execute_result",
          "data": {
            "text/plain": [
              "-8"
            ],
            "text/latex": "$\\displaystyle -8$"
          },
          "metadata": {},
          "execution_count": 56
        }
      ]
    },
    {
      "cell_type": "code",
      "source": [
        "detm1 = det(m1)\n",
        "detm1"
      ],
      "metadata": {
        "colab": {
          "base_uri": "https://localhost:8080/",
          "height": 37
        },
        "id": "Cvhx86LpKVGU",
        "outputId": "b023f436-ed9b-4c3e-eadd-78a8098c80e6"
      },
      "execution_count": null,
      "outputs": [
        {
          "output_type": "execute_result",
          "data": {
            "text/plain": [
              "-6914"
            ],
            "text/latex": "$\\displaystyle -6914$"
          },
          "metadata": {},
          "execution_count": 57
        }
      ]
    },
    {
      "cell_type": "code",
      "source": [
        "# Matriz com zeros\n",
        "\n",
        "Mzeros = zeros(2)\n",
        "Mzeros"
      ],
      "metadata": {
        "colab": {
          "base_uri": "https://localhost:8080/",
          "height": 58
        },
        "id": "eiU8QlvCKcN8",
        "outputId": "2de8c525-a54d-42f2-a483-228e2e16b0f3"
      },
      "execution_count": null,
      "outputs": [
        {
          "output_type": "execute_result",
          "data": {
            "text/plain": [
              "⎡0  0⎤\n",
              "⎢    ⎥\n",
              "⎣0  0⎦"
            ],
            "text/latex": "$\\displaystyle \\left[\\begin{matrix}0 & 0\\\\0 & 0\\end{matrix}\\right]$"
          },
          "metadata": {},
          "execution_count": 58
        }
      ]
    },
    {
      "cell_type": "code",
      "source": [
        "# Matriz com uns\n",
        "\n",
        "Mone = ones(3,4)\n",
        "Mone"
      ],
      "metadata": {
        "colab": {
          "base_uri": "https://localhost:8080/",
          "height": 78
        },
        "id": "WV4m21ZKKrAA",
        "outputId": "bb78cd2e-ebb1-40f0-9b9f-8b829195422d"
      },
      "execution_count": null,
      "outputs": [
        {
          "output_type": "execute_result",
          "data": {
            "text/plain": [
              "⎡1  1  1  1⎤\n",
              "⎢          ⎥\n",
              "⎢1  1  1  1⎥\n",
              "⎢          ⎥\n",
              "⎣1  1  1  1⎦"
            ],
            "text/latex": "$\\displaystyle \\left[\\begin{matrix}1 & 1 & 1 & 1\\\\1 & 1 & 1 & 1\\\\1 & 1 & 1 & 1\\end{matrix}\\right]$"
          },
          "metadata": {},
          "execution_count": 59
        }
      ]
    },
    {
      "cell_type": "markdown",
      "source": [
        "# **Autovalores e Autovetores**\n",
        "\n",
        "\n",
        "$$\\hat{M}V=\\lambda V$$\n",
        "$$|\\hat{M}-I\\lambda|V=0$$"
      ],
      "metadata": {
        "id": "wwA-Gc2GK3qw"
      }
    },
    {
      "cell_type": "code",
      "source": [
        "Ma = Matrix(\n",
        "    [\n",
        "        [1,2,9],\n",
        "     [-6,0,8],\n",
        "     [7,1,-3]\n",
        "    ]\n",
        ")\n",
        "Ma"
      ],
      "metadata": {
        "colab": {
          "base_uri": "https://localhost:8080/",
          "height": 78
        },
        "id": "LEVtO-XmMQQL",
        "outputId": "265cf122-5af1-4146-f8ba-ed8a9d3114ed"
      },
      "execution_count": null,
      "outputs": [
        {
          "output_type": "execute_result",
          "data": {
            "text/plain": [
              "⎡1   2  9 ⎤\n",
              "⎢         ⎥\n",
              "⎢-6  0  8 ⎥\n",
              "⎢         ⎥\n",
              "⎣7   1  -3⎦"
            ],
            "text/latex": "$\\displaystyle \\left[\\begin{matrix}1 & 2 & 9\\\\-6 & 0 & 8\\\\7 & 1 & -3\\end{matrix}\\right]$"
          },
          "metadata": {},
          "execution_count": 61
        }
      ]
    },
    {
      "cell_type": "code",
      "source": [
        "lamb = symbols('lambda')\n",
        "\n",
        "Mval = Ma - eye(3)*lamb\n",
        "Mval\n"
      ],
      "metadata": {
        "colab": {
          "base_uri": "https://localhost:8080/",
          "height": 78
        },
        "id": "XypxrDx9K0hw",
        "outputId": "26a51da8-d6c0-4e7d-df3f-5942ace4d5d2"
      },
      "execution_count": null,
      "outputs": [
        {
          "output_type": "execute_result",
          "data": {
            "text/plain": [
              "⎡1 - λ  2     9   ⎤\n",
              "⎢                 ⎥\n",
              "⎢ -6    -λ    8   ⎥\n",
              "⎢                 ⎥\n",
              "⎣  7    1   -λ - 3⎦"
            ],
            "text/latex": "$\\displaystyle \\left[\\begin{matrix}1 - \\lambda & 2 & 9\\\\-6 & - \\lambda & 8\\\\7 & 1 & - \\lambda - 3\\end{matrix}\\right]$"
          },
          "metadata": {},
          "execution_count": 62
        }
      ]
    },
    {
      "cell_type": "code",
      "source": [
        "poli = Eq(Mval.det(),0)\n",
        "poli"
      ],
      "metadata": {
        "colab": {
          "base_uri": "https://localhost:8080/",
          "height": 38
        },
        "id": "hUZS0THKM9xv",
        "outputId": "02d83b90-f437-4076-b8ee-808d466b0208"
      },
      "execution_count": null,
      "outputs": [
        {
          "output_type": "execute_result",
          "data": {
            "text/plain": [
              "   3      2                \n",
              "- λ  - 2⋅λ  + 62⋅λ + 14 = 0"
            ],
            "text/latex": "$\\displaystyle - \\lambda^{3} - 2 \\lambda^{2} + 62 \\lambda + 14 = 0$"
          },
          "metadata": {},
          "execution_count": 63
        }
      ]
    },
    {
      "cell_type": "code",
      "source": [
        "sol_poli = solve(poli, lamb)\n",
        "sol_poli"
      ],
      "metadata": {
        "colab": {
          "base_uri": "https://localhost:8080/",
          "height": 103
        },
        "id": "rjjHgfuUNUWU",
        "outputId": "88db0647-39bb-4f35-b35c-67eeafc463f4"
      },
      "execution_count": null,
      "outputs": [
        {
          "output_type": "execute_result",
          "data": {
            "text/plain": [
              "⎡                                             ⎛  1   √3⋅ⅈ⎞ 3 _________________\n",
              "⎢                                             ⎜- ─ - ────⎟⋅╲╱ 377 + 21⋅√15231⋅\n",
              "⎢  2                   190                    ⎝  2    2  ⎠                    \n",
              "⎢- ─ - ──────────────────────────────────── - ────────────────────────────────\n",
              "⎢  3     ⎛  1   √3⋅ⅈ⎞ 3 ___________________                   3               \n",
              "⎢      3⋅⎜- ─ - ────⎟⋅╲╱ 377 + 21⋅√15231⋅ⅈ                                    \n",
              "⎣        ⎝  2    2  ⎠                                                         \n",
              "\n",
              "__        ⎛  1   √3⋅ⅈ⎞ 3 ___________________                                  \n",
              "ⅈ         ⎜- ─ + ────⎟⋅╲╱ 377 + 21⋅√15231⋅ⅈ                                   \n",
              "      2   ⎝  2    2  ⎠                                         190            \n",
              "──, - ─ - ────────────────────────────────── - ───────────────────────────────\n",
              "      3                   3                      ⎛  1   √3⋅ⅈ⎞ 3 ______________\n",
              "                                               3⋅⎜- ─ + ────⎟⋅╲╱ 377 + 21⋅√152\n",
              "                                                 ⎝  2    2  ⎠                 \n",
              "\n",
              "                                                            ⎤\n",
              "             3 ___________________                          ⎥\n",
              "         2   ╲╱ 377 + 21⋅√15231⋅ⅈ              190          ⎥\n",
              "─────, - ─ - ───────────────────── - ───────────────────────⎥\n",
              "_____    3             3               3 ___________________⎥\n",
              "31⋅ⅈ                                 3⋅╲╱ 377 + 21⋅√15231⋅ⅈ ⎥\n",
              "                                                            ⎦"
            ],
            "text/latex": "$\\displaystyle \\left[ - \\frac{2}{3} - \\frac{190}{3 \\left(- \\frac{1}{2} - \\frac{\\sqrt{3} i}{2}\\right) \\sqrt[3]{377 + 21 \\sqrt{15231} i}} - \\frac{\\left(- \\frac{1}{2} - \\frac{\\sqrt{3} i}{2}\\right) \\sqrt[3]{377 + 21 \\sqrt{15231} i}}{3}, \\  - \\frac{2}{3} - \\frac{\\left(- \\frac{1}{2} + \\frac{\\sqrt{3} i}{2}\\right) \\sqrt[3]{377 + 21 \\sqrt{15231} i}}{3} - \\frac{190}{3 \\left(- \\frac{1}{2} + \\frac{\\sqrt{3} i}{2}\\right) \\sqrt[3]{377 + 21 \\sqrt{15231} i}}, \\  - \\frac{2}{3} - \\frac{\\sqrt[3]{377 + 21 \\sqrt{15231} i}}{3} - \\frac{190}{3 \\sqrt[3]{377 + 21 \\sqrt{15231} i}}\\right]$"
          },
          "metadata": {},
          "execution_count": 64
        }
      ]
    },
    {
      "cell_type": "code",
      "source": [
        "# Degenerescência de autovalores\n",
        "\n",
        "Ma.eigenvals()"
      ],
      "metadata": {
        "colab": {
          "base_uri": "https://localhost:8080/",
          "height": 103
        },
        "id": "KZEqJrR0N1hh",
        "outputId": "25d513c8-f179-446f-b701-50f40decd316"
      },
      "execution_count": null,
      "outputs": [
        {
          "output_type": "execute_result",
          "data": {
            "text/plain": [
              "⎧                                             ⎛  1   √3⋅ⅈ⎞ 3 _________________\n",
              "⎪                                             ⎜- ─ - ────⎟⋅╲╱ 377 + 21⋅√15231⋅\n",
              "⎪  2                   190                    ⎝  2    2  ⎠                    \n",
              "⎨- ─ - ──────────────────────────────────── - ────────────────────────────────\n",
              "⎪  3     ⎛  1   √3⋅ⅈ⎞ 3 ___________________                   3               \n",
              "⎪      3⋅⎜- ─ - ────⎟⋅╲╱ 377 + 21⋅√15231⋅ⅈ                                    \n",
              "⎩        ⎝  2    2  ⎠                                                         \n",
              "\n",
              "__           ⎛  1   √3⋅ⅈ⎞ 3 ___________________                               \n",
              "ⅈ            ⎜- ─ + ────⎟⋅╲╱ 377 + 21⋅√15231⋅ⅈ                                \n",
              "         2   ⎝  2    2  ⎠                                         190         \n",
              "──: 1, - ─ - ────────────────────────────────── - ────────────────────────────\n",
              "         3                   3                      ⎛  1   √3⋅ⅈ⎞ 3 ___________\n",
              "                                                  3⋅⎜- ─ + ────⎟⋅╲╱ 377 + 21⋅√\n",
              "                                                    ⎝  2    2  ⎠              \n",
              "\n",
              "                                                                     ⎫\n",
              "                   3 ___________________                             ⎪\n",
              "               2   ╲╱ 377 + 21⋅√15231⋅ⅈ              190             ⎪\n",
              "────────: 1, - ─ - ───────────────────── - ───────────────────────: 1⎬\n",
              "________       3             3               3 ___________________   ⎪\n",
              "15231⋅ⅈ                                    3⋅╲╱ 377 + 21⋅√15231⋅ⅈ    ⎪\n",
              "                                                                     ⎭"
            ],
            "text/latex": "$\\displaystyle \\left\\{ - \\frac{2}{3} - \\frac{190}{3 \\left(- \\frac{1}{2} - \\frac{\\sqrt{3} i}{2}\\right) \\sqrt[3]{377 + 21 \\sqrt{15231} i}} - \\frac{\\left(- \\frac{1}{2} - \\frac{\\sqrt{3} i}{2}\\right) \\sqrt[3]{377 + 21 \\sqrt{15231} i}}{3} : 1, \\  - \\frac{2}{3} - \\frac{\\left(- \\frac{1}{2} + \\frac{\\sqrt{3} i}{2}\\right) \\sqrt[3]{377 + 21 \\sqrt{15231} i}}{3} - \\frac{190}{3 \\left(- \\frac{1}{2} + \\frac{\\sqrt{3} i}{2}\\right) \\sqrt[3]{377 + 21 \\sqrt{15231} i}} : 1, \\  - \\frac{2}{3} - \\frac{\\sqrt[3]{377 + 21 \\sqrt{15231} i}}{3} - \\frac{190}{3 \\sqrt[3]{377 + 21 \\sqrt{15231} i}} : 1\\right\\}$"
          },
          "metadata": {},
          "execution_count": 65
        }
      ]
    },
    {
      "cell_type": "code",
      "source": [
        "# Cálculo dos autovetores\n",
        "\n",
        "Ma.eigenvects()"
      ],
      "metadata": {
        "colab": {
          "base_uri": "https://localhost:8080/",
          "height": 190
        },
        "id": "fNEV21FgOSvn",
        "outputId": "41f7b964-06f3-419a-b8d7-dd1feb9c629b"
      },
      "execution_count": null,
      "outputs": [
        {
          "output_type": "execute_result",
          "data": {
            "text/plain": [
              "⎡⎛                                                                            \n",
              "⎢⎜                                                                            \n",
              "⎢⎜                                                                            \n",
              "⎢⎜                                                                            \n",
              "⎢⎜                                                                            \n",
              "⎢⎜                                                                            \n",
              "⎢⎜                                                                            \n",
              "⎢⎜                                                                            \n",
              "⎢⎜                                                                            \n",
              "⎢⎜                                                                            \n",
              "⎢⎜                                             ⎛  1   √3⋅ⅈ⎞ 3 ________________\n",
              "⎢⎜                                             ⎜- ─ - ────⎟⋅╲╱ 377 + 21⋅√15231\n",
              "⎢⎜  2                   190                    ⎝  2    2  ⎠                   \n",
              "⎢⎜- ─ - ──────────────────────────────────── - ───────────────────────────────\n",
              "⎢⎜  3     ⎛  1   √3⋅ⅈ⎞ 3 ___________________                   3              \n",
              "⎢⎜      3⋅⎜- ─ - ────⎟⋅╲╱ 377 + 21⋅√15231⋅ⅈ                                   \n",
              "⎢⎜        ⎝  2    2  ⎠                                                        \n",
              "⎢⎜                                                                            \n",
              "⎢⎜                                                                            \n",
              "⎢⎜                                                                            \n",
              "⎢⎜                                                                            \n",
              "⎢⎜                                                                            \n",
              "⎢⎜                                                                            \n",
              "⎢⎜                                                                            \n",
              "⎢⎜                                                                            \n",
              "⎢⎜                                                                            \n",
              "⎣⎝                                                                            \n",
              "\n",
              "        ⎡⎡                                                                    \n",
              "        ⎢⎢                                                 ⎛                  \n",
              "        ⎢⎢                                                 ⎜                  \n",
              "        ⎢⎢                                                 ⎜  2               \n",
              "        ⎢⎢                                                 ⎜- ─ - ────────────\n",
              "        ⎢⎢                                                 ⎜  3     ⎛  1   √3⋅\n",
              "        ⎢⎢                                                 ⎜      3⋅⎜- ─ - ───\n",
              "        ⎢⎢  317                    2090                    ⎝        ⎝  2    2 \n",
              "        ⎢⎢  ─── - ────────────────────────────────────── - ───────────────────\n",
              "        ⎢⎢  291       ⎛  1   √3⋅ⅈ⎞ 3 ___________________                      \n",
              "___     ⎢⎢        291⋅⎜- ─ - ────⎟⋅╲╱ 377 + 21⋅√15231⋅ⅈ                       \n",
              "⋅ⅈ      ⎢⎢            ⎝  2    2  ⎠                                            \n",
              "        ⎢⎢                                                                    \n",
              "───, 1, ⎢⎢                                                                    \n",
              "        ⎢⎢                                                    ⎛               \n",
              "        ⎢⎢                                                    ⎜               \n",
              "        ⎢⎢                                                    ⎜  2            \n",
              "        ⎢⎢                                                  7⋅⎜- ─ - ─────────\n",
              "        ⎢⎢                                                    ⎜  3     ⎛  1   \n",
              "        ⎢⎢                                                    ⎜      3⋅⎜- ─ - \n",
              "        ⎢⎢  1540                    3800                      ⎝        ⎝  2   \n",
              "        ⎢⎢- ──── - ────────────────────────────────────── + ──────────────────\n",
              "        ⎢⎢  291        ⎛  1   √3⋅ⅈ⎞ 3 ___________________                     \n",
              "        ⎢⎢         291⋅⎜- ─ - ────⎟⋅╲╱ 377 + 21⋅√15231⋅ⅈ                      \n",
              "        ⎢⎢             ⎝  2    2  ⎠                                           \n",
              "        ⎢⎢                                                                    \n",
              "        ⎣⎣                                                                    \n",
              "\n",
              "                                                              2               \n",
              "                           ⎛  1   √3⋅ⅈ⎞ 3 ___________________⎞                \n",
              "                           ⎜- ─ - ────⎟⋅╲╱ 377 + 21⋅√15231⋅ⅈ ⎟                \n",
              "    190                    ⎝  2    2  ⎠                      ⎟                \n",
              "──────────────────────── - ──────────────────────────────────⎟                \n",
              "ⅈ⎞ 3 ___________________                   3                 ⎟       ⎛  1   √3\n",
              "─⎟⋅╲╱ 377 + 21⋅√15231⋅ⅈ                                      ⎟    11⋅⎜- ─ - ──\n",
              " ⎠                                                           ⎠       ⎝  2    2\n",
              "─────────────────────────────────────────────────────────────── - ────────────\n",
              "                     97                                                       \n",
              "                                                                              \n",
              "                                                                              \n",
              "                                                                              \n",
              "                                                                 2            \n",
              "                              ⎛  1   √3⋅ⅈ⎞ 3 ___________________⎞             \n",
              "                              ⎜- ─ - ────⎟⋅╲╱ 377 + 21⋅√15231⋅ⅈ ⎟             \n",
              "       190                    ⎝  2    2  ⎠                      ⎟             \n",
              "─────────────────────────── - ──────────────────────────────────⎟             \n",
              "√3⋅ⅈ⎞ 3 ___________________                   3                 ⎟       ⎛  1  \n",
              "────⎟⋅╲╱ 377 + 21⋅√15231⋅ⅈ                                      ⎟    20⋅⎜- ─ -\n",
              " 2  ⎠                                                           ⎠       ⎝  2  \n",
              "────────────────────────────────────────────────────────────────── - ─────────\n",
              "                       97                                                     \n",
              "                                                                              \n",
              "                                                                              \n",
              "                                                                              \n",
              "                  1                                                           \n",
              "\n",
              "                            ⎤⎤⎞  ⎛                                            \n",
              "                            ⎥⎥⎟  ⎜                                            \n",
              "                            ⎥⎥⎟  ⎜                                            \n",
              "                            ⎥⎥⎟  ⎜                                            \n",
              "                            ⎥⎥⎟  ⎜                                            \n",
              "⋅ⅈ⎞ 3 ___________________   ⎥⎥⎟  ⎜                                            \n",
              "──⎟⋅╲╱ 377 + 21⋅√15231⋅ⅈ    ⎥⎥⎟  ⎜                                            \n",
              "  ⎠                         ⎥⎥⎟  ⎜                                            \n",
              "─────────────────────────   ⎥⎥⎟  ⎜                                            \n",
              "     291                    ⎥⎥⎟  ⎜                                            \n",
              "                            ⎥⎥⎟  ⎜      ⎛  1   √3⋅ⅈ⎞ 3 ___________________    \n",
              "                            ⎥⎥⎟  ⎜      ⎜- ─ + ────⎟⋅╲╱ 377 + 21⋅√15231⋅ⅈ     \n",
              "                            ⎥⎥⎟  ⎜  2   ⎝  2    2  ⎠                          \n",
              "                            ⎥⎥⎟, ⎜- ─ - ────────────────────────────────── - ─\n",
              "                            ⎥⎥⎟  ⎜  3                   3                     \n",
              "                            ⎥⎥⎟  ⎜                                           3\n",
              "                            ⎥⎥⎟  ⎜                                            \n",
              "                            ⎥⎥⎟  ⎜                                            \n",
              " √3⋅ⅈ⎞ 3 ___________________⎥⎥⎟  ⎜                                            \n",
              " ────⎟⋅╲╱ 377 + 21⋅√15231⋅ⅈ ⎥⎥⎟  ⎜                                            \n",
              "  2  ⎠                      ⎥⎥⎟  ⎜                                            \n",
              "────────────────────────────⎥⎥⎟  ⎜                                            \n",
              "        291                 ⎥⎥⎟  ⎜                                            \n",
              "                            ⎥⎥⎟  ⎜                                            \n",
              "                            ⎥⎥⎟  ⎜                                            \n",
              "                            ⎥⎥⎟  ⎜                                            \n",
              "                            ⎦⎦⎠  ⎝                                            \n",
              "\n",
              "                                        ⎡⎡                                    \n",
              "                                        ⎢⎢                                    \n",
              "                                        ⎢⎢                                    \n",
              "                                        ⎢⎢                                    \n",
              "                                        ⎢⎢                                    \n",
              "                                        ⎢⎢           ⎛  1   √3⋅ⅈ⎞ 3 __________\n",
              "                                        ⎢⎢        11⋅⎜- ─ + ────⎟⋅╲╱ 377 + 21⋅\n",
              "                                        ⎢⎢  317      ⎝  2    2  ⎠             \n",
              "                                        ⎢⎢  ─── - ────────────────────────────\n",
              "                                        ⎢⎢  291                    291        \n",
              "                                        ⎢⎢                                    \n",
              "                                        ⎢⎢                                    \n",
              "               190                      ⎢⎢                                    \n",
              "───────────────────────────────────, 1, ⎢⎢                                    \n",
              " ⎛  1   √3⋅ⅈ⎞ 3 ___________________     ⎢⎢                                    \n",
              "⋅⎜- ─ + ────⎟⋅╲╱ 377 + 21⋅√15231⋅ⅈ      ⎢⎢                                    \n",
              " ⎝  2    2  ⎠                           ⎢⎢                                    \n",
              "                                        ⎢⎢                                    \n",
              "                                        ⎢⎢            ⎛  1   √3⋅ⅈ⎞ 3 _________\n",
              "                                        ⎢⎢         20⋅⎜- ─ + ────⎟⋅╲╱ 377 + 21\n",
              "                                        ⎢⎢  1540      ⎝  2    2  ⎠            \n",
              "                                        ⎢⎢- ──── - ───────────────────────────\n",
              "                                        ⎢⎢  291                     291       \n",
              "                                        ⎢⎢                                    \n",
              "                                        ⎢⎢                                    \n",
              "                                        ⎢⎢                                    \n",
              "                                        ⎣⎣                                    \n",
              "\n",
              "                                                                              \n",
              "            ⎛      ⎛  1   √3⋅ⅈ⎞ 3 ___________________                         \n",
              "            ⎜      ⎜- ─ + ────⎟⋅╲╱ 377 + 21⋅√15231⋅ⅈ                          \n",
              "            ⎜  2   ⎝  2    2  ⎠                                         190   \n",
              "            ⎜- ─ - ────────────────────────────────── - ──────────────────────\n",
              "_________   ⎜  3                   3                      ⎛  1   √3⋅ⅈ⎞ 3 _____\n",
              "√15231⋅ⅈ    ⎜                                           3⋅⎜- ─ + ────⎟⋅╲╱ 377 \n",
              "            ⎝                                             ⎝  2    2  ⎠        \n",
              "───────── - ──────────────────────────────────────────────────────────────────\n",
              "                                                    97                        \n",
              "                                                                              \n",
              "                                                                              \n",
              "                                                                              \n",
              "                                                                              \n",
              "               ⎛      ⎛  1   √3⋅ⅈ⎞ 3 ___________________                      \n",
              "               ⎜      ⎜- ─ + ────⎟⋅╲╱ 377 + 21⋅√15231⋅ⅈ                       \n",
              "               ⎜  2   ⎝  2    2  ⎠                                         190\n",
              "             7⋅⎜- ─ - ────────────────────────────────── - ───────────────────\n",
              "__________     ⎜  3                   3                      ⎛  1   √3⋅ⅈ⎞ 3 __\n",
              "⋅√15231⋅ⅈ      ⎜                                           3⋅⎜- ─ + ────⎟⋅╲╱ 3\n",
              "               ⎝                                             ⎝  2    2  ⎠     \n",
              "────────── + ─────────────────────────────────────────────────────────────────\n",
              "                                                      97                      \n",
              "                                                                              \n",
              "                                                                              \n",
              "                                                                              \n",
              "                                                  1                           \n",
              "\n",
              "               2                                            ⎤⎤⎞               \n",
              "              ⎞                                             ⎥⎥⎟               \n",
              "              ⎟                                             ⎥⎥⎟               \n",
              "              ⎟                                             ⎥⎥⎟  ⎛            \n",
              "──────────────⎟                                             ⎥⎥⎟  ⎜            \n",
              "______________⎟                                             ⎥⎥⎟  ⎜            \n",
              "+ 21⋅√15231⋅ⅈ ⎟                                             ⎥⎥⎟  ⎜            \n",
              "              ⎠                     2090                    ⎥⎥⎟  ⎜            \n",
              "──────────────── - ──────────────────────────────────────   ⎥⎥⎟  ⎜            \n",
              "                       ⎛  1   √3⋅ⅈ⎞ 3 ___________________   ⎥⎥⎟  ⎜            \n",
              "                   291⋅⎜- ─ + ────⎟⋅╲╱ 377 + 21⋅√15231⋅ⅈ    ⎥⎥⎟  ⎜            \n",
              "                       ⎝  2    2  ⎠                         ⎥⎥⎟  ⎜      3 ____\n",
              "                                                            ⎥⎥⎟  ⎜  2   ╲╱ 377\n",
              "                  2                                         ⎥⎥⎟, ⎜- ─ - ──────\n",
              "                 ⎞                                          ⎥⎥⎟  ⎜  3         \n",
              "                 ⎟                                          ⎥⎥⎟  ⎜            \n",
              "                 ⎟                                          ⎥⎥⎟  ⎜            \n",
              "─────────────────⎟                                          ⎥⎥⎟  ⎜            \n",
              "_________________⎟                                          ⎥⎥⎟  ⎜            \n",
              "77 + 21⋅√15231⋅ⅈ ⎟                                          ⎥⎥⎟  ⎜            \n",
              "                 ⎠                     3800                 ⎥⎥⎟  ⎜            \n",
              "─────────────────── - ──────────────────────────────────────⎥⎥⎟  ⎜            \n",
              "                          ⎛  1   √3⋅ⅈ⎞ 3 ___________________⎥⎥⎟  ⎜            \n",
              "                      291⋅⎜- ─ + ────⎟⋅╲╱ 377 + 21⋅√15231⋅ⅈ ⎥⎥⎟  ⎝            \n",
              "                          ⎝  2    2  ⎠                      ⎥⎥⎟               \n",
              "                                                            ⎥⎥⎟               \n",
              "                                                            ⎦⎦⎠               \n",
              "\n",
              "                                                                              \n",
              "                                                                              \n",
              "                                                                              \n",
              "                                              ⎡⎡                              \n",
              "                                              ⎢⎢                              \n",
              "                                              ⎢⎢                              \n",
              "                                              ⎢⎢                              \n",
              "                                              ⎢⎢           3 _________________\n",
              "                                              ⎢⎢  317   11⋅╲╱ 377 + 21⋅√15231⋅\n",
              "                                              ⎢⎢  ─── - ──────────────────────\n",
              "                                              ⎢⎢  291             291         \n",
              "_______________                               ⎢⎢                              \n",
              " + 21⋅√15231⋅ⅈ              190               ⎢⎢                              \n",
              "─────────────── - ───────────────────────, 1, ⎢⎢                              \n",
              "    3               3 ___________________     ⎢⎢                              \n",
              "                  3⋅╲╱ 377 + 21⋅√15231⋅ⅈ      ⎢⎢                              \n",
              "                                              ⎢⎢                              \n",
              "                                              ⎢⎢            3 ________________\n",
              "                                              ⎢⎢  1540   20⋅╲╱ 377 + 21⋅√15231\n",
              "                                              ⎢⎢- ──── - ─────────────────────\n",
              "                                              ⎢⎢  291              291        \n",
              "                                              ⎢⎢                              \n",
              "                                              ⎢⎢                              \n",
              "                                              ⎣⎣                              \n",
              "                                                                              \n",
              "                                                                              \n",
              "                                                                              \n",
              "\n",
              "                                                                              \n",
              "                                                                              \n",
              "                                                                              \n",
              "                                                            2                 \n",
              "     ⎛      3 ___________________                          ⎞                  \n",
              "     ⎜  2   ╲╱ 377 + 21⋅√15231⋅ⅈ              190          ⎟                  \n",
              "     ⎜- ─ - ───────────────────── - ───────────────────────⎟                  \n",
              "__   ⎜  3             3               3 ___________________⎟                  \n",
              "ⅈ    ⎝                              3⋅╲╱ 377 + 21⋅√15231⋅ⅈ ⎠               209\n",
              "── - ──────────────────────────────────────────────────────── - ──────────────\n",
              "                                97                                  3 ________\n",
              "                                                                291⋅╲╱ 377 + 2\n",
              "                                                                              \n",
              "                                                               2              \n",
              "        ⎛      3 ___________________                          ⎞               \n",
              "        ⎜  2   ╲╱ 377 + 21⋅√15231⋅ⅈ              190          ⎟               \n",
              "      7⋅⎜- ─ - ───────────────────── - ───────────────────────⎟               \n",
              "___     ⎜  3             3               3 ___________________⎟               \n",
              "⋅ⅈ      ⎝                              3⋅╲╱ 377 + 21⋅√15231⋅ⅈ ⎠               \n",
              "─── + ────────────────────────────────────────────────────────── - ───────────\n",
              "                                  97                                   3 _____\n",
              "                                                                   291⋅╲╱ 377 \n",
              "                                                                              \n",
              "                              1                                               \n",
              "                                                                              \n",
              "                                                                              \n",
              "                                                                              \n",
              "\n",
              "                 ⎤\n",
              "                 ⎥\n",
              "                 ⎥\n",
              "              ⎤⎤⎞⎥\n",
              "              ⎥⎥⎟⎥\n",
              "              ⎥⎥⎟⎥\n",
              "              ⎥⎥⎟⎥\n",
              "              ⎥⎥⎟⎥\n",
              "0             ⎥⎥⎟⎥\n",
              "───────────   ⎥⎥⎟⎥\n",
              "___________   ⎥⎥⎟⎥\n",
              "1⋅√15231⋅ⅈ    ⎥⎥⎟⎥\n",
              "              ⎥⎥⎟⎥\n",
              "              ⎥⎥⎟⎥\n",
              "              ⎥⎥⎟⎥\n",
              "              ⎥⎥⎟⎥\n",
              "              ⎥⎥⎟⎥\n",
              "              ⎥⎥⎟⎥\n",
              "3800          ⎥⎥⎟⎥\n",
              "──────────────⎥⎥⎟⎥\n",
              "______________⎥⎥⎟⎥\n",
              "+ 21⋅√15231⋅ⅈ ⎥⎥⎟⎥\n",
              "              ⎥⎥⎟⎥\n",
              "              ⎦⎦⎠⎥\n",
              "                 ⎥\n",
              "                 ⎥\n",
              "                 ⎦"
            ],
            "text/latex": "$\\displaystyle \\left[ \\left( - \\frac{2}{3} - \\frac{190}{3 \\left(- \\frac{1}{2} - \\frac{\\sqrt{3} i}{2}\\right) \\sqrt[3]{377 + 21 \\sqrt{15231} i}} - \\frac{\\left(- \\frac{1}{2} - \\frac{\\sqrt{3} i}{2}\\right) \\sqrt[3]{377 + 21 \\sqrt{15231} i}}{3}, \\  1, \\  \\left[ \\left[\\begin{matrix}\\frac{317}{291} - \\frac{2090}{291 \\left(- \\frac{1}{2} - \\frac{\\sqrt{3} i}{2}\\right) \\sqrt[3]{377 + 21 \\sqrt{15231} i}} - \\frac{\\left(- \\frac{2}{3} - \\frac{190}{3 \\left(- \\frac{1}{2} - \\frac{\\sqrt{3} i}{2}\\right) \\sqrt[3]{377 + 21 \\sqrt{15231} i}} - \\frac{\\left(- \\frac{1}{2} - \\frac{\\sqrt{3} i}{2}\\right) \\sqrt[3]{377 + 21 \\sqrt{15231} i}}{3}\\right)^{2}}{97} - \\frac{11 \\left(- \\frac{1}{2} - \\frac{\\sqrt{3} i}{2}\\right) \\sqrt[3]{377 + 21 \\sqrt{15231} i}}{291}\\\\- \\frac{1540}{291} - \\frac{3800}{291 \\left(- \\frac{1}{2} - \\frac{\\sqrt{3} i}{2}\\right) \\sqrt[3]{377 + 21 \\sqrt{15231} i}} + \\frac{7 \\left(- \\frac{2}{3} - \\frac{190}{3 \\left(- \\frac{1}{2} - \\frac{\\sqrt{3} i}{2}\\right) \\sqrt[3]{377 + 21 \\sqrt{15231} i}} - \\frac{\\left(- \\frac{1}{2} - \\frac{\\sqrt{3} i}{2}\\right) \\sqrt[3]{377 + 21 \\sqrt{15231} i}}{3}\\right)^{2}}{97} - \\frac{20 \\left(- \\frac{1}{2} - \\frac{\\sqrt{3} i}{2}\\right) \\sqrt[3]{377 + 21 \\sqrt{15231} i}}{291}\\\\1\\end{matrix}\\right]\\right]\\right), \\  \\left( - \\frac{2}{3} - \\frac{\\left(- \\frac{1}{2} + \\frac{\\sqrt{3} i}{2}\\right) \\sqrt[3]{377 + 21 \\sqrt{15231} i}}{3} - \\frac{190}{3 \\left(- \\frac{1}{2} + \\frac{\\sqrt{3} i}{2}\\right) \\sqrt[3]{377 + 21 \\sqrt{15231} i}}, \\  1, \\  \\left[ \\left[\\begin{matrix}\\frac{317}{291} - \\frac{11 \\left(- \\frac{1}{2} + \\frac{\\sqrt{3} i}{2}\\right) \\sqrt[3]{377 + 21 \\sqrt{15231} i}}{291} - \\frac{\\left(- \\frac{2}{3} - \\frac{\\left(- \\frac{1}{2} + \\frac{\\sqrt{3} i}{2}\\right) \\sqrt[3]{377 + 21 \\sqrt{15231} i}}{3} - \\frac{190}{3 \\left(- \\frac{1}{2} + \\frac{\\sqrt{3} i}{2}\\right) \\sqrt[3]{377 + 21 \\sqrt{15231} i}}\\right)^{2}}{97} - \\frac{2090}{291 \\left(- \\frac{1}{2} + \\frac{\\sqrt{3} i}{2}\\right) \\sqrt[3]{377 + 21 \\sqrt{15231} i}}\\\\- \\frac{1540}{291} - \\frac{20 \\left(- \\frac{1}{2} + \\frac{\\sqrt{3} i}{2}\\right) \\sqrt[3]{377 + 21 \\sqrt{15231} i}}{291} + \\frac{7 \\left(- \\frac{2}{3} - \\frac{\\left(- \\frac{1}{2} + \\frac{\\sqrt{3} i}{2}\\right) \\sqrt[3]{377 + 21 \\sqrt{15231} i}}{3} - \\frac{190}{3 \\left(- \\frac{1}{2} + \\frac{\\sqrt{3} i}{2}\\right) \\sqrt[3]{377 + 21 \\sqrt{15231} i}}\\right)^{2}}{97} - \\frac{3800}{291 \\left(- \\frac{1}{2} + \\frac{\\sqrt{3} i}{2}\\right) \\sqrt[3]{377 + 21 \\sqrt{15231} i}}\\\\1\\end{matrix}\\right]\\right]\\right), \\  \\left( - \\frac{2}{3} - \\frac{\\sqrt[3]{377 + 21 \\sqrt{15231} i}}{3} - \\frac{190}{3 \\sqrt[3]{377 + 21 \\sqrt{15231} i}}, \\  1, \\  \\left[ \\left[\\begin{matrix}\\frac{317}{291} - \\frac{11 \\sqrt[3]{377 + 21 \\sqrt{15231} i}}{291} - \\frac{\\left(- \\frac{2}{3} - \\frac{\\sqrt[3]{377 + 21 \\sqrt{15231} i}}{3} - \\frac{190}{3 \\sqrt[3]{377 + 21 \\sqrt{15231} i}}\\right)^{2}}{97} - \\frac{2090}{291 \\sqrt[3]{377 + 21 \\sqrt{15231} i}}\\\\- \\frac{1540}{291} - \\frac{20 \\sqrt[3]{377 + 21 \\sqrt{15231} i}}{291} + \\frac{7 \\left(- \\frac{2}{3} - \\frac{\\sqrt[3]{377 + 21 \\sqrt{15231} i}}{3} - \\frac{190}{3 \\sqrt[3]{377 + 21 \\sqrt{15231} i}}\\right)^{2}}{97} - \\frac{3800}{291 \\sqrt[3]{377 + 21 \\sqrt{15231} i}}\\\\1\\end{matrix}\\right]\\right]\\right)\\right]$"
          },
          "metadata": {},
          "execution_count": 66
        }
      ]
    },
    {
      "cell_type": "code",
      "source": [
        "Mm=Matrix(\n",
        "    [\n",
        "        [3,-1,1],\n",
        "     [-1,5,-1],\n",
        "     [1,-1,3]\n",
        "    ]\n",
        ")\n",
        "Mm"
      ],
      "metadata": {
        "colab": {
          "base_uri": "https://localhost:8080/",
          "height": 78
        },
        "id": "Cz2cbGF9O6Ne",
        "outputId": "acff9f26-6d31-4861-f0da-dc4b2d818641"
      },
      "execution_count": null,
      "outputs": [
        {
          "output_type": "execute_result",
          "data": {
            "text/plain": [
              "⎡3   -1  1 ⎤\n",
              "⎢          ⎥\n",
              "⎢-1  5   -1⎥\n",
              "⎢          ⎥\n",
              "⎣1   -1  3 ⎦"
            ],
            "text/latex": "$\\displaystyle \\left[\\begin{matrix}3 & -1 & 1\\\\-1 & 5 & -1\\\\1 & -1 & 3\\end{matrix}\\right]$"
          },
          "metadata": {},
          "execution_count": 67
        }
      ]
    },
    {
      "cell_type": "code",
      "source": [
        "Mm.eigenvals()"
      ],
      "metadata": {
        "colab": {
          "base_uri": "https://localhost:8080/",
          "height": 37
        },
        "id": "ZPog_iPZO_QW",
        "outputId": "317224ad-23f5-4946-ee79-8cfe2fd36bb7"
      },
      "execution_count": null,
      "outputs": [
        {
          "output_type": "execute_result",
          "data": {
            "text/plain": [
              "{2: 1, 3: 1, 6: 1}"
            ],
            "text/latex": "$\\displaystyle \\left\\{ 2 : 1, \\  3 : 1, \\  6 : 1\\right\\}$"
          },
          "metadata": {},
          "execution_count": 68
        }
      ]
    },
    {
      "cell_type": "code",
      "source": [
        "Mm.eigenvects()"
      ],
      "metadata": {
        "colab": {
          "base_uri": "https://localhost:8080/",
          "height": 78
        },
        "id": "o9yZ2GhtPG_U",
        "outputId": "33d544d9-d4f3-4305-cc84-9fb703fb5ab5"
      },
      "execution_count": null,
      "outputs": [
        {
          "output_type": "execute_result",
          "data": {
            "text/plain": [
              "⎡⎛      ⎡⎡-1⎤⎤⎞  ⎛      ⎡⎡1⎤⎤⎞  ⎛      ⎡⎡1 ⎤⎤⎞⎤\n",
              "⎢⎜      ⎢⎢  ⎥⎥⎟  ⎜      ⎢⎢ ⎥⎥⎟  ⎜      ⎢⎢  ⎥⎥⎟⎥\n",
              "⎢⎜2, 1, ⎢⎢0 ⎥⎥⎟, ⎜3, 1, ⎢⎢1⎥⎥⎟, ⎜6, 1, ⎢⎢-2⎥⎥⎟⎥\n",
              "⎢⎜      ⎢⎢  ⎥⎥⎟  ⎜      ⎢⎢ ⎥⎥⎟  ⎜      ⎢⎢  ⎥⎥⎟⎥\n",
              "⎣⎝      ⎣⎣1 ⎦⎦⎠  ⎝      ⎣⎣1⎦⎦⎠  ⎝      ⎣⎣1 ⎦⎦⎠⎦"
            ],
            "text/latex": "$\\displaystyle \\left[ \\left( 2, \\  1, \\  \\left[ \\left[\\begin{matrix}-1\\\\0\\\\1\\end{matrix}\\right]\\right]\\right), \\  \\left( 3, \\  1, \\  \\left[ \\left[\\begin{matrix}1\\\\1\\\\1\\end{matrix}\\right]\\right]\\right), \\  \\left( 6, \\  1, \\  \\left[ \\left[\\begin{matrix}1\\\\-2\\\\1\\end{matrix}\\right]\\right]\\right)\\right]$"
          },
          "metadata": {},
          "execution_count": 70
        }
      ]
    },
    {
      "cell_type": "code",
      "source": [
        "# Normalizar um vetor\n",
        "\n",
        "vv1 = Matrix(\n",
        "    [-1,0,1]\n",
        ")\n",
        "\n",
        "display(vv1)"
      ],
      "metadata": {
        "colab": {
          "base_uri": "https://localhost:8080/",
          "height": 78
        },
        "id": "9dQJBJAHPwXb",
        "outputId": "baf30b50-f4c5-4e29-cbeb-5c68a272808a"
      },
      "execution_count": null,
      "outputs": [
        {
          "output_type": "display_data",
          "data": {
            "text/plain": [
              "⎡-1⎤\n",
              "⎢  ⎥\n",
              "⎢0 ⎥\n",
              "⎢  ⎥\n",
              "⎣1 ⎦"
            ],
            "text/latex": "$\\displaystyle \\left[\\begin{matrix}-1\\\\0\\\\1\\end{matrix}\\right]$"
          },
          "metadata": {}
        }
      ]
    },
    {
      "cell_type": "code",
      "source": [
        "nvec = vv1.norm()\n",
        "nvec"
      ],
      "metadata": {
        "colab": {
          "base_uri": "https://localhost:8080/",
          "height": 39
        },
        "id": "9wFLLEACP5oa",
        "outputId": "d9d363aa-fec5-4c8c-e7e2-68c91e71356d"
      },
      "execution_count": null,
      "outputs": [
        {
          "output_type": "execute_result",
          "data": {
            "text/plain": [
              "√2"
            ],
            "text/latex": "$\\displaystyle \\sqrt{2}$"
          },
          "metadata": {},
          "execution_count": 77
        }
      ]
    },
    {
      "cell_type": "code",
      "source": [
        "vv1_norm = vv1/nvec\n",
        "vv1_norm"
      ],
      "metadata": {
        "colab": {
          "base_uri": "https://localhost:8080/",
          "height": 88
        },
        "id": "9wLUm2dNQGRH",
        "outputId": "d4869345-a625-498b-8e76-c4154b997ead"
      },
      "execution_count": null,
      "outputs": [
        {
          "output_type": "execute_result",
          "data": {
            "text/plain": [
              "⎡-√2 ⎤\n",
              "⎢────⎥\n",
              "⎢ 2  ⎥\n",
              "⎢    ⎥\n",
              "⎢ 0  ⎥\n",
              "⎢    ⎥\n",
              "⎢ √2 ⎥\n",
              "⎢ ── ⎥\n",
              "⎣ 2  ⎦"
            ],
            "text/latex": "$\\displaystyle \\left[\\begin{matrix}- \\frac{\\sqrt{2}}{2}\\\\0\\\\\\frac{\\sqrt{2}}{2}\\end{matrix}\\right]$"
          },
          "metadata": {},
          "execution_count": 78
        }
      ]
    }
  ]
}