{
  "nbformat": 4,
  "nbformat_minor": 0,
  "metadata": {
    "colab": {
      "provenance": [],
      "authorship_tag": "ABX9TyPPmymIHy/d1Jr4+nk3PtP1",
      "include_colab_link": true
    },
    "kernelspec": {
      "name": "python3",
      "display_name": "Python 3"
    },
    "language_info": {
      "name": "python"
    }
  },
  "cells": [
    {
      "cell_type": "markdown",
      "metadata": {
        "id": "view-in-github",
        "colab_type": "text"
      },
      "source": [
        "<a href=\"https://colab.research.google.com/github/LuisAL79/Mincursos-e-Modulos/blob/main/Modulo_I_PhyMath_17_09_aula_02.ipynb\" target=\"_parent\"><img src=\"https://colab.research.google.com/assets/colab-badge.svg\" alt=\"Open In Colab\"/></a>"
      ]
    },
    {
      "cell_type": "markdown",
      "source": [
        "# **Listas - Arrays**\n",
        "\n",
        "Armazenar dados na memoria do computador, é uma 'caixa' onde podemos agrupar objetos e usá-los depois para diferentes operações. O número de elementos é ilimitado. VETOR"
      ],
      "metadata": {
        "id": "2zRq9BqqBBFD"
      }
    },
    {
      "cell_type": "markdown",
      "source": [
        "```\n",
        "lista=[8,3,5,1,0,5]\n",
        "lista\n",
        "```"
      ],
      "metadata": {
        "id": "EthM3y5tJdEr"
      }
    },
    {
      "cell_type": "code",
      "source": [
        "lista = [0,2,3,3,4,5]\n",
        "lista"
      ],
      "metadata": {
        "id": "Epx8ve5PBBVF",
        "colab": {
          "base_uri": "https://localhost:8080/"
        },
        "outputId": "444b76d5-6f1a-466d-8a61-75786474df1b"
      },
      "execution_count": null,
      "outputs": [
        {
          "output_type": "execute_result",
          "data": {
            "text/plain": [
              "[0, 2, 3, 3, 4, 5]"
            ]
          },
          "metadata": {},
          "execution_count": 1
        }
      ]
    },
    {
      "cell_type": "markdown",
      "source": [
        "```\n",
        "lista[-1]\n",
        "```"
      ],
      "metadata": {
        "id": "SeZmSzKUKjkP"
      }
    },
    {
      "cell_type": "code",
      "source": [
        "lista[-1]"
      ],
      "metadata": {
        "id": "Gk-__6RUsWI3",
        "colab": {
          "base_uri": "https://localhost:8080/"
        },
        "outputId": "bef44ffb-8323-463a-b75c-e8dd632bc37e"
      },
      "execution_count": null,
      "outputs": [
        {
          "output_type": "execute_result",
          "data": {
            "text/plain": [
              "5"
            ]
          },
          "metadata": {},
          "execution_count": 2
        }
      ]
    },
    {
      "cell_type": "markdown",
      "source": [
        "```\n",
        "lista=[8,3,5,'um',1,0,5,'dois']\n",
        "lista\n",
        "```"
      ],
      "metadata": {
        "id": "Bc5ObE0fKqK0"
      }
    },
    {
      "cell_type": "code",
      "source": [
        "lista=[1,2,3,'aqui','não', 'temos','lanche']\n",
        "lista"
      ],
      "metadata": {
        "id": "SZHQnzGCBM_O",
        "colab": {
          "base_uri": "https://localhost:8080/"
        },
        "outputId": "2b4d25c7-5646-45a2-d33e-77af7a6dfac3"
      },
      "execution_count": null,
      "outputs": [
        {
          "output_type": "execute_result",
          "data": {
            "text/plain": [
              "[1, 2, 3, 'aqui', 'não', 'temos', 'lanche']"
            ]
          },
          "metadata": {},
          "execution_count": 4
        }
      ]
    },
    {
      "cell_type": "markdown",
      "source": [
        "```\n",
        "lista[3]='este'\n",
        "lista\n",
        "```"
      ],
      "metadata": {
        "id": "YqnykidnKsho"
      }
    },
    {
      "cell_type": "code",
      "source": [
        "lista[3]='este'\n",
        "lista"
      ],
      "metadata": {
        "id": "dUYesygfn_xA",
        "colab": {
          "base_uri": "https://localhost:8080/"
        },
        "outputId": "60f848bc-c443-4bd0-ccf0-28a2a96a2d9f"
      },
      "execution_count": null,
      "outputs": [
        {
          "output_type": "execute_result",
          "data": {
            "text/plain": [
              "[1, 2, 3, 'este', 'não', 'temos', 'lanche']"
            ]
          },
          "metadata": {},
          "execution_count": 5
        }
      ]
    },
    {
      "cell_type": "markdown",
      "source": [
        "```\n",
        "lista[1]=3.5\n",
        "lista\n",
        "```"
      ],
      "metadata": {
        "id": "uzldztVJKwPc"
      }
    },
    {
      "cell_type": "code",
      "source": [
        "lista[1]=3.5\n",
        "lista"
      ],
      "metadata": {
        "id": "R_8v8mkKoie2",
        "colab": {
          "base_uri": "https://localhost:8080/"
        },
        "outputId": "d46edd75-c848-444e-f235-b377cb9b46a6"
      },
      "execution_count": null,
      "outputs": [
        {
          "output_type": "execute_result",
          "data": {
            "text/plain": [
              "[1, 3.5, 3, 'este', 'não', 'temos', 'lanche']"
            ]
          },
          "metadata": {},
          "execution_count": 6
        }
      ]
    },
    {
      "cell_type": "markdown",
      "source": [
        "```\n",
        "lista_vazia=[]\n",
        "lista_vazia\n",
        "```"
      ],
      "metadata": {
        "id": "HYEiH4dfKyq0"
      }
    },
    {
      "cell_type": "code",
      "source": [
        "lista_vazia=[]\n",
        "lista_vazia"
      ],
      "metadata": {
        "id": "qnaZTFwGsqp-",
        "colab": {
          "base_uri": "https://localhost:8080/"
        },
        "outputId": "7cb8ae64-4eae-406e-9283-a8db3a641e42"
      },
      "execution_count": null,
      "outputs": [
        {
          "output_type": "execute_result",
          "data": {
            "text/plain": [
              "[]"
            ]
          },
          "metadata": {},
          "execution_count": 7
        }
      ]
    },
    {
      "cell_type": "markdown",
      "source": [
        "```\n",
        "print(len(lista_vazia))\n",
        "```"
      ],
      "metadata": {
        "id": "2M-eh2xsK04J"
      }
    },
    {
      "cell_type": "code",
      "source": [
        "print(lista)\n",
        "print(len(lista))"
      ],
      "metadata": {
        "id": "XZg7DahSsvQZ",
        "colab": {
          "base_uri": "https://localhost:8080/"
        },
        "outputId": "84db74e1-feaf-460d-fbd8-1bd477f515a0"
      },
      "execution_count": null,
      "outputs": [
        {
          "output_type": "stream",
          "name": "stdout",
          "text": [
            "[1, 3.5, 3, 'este', 'não', 'temos', 'lanche']\n",
            "7\n"
          ]
        }
      ]
    },
    {
      "cell_type": "code",
      "source": [],
      "metadata": {
        "id": "T_1bmS98SAvm"
      },
      "execution_count": null,
      "outputs": []
    },
    {
      "cell_type": "markdown",
      "source": [
        "## Listas para construir \"matrizes\", é uma lista de listas\n",
        "\n",
        "$$\\left(\\begin{array}{ccc}\n",
        "  a & b  & c \\\\\n",
        "  d & e & f \\\\\n",
        "  g & h & i \\\\\n",
        "\\end{array}\\right)$$"
      ],
      "metadata": {
        "id": "OM-pcqFCs1Km"
      }
    },
    {
      "cell_type": "markdown",
      "source": [
        "```\n",
        "M = [ , , ] arranjo 2D de três linhas\n",
        "M1=[['a', 'b', 'c'],['d','e','f'], ['g','h','i']]   \n",
        "#o primeiro [] representa a primeira linha\n",
        "print(M1)\n",
        "```"
      ],
      "metadata": {
        "id": "6H3xfvzKSFgp"
      }
    },
    {
      "cell_type": "code",
      "source": [
        "M = [ ['a','b','c'], ['d','e','f'], ['g','h','i'] ]\n",
        "M"
      ],
      "metadata": {
        "id": "jwJxF7WmtMMQ",
        "colab": {
          "base_uri": "https://localhost:8080/"
        },
        "outputId": "a4c06692-5101-4873-e35e-6d501d10865d"
      },
      "execution_count": null,
      "outputs": [
        {
          "output_type": "execute_result",
          "data": {
            "text/plain": [
              "[['a', 'b', 'c'], ['d', 'e', 'f'], ['g', 'h', 'i']]"
            ]
          },
          "metadata": {},
          "execution_count": 10
        }
      ]
    },
    {
      "cell_type": "markdown",
      "source": [
        "```\n",
        "M1[1]  # imprime a linha 1\n",
        "```"
      ],
      "metadata": {
        "id": "SWn90PCpSUSx"
      }
    },
    {
      "cell_type": "code",
      "source": [
        "M[1]"
      ],
      "metadata": {
        "id": "C2pQvvtZu1DY",
        "colab": {
          "base_uri": "https://localhost:8080/"
        },
        "outputId": "5e2ccb43-6284-454f-aa78-5a162f4bb837"
      },
      "execution_count": null,
      "outputs": [
        {
          "output_type": "execute_result",
          "data": {
            "text/plain": [
              "['d', 'e', 'f']"
            ]
          },
          "metadata": {},
          "execution_count": 11
        }
      ]
    },
    {
      "cell_type": "markdown",
      "source": [
        "```\n",
        "#imprime o terceiro elemento da segunda linha\n",
        "M1[1][2]  \n",
        "\n",
        "```"
      ],
      "metadata": {
        "id": "A1PkjbYaSdfP"
      }
    },
    {
      "cell_type": "code",
      "source": [
        "M[1][2]"
      ],
      "metadata": {
        "id": "04mPeLqFvbFp",
        "colab": {
          "base_uri": "https://localhost:8080/",
          "height": 36
        },
        "outputId": "705d9910-0d04-483f-dff0-2c896634f449"
      },
      "execution_count": null,
      "outputs": [
        {
          "output_type": "execute_result",
          "data": {
            "text/plain": [
              "'f'"
            ],
            "application/vnd.google.colaboratory.intrinsic+json": {
              "type": "string"
            }
          },
          "metadata": {},
          "execution_count": 12
        }
      ]
    },
    {
      "cell_type": "markdown",
      "source": [
        "Coisas 'estranhas', Python imprime qualquer coisa, a lista é dinâmica para armazenar dados\n",
        "\n",
        "```\n",
        "M2=[[1],[0,3,2],[56,35]]\n",
        "M2\n",
        "```"
      ],
      "metadata": {
        "id": "KjjLhsWcSgFl"
      }
    },
    {
      "cell_type": "code",
      "source": [
        "M2=[ [1] , [0,3,2] , [56,35] ]\n",
        "M2"
      ],
      "metadata": {
        "colab": {
          "base_uri": "https://localhost:8080/"
        },
        "id": "4FrxXHELxal5",
        "outputId": "c1c9f7f1-b987-4b41-d866-b7c0c0a779bb"
      },
      "execution_count": null,
      "outputs": [
        {
          "output_type": "execute_result",
          "data": {
            "text/plain": [
              "[[1], [0, 3, 2], [56, 35]]"
            ]
          },
          "metadata": {},
          "execution_count": 5
        }
      ]
    },
    {
      "cell_type": "code",
      "source": [],
      "metadata": {
        "id": "Tn6rKo48vyO0"
      },
      "execution_count": null,
      "outputs": []
    },
    {
      "cell_type": "markdown",
      "source": [
        "## substituir elementos\n",
        "```\n",
        "listaM=[[0,2,3],['ana','julia','lol'],[2.5,0.8,10]]\n",
        "listaM\n",
        "```"
      ],
      "metadata": {
        "id": "vfeCdvxZS3vN"
      }
    },
    {
      "cell_type": "code",
      "source": [
        "listaM = [ [0,2,3], ['ana','julia','lol oi',5], [2.5,0.8,10] ]\n",
        "listaM"
      ],
      "metadata": {
        "colab": {
          "base_uri": "https://localhost:8080/"
        },
        "id": "wn0Mf0zzyG8X",
        "outputId": "4c0092df-078b-4b5c-d2e1-36b0ae6984d3"
      },
      "execution_count": null,
      "outputs": [
        {
          "output_type": "execute_result",
          "data": {
            "text/plain": [
              "[[0, 2, 3], ['ana', 'julia', 'lol oi', 5], [2.5, 0.8, 10]]"
            ]
          },
          "metadata": {},
          "execution_count": 7
        }
      ]
    },
    {
      "cell_type": "markdown",
      "source": [
        "```\n",
        "listaM[2][1]=1.6\n",
        "listaM\n",
        "```"
      ],
      "metadata": {
        "id": "tZZTVd9iS-ky"
      }
    },
    {
      "cell_type": "code",
      "source": [
        "listaM[2][1]='outro'\n",
        "listaM"
      ],
      "metadata": {
        "id": "baYmNVvUwUsj",
        "colab": {
          "base_uri": "https://localhost:8080/"
        },
        "outputId": "615131f9-6af4-46ea-94fe-7a56d18f8eba"
      },
      "execution_count": null,
      "outputs": [
        {
          "output_type": "execute_result",
          "data": {
            "text/plain": [
              "[[0, 2, 3], ['ana', 'julia', 'lol oi', 5], [2.5, 'outro', 10]]"
            ]
          },
          "metadata": {},
          "execution_count": 9
        }
      ]
    },
    {
      "cell_type": "markdown",
      "source": [
        "```\n",
        "M1[0][1]='bb'\n",
        "M1\n",
        "```"
      ],
      "metadata": {
        "id": "K6LIzkgDTLAH"
      }
    },
    {
      "cell_type": "code",
      "source": [
        "listaM[0][1]='bb'\n",
        "listaM"
      ],
      "metadata": {
        "id": "pGCSSlCmxKCZ",
        "colab": {
          "base_uri": "https://localhost:8080/"
        },
        "outputId": "160b1901-1738-4bb7-c0dd-d2b5e81b3540"
      },
      "execution_count": null,
      "outputs": [
        {
          "output_type": "execute_result",
          "data": {
            "text/plain": [
              "[[0, 'bb', 3], ['ana', 'julia', 'lol oi', 5], [2.5, 'outro', 10]]"
            ]
          },
          "metadata": {},
          "execution_count": 10
        }
      ]
    },
    {
      "cell_type": "markdown",
      "source": [
        "```\n",
        "M1.append(2.5)\n",
        "M1\n",
        "```"
      ],
      "metadata": {
        "id": "HD0b28mVTTWM"
      }
    },
    {
      "cell_type": "code",
      "source": [
        "listaM.append(2.5)\n",
        "listaM"
      ],
      "metadata": {
        "id": "BaVn6LY3xcjz",
        "colab": {
          "base_uri": "https://localhost:8080/"
        },
        "outputId": "d461621e-58d1-438f-a6b3-1352c17ca51b"
      },
      "execution_count": null,
      "outputs": [
        {
          "output_type": "execute_result",
          "data": {
            "text/plain": [
              "[[0, 'bb', 3], ['ana', 'julia', 'lol oi', 5], [2.5, 'outro', 10], 2.5]"
            ]
          },
          "metadata": {},
          "execution_count": 11
        }
      ]
    },
    {
      "cell_type": "markdown",
      "source": [
        "## incluir os elementos como lista\n",
        "\n",
        "```\n",
        "M1.append([2.45,16.8])   \n",
        "M1\n",
        "```"
      ],
      "metadata": {
        "id": "3keO59n6TYMk"
      }
    },
    {
      "cell_type": "code",
      "source": [
        "listaM.append(['lista',3,6,'b'])\n",
        "listaM"
      ],
      "metadata": {
        "id": "ilioCz1FyHiB",
        "colab": {
          "base_uri": "https://localhost:8080/"
        },
        "outputId": "9c8ae33d-8db2-4713-bf5a-13b45a3bdabc"
      },
      "execution_count": null,
      "outputs": [
        {
          "output_type": "execute_result",
          "data": {
            "text/plain": [
              "[[0, 'bb', 3],\n",
              " ['ana', 'julia', 'lol oi', 5],\n",
              " [2.5, 'outro', 10],\n",
              " 2.5,\n",
              " ['lista', 3, 6, 'b']]"
            ]
          },
          "metadata": {},
          "execution_count": 12
        }
      ]
    },
    {
      "cell_type": "code",
      "source": [
        "uma_lista=[2,3,589,'t']\n",
        "listaM.append(uma_lista)\n",
        "listaM"
      ],
      "metadata": {
        "colab": {
          "base_uri": "https://localhost:8080/"
        },
        "id": "Zgewc7ew19Vz",
        "outputId": "278e62d6-20fa-4e5b-907a-8d9a33241290"
      },
      "execution_count": null,
      "outputs": [
        {
          "output_type": "execute_result",
          "data": {
            "text/plain": [
              "[[0, 'bb', 3],\n",
              " ['ana', 'julia', 'lol oi', 5],\n",
              " [2.5, 'outro', 10],\n",
              " 2.5,\n",
              " ['lista', 3, 6, 'b'],\n",
              " [2, 3, 589, 't'],\n",
              " [2, 3, 589, 't'],\n",
              " [2, 3, 589, 't'],\n",
              " [2, 3, 589, 't']]"
            ]
          },
          "metadata": {},
          "execution_count": 16
        }
      ]
    },
    {
      "cell_type": "markdown",
      "source": [
        "## deleta uma linha/elemento\n",
        "\n",
        "```\n",
        "del(M1[2])   \n",
        "M1\n",
        "```"
      ],
      "metadata": {
        "id": "x0ojlsSSTkYa"
      }
    },
    {
      "cell_type": "code",
      "source": [
        "del(listaM[8])\n",
        "listaM"
      ],
      "metadata": {
        "id": "r1xOncUszGPy",
        "colab": {
          "base_uri": "https://localhost:8080/"
        },
        "outputId": "fd27fe4b-e858-4de1-d2e9-560dcc47dbbc"
      },
      "execution_count": null,
      "outputs": [
        {
          "output_type": "execute_result",
          "data": {
            "text/plain": [
              "[[0, 'bb', 3],\n",
              " ['ana', 'julia', 'lol oi', 5],\n",
              " [2.5, 'outro', 10],\n",
              " 2.5,\n",
              " ['lista', 3, 6, 'b'],\n",
              " [2, 3, 589, 't'],\n",
              " [2, 3, 589, 't'],\n",
              " [2, 3, 589, 't']]"
            ]
          },
          "metadata": {},
          "execution_count": 17
        }
      ]
    },
    {
      "cell_type": "markdown",
      "source": [
        "## Criar elementos numéricos de forma automática\n",
        "```\n",
        "list1=list(range(10))  \n",
        "list1\n",
        "```"
      ],
      "metadata": {
        "id": "NW-QAjWkTsU9"
      }
    },
    {
      "cell_type": "code",
      "source": [
        "list1=list(range(10))\n",
        "list1"
      ],
      "metadata": {
        "id": "nC5pPfrszWh0",
        "colab": {
          "base_uri": "https://localhost:8080/"
        },
        "outputId": "0020d509-6e17-4d2b-ec57-119092acdbcd"
      },
      "execution_count": null,
      "outputs": [
        {
          "output_type": "execute_result",
          "data": {
            "text/plain": [
              "[0, 1, 2, 3, 4, 5, 6, 7, 8, 9]"
            ]
          },
          "metadata": {},
          "execution_count": 18
        }
      ]
    },
    {
      "cell_type": "markdown",
      "source": [
        "```\n",
        "list1=list(range(2,10))\n",
        "list1\n",
        "```"
      ],
      "metadata": {
        "id": "6NoQKpLZT2AL"
      }
    },
    {
      "cell_type": "code",
      "source": [
        "list1=list(range(2,10))\n",
        "list1"
      ],
      "metadata": {
        "id": "wfjc319Tzdq-",
        "colab": {
          "base_uri": "https://localhost:8080/"
        },
        "outputId": "52a7a0ca-5bc2-410d-98a3-35272b8056bc"
      },
      "execution_count": null,
      "outputs": [
        {
          "output_type": "execute_result",
          "data": {
            "text/plain": [
              "[2, 3, 4, 5, 6, 7, 8, 9]"
            ]
          },
          "metadata": {},
          "execution_count": 2
        }
      ]
    },
    {
      "cell_type": "markdown",
      "source": [
        "```\n",
        "list1=list(range(2,10,2))\n",
        "list1\n",
        "```"
      ],
      "metadata": {
        "id": "xAKsrcV-T5mc"
      }
    },
    {
      "cell_type": "code",
      "source": [
        "list1=list(range(2,10,2))\n",
        "list1"
      ],
      "metadata": {
        "id": "TGcg2FPuzpCX",
        "colab": {
          "base_uri": "https://localhost:8080/"
        },
        "outputId": "b8991e2f-32a9-45a4-d4e2-81210f323830"
      },
      "execution_count": null,
      "outputs": [
        {
          "output_type": "execute_result",
          "data": {
            "text/plain": [
              "[2, 4, 6, 8]"
            ]
          },
          "metadata": {},
          "execution_count": 23
        }
      ]
    },
    {
      "cell_type": "markdown",
      "source": [
        "```\n",
        "list1=list(range(10,-1,-1))\n",
        "list1\n",
        "```"
      ],
      "metadata": {
        "id": "RUyQPAgXT86K"
      }
    },
    {
      "cell_type": "code",
      "source": [
        "list1=list(range(10,-1,-1))\n",
        "list1"
      ],
      "metadata": {
        "id": "zHqhS5ePz53D",
        "colab": {
          "base_uri": "https://localhost:8080/"
        },
        "outputId": "a9000213-dde3-45dc-f2f0-78bd0a8e40eb"
      },
      "execution_count": null,
      "outputs": [
        {
          "output_type": "execute_result",
          "data": {
            "text/plain": [
              "[10, 9, 8, 7, 6, 5, 4, 3, 2, 1, 0]"
            ]
          },
          "metadata": {},
          "execution_count": 24
        }
      ]
    },
    {
      "cell_type": "markdown",
      "source": [
        "```\n",
        "list1=list(reversed(range(10)))\n",
        "list1\n",
        "```"
      ],
      "metadata": {
        "id": "4cuJ2HJ_UAot"
      }
    },
    {
      "cell_type": "code",
      "source": [
        "list1=list(reversed(range(10)))\n",
        "list1"
      ],
      "metadata": {
        "id": "C9KOsx7j0UZc",
        "colab": {
          "base_uri": "https://localhost:8080/"
        },
        "outputId": "2db70160-0df9-4bcb-d336-5dbbc8cc22a2"
      },
      "execution_count": null,
      "outputs": [
        {
          "output_type": "execute_result",
          "data": {
            "text/plain": [
              "[9, 8, 7, 6, 5, 4, 3, 2, 1, 0]"
            ]
          },
          "metadata": {},
          "execution_count": 25
        }
      ]
    },
    {
      "cell_type": "markdown",
      "source": [
        "# **Condicionais**\n",
        "\n"
      ],
      "metadata": {
        "id": "AcsSEnFfcQ8U"
      }
    },
    {
      "cell_type": "markdown",
      "source": [
        "**If**\n",
        "```\n",
        "x=10               \n",
        "\n",
        "if x > 5:   # Verdadeiro\n",
        "\n",
        "  print('x é maior do que 5')\n",
        "\n",
        "print('final do programa')\n",
        "```"
      ],
      "metadata": {
        "id": "PWW65SvXcZQh"
      }
    },
    {
      "cell_type": "code",
      "source": [
        "x=1\n",
        "\n",
        "if x > 8:\n",
        "  print('É maior')\n",
        "  print('ok')\n",
        "\n",
        "print('finalizou')\n"
      ],
      "metadata": {
        "id": "E7MyOJJrcerh",
        "colab": {
          "base_uri": "https://localhost:8080/"
        },
        "outputId": "0795d6fc-29c0-41eb-89af-7ca30cc0c228"
      },
      "execution_count": null,
      "outputs": [
        {
          "output_type": "stream",
          "name": "stdout",
          "text": [
            "finalizou\n"
          ]
        }
      ]
    },
    {
      "cell_type": "markdown",
      "source": [
        "**If e Else**\n",
        "\n",
        "```\n",
        "x=1\n",
        "\n",
        "if x > 5:     # Falso\n",
        "  print('x é maior do que 5')\n",
        "else:\n",
        "  print('x é menor ou igual a 5')\n",
        "print('final do programa')\n",
        "```"
      ],
      "metadata": {
        "id": "EYVx6ZN_csvC"
      }
    },
    {
      "cell_type": "code",
      "source": [
        "x = 10\n",
        "\n",
        "if x> 5:\n",
        "  print('x é maior que 5')\n",
        "else:\n",
        "  print('não é maior')\n",
        "\n",
        "print('terminamos')"
      ],
      "metadata": {
        "id": "-1SCFwYscxcL",
        "colab": {
          "base_uri": "https://localhost:8080/"
        },
        "outputId": "ec1d3c87-c17c-4a94-8fab-bbab205695a6"
      },
      "execution_count": null,
      "outputs": [
        {
          "output_type": "stream",
          "name": "stdout",
          "text": [
            "x é maior que 5\n",
            "terminamos\n"
          ]
        }
      ]
    },
    {
      "cell_type": "markdown",
      "source": [
        "## Segunda condição lógica\n",
        "**ELIF**\n",
        "```\n",
        "x = 3\n",
        "if x>0:\n",
        "  print('x é positivo')\n",
        "elif x<0: # só executa se a anterior não é satisfeita\n",
        "  print('x é negativo')\n",
        "else:\n",
        "  print('x=0')\n",
        "print('finaliza')\n",
        "\n",
        "```"
      ],
      "metadata": {
        "id": "5QlNNreCcxqg"
      }
    },
    {
      "cell_type": "code",
      "source": [
        "x = 0\n",
        "\n",
        "if x > 0:\n",
        "  print('x é positivo')\n",
        "elif x < 0: # só é executado se a condicação anterior não foi satisfeita.\n",
        "  print('x é negativo')\n",
        "else:\n",
        "  print('x é zero')"
      ],
      "metadata": {
        "id": "MxH1FC3tdhIc",
        "colab": {
          "base_uri": "https://localhost:8080/"
        },
        "outputId": "520f689b-19bf-48b3-ba1a-40080e52e09c"
      },
      "execution_count": null,
      "outputs": [
        {
          "output_type": "stream",
          "name": "stdout",
          "text": [
            "x é zero\n"
          ]
        }
      ]
    },
    {
      "cell_type": "markdown",
      "source": [
        "# **Ciclos em Python - Loop**"
      ],
      "metadata": {
        "id": "QvqmXynudhU3"
      }
    },
    {
      "cell_type": "markdown",
      "source": [
        "## **While**\n",
        "\n",
        "```\n",
        "i =0\n",
        "while i<10:\n",
        "\n",
        "  print(i)\n",
        "\n",
        "  i=i+1\n",
        "\n",
        "print('terminamos :)')\n",
        "```"
      ],
      "metadata": {
        "id": "WXRjbfEmdmCa"
      }
    },
    {
      "cell_type": "code",
      "source": [
        "i=3\n",
        "\n",
        "while i < 10:\n",
        "  print(i)\n",
        "\n",
        "  i = i + 1"
      ],
      "metadata": {
        "id": "KVm816QxdwOp",
        "colab": {
          "base_uri": "https://localhost:8080/"
        },
        "outputId": "28895e7d-d32c-4ed6-d617-037085e279bb"
      },
      "execution_count": null,
      "outputs": [
        {
          "output_type": "stream",
          "name": "stdout",
          "text": [
            "3\n",
            "4\n",
            "5\n",
            "6\n",
            "7\n",
            "8\n",
            "9\n"
          ]
        }
      ]
    },
    {
      "cell_type": "markdown",
      "source": [
        "## **For**\n",
        "```\n",
        "for item in range(10):  # item é uma vsariável qualquer\n",
        "\n",
        "  print(item)\n",
        "\n",
        "print('terminamos !')\n",
        "```"
      ],
      "metadata": {
        "id": "_YgC_rureDl4"
      }
    },
    {
      "cell_type": "code",
      "source": [
        "for variavel in range(10):\n",
        "  print(variavel)"
      ],
      "metadata": {
        "id": "sty7WvnKeMSd",
        "colab": {
          "base_uri": "https://localhost:8080/"
        },
        "outputId": "7c39de1a-b6b0-4c8a-ec50-a8461177c048"
      },
      "execution_count": null,
      "outputs": [
        {
          "output_type": "stream",
          "name": "stdout",
          "text": [
            "0\n",
            "1\n",
            "2\n",
            "3\n",
            "4\n",
            "5\n",
            "6\n",
            "7\n",
            "8\n",
            "9\n"
          ]
        }
      ]
    },
    {
      "cell_type": "markdown",
      "source": [
        "### Ler dados de uma lista\n",
        "\n",
        "```\n",
        "list1=[4,6,3,0,9]\n",
        "\n",
        "for datos in list1:\n",
        "\n",
        "  print(datos)\n",
        "\n",
        "print('end')\n",
        "```"
      ],
      "metadata": {
        "id": "N8RGowWueN1p"
      }
    },
    {
      "cell_type": "code",
      "source": [
        "lista = [4,6,3,0,9]\n",
        "\n",
        "for tt in lista:\n",
        "  print(tt)"
      ],
      "metadata": {
        "id": "zHQvUYaFeaDK",
        "colab": {
          "base_uri": "https://localhost:8080/"
        },
        "outputId": "21f6804d-3175-4ea4-9fa4-4f40f19c8de0"
      },
      "execution_count": null,
      "outputs": [
        {
          "output_type": "stream",
          "name": "stdout",
          "text": [
            "4\n",
            "6\n",
            "3\n",
            "0\n",
            "9\n"
          ]
        }
      ]
    },
    {
      "cell_type": "markdown",
      "source": [
        "```\n",
        "for letra in 'olá amigo':\n",
        "\n",
        "  print(letra)\n",
        "\n",
        "print('end')\n",
        "```"
      ],
      "metadata": {
        "id": "hZ8RZ2SPeaQU"
      }
    },
    {
      "cell_type": "code",
      "source": [
        "for dd in 'olá amigo':\n",
        "  print(dd)"
      ],
      "metadata": {
        "id": "HkWvf24HefxX",
        "colab": {
          "base_uri": "https://localhost:8080/"
        },
        "outputId": "ba04d509-6de2-4bc2-e091-e37f68e00449"
      },
      "execution_count": null,
      "outputs": [
        {
          "output_type": "stream",
          "name": "stdout",
          "text": [
            "o\n",
            "l\n",
            "á\n",
            " \n",
            "a\n",
            "m\n",
            "i\n",
            "g\n",
            "o\n"
          ]
        }
      ]
    },
    {
      "cell_type": "code",
      "source": [
        "numeros = list(range(26))\n",
        "\n",
        "lpar=[]\n",
        "limpar=[]\n",
        "\n",
        "# número par é divísvel por 2\n",
        "for i in numeros:\n",
        "  if i == 0 :\n",
        "    print('eliminado')\n",
        "  elif i != 0:\n",
        "    if i % 2 == 0 :\n",
        "      lpar.append(i)\n",
        "      print(f'{i} é par')\n",
        "    else:\n",
        "      limpar.append(i)\n",
        "      print(f'{i} é ímpar')\n",
        "\n",
        "lpar"
      ],
      "metadata": {
        "colab": {
          "base_uri": "https://localhost:8080/"
        },
        "id": "7bNyrT8tCSPO",
        "outputId": "839e4d49-2529-4c17-b6d1-fc864addf7ea"
      },
      "execution_count": null,
      "outputs": [
        {
          "output_type": "stream",
          "name": "stdout",
          "text": [
            "eliminado\n",
            "1 é ímpar\n",
            "2 é par\n",
            "3 é ímpar\n",
            "4 é par\n",
            "5 é ímpar\n",
            "6 é par\n",
            "7 é ímpar\n",
            "8 é par\n",
            "9 é ímpar\n",
            "10 é par\n",
            "11 é ímpar\n",
            "12 é par\n",
            "13 é ímpar\n",
            "14 é par\n",
            "15 é ímpar\n",
            "16 é par\n",
            "17 é ímpar\n",
            "18 é par\n",
            "19 é ímpar\n",
            "20 é par\n",
            "21 é ímpar\n",
            "22 é par\n",
            "23 é ímpar\n",
            "24 é par\n",
            "25 é ímpar\n"
          ]
        },
        {
          "output_type": "execute_result",
          "data": {
            "text/plain": [
              "[2, 4, 6, 8, 10, 12, 14, 16, 18, 20, 22, 24]"
            ]
          },
          "metadata": {},
          "execution_count": 50
        }
      ]
    },
    {
      "cell_type": "markdown",
      "source": [
        "# **Compreensão de lista**\n",
        "_list comprehensions_\n"
      ],
      "metadata": {
        "id": "dey0gFklewbm"
      }
    },
    {
      "cell_type": "markdown",
      "source": [
        "```\n",
        "l1 = [x**2 for x in range(10)]\n",
        "l1\n",
        "```"
      ],
      "metadata": {
        "id": "0MkjHxo-gIaz"
      }
    },
    {
      "cell_type": "code",
      "source": [
        "l1=[ x**2 for x in range(10) ]\n",
        "l1"
      ],
      "metadata": {
        "id": "ckrNmqHJgM5u",
        "colab": {
          "base_uri": "https://localhost:8080/"
        },
        "outputId": "c94bc815-f97c-4092-a787-e2b4f5c32fec"
      },
      "execution_count": null,
      "outputs": [
        {
          "output_type": "execute_result",
          "data": {
            "text/plain": [
              "[0, 1, 4, 9, 16, 25, 36, 49, 64, 81]"
            ]
          },
          "metadata": {},
          "execution_count": 1
        }
      ]
    },
    {
      "cell_type": "markdown",
      "source": [
        "```\n",
        "l1 = [x**2 for x in range(10) if x**2<50]\n",
        "l1\n",
        "```"
      ],
      "metadata": {
        "id": "3_E2jS9XgNIG"
      }
    },
    {
      "cell_type": "code",
      "source": [
        "l2= [ x**2 for x in range(10) if x**2<50 ]\n",
        "l2"
      ],
      "metadata": {
        "id": "aFN6_qrugR-f",
        "colab": {
          "base_uri": "https://localhost:8080/"
        },
        "outputId": "dbbb8d83-4357-49e2-d9b2-9bedc886b75d"
      },
      "execution_count": null,
      "outputs": [
        {
          "output_type": "execute_result",
          "data": {
            "text/plain": [
              "[0, 1, 4, 9, 16, 25, 36, 49]"
            ]
          },
          "metadata": {},
          "execution_count": 2
        }
      ]
    },
    {
      "cell_type": "markdown",
      "source": [
        "```\n",
        "l1 = [-3,0,12,-9,-6]\n",
        "l2 = [x for x in l1 if x<0]\n",
        "l2\n",
        "```"
      ],
      "metadata": {
        "id": "NhxmvvrvgSMe"
      }
    },
    {
      "cell_type": "code",
      "source": [
        "l1 = [-3, 0, 12, -9, -6]\n",
        "l2 = [ elementos for elementos in l1 if elementos < 0 ]\n",
        "l2"
      ],
      "metadata": {
        "id": "aLBxnb3BgYEj",
        "colab": {
          "base_uri": "https://localhost:8080/"
        },
        "outputId": "328c8d50-291f-4430-9b2c-15f5952becf4"
      },
      "execution_count": null,
      "outputs": [
        {
          "output_type": "execute_result",
          "data": {
            "text/plain": [
              "[-3, -9, -6]"
            ]
          },
          "metadata": {},
          "execution_count": 3
        }
      ]
    },
    {
      "cell_type": "markdown",
      "source": [
        "# **Curiosidades**"
      ],
      "metadata": {
        "id": "O-MyMHN2bk30"
      }
    },
    {
      "cell_type": "markdown",
      "source": [
        "```\n",
        "import calendar\n",
        "\n",
        "print(calendar.calendar(2002))\n",
        "```"
      ],
      "metadata": {
        "id": "Ba82h427bp1K"
      }
    },
    {
      "cell_type": "code",
      "source": [
        "import calendar\n",
        "\n",
        "print(calendar.calendar(1979))"
      ],
      "metadata": {
        "id": "dJKdQ710cC2R",
        "colab": {
          "base_uri": "https://localhost:8080/"
        },
        "outputId": "61da3c1c-9208-40ea-8286-8ecabd79088c"
      },
      "execution_count": null,
      "outputs": [
        {
          "output_type": "stream",
          "name": "stdout",
          "text": [
            "                                  1979\n",
            "\n",
            "      January                   February                   March\n",
            "Mo Tu We Th Fr Sa Su      Mo Tu We Th Fr Sa Su      Mo Tu We Th Fr Sa Su\n",
            " 1  2  3  4  5  6  7                1  2  3  4                1  2  3  4\n",
            " 8  9 10 11 12 13 14       5  6  7  8  9 10 11       5  6  7  8  9 10 11\n",
            "15 16 17 18 19 20 21      12 13 14 15 16 17 18      12 13 14 15 16 17 18\n",
            "22 23 24 25 26 27 28      19 20 21 22 23 24 25      19 20 21 22 23 24 25\n",
            "29 30 31                  26 27 28                  26 27 28 29 30 31\n",
            "\n",
            "       April                      May                       June\n",
            "Mo Tu We Th Fr Sa Su      Mo Tu We Th Fr Sa Su      Mo Tu We Th Fr Sa Su\n",
            "                   1          1  2  3  4  5  6                   1  2  3\n",
            " 2  3  4  5  6  7  8       7  8  9 10 11 12 13       4  5  6  7  8  9 10\n",
            " 9 10 11 12 13 14 15      14 15 16 17 18 19 20      11 12 13 14 15 16 17\n",
            "16 17 18 19 20 21 22      21 22 23 24 25 26 27      18 19 20 21 22 23 24\n",
            "23 24 25 26 27 28 29      28 29 30 31               25 26 27 28 29 30\n",
            "30\n",
            "\n",
            "        July                     August                  September\n",
            "Mo Tu We Th Fr Sa Su      Mo Tu We Th Fr Sa Su      Mo Tu We Th Fr Sa Su\n",
            "                   1             1  2  3  4  5                      1  2\n",
            " 2  3  4  5  6  7  8       6  7  8  9 10 11 12       3  4  5  6  7  8  9\n",
            " 9 10 11 12 13 14 15      13 14 15 16 17 18 19      10 11 12 13 14 15 16\n",
            "16 17 18 19 20 21 22      20 21 22 23 24 25 26      17 18 19 20 21 22 23\n",
            "23 24 25 26 27 28 29      27 28 29 30 31            24 25 26 27 28 29 30\n",
            "30 31\n",
            "\n",
            "      October                   November                  December\n",
            "Mo Tu We Th Fr Sa Su      Mo Tu We Th Fr Sa Su      Mo Tu We Th Fr Sa Su\n",
            " 1  2  3  4  5  6  7                1  2  3  4                      1  2\n",
            " 8  9 10 11 12 13 14       5  6  7  8  9 10 11       3  4  5  6  7  8  9\n",
            "15 16 17 18 19 20 21      12 13 14 15 16 17 18      10 11 12 13 14 15 16\n",
            "22 23 24 25 26 27 28      19 20 21 22 23 24 25      17 18 19 20 21 22 23\n",
            "29 30 31                  26 27 28 29 30            24 25 26 27 28 29 30\n",
            "                                                    31\n",
            "\n"
          ]
        }
      ]
    },
    {
      "cell_type": "markdown",
      "source": [
        "```\n",
        "import random\n",
        "import time\n",
        "\n",
        "x = random.randint(1,8)\n",
        "print('Pensando!')\n",
        "time.sleep(3)\n",
        "print()\n",
        "print(f'O número sorteado é {x}')\n",
        "```"
      ],
      "metadata": {
        "id": "ce6l_WUcb6hy"
      }
    },
    {
      "cell_type": "code",
      "source": [
        "import random\n",
        "import time\n",
        "\n",
        "x = random.randint(1,8)\n",
        "print('Pensando!')\n",
        "time.sleep(3)\n",
        "print()\n",
        "print(f'O número aleatório é {x}')"
      ],
      "metadata": {
        "id": "CJVOrvA0cHZq",
        "colab": {
          "base_uri": "https://localhost:8080/"
        },
        "outputId": "15db53d8-e037-40f9-a56d-ad590387badf"
      },
      "execution_count": null,
      "outputs": [
        {
          "output_type": "stream",
          "name": "stdout",
          "text": [
            "Pensando!\n",
            "\n",
            "O número aleatório é 1\n"
          ]
        }
      ]
    },
    {
      "cell_type": "markdown",
      "source": [
        "**RIFA**\n",
        "\n",
        "```\n",
        "premios = ['banana', 'chocolate','bolo','alface','cenoura','frango']\n",
        "\n",
        "x = random.randint(0,len(premios)-1)\n",
        "rifado=str(premios[x].upper())\n",
        "time.sleep(2)\n",
        "print(f'Seu premio é:\\n{rifado:}')\n",
        "```"
      ],
      "metadata": {
        "id": "w_c9V8z0b7HK"
      }
    },
    {
      "cell_type": "code",
      "source": [
        "premios = ['banana','macauba','bolo','alface','cenoura','frango','iphone','motorola']\n",
        "num=len(premios)\n",
        "x = random.randint(0,num)\n",
        "rifado=str(premios[x].upper())\n",
        "time.sleep(2)\n",
        "print(f'Seu premio é:\\n{rifado:}')"
      ],
      "metadata": {
        "id": "dkhrQi5qcP7h",
        "colab": {
          "base_uri": "https://localhost:8080/"
        },
        "outputId": "472bc486-f1f6-4754-fd18-c5f5cd82ea7f"
      },
      "execution_count": null,
      "outputs": [
        {
          "output_type": "stream",
          "name": "stdout",
          "text": [
            "Seu premio é:\n",
            "FRANGO\n"
          ]
        }
      ]
    },
    {
      "cell_type": "code",
      "source": [],
      "metadata": {
        "id": "uk8btBh32DYY"
      },
      "execution_count": null,
      "outputs": []
    },
    {
      "cell_type": "markdown",
      "source": [
        "# **Operações com conjuntos**\n",
        "\n",
        "\n",
        "```\n",
        "A={6,3,5,1,2,1}\n",
        "A\n",
        "```"
      ],
      "metadata": {
        "id": "z-5XjnDYb7lC"
      }
    },
    {
      "cell_type": "code",
      "source": [
        "# Set {}\n",
        "A={6,3,5,2,1,1}\n",
        "A"
      ],
      "metadata": {
        "id": "vOtI1JRIgWyW",
        "colab": {
          "base_uri": "https://localhost:8080/"
        },
        "outputId": "23fe412d-e325-4fb3-ae69-462050a8636c"
      },
      "execution_count": null,
      "outputs": [
        {
          "output_type": "execute_result",
          "data": {
            "text/plain": [
              "{1, 2, 3, 5, 6}"
            ]
          },
          "metadata": {},
          "execution_count": 22
        }
      ]
    },
    {
      "cell_type": "markdown",
      "source": [
        "O set 'ordena' e imprime os elementos, sem repetição.\n",
        "\n",
        "```\n",
        "llist1=[10,2.5,6.8,9,10,1,1.01,1.001,-2,1]\n",
        "B=set(llist1)\n",
        "B\n",
        "```"
      ],
      "metadata": {
        "id": "Yy9DrzgAb8D5"
      }
    },
    {
      "cell_type": "code",
      "source": [
        "list1 = [10,2.5,6.8,10,1,1.01,1.001,-2,1, 2]\n",
        "B = set(list1)\n",
        "B"
      ],
      "metadata": {
        "id": "Dcl63EXyglMK",
        "colab": {
          "base_uri": "https://localhost:8080/"
        },
        "outputId": "9f7fff6e-521d-4209-8f05-be376e1c2ed1"
      },
      "execution_count": null,
      "outputs": [
        {
          "output_type": "execute_result",
          "data": {
            "text/plain": [
              "{-2, 1, 1.001, 1.01, 2, 2.5, 6.8, 10}"
            ]
          },
          "metadata": {},
          "execution_count": 25
        }
      ]
    },
    {
      "cell_type": "markdown",
      "source": [
        "\n",
        "## União de conjuntos\n",
        "\n",
        "```\n",
        "\n",
        "C=A|B\n",
        "C\n",
        "```\n",
        "![image.png](data:image/png;base64,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)"
      ],
      "metadata": {
        "id": "nx3fls2Cb8o0"
      }
    },
    {
      "cell_type": "code",
      "source": [
        "C = A | B\n",
        "C"
      ],
      "metadata": {
        "id": "hEgIyvm4gtPh",
        "colab": {
          "base_uri": "https://localhost:8080/"
        },
        "outputId": "e1411927-9a11-434c-bcef-06dd64b62b11"
      },
      "execution_count": null,
      "outputs": [
        {
          "output_type": "execute_result",
          "data": {
            "text/plain": [
              "{-2, 1, 1.001, 1.01, 2, 2.5, 3, 5, 6, 6.8, 10}"
            ]
          },
          "metadata": {},
          "execution_count": 26
        }
      ]
    },
    {
      "cell_type": "markdown",
      "source": [
        "## Intersecção de conjuntos\n",
        "\n",
        "```\n",
        "D=A&B\n",
        "D\n",
        "```\n",
        "\n",
        "\n",
        "\n"
      ],
      "metadata": {
        "id": "jE3f_EqXgsbw"
      }
    },
    {
      "cell_type": "code",
      "source": [
        "D=A & B\n",
        "D"
      ],
      "metadata": {
        "id": "fFWSWjf-g1Ji",
        "colab": {
          "base_uri": "https://localhost:8080/"
        },
        "outputId": "1754d353-8dd1-4fdf-d7a4-110495a27aaf"
      },
      "execution_count": null,
      "outputs": [
        {
          "output_type": "execute_result",
          "data": {
            "text/plain": [
              "{1, 2}"
            ]
          },
          "metadata": {},
          "execution_count": 27
        }
      ]
    },
    {
      "cell_type": "markdown",
      "source": [
        "## Diferença de conjuntos\n",
        "\n",
        "```\n",
        "E=A-B\n",
        "E\n",
        "```\n",
        "\n"
      ],
      "metadata": {
        "id": "Y3ZVK1QHg1Y-"
      }
    },
    {
      "cell_type": "code",
      "source": [
        "E = A - B\n",
        "print(A)\n",
        "print(B)\n",
        "E"
      ],
      "metadata": {
        "id": "kYrKyi3Og6DW",
        "colab": {
          "base_uri": "https://localhost:8080/"
        },
        "outputId": "aa8e34aa-e9ec-4516-ba92-e85f94c87b19"
      },
      "execution_count": null,
      "outputs": [
        {
          "output_type": "stream",
          "name": "stdout",
          "text": [
            "{1, 2, 3, 5, 6}\n",
            "{1.01, 1, 2.5, 1.001, 2, 6.8, 10, -2}\n"
          ]
        },
        {
          "output_type": "execute_result",
          "data": {
            "text/plain": [
              "{3, 5, 6}"
            ]
          },
          "metadata": {},
          "execution_count": 29
        }
      ]
    },
    {
      "cell_type": "markdown",
      "source": [
        "\n",
        "## Diferença simétrica\n",
        "\n",
        "```\n",
        "\n",
        "F=A^B\n",
        "F\n",
        "```\n",
        "\n"
      ],
      "metadata": {
        "id": "WtwCZklhg6P4"
      }
    },
    {
      "cell_type": "code",
      "source": [
        "F = A ^ B\n",
        "F"
      ],
      "metadata": {
        "id": "LsyhpDFVg9jw",
        "colab": {
          "base_uri": "https://localhost:8080/"
        },
        "outputId": "793585d4-e2f1-46f1-bb8d-50d4678850c1"
      },
      "execution_count": null,
      "outputs": [
        {
          "output_type": "execute_result",
          "data": {
            "text/plain": [
              "{-2, 1.001, 1.01, 2.5, 3, 5, 6, 6.8, 10}"
            ]
          },
          "metadata": {},
          "execution_count": 30
        }
      ]
    },
    {
      "cell_type": "markdown",
      "source": [
        "\n",
        "## Inclusão\n",
        "```\n",
        "# B está contenido em A?\n",
        "\n",
        "print(B<=A)\n",
        "```\n",
        "\n"
      ],
      "metadata": {
        "id": "fPUFH9uYg9v0"
      }
    },
    {
      "cell_type": "code",
      "source": [
        "print(B <= A)"
      ],
      "metadata": {
        "id": "qSNsVu7xhCRL",
        "colab": {
          "base_uri": "https://localhost:8080/"
        },
        "outputId": "b5a507fe-1b3d-4701-8807-714cbec593c8"
      },
      "execution_count": null,
      "outputs": [
        {
          "output_type": "stream",
          "name": "stdout",
          "text": [
            "False\n"
          ]
        }
      ]
    },
    {
      "cell_type": "markdown",
      "source": [
        "\n",
        "\n",
        "```\n",
        "# A está contenido em B?\n",
        "\n",
        "print(B>=A)\n",
        "```\n",
        "\n"
      ],
      "metadata": {
        "id": "7-EX8QS2hCdR"
      }
    },
    {
      "cell_type": "code",
      "source": [
        "print(B>=A)"
      ],
      "metadata": {
        "id": "s_bVrskNhMzL",
        "colab": {
          "base_uri": "https://localhost:8080/"
        },
        "outputId": "480e7823-5288-476b-b985-f69cb0520632"
      },
      "execution_count": null,
      "outputs": [
        {
          "output_type": "stream",
          "name": "stdout",
          "text": [
            "False\n"
          ]
        }
      ]
    },
    {
      "cell_type": "markdown",
      "source": [
        "## **Pertence** $\\in$\n",
        "\n",
        "```\n",
        "2 in B\n",
        "```\n",
        "\n"
      ],
      "metadata": {
        "id": "EpnO52M8hNAP"
      }
    },
    {
      "cell_type": "code",
      "source": [
        "print(B)\n",
        "2 in B"
      ],
      "metadata": {
        "colab": {
          "base_uri": "https://localhost:8080/"
        },
        "id": "2NS6h2UGA10_",
        "outputId": "78ea1ef5-a316-4929-8a0d-a71477f9229e"
      },
      "execution_count": null,
      "outputs": [
        {
          "output_type": "stream",
          "name": "stdout",
          "text": [
            "{1.01, 1, 2.5, 1.001, 2, 6.8, 10, -2}\n"
          ]
        },
        {
          "output_type": "execute_result",
          "data": {
            "text/plain": [
              "True"
            ]
          },
          "metadata": {},
          "execution_count": 35
        }
      ]
    },
    {
      "cell_type": "markdown",
      "source": [
        "## Produto Cartesiano"
      ],
      "metadata": {
        "id": "pnXeeGf43RIZ"
      }
    },
    {
      "cell_type": "markdown",
      "source": [
        "```\n",
        "from itertools import product\n",
        "\n",
        "list1 = ['a','b','c']\n",
        "list2 = [0,1,2]\n",
        "my_list=[ list1, list2 ]\n",
        "\n",
        "PC = []\n",
        "for elem in product(*my_list):\n",
        "  PC.append(elem)\n",
        "  print(PC)\n",
        "```\n",
        "\n"
      ],
      "metadata": {
        "id": "Yp0bBZqeqSQD"
      }
    },
    {
      "cell_type": "code",
      "source": [
        "from itertools import product\n",
        "\n",
        "list1 = ['a','b','c']\n",
        "list2 = [0,1,2]\n",
        "my_list = [list1,list2]\n",
        "my_list\n",
        "PC=[]\n",
        "for elem in product(*my_list):\n",
        "  PC.append(elem)\n",
        "  print(PC)"
      ],
      "metadata": {
        "id": "cjMUqL1ihTzN",
        "colab": {
          "base_uri": "https://localhost:8080/"
        },
        "outputId": "9345d959-7b8a-49bf-f046-4a6f33784bd1"
      },
      "execution_count": null,
      "outputs": [
        {
          "output_type": "stream",
          "name": "stdout",
          "text": [
            "[('a', 0)]\n",
            "[('a', 0), ('a', 1)]\n",
            "[('a', 0), ('a', 1), ('a', 2)]\n",
            "[('a', 0), ('a', 1), ('a', 2), ('b', 0)]\n",
            "[('a', 0), ('a', 1), ('a', 2), ('b', 0), ('b', 1)]\n",
            "[('a', 0), ('a', 1), ('a', 2), ('b', 0), ('b', 1), ('b', 2)]\n",
            "[('a', 0), ('a', 1), ('a', 2), ('b', 0), ('b', 1), ('b', 2), ('c', 0)]\n",
            "[('a', 0), ('a', 1), ('a', 2), ('b', 0), ('b', 1), ('b', 2), ('c', 0), ('c', 1)]\n",
            "[('a', 0), ('a', 1), ('a', 2), ('b', 0), ('b', 1), ('b', 2), ('c', 0), ('c', 1), ('c', 2)]\n"
          ]
        }
      ]
    },
    {
      "cell_type": "code",
      "source": [],
      "metadata": {
        "id": "2t0onUSO5YFf"
      },
      "execution_count": null,
      "outputs": []
    },
    {
      "cell_type": "markdown",
      "source": [
        "```\n",
        "print(type(PC))\n",
        "print(PC)\n",
        "```\n",
        "\n"
      ],
      "metadata": {
        "id": "unFLZy2fqfAQ"
      }
    },
    {
      "cell_type": "code",
      "source": [],
      "metadata": {
        "id": "B71PN29c5neu"
      },
      "execution_count": null,
      "outputs": []
    },
    {
      "cell_type": "markdown",
      "source": [
        "```\n",
        "sbcjt = 2**(len(list1))\n",
        "\n",
        "display(sbcjt)\n",
        "```\n",
        "\n"
      ],
      "metadata": {
        "id": "sFMDxyGNqkxE"
      }
    },
    {
      "cell_type": "code",
      "source": [],
      "metadata": {
        "id": "027YY4Rq5iQB"
      },
      "execution_count": null,
      "outputs": []
    }
  ]
}