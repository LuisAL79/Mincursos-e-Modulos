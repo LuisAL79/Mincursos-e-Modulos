{
  "nbformat": 4,
  "nbformat_minor": 0,
  "metadata": {
    "colab": {
      "provenance": [],
      "authorship_tag": "ABX9TyPraVP15dGckP6PYGaKCBvD",
      "include_colab_link": true
    },
    "kernelspec": {
      "name": "python3",
      "display_name": "Python 3"
    },
    "language_info": {
      "name": "python"
    }
  },
  "cells": [
    {
      "cell_type": "markdown",
      "metadata": {
        "id": "view-in-github",
        "colab_type": "text"
      },
      "source": [
        "<a href=\"https://colab.research.google.com/github/LuisAL79/Mincursos-e-Modulos/blob/main/Modulo_I_PhyMath_10_09_aula_01.ipynb\" target=\"_parent\"><img src=\"https://colab.research.google.com/assets/colab-badge.svg\" alt=\"Open In Colab\"/></a>"
      ]
    },
    {
      "cell_type": "markdown",
      "source": [
        "# **Operações Aritméticas**\n",
        "\n"
      ],
      "metadata": {
        "id": "Biwi61Y3b65A"
      }
    },
    {
      "cell_type": "markdown",
      "source": [
        "# **Jogo da velha**\n",
        "\n",
        "faltou escrever..."
      ],
      "metadata": {
        "id": "Hx5PNkGEociw"
      }
    },
    {
      "cell_type": "markdown",
      "source": [
        "## **Calculadora Python**"
      ],
      "metadata": {
        "id": "eLF_JB3Lo1ky"
      }
    },
    {
      "cell_type": "markdown",
      "source": [
        "**Operações**"
      ],
      "metadata": {
        "id": "argYXha3pX-v"
      }
    },
    {
      "cell_type": "markdown",
      "source": [
        "1+2 \\\\\n",
        "-5-9 \\\\\n",
        "3 * 5 \\\\\n",
        "-6/4*3+2\n"
      ],
      "metadata": {
        "id": "4CMsByRucd4V"
      }
    },
    {
      "cell_type": "code",
      "source": [
        "25-4"
      ],
      "metadata": {
        "id": "v2KQf31-b-bx",
        "colab": {
          "base_uri": "https://localhost:8080/"
        },
        "outputId": "b3088e97-a900-4e39-a990-82b71126b309"
      },
      "execution_count": null,
      "outputs": [
        {
          "output_type": "execute_result",
          "data": {
            "text/plain": [
              "21"
            ]
          },
          "metadata": {},
          "execution_count": 1
        }
      ]
    },
    {
      "cell_type": "code",
      "source": [
        "-9-9"
      ],
      "metadata": {
        "colab": {
          "base_uri": "https://localhost:8080/"
        },
        "id": "lHvWP6S0qEaY",
        "outputId": "3929ebdc-fa55-42fa-9728-17bb7b152818"
      },
      "execution_count": null,
      "outputs": [
        {
          "output_type": "execute_result",
          "data": {
            "text/plain": [
              "-18"
            ]
          },
          "metadata": {},
          "execution_count": 2
        }
      ]
    },
    {
      "cell_type": "code",
      "source": [
        "3*5"
      ],
      "metadata": {
        "colab": {
          "base_uri": "https://localhost:8080/"
        },
        "id": "_R65Y1LxqMJ-",
        "outputId": "b8c98ecf-bd72-4123-c06e-a3a32a55a432"
      },
      "execution_count": null,
      "outputs": [
        {
          "output_type": "execute_result",
          "data": {
            "text/plain": [
              "15"
            ]
          },
          "metadata": {},
          "execution_count": 3
        }
      ]
    },
    {
      "cell_type": "code",
      "source": [
        "-(6/4)*3+2"
      ],
      "metadata": {
        "colab": {
          "base_uri": "https://localhost:8080/"
        },
        "id": "1EwIHHE9qZn5",
        "outputId": "0abe4688-37c8-4a7c-ae0c-8ce42dda4ea8"
      },
      "execution_count": null,
      "outputs": [
        {
          "output_type": "execute_result",
          "data": {
            "text/plain": [
              "-2.5"
            ]
          },
          "metadata": {},
          "execution_count": 4
        }
      ]
    },
    {
      "cell_type": "markdown",
      "source": [
        "+## **Divisão**\n",
        "\n",
        "8/3 \\\\\n",
        "8//3  # divisão enteira  \\\\\n",
        "17%3   # % operação módulo, devolve o esto \\\\\n",
        "23%5"
      ],
      "metadata": {
        "id": "ZaIhODMMcdqf"
      }
    },
    {
      "cell_type": "code",
      "source": [
        "8/3"
      ],
      "metadata": {
        "id": "l3GAuXUwcvc2",
        "colab": {
          "base_uri": "https://localhost:8080/"
        },
        "outputId": "25aa2e6a-d64b-4640-fe2c-95fa3f43d6b2"
      },
      "execution_count": null,
      "outputs": [
        {
          "output_type": "execute_result",
          "data": {
            "text/plain": [
              "2.6666666666666665"
            ]
          },
          "metadata": {},
          "execution_count": 5
        }
      ]
    },
    {
      "cell_type": "code",
      "source": [
        "8//3"
      ],
      "metadata": {
        "colab": {
          "base_uri": "https://localhost:8080/"
        },
        "id": "IrXkAgC1q8T4",
        "outputId": "d2d28be8-9eea-42e1-e3d2-0cb69b01994f"
      },
      "execution_count": null,
      "outputs": [
        {
          "output_type": "execute_result",
          "data": {
            "text/plain": [
              "2"
            ]
          },
          "metadata": {},
          "execution_count": 6
        }
      ]
    },
    {
      "cell_type": "code",
      "source": [
        "# comentário - resto da divisão\n",
        "17%3"
      ],
      "metadata": {
        "colab": {
          "base_uri": "https://localhost:8080/"
        },
        "id": "o6v-C1Z5rWOn",
        "outputId": "b47226b3-3be4-434a-9721-387f34be09e8"
      },
      "execution_count": null,
      "outputs": [
        {
          "output_type": "execute_result",
          "data": {
            "text/plain": [
              "2"
            ]
          },
          "metadata": {},
          "execution_count": 7
        }
      ]
    },
    {
      "cell_type": "markdown",
      "source": [
        "## **Potência**\n",
        "\n",
        "2^3 \\\\\n",
        "2.5^2 \\\\\n",
        "81**0.5"
      ],
      "metadata": {
        "id": "9evc7yYzcZKY"
      }
    },
    {
      "cell_type": "code",
      "source": [
        "# potencia é com **\n",
        "2**3"
      ],
      "metadata": {
        "id": "zYQUDD0xcZgh",
        "colab": {
          "base_uri": "https://localhost:8080/"
        },
        "outputId": "f2f33628-5ff4-48b5-89b8-a8818f746c45"
      },
      "execution_count": null,
      "outputs": [
        {
          "output_type": "execute_result",
          "data": {
            "text/plain": [
              "8"
            ]
          },
          "metadata": {},
          "execution_count": 8
        }
      ]
    },
    {
      "cell_type": "code",
      "source": [
        "2.5**4"
      ],
      "metadata": {
        "colab": {
          "base_uri": "https://localhost:8080/"
        },
        "id": "H4oeWv0GsgVq",
        "outputId": "84dacc03-e609-4e33-aaac-2a464eec6d37"
      },
      "execution_count": null,
      "outputs": [
        {
          "output_type": "execute_result",
          "data": {
            "text/plain": [
              "39.0625"
            ]
          },
          "metadata": {},
          "execution_count": 9
        }
      ]
    },
    {
      "cell_type": "code",
      "source": [
        "81**0.5"
      ],
      "metadata": {
        "colab": {
          "base_uri": "https://localhost:8080/"
        },
        "id": "xTYzRhULs4Bq",
        "outputId": "19ed3e51-c9a8-4548-946d-859beef192cc"
      },
      "execution_count": null,
      "outputs": [
        {
          "output_type": "execute_result",
          "data": {
            "text/plain": [
              "9.0"
            ]
          },
          "metadata": {},
          "execution_count": 10
        }
      ]
    },
    {
      "cell_type": "code",
      "source": [
        "(5/6)*((81**(1/2))/3)"
      ],
      "metadata": {
        "colab": {
          "base_uri": "https://localhost:8080/"
        },
        "id": "IAEWC-HetEEv",
        "outputId": "bc5ff316-56be-46ae-f6cf-6a078b0856f4"
      },
      "execution_count": null,
      "outputs": [
        {
          "output_type": "execute_result",
          "data": {
            "text/plain": [
              "2.5"
            ]
          },
          "metadata": {},
          "execution_count": 11
        }
      ]
    },
    {
      "cell_type": "markdown",
      "source": [
        "# **Tipos de entradas**\n"
      ],
      "metadata": {
        "id": "pYV8ce63V1JF"
      }
    },
    {
      "cell_type": "markdown",
      "source": [
        "## **Numéricas: Inteiros, Reais, complexos**"
      ],
      "metadata": {
        "id": "iYcbR7ZsSjrQ"
      }
    },
    {
      "cell_type": "markdown",
      "source": [
        "int(3)"
      ],
      "metadata": {
        "id": "upWRzRE8dJIW"
      }
    },
    {
      "cell_type": "code",
      "source": [
        "int(3)"
      ],
      "metadata": {
        "id": "IcVepM6aITcp",
        "colab": {
          "base_uri": "https://localhost:8080/"
        },
        "outputId": "e078f146-01dd-4faf-c66d-03aa7dbd1fab"
      },
      "execution_count": null,
      "outputs": [
        {
          "output_type": "execute_result",
          "data": {
            "text/plain": [
              "3"
            ]
          },
          "metadata": {},
          "execution_count": 12
        }
      ]
    },
    {
      "cell_type": "markdown",
      "source": [
        "int(3.5)  # so pega a parte inteira"
      ],
      "metadata": {
        "id": "0sOleooudLue"
      }
    },
    {
      "cell_type": "code",
      "source": [
        "int(3.5)"
      ],
      "metadata": {
        "id": "hEE89PilUvnX",
        "colab": {
          "base_uri": "https://localhost:8080/"
        },
        "outputId": "a1a9403b-edc7-4c13-eb9e-408bc82d6eed"
      },
      "execution_count": null,
      "outputs": [
        {
          "output_type": "execute_result",
          "data": {
            "text/plain": [
              "3"
            ]
          },
          "metadata": {},
          "execution_count": 13
        }
      ]
    },
    {
      "cell_type": "code",
      "source": [
        "int(5.7)"
      ],
      "metadata": {
        "colab": {
          "base_uri": "https://localhost:8080/"
        },
        "id": "czvTVFkhujxa",
        "outputId": "ba836a6b-0299-4678-e168-606ecd106fdd"
      },
      "execution_count": null,
      "outputs": [
        {
          "output_type": "execute_result",
          "data": {
            "text/plain": [
              "5"
            ]
          },
          "metadata": {},
          "execution_count": 14
        }
      ]
    },
    {
      "cell_type": "markdown",
      "source": [
        "float(3)"
      ],
      "metadata": {
        "id": "6TbcCu82dQFT"
      }
    },
    {
      "cell_type": "code",
      "source": [
        "float(3)"
      ],
      "metadata": {
        "id": "g3WIcI6nIXV9",
        "colab": {
          "base_uri": "https://localhost:8080/"
        },
        "outputId": "0c1b833c-dfd5-42d5-ad80-1c9900759b24"
      },
      "execution_count": null,
      "outputs": [
        {
          "output_type": "execute_result",
          "data": {
            "text/plain": [
              "3.0"
            ]
          },
          "metadata": {},
          "execution_count": 15
        }
      ]
    },
    {
      "cell_type": "code",
      "source": [
        "float(5.7545898)"
      ],
      "metadata": {
        "colab": {
          "base_uri": "https://localhost:8080/"
        },
        "id": "XfSBb7D5vGE-",
        "outputId": "907a9924-e2b5-4af2-d622-008370a8c0a3"
      },
      "execution_count": null,
      "outputs": [
        {
          "output_type": "execute_result",
          "data": {
            "text/plain": [
              "5.7545898"
            ]
          },
          "metadata": {},
          "execution_count": 16
        }
      ]
    },
    {
      "cell_type": "markdown",
      "source": [
        "## **Notação científica**"
      ],
      "metadata": {
        "id": "Az7jWynEgCzu"
      }
    },
    {
      "cell_type": "markdown",
      "source": [
        "6.022e23"
      ],
      "metadata": {
        "id": "WLgyf2zye_SO"
      }
    },
    {
      "cell_type": "code",
      "source": [
        "6.022e23 # o e representa base 10"
      ],
      "metadata": {
        "id": "JmMn5Q5sVuOA",
        "colab": {
          "base_uri": "https://localhost:8080/"
        },
        "outputId": "d1444021-9278-4ad7-f0ec-d0c1d4636fc7"
      },
      "execution_count": null,
      "outputs": [
        {
          "output_type": "execute_result",
          "data": {
            "text/plain": [
              "6.022e+23"
            ]
          },
          "metadata": {},
          "execution_count": 17
        }
      ]
    },
    {
      "cell_type": "markdown",
      "source": [
        "6.022E-8"
      ],
      "metadata": {
        "id": "vbOdzVyZfCV4"
      }
    },
    {
      "cell_type": "code",
      "source": [
        "6.022E-30"
      ],
      "metadata": {
        "id": "1hdW3Sb5VHY3",
        "colab": {
          "base_uri": "https://localhost:8080/"
        },
        "outputId": "f2a0fb04-6afe-4464-e7aa-1199fdc2d769"
      },
      "execution_count": null,
      "outputs": [
        {
          "output_type": "execute_result",
          "data": {
            "text/plain": [
              "6.022e-30"
            ]
          },
          "metadata": {},
          "execution_count": 18
        }
      ]
    },
    {
      "cell_type": "code",
      "source": [
        "6.022e-3+45e20"
      ],
      "metadata": {
        "colab": {
          "base_uri": "https://localhost:8080/"
        },
        "id": "qe58JjmEwQYc",
        "outputId": "2ac250f2-e827-4158-db02-e183de1e938d"
      },
      "execution_count": null,
      "outputs": [
        {
          "output_type": "execute_result",
          "data": {
            "text/plain": [
              "4.5e+21"
            ]
          },
          "metadata": {},
          "execution_count": 19
        }
      ]
    },
    {
      "cell_type": "markdown",
      "source": [
        "## **Tipo de dado**\n",
        "_Método Type_ \\\\\n",
        "\n",
        "\n",
        "\n",
        "type(4.)"
      ],
      "metadata": {
        "id": "wPepEnqjfJkz"
      }
    },
    {
      "cell_type": "code",
      "source": [
        "type(4)"
      ],
      "metadata": {
        "id": "YYLeBMF9gJtK",
        "colab": {
          "base_uri": "https://localhost:8080/"
        },
        "outputId": "8ddd755f-71f9-4fb2-ffc5-c37999a84064"
      },
      "execution_count": null,
      "outputs": [
        {
          "output_type": "execute_result",
          "data": {
            "text/plain": [
              "int"
            ]
          },
          "metadata": {},
          "execution_count": 20
        }
      ]
    },
    {
      "cell_type": "code",
      "source": [
        "type(5.6)"
      ],
      "metadata": {
        "colab": {
          "base_uri": "https://localhost:8080/"
        },
        "id": "16i5RgNSxRl4",
        "outputId": "f0dc68de-4187-45b1-f858-a0683efbf38c"
      },
      "execution_count": null,
      "outputs": [
        {
          "output_type": "execute_result",
          "data": {
            "text/plain": [
              "float"
            ]
          },
          "metadata": {},
          "execution_count": 21
        }
      ]
    },
    {
      "cell_type": "markdown",
      "source": [
        "## **Complexos**"
      ],
      "metadata": {
        "id": "I44nyt7TbLFl"
      }
    },
    {
      "cell_type": "markdown",
      "source": [
        "complex(2,4)"
      ],
      "metadata": {
        "id": "hZbJreZSgsgY"
      }
    },
    {
      "cell_type": "code",
      "execution_count": null,
      "metadata": {
        "id": "FKkhbl0NCPWY",
        "colab": {
          "base_uri": "https://localhost:8080/"
        },
        "outputId": "3265ff01-3a52-47e3-b51d-8ae0c8d3c748"
      },
      "outputs": [
        {
          "output_type": "execute_result",
          "data": {
            "text/plain": [
              "(2+4j)"
            ]
          },
          "metadata": {},
          "execution_count": 22
        }
      ],
      "source": [
        "complex(2,4)"
      ]
    },
    {
      "cell_type": "markdown",
      "source": [
        "complex('6')"
      ],
      "metadata": {
        "id": "RB0XBt9KgwwC"
      }
    },
    {
      "cell_type": "code",
      "source": [
        "complex(6.0)"
      ],
      "metadata": {
        "id": "H5k-tekvVQLJ",
        "colab": {
          "base_uri": "https://localhost:8080/"
        },
        "outputId": "0ac223b9-448e-4f81-fe02-3716ab5c16ca"
      },
      "execution_count": null,
      "outputs": [
        {
          "output_type": "execute_result",
          "data": {
            "text/plain": [
              "(6+0j)"
            ]
          },
          "metadata": {},
          "execution_count": 23
        }
      ]
    },
    {
      "cell_type": "markdown",
      "source": [
        "complex(0,2)"
      ],
      "metadata": {
        "id": "wVJMq3nrgy7g"
      }
    },
    {
      "cell_type": "code",
      "source": [
        "complex(0,2)"
      ],
      "metadata": {
        "id": "Lj7vC51yWOlN",
        "colab": {
          "base_uri": "https://localhost:8080/"
        },
        "outputId": "6d32ccb8-7cb8-4cf9-ff16-a6c1a813fe4e"
      },
      "execution_count": null,
      "outputs": [
        {
          "output_type": "execute_result",
          "data": {
            "text/plain": [
              "2j"
            ]
          },
          "metadata": {},
          "execution_count": 24
        }
      ]
    },
    {
      "cell_type": "markdown",
      "source": [
        "5*complex(0,2)"
      ],
      "metadata": {
        "id": "mfsRxnJUg1zj"
      }
    },
    {
      "cell_type": "code",
      "source": [
        "5*complex(0,2)"
      ],
      "metadata": {
        "id": "kXTbcDe8bJPJ",
        "colab": {
          "base_uri": "https://localhost:8080/"
        },
        "outputId": "57ef1f33-8e83-4302-88f8-bf8ae5364f3d"
      },
      "execution_count": null,
      "outputs": [
        {
          "output_type": "execute_result",
          "data": {
            "text/plain": [
              "10j"
            ]
          },
          "metadata": {},
          "execution_count": 25
        }
      ]
    },
    {
      "cell_type": "markdown",
      "source": [
        "## **String**"
      ],
      "metadata": {
        "id": "0aoYZAf9SzZU"
      }
    },
    {
      "cell_type": "code",
      "source": [
        "'hola a todos'"
      ],
      "metadata": {
        "colab": {
          "base_uri": "https://localhost:8080/",
          "height": 37
        },
        "id": "7nC5RGK9Id8R",
        "outputId": "00f789ca-13e6-4dbf-a55e-2f355e6cc8fb"
      },
      "execution_count": null,
      "outputs": [
        {
          "output_type": "execute_result",
          "data": {
            "text/plain": [
              "'hola a todos'"
            ],
            "application/vnd.google.colaboratory.intrinsic+json": {
              "type": "string"
            }
          },
          "metadata": {},
          "execution_count": 26
        }
      ]
    },
    {
      "cell_type": "code",
      "source": [
        "print('Como vai?')"
      ],
      "metadata": {
        "colab": {
          "base_uri": "https://localhost:8080/"
        },
        "id": "KpH-04WkTNpN",
        "outputId": "245af2fe-f98d-4b31-879d-7294b5acc34d"
      },
      "execution_count": null,
      "outputs": [
        {
          "output_type": "stream",
          "name": "stdout",
          "text": [
            "Como vai?\n"
          ]
        }
      ]
    },
    {
      "cell_type": "code",
      "source": [],
      "metadata": {
        "id": "6gfdlCUQ2ULF"
      },
      "execution_count": null,
      "outputs": []
    },
    {
      "cell_type": "markdown",
      "source": [
        "## **Valores Lógicos**"
      ],
      "metadata": {
        "id": "O9F889ErTU4F"
      }
    },
    {
      "cell_type": "markdown",
      "source": [
        "### **Proposições**"
      ],
      "metadata": {
        "id": "emhNCTe4ULGh"
      }
    },
    {
      "cell_type": "code",
      "source": [
        "True"
      ],
      "metadata": {
        "colab": {
          "base_uri": "https://localhost:8080/"
        },
        "id": "rXgum-_vYlDP",
        "outputId": "76566191-69f7-4cad-d6cd-71b77a26247e"
      },
      "execution_count": null,
      "outputs": [
        {
          "output_type": "execute_result",
          "data": {
            "text/plain": [
              "True"
            ]
          },
          "metadata": {},
          "execution_count": 28
        }
      ]
    },
    {
      "cell_type": "code",
      "source": [
        "False"
      ],
      "metadata": {
        "colab": {
          "base_uri": "https://localhost:8080/"
        },
        "id": "wHOOkNQ9Ym_N",
        "outputId": "ccee4235-9cab-40ab-e4c5-45d835f4f898"
      },
      "execution_count": null,
      "outputs": [
        {
          "output_type": "execute_result",
          "data": {
            "text/plain": [
              "False"
            ]
          },
          "metadata": {},
          "execution_count": 29
        }
      ]
    },
    {
      "cell_type": "markdown",
      "source": [
        "### **Operações Lógicas**\n"
      ],
      "metadata": {
        "id": "bE94lUqfUVxS"
      }
    },
    {
      "cell_type": "markdown",
      "source": [
        "#### **Negação**\n",
        "\n",
        "$$ -p $$"
      ],
      "metadata": {
        "id": "nYZh6abZVc0P"
      }
    },
    {
      "cell_type": "code",
      "source": [
        "not False"
      ],
      "metadata": {
        "id": "MKdD7vpsdqZ8",
        "colab": {
          "base_uri": "https://localhost:8080/"
        },
        "outputId": "c8f80c59-8fd2-4150-9dc4-504958684814"
      },
      "execution_count": null,
      "outputs": [
        {
          "output_type": "execute_result",
          "data": {
            "text/plain": [
              "True"
            ]
          },
          "metadata": {},
          "execution_count": 30
        }
      ]
    },
    {
      "cell_type": "code",
      "source": [
        "not True"
      ],
      "metadata": {
        "colab": {
          "base_uri": "https://localhost:8080/"
        },
        "id": "iFLCMM_W3DZc",
        "outputId": "89d7dd35-add3-4ff7-8391-741d3ebdeddd"
      },
      "execution_count": null,
      "outputs": [
        {
          "output_type": "execute_result",
          "data": {
            "text/plain": [
              "False"
            ]
          },
          "metadata": {},
          "execution_count": 31
        }
      ]
    },
    {
      "cell_type": "markdown",
      "source": [
        "#### **Conjunção**\n",
        "\n",
        "$$p \\wedge q$$ \\\\\n",
        "\n",
        "True and False"
      ],
      "metadata": {
        "id": "gmLJXeATUbEY"
      }
    },
    {
      "cell_type": "code",
      "source": [
        "True and False"
      ],
      "metadata": {
        "id": "hNPdEwjeTv7l",
        "colab": {
          "base_uri": "https://localhost:8080/"
        },
        "outputId": "2853e62f-ed22-43a0-e0d5-596baa80e397"
      },
      "execution_count": null,
      "outputs": [
        {
          "output_type": "execute_result",
          "data": {
            "text/plain": [
              "False"
            ]
          },
          "metadata": {},
          "execution_count": 32
        }
      ]
    },
    {
      "cell_type": "code",
      "source": [
        "False and False"
      ],
      "metadata": {
        "colab": {
          "base_uri": "https://localhost:8080/"
        },
        "id": "ZP91qCfI3wmS",
        "outputId": "35b40503-f799-426d-8624-3c16524940bf"
      },
      "execution_count": null,
      "outputs": [
        {
          "output_type": "execute_result",
          "data": {
            "text/plain": [
              "False"
            ]
          },
          "metadata": {},
          "execution_count": 33
        }
      ]
    },
    {
      "cell_type": "markdown",
      "source": [
        "#### **Disjunção v**\n",
        "\n",
        "$$ p \\vee q$$ \\\\\n",
        "\n",
        "True or False"
      ],
      "metadata": {
        "id": "hm_8dZc-U6KO"
      }
    },
    {
      "cell_type": "code",
      "source": [
        "True or False"
      ],
      "metadata": {
        "id": "xwEAQCeGT3Zh",
        "colab": {
          "base_uri": "https://localhost:8080/"
        },
        "outputId": "59b62449-72b3-4ef1-cc46-01d0645ebcc3"
      },
      "execution_count": null,
      "outputs": [
        {
          "output_type": "execute_result",
          "data": {
            "text/plain": [
              "True"
            ]
          },
          "metadata": {},
          "execution_count": 34
        }
      ]
    },
    {
      "cell_type": "code",
      "source": [
        "False or False"
      ],
      "metadata": {
        "colab": {
          "base_uri": "https://localhost:8080/"
        },
        "id": "HkRSWmqN5UXI",
        "outputId": "418f6a7d-c61f-4ab0-b959-8e5178d1a5db"
      },
      "execution_count": null,
      "outputs": [
        {
          "output_type": "execute_result",
          "data": {
            "text/plain": [
              "False"
            ]
          },
          "metadata": {},
          "execution_count": 35
        }
      ]
    },
    {
      "cell_type": "markdown",
      "source": [
        "#### **Condicional**\n",
        "\n",
        "$$p → q = -p \\vee q$$"
      ],
      "metadata": {
        "id": "EAKy0Y-lUjpn"
      }
    },
    {
      "cell_type": "code",
      "source": [
        "not True or False"
      ],
      "metadata": {
        "id": "StNrjfw3b0NQ",
        "colab": {
          "base_uri": "https://localhost:8080/"
        },
        "outputId": "3aea0321-db11-4cb2-a3a2-b55186931a22"
      },
      "execution_count": null,
      "outputs": [
        {
          "output_type": "execute_result",
          "data": {
            "text/plain": [
              "False"
            ]
          },
          "metadata": {},
          "execution_count": 36
        }
      ]
    },
    {
      "cell_type": "markdown",
      "source": [
        "#### **Bicondicional**\n",
        "\n",
        "$$p ↔ q = (p → q) ∧ (q → p) $$"
      ],
      "metadata": {
        "id": "anRT3_TWU7IR"
      }
    },
    {
      "cell_type": "code",
      "source": [
        "(not False or True) and (not True or False)"
      ],
      "metadata": {
        "id": "MOOhhwNkb04A",
        "colab": {
          "base_uri": "https://localhost:8080/"
        },
        "outputId": "3aba565c-e896-455c-cc8d-3fd6222c29b0"
      },
      "execution_count": null,
      "outputs": [
        {
          "output_type": "execute_result",
          "data": {
            "text/plain": [
              "False"
            ]
          },
          "metadata": {},
          "execution_count": 37
        }
      ]
    },
    {
      "cell_type": "markdown",
      "source": [
        "# **Declarar variáveis**"
      ],
      "metadata": {
        "id": "lzeZY_G4XCt8"
      }
    },
    {
      "cell_type": "markdown",
      "source": [
        "## **alfanuméricos**"
      ],
      "metadata": {
        "id": "AfQPpShFi2iG"
      }
    },
    {
      "cell_type": "markdown",
      "source": [
        "a=5 \\\\\n",
        "a"
      ],
      "metadata": {
        "id": "BVe30rGmi-f9"
      }
    },
    {
      "cell_type": "code",
      "source": [
        "f=6"
      ],
      "metadata": {
        "id": "P6knw_v9XFAR"
      },
      "execution_count": null,
      "outputs": []
    },
    {
      "cell_type": "code",
      "source": [
        "f"
      ],
      "metadata": {
        "colab": {
          "base_uri": "https://localhost:8080/"
        },
        "id": "ev8jafm7oQCy",
        "outputId": "faf07ddb-3c6c-4eeb-97f5-c3660db4b223"
      },
      "execution_count": null,
      "outputs": [
        {
          "output_type": "execute_result",
          "data": {
            "text/plain": [
              "6"
            ]
          },
          "metadata": {},
          "execution_count": 3
        }
      ]
    },
    {
      "cell_type": "code",
      "source": [
        "3*f"
      ],
      "metadata": {
        "colab": {
          "base_uri": "https://localhost:8080/"
        },
        "id": "Jf1Xpka1obgo",
        "outputId": "b0f06f03-57f3-44a4-a7d0-b0e630381aa4"
      },
      "execution_count": null,
      "outputs": [
        {
          "output_type": "execute_result",
          "data": {
            "text/plain": [
              "18"
            ]
          },
          "metadata": {},
          "execution_count": 4
        }
      ]
    },
    {
      "cell_type": "code",
      "source": [
        "f=5"
      ],
      "metadata": {
        "id": "PElGW1o1o8ql"
      },
      "execution_count": null,
      "outputs": []
    },
    {
      "cell_type": "code",
      "source": [
        "f"
      ],
      "metadata": {
        "colab": {
          "base_uri": "https://localhost:8080/"
        },
        "id": "KloS8PinpEhm",
        "outputId": "a24c8df0-87b1-4fcd-b889-1f06cdbdc4da"
      },
      "execution_count": null,
      "outputs": [
        {
          "output_type": "execute_result",
          "data": {
            "text/plain": [
              "5"
            ]
          },
          "metadata": {},
          "execution_count": 6
        }
      ]
    },
    {
      "cell_type": "markdown",
      "source": [
        "*a=a+1 \\\\\n",
        "a"
      ],
      "metadata": {
        "id": "G8qsMm8HjCNc"
      }
    },
    {
      "cell_type": "code",
      "source": [
        "a=3.5\n",
        "a=a+1\n",
        "a"
      ],
      "metadata": {
        "id": "WbqbRrP0X18M",
        "colab": {
          "base_uri": "https://localhost:8080/"
        },
        "outputId": "fc7371e9-2e7b-4568-cd71-e5c3071b7ab2"
      },
      "execution_count": null,
      "outputs": [
        {
          "output_type": "execute_result",
          "data": {
            "text/plain": [
              "4.5"
            ]
          },
          "metadata": {},
          "execution_count": 8
        }
      ]
    },
    {
      "cell_type": "code",
      "source": [
        "a+f"
      ],
      "metadata": {
        "colab": {
          "base_uri": "https://localhost:8080/"
        },
        "id": "veN0L2igpwgh",
        "outputId": "678de9b4-844e-473f-babc-96af5c2bc7d6"
      },
      "execution_count": null,
      "outputs": [
        {
          "output_type": "execute_result",
          "data": {
            "text/plain": [
              "9.5"
            ]
          },
          "metadata": {},
          "execution_count": 9
        }
      ]
    },
    {
      "cell_type": "code",
      "source": [
        "a34=59/6\n",
        "a34"
      ],
      "metadata": {
        "colab": {
          "base_uri": "https://localhost:8080/"
        },
        "id": "guRwC0yUqAUl",
        "outputId": "aa3a1857-ea61-4ebe-c84d-ec08c2feba4e"
      },
      "execution_count": null,
      "outputs": [
        {
          "output_type": "execute_result",
          "data": {
            "text/plain": [
              "9.833333333333334"
            ]
          },
          "metadata": {},
          "execution_count": 10
        }
      ]
    },
    {
      "cell_type": "code",
      "source": [
        "3df=10\n",
        "\n",
        "# Não usar números iniciais em uma variável"
      ],
      "metadata": {
        "colab": {
          "base_uri": "https://localhost:8080/",
          "height": 135
        },
        "id": "Z6Gojt-NqQXC",
        "outputId": "afeff859-cf68-4224-9f13-1abe3d706596"
      },
      "execution_count": null,
      "outputs": [
        {
          "output_type": "error",
          "ename": "SyntaxError",
          "evalue": "ignored",
          "traceback": [
            "\u001b[0;36m  File \u001b[0;32m\"<ipython-input-14-ae1322166cba>\"\u001b[0;36m, line \u001b[0;32m1\u001b[0m\n\u001b[0;31m    3df=10\u001b[0m\n\u001b[0m      ^\u001b[0m\n\u001b[0;31mSyntaxError\u001b[0m\u001b[0;31m:\u001b[0m invalid syntax\n"
          ]
        }
      ]
    },
    {
      "cell_type": "markdown",
      "source": [
        "vari_a=4.5 \\\\\n",
        "vari_a"
      ],
      "metadata": {
        "id": "OQejlBPhjE9U"
      }
    },
    {
      "cell_type": "code",
      "source": [
        "minha_variavel=25\n",
        "minha_variavel**2"
      ],
      "metadata": {
        "colab": {
          "base_uri": "https://localhost:8080/"
        },
        "id": "2nDfrdS-qfG7",
        "outputId": "eefbf53b-a32b-42a3-bd30-ebf6b4d10d30"
      },
      "execution_count": null,
      "outputs": [
        {
          "output_type": "execute_result",
          "data": {
            "text/plain": [
              "625"
            ]
          },
          "metadata": {},
          "execution_count": 13
        }
      ]
    },
    {
      "cell_type": "code",
      "source": [],
      "metadata": {
        "id": "ZqajbjboX5XK"
      },
      "execution_count": null,
      "outputs": []
    },
    {
      "cell_type": "markdown",
      "source": [
        "a1=6 \\\\\n",
        "a1"
      ],
      "metadata": {
        "id": "hThJeKPGjZKX"
      }
    },
    {
      "cell_type": "code",
      "source": [],
      "metadata": {
        "id": "zKtKoRfZYF42"
      },
      "execution_count": null,
      "outputs": []
    },
    {
      "cell_type": "code",
      "source": [
        "#2a  # não pode começar com número, mas pode terminar"
      ],
      "metadata": {
        "id": "9m8MC32GYTlR"
      },
      "execution_count": null,
      "outputs": []
    },
    {
      "cell_type": "code",
      "source": [],
      "metadata": {
        "id": "U-IJSOiVksMS"
      },
      "execution_count": null,
      "outputs": []
    },
    {
      "cell_type": "code",
      "source": [
        "''' # Chamar a variável\n",
        "a '''"
      ],
      "metadata": {
        "colab": {
          "base_uri": "https://localhost:8080/",
          "height": 37
        },
        "id": "2uI6XjOFYcFo",
        "outputId": "d409d8b6-70fa-45f5-bcd0-6357250cf58e"
      },
      "execution_count": null,
      "outputs": [
        {
          "output_type": "execute_result",
          "data": {
            "text/plain": [
              "' # Chamar a variável\\na '"
            ],
            "application/vnd.google.colaboratory.intrinsic+json": {
              "type": "string"
            }
          },
          "metadata": {},
          "execution_count": 39
        }
      ]
    },
    {
      "cell_type": "code",
      "source": [
        " x25 = 17\n",
        "x25"
      ],
      "metadata": {
        "colab": {
          "base_uri": "https://localhost:8080/"
        },
        "id": "n6LalMssrpid",
        "outputId": "b0665f85-923b-43be-d4bf-ed3579ef05b9"
      },
      "execution_count": null,
      "outputs": [
        {
          "output_type": "execute_result",
          "data": {
            "text/plain": [
              "17"
            ]
          },
          "metadata": {},
          "execution_count": 2
        }
      ]
    },
    {
      "cell_type": "code",
      "source": [
        "# isto não imprime\n",
        "\n",
        "b3 = 24 ; hf=0.56\n",
        "\n",
        "print(b3/hf)\n",
        "\n",
        "'''para escerver várias variáveis use ponto e virgula'''"
      ],
      "metadata": {
        "colab": {
          "base_uri": "https://localhost:8080/",
          "height": 55
        },
        "id": "bmsQKK6Gs723",
        "outputId": "7d624420-3b91-4694-8cc4-d6b318ded245"
      },
      "execution_count": null,
      "outputs": [
        {
          "output_type": "stream",
          "name": "stdout",
          "text": [
            "42.857142857142854\n"
          ]
        },
        {
          "output_type": "execute_result",
          "data": {
            "text/plain": [
              "'para escerver várias variáveis use ponto e virgula'"
            ],
            "application/vnd.google.colaboratory.intrinsic+json": {
              "type": "string"
            }
          },
          "metadata": {},
          "execution_count": 2
        }
      ]
    },
    {
      "cell_type": "code",
      "source": [],
      "metadata": {
        "id": "BH0S-flGkun2"
      },
      "execution_count": null,
      "outputs": []
    },
    {
      "cell_type": "markdown",
      "source": [
        "\n",
        "## **Distinção !!**\n",
        "\n",
        "A=7 \\\\\n",
        "A"
      ],
      "metadata": {
        "id": "oBxFlathjmOZ"
      }
    },
    {
      "cell_type": "code",
      "source": [
        "A=7 ; A"
      ],
      "metadata": {
        "id": "FF9BLVMEYZCw",
        "colab": {
          "base_uri": "https://localhost:8080/"
        },
        "outputId": "7e0f850f-d558-484d-d68a-2b7a5cc7b50f"
      },
      "execution_count": null,
      "outputs": [
        {
          "output_type": "execute_result",
          "data": {
            "text/plain": [
              "7"
            ]
          },
          "metadata": {},
          "execution_count": 7
        }
      ]
    },
    {
      "cell_type": "code",
      "source": [
        "a=5"
      ],
      "metadata": {
        "id": "Ca0-1psPwGru"
      },
      "execution_count": null,
      "outputs": []
    },
    {
      "cell_type": "code",
      "source": [
        "print(A)\n",
        "print(a)"
      ],
      "metadata": {
        "colab": {
          "base_uri": "https://localhost:8080/"
        },
        "id": "ksM4aYElwJes",
        "outputId": "070b3e07-a626-4361-d03c-fa88be3ec1f0"
      },
      "execution_count": null,
      "outputs": [
        {
          "output_type": "stream",
          "name": "stdout",
          "text": [
            "7\n",
            "5\n"
          ]
        }
      ]
    },
    {
      "cell_type": "markdown",
      "source": [
        "## **Auto operações !!!**"
      ],
      "metadata": {
        "id": "7t8MnJ-KlRwx"
      }
    },
    {
      "cell_type": "markdown",
      "source": [
        "a=7.5 \\\\\n",
        "a+=2  # a=a+2 \\\\\n",
        "a"
      ],
      "metadata": {
        "id": "AYH53tWjlYu6"
      }
    },
    {
      "cell_type": "code",
      "source": [
        "a=7.5\n",
        "a=a+2\n",
        "a"
      ],
      "metadata": {
        "id": "iym-LotikDFF",
        "colab": {
          "base_uri": "https://localhost:8080/"
        },
        "outputId": "8e46cf54-ca91-40cc-bd4f-682fe6cc758c"
      },
      "execution_count": null,
      "outputs": [
        {
          "output_type": "execute_result",
          "data": {
            "text/plain": [
              "9.5"
            ]
          },
          "metadata": {},
          "execution_count": 13
        }
      ]
    },
    {
      "cell_type": "code",
      "source": [
        "a=7.5\n",
        "a+=2\n",
        "a"
      ],
      "metadata": {
        "colab": {
          "base_uri": "https://localhost:8080/"
        },
        "id": "YVrLpZb7xVJf",
        "outputId": "1e34fc5c-1943-4a95-8ef4-c2d1a1649d2c"
      },
      "execution_count": null,
      "outputs": [
        {
          "output_type": "execute_result",
          "data": {
            "text/plain": [
              "9.5"
            ]
          },
          "metadata": {},
          "execution_count": 14
        }
      ]
    },
    {
      "cell_type": "markdown",
      "source": [
        "a*=2 # a=2 * a \\\\\n",
        "a"
      ],
      "metadata": {
        "id": "LPo6X2GilfR8"
      }
    },
    {
      "cell_type": "code",
      "source": [
        "a*=2\n",
        "a"
      ],
      "metadata": {
        "id": "fFFtLumOY8Us",
        "colab": {
          "base_uri": "https://localhost:8080/"
        },
        "outputId": "ccd92ed0-fac7-4fae-b5f8-9fc402cc058b"
      },
      "execution_count": null,
      "outputs": [
        {
          "output_type": "execute_result",
          "data": {
            "text/plain": [
              "19.0"
            ]
          },
          "metadata": {},
          "execution_count": 15
        }
      ]
    },
    {
      "cell_type": "markdown",
      "source": [
        "## **Lógicas**"
      ],
      "metadata": {
        "id": "hbYlVrH8kc9m"
      }
    },
    {
      "cell_type": "markdown",
      "source": [
        "result=True \\\\\n",
        "result"
      ],
      "metadata": {
        "id": "Xir0-2Ssl2KB"
      }
    },
    {
      "cell_type": "code",
      "source": [
        "result=False\n",
        "result"
      ],
      "metadata": {
        "id": "xciPI_DmYen3",
        "colab": {
          "base_uri": "https://localhost:8080/"
        },
        "outputId": "59656ebf-40f1-4c89-895c-7f0f942dd626"
      },
      "execution_count": null,
      "outputs": [
        {
          "output_type": "execute_result",
          "data": {
            "text/plain": [
              "False"
            ]
          },
          "metadata": {},
          "execution_count": 24
        }
      ]
    },
    {
      "cell_type": "markdown",
      "source": [
        "result and (not result)"
      ],
      "metadata": {
        "id": "lSdUKF4AqTm6"
      }
    },
    {
      "cell_type": "code",
      "source": [
        "not result and (not result)"
      ],
      "metadata": {
        "id": "vpJfaT_OqXcM",
        "colab": {
          "base_uri": "https://localhost:8080/"
        },
        "outputId": "b2f37674-f064-4df4-a7db-697f08129069"
      },
      "execution_count": null,
      "outputs": [
        {
          "output_type": "execute_result",
          "data": {
            "text/plain": [
              "True"
            ]
          },
          "metadata": {},
          "execution_count": 25
        }
      ]
    },
    {
      "cell_type": "markdown",
      "source": [
        "## **Apagar variáveis**"
      ],
      "metadata": {
        "id": "MnVXAKZYmBMp"
      }
    },
    {
      "cell_type": "code",
      "source": [
        "#del(a)  # apaga a variável\n",
        "f=78\n",
        "f\n",
        "del(f)\n",
        "f\n"
      ],
      "metadata": {
        "id": "U_66b8n-Y8mN",
        "colab": {
          "base_uri": "https://localhost:8080/",
          "height": 245
        },
        "outputId": "d6079f52-941e-4dcd-a058-7bd0c49b7fc3"
      },
      "execution_count": null,
      "outputs": [
        {
          "output_type": "error",
          "ename": "NameError",
          "evalue": "ignored",
          "traceback": [
            "\u001b[0;31m---------------------------------------------------------------------------\u001b[0m",
            "\u001b[0;31mNameError\u001b[0m                                 Traceback (most recent call last)",
            "\u001b[0;32m<ipython-input-32-206b4b388b80>\u001b[0m in \u001b[0;36m<module>\u001b[0;34m\u001b[0m\n\u001b[1;32m      3\u001b[0m \u001b[0mf\u001b[0m\u001b[0;34m\u001b[0m\u001b[0;34m\u001b[0m\u001b[0m\n\u001b[1;32m      4\u001b[0m \u001b[0;32mdel\u001b[0m\u001b[0;34m(\u001b[0m\u001b[0mf\u001b[0m\u001b[0;34m)\u001b[0m\u001b[0;34m\u001b[0m\u001b[0;34m\u001b[0m\u001b[0m\n\u001b[0;32m----> 5\u001b[0;31m \u001b[0mf\u001b[0m\u001b[0;34m\u001b[0m\u001b[0;34m\u001b[0m\u001b[0m\n\u001b[0m",
            "\u001b[0;31mNameError\u001b[0m: name 'f' is not defined"
          ]
        }
      ]
    },
    {
      "cell_type": "markdown",
      "source": [
        "## **String**"
      ],
      "metadata": {
        "id": "nm1QH_SRtm8t"
      }
    },
    {
      "cell_type": "markdown",
      "source": [
        "### **inclusão de texto**"
      ],
      "metadata": {
        "id": "y8jLEFLzmq81"
      }
    },
    {
      "cell_type": "markdown",
      "source": [
        "texto='olá humano' \\\\\n",
        "texto"
      ],
      "metadata": {
        "id": "ZtF-jUbYmW4W"
      }
    },
    {
      "cell_type": "code",
      "source": [
        "texto='olá humano!'\n",
        "texto"
      ],
      "metadata": {
        "id": "ILRvaaRXYpZd",
        "colab": {
          "base_uri": "https://localhost:8080/",
          "height": 36
        },
        "outputId": "2a2b0aed-518a-4197-8089-eb9ac3a5a5ce"
      },
      "execution_count": null,
      "outputs": [
        {
          "output_type": "execute_result",
          "data": {
            "text/plain": [
              "'olá humano!'"
            ],
            "application/vnd.google.colaboratory.intrinsic+json": {
              "type": "string"
            }
          },
          "metadata": {},
          "execution_count": 33
        }
      ]
    },
    {
      "cell_type": "markdown",
      "source": [
        "pedido=input('O que deseja? ') \\\\\n",
        "pedido"
      ],
      "metadata": {
        "id": "ubzdoZdCmbJf"
      }
    },
    {
      "cell_type": "code",
      "source": [
        "pedido=input('O que você deseja?')\n",
        "pedido"
      ],
      "metadata": {
        "colab": {
          "base_uri": "https://localhost:8080/",
          "height": 55
        },
        "id": "S3nxhLjZ6pp6",
        "outputId": "d893190b-c68b-4d9a-8bc4-f66a55d9112c"
      },
      "execution_count": null,
      "outputs": [
        {
          "name": "stdout",
          "output_type": "stream",
          "text": [
            "O que você deseja?lanche\n"
          ]
        },
        {
          "output_type": "execute_result",
          "data": {
            "text/plain": [
              "'lanche'"
            ],
            "application/vnd.google.colaboratory.intrinsic+json": {
              "type": "string"
            }
          },
          "metadata": {},
          "execution_count": 34
        }
      ]
    },
    {
      "cell_type": "code",
      "source": [
        "pedido"
      ],
      "metadata": {
        "colab": {
          "base_uri": "https://localhost:8080/",
          "height": 36
        },
        "id": "ADFp2JHa7SP-",
        "outputId": "487f4255-869d-4297-ebde-426963ef1c41"
      },
      "execution_count": null,
      "outputs": [
        {
          "output_type": "execute_result",
          "data": {
            "text/plain": [
              "'lanche'"
            ],
            "application/vnd.google.colaboratory.intrinsic+json": {
              "type": "string"
            }
          },
          "metadata": {},
          "execution_count": 35
        }
      ]
    },
    {
      "cell_type": "markdown",
      "source": [
        "### **entrada de números**"
      ],
      "metadata": {
        "id": "ABEBQxISmxAk"
      }
    },
    {
      "cell_type": "markdown",
      "source": [
        "pedido1=int(input('Qual o valor? ')) \\\\\n",
        "pedido1+3"
      ],
      "metadata": {
        "id": "0hQBc7k9m4w2"
      }
    },
    {
      "cell_type": "code",
      "source": [
        "preço = int ( input('Qual é o valor?'))\n",
        "preço = preço - 5\n",
        "preço"
      ],
      "metadata": {
        "id": "g6dzmyJObomF",
        "colab": {
          "base_uri": "https://localhost:8080/"
        },
        "outputId": "9ff5c5b7-f2b0-4c66-a084-8b2e71166707"
      },
      "execution_count": null,
      "outputs": [
        {
          "name": "stdout",
          "output_type": "stream",
          "text": [
            "Qual é o valor?125\n"
          ]
        },
        {
          "output_type": "execute_result",
          "data": {
            "text/plain": [
              "120"
            ]
          },
          "metadata": {},
          "execution_count": 36
        }
      ]
    },
    {
      "cell_type": "code",
      "source": [
        "preço = float ( input('Qual é o valor?  '))\n",
        "preço = preço - 5.5\n",
        "preço"
      ],
      "metadata": {
        "colab": {
          "base_uri": "https://localhost:8080/"
        },
        "id": "1A5BHx_Z8_Wk",
        "outputId": "fed5cd63-7f51-40fa-8865-8aa79332e556"
      },
      "execution_count": null,
      "outputs": [
        {
          "name": "stdout",
          "output_type": "stream",
          "text": [
            "Qual é o valor?  126.3\n"
          ]
        },
        {
          "output_type": "execute_result",
          "data": {
            "text/plain": [
              "120.8"
            ]
          },
          "metadata": {},
          "execution_count": 39
        }
      ]
    },
    {
      "cell_type": "markdown",
      "source": [
        "# **Métodos de String**"
      ],
      "metadata": {
        "id": "gHbxZF5Htzc9"
      }
    },
    {
      "cell_type": "markdown",
      "source": [
        "### **Juntar string**"
      ],
      "metadata": {
        "id": "MvmyK9CKnJOo"
      }
    },
    {
      "cell_type": "markdown",
      "source": [
        "txt1='aqui' \\\\\n",
        "txt2='esta' \\\\\n",
        "txt1+txt2"
      ],
      "metadata": {
        "id": "mc00bj29qu4F"
      }
    },
    {
      "cell_type": "code",
      "source": [
        "txt1='aqui '\n",
        "txt2='está'\n",
        "txt1+txt2"
      ],
      "metadata": {
        "id": "VW35JBcCc5EP",
        "colab": {
          "base_uri": "https://localhost:8080/",
          "height": 36
        },
        "outputId": "cc5c91a1-b822-4bca-e91b-a924bb24654e"
      },
      "execution_count": null,
      "outputs": [
        {
          "output_type": "execute_result",
          "data": {
            "text/plain": [
              "'aqui está'"
            ],
            "application/vnd.google.colaboratory.intrinsic+json": {
              "type": "string"
            }
          },
          "metadata": {},
          "execution_count": 45
        }
      ]
    },
    {
      "cell_type": "markdown",
      "source": [
        "3*txt1"
      ],
      "metadata": {
        "id": "Rl8y9RBSqy4g"
      }
    },
    {
      "cell_type": "code",
      "source": [
        "3*txt1"
      ],
      "metadata": {
        "id": "S7xNA5AXm1fL",
        "colab": {
          "base_uri": "https://localhost:8080/",
          "height": 36
        },
        "outputId": "99b3ebb1-8e23-4992-fa0b-a9d8031d7b22"
      },
      "execution_count": null,
      "outputs": [
        {
          "output_type": "execute_result",
          "data": {
            "text/plain": [
              "'aqui aqui aqui '"
            ],
            "application/vnd.google.colaboratory.intrinsic+json": {
              "type": "string"
            }
          },
          "metadata": {},
          "execution_count": 46
        }
      ]
    },
    {
      "cell_type": "markdown",
      "source": [
        "### **text longo**\n",
        "\n",
        "txt=''' textos também podem\n",
        "estar em várias linhas\n",
        "desde que o usuário assim o escreva\n",
        "'''\n",
        "\n",
        "txt"
      ],
      "metadata": {
        "id": "BfnmMEQzq7t5"
      }
    },
    {
      "cell_type": "code",
      "source": [
        "txt='''textos também podem estar em várias linhas desde que o usuário assim o escreva'''\n",
        "txt"
      ],
      "metadata": {
        "id": "qsVyFoMVm_6g",
        "colab": {
          "base_uri": "https://localhost:8080/",
          "height": 55
        },
        "outputId": "140d3bd1-f233-4155-ad5b-7bc60e6a9977"
      },
      "execution_count": null,
      "outputs": [
        {
          "output_type": "execute_result",
          "data": {
            "text/plain": [
              "'textos também podem estar em várias linhas desde que o usuário assim o escreva'"
            ],
            "application/vnd.google.colaboratory.intrinsic+json": {
              "type": "string"
            }
          },
          "metadata": {},
          "execution_count": 47
        }
      ]
    },
    {
      "cell_type": "markdown",
      "source": [
        "### **Salto de linha**\n",
        "\\\\\n",
        "\n",
        "print('eu quero \\n na próxima linha')"
      ],
      "metadata": {
        "id": "DRzTxxSHrLqv"
      }
    },
    {
      "cell_type": "code",
      "source": [
        "print('Eu quero \\nna próxima\\nlinha!')"
      ],
      "metadata": {
        "id": "tFNIGfXanpCF",
        "colab": {
          "base_uri": "https://localhost:8080/"
        },
        "outputId": "7e792f79-7c1d-42cf-afbf-92302a8e74b1"
      },
      "execution_count": null,
      "outputs": [
        {
          "output_type": "stream",
          "name": "stdout",
          "text": [
            "Eu quero \n",
            "na próxima\n",
            "linha!\n"
          ]
        }
      ]
    },
    {
      "cell_type": "markdown",
      "source": [
        "### **Tabulação**\n",
        "\n",
        "print('texto com \\t indentação')\n"
      ],
      "metadata": {
        "id": "DGfA4SFWrV1E"
      }
    },
    {
      "cell_type": "code",
      "source": [
        "print('Texto com \\ttabulação')\n",
        ""
      ],
      "metadata": {
        "id": "JzHf409vn-ky",
        "colab": {
          "base_uri": "https://localhost:8080/"
        },
        "outputId": "30b0caf7-5d33-4472-dd74-03fe93b46d86"
      },
      "execution_count": null,
      "outputs": [
        {
          "output_type": "stream",
          "name": "stdout",
          "text": [
            "Texto com \ttabulação\n"
          ]
        }
      ]
    },
    {
      "cell_type": "markdown",
      "source": [
        "## **Posição de um texto**\n",
        "\n",
        "[c a r l i t o s]  = [0 1 2 3 4 5 6 7]"
      ],
      "metadata": {
        "id": "cHCclECbr6PE"
      }
    },
    {
      "cell_type": "markdown",
      "source": [
        "\n",
        "texto='uma frase' \\\\\n",
        "print(texto[4])"
      ],
      "metadata": {
        "id": "RaxP87-FrjTF"
      }
    },
    {
      "cell_type": "code",
      "source": [
        "texto = 'uma frase'\n",
        "texto"
      ],
      "metadata": {
        "id": "swvRk6VeqWlW",
        "colab": {
          "base_uri": "https://localhost:8080/",
          "height": 36
        },
        "outputId": "69345949-d657-4a68-84d6-5aefdd316076"
      },
      "execution_count": null,
      "outputs": [
        {
          "output_type": "execute_result",
          "data": {
            "text/plain": [
              "'uma frase'"
            ],
            "application/vnd.google.colaboratory.intrinsic+json": {
              "type": "string"
            }
          },
          "metadata": {},
          "execution_count": 8
        }
      ]
    },
    {
      "cell_type": "code",
      "source": [
        "print(texto[5])"
      ],
      "metadata": {
        "colab": {
          "base_uri": "https://localhost:8080/"
        },
        "id": "QY1e3TxYsoiU",
        "outputId": "eba1f80d-31dc-4608-de36-873c992aef00"
      },
      "execution_count": null,
      "outputs": [
        {
          "output_type": "stream",
          "name": "stdout",
          "text": [
            "r\n"
          ]
        }
      ]
    },
    {
      "cell_type": "markdown",
      "source": [
        "len(texto)"
      ],
      "metadata": {
        "id": "XHAU09kssB6M"
      }
    },
    {
      "cell_type": "code",
      "source": [
        "len(texto)"
      ],
      "metadata": {
        "id": "2lUWWE1as47x",
        "colab": {
          "base_uri": "https://localhost:8080/"
        },
        "outputId": "2de79201-c30e-4b8d-ff6c-3ce2ddf9370c"
      },
      "execution_count": null,
      "outputs": [
        {
          "output_type": "execute_result",
          "data": {
            "text/plain": [
              "9"
            ]
          },
          "metadata": {},
          "execution_count": 15
        }
      ]
    },
    {
      "cell_type": "markdown",
      "source": [
        "print(texto[-1])"
      ],
      "metadata": {
        "id": "tlP3nefysEX_"
      }
    },
    {
      "cell_type": "code",
      "source": [
        "print(texto)\n",
        "print(texto[-1])"
      ],
      "metadata": {
        "id": "pUa_JapPu8Pt",
        "colab": {
          "base_uri": "https://localhost:8080/"
        },
        "outputId": "de2edec5-b1b4-47dd-aae6-1af60057ffec"
      },
      "execution_count": null,
      "outputs": [
        {
          "output_type": "stream",
          "name": "stdout",
          "text": [
            "uma frase\n",
            "e\n"
          ]
        }
      ]
    },
    {
      "cell_type": "markdown",
      "source": [
        "print(texto[-3])"
      ],
      "metadata": {
        "id": "qjU8mrTFsK1B"
      }
    },
    {
      "cell_type": "code",
      "source": [
        "print(texto[-3])"
      ],
      "metadata": {
        "id": "XiQRDDXlvBii",
        "colab": {
          "base_uri": "https://localhost:8080/"
        },
        "outputId": "28cf046a-bd19-46f6-db79-af59799e78a9"
      },
      "execution_count": null,
      "outputs": [
        {
          "output_type": "stream",
          "name": "stdout",
          "text": [
            "a\n"
          ]
        }
      ]
    },
    {
      "cell_type": "markdown",
      "source": [
        "print(texto[0:2])  # o intervalo de posições seria [0,2)"
      ],
      "metadata": {
        "id": "kzF3dUAcsNkC"
      }
    },
    {
      "cell_type": "code",
      "source": [
        "print(texto[0:2+1])"
      ],
      "metadata": {
        "id": "nUWcWEIkvYuO",
        "colab": {
          "base_uri": "https://localhost:8080/"
        },
        "outputId": "5d94e74a-700c-47e0-dbf1-b00d89f6141d"
      },
      "execution_count": null,
      "outputs": [
        {
          "output_type": "stream",
          "name": "stdout",
          "text": [
            "uma\n"
          ]
        }
      ]
    },
    {
      "cell_type": "markdown",
      "source": [
        "print(texto[-5:-3])   # o intervalo [-5,-3)"
      ],
      "metadata": {
        "id": "XhsX4PklsQVV"
      }
    },
    {
      "cell_type": "code",
      "source": [
        "print(texto)\n",
        "print(texto[-5:-3+1])"
      ],
      "metadata": {
        "id": "RC2h3HYRv0nk",
        "colab": {
          "base_uri": "https://localhost:8080/"
        },
        "outputId": "c2b0fdab-cf79-499e-d7f2-05c8bc703a87"
      },
      "execution_count": null,
      "outputs": [
        {
          "output_type": "stream",
          "name": "stdout",
          "text": [
            "uma frase\n",
            "fra\n"
          ]
        }
      ]
    },
    {
      "cell_type": "markdown",
      "source": [
        "print(texto[:6])"
      ],
      "metadata": {
        "id": "sKr83BDxsS1Q"
      }
    },
    {
      "cell_type": "code",
      "source": [
        "print(texto)\n",
        "print(texto[:6])"
      ],
      "metadata": {
        "id": "IGwN3Avew2LY",
        "colab": {
          "base_uri": "https://localhost:8080/"
        },
        "outputId": "ffc8eedf-62c4-40a8-f6e8-e985f2010762"
      },
      "execution_count": null,
      "outputs": [
        {
          "output_type": "stream",
          "name": "stdout",
          "text": [
            "uma frase\n",
            "uma fr\n"
          ]
        }
      ]
    },
    {
      "cell_type": "markdown",
      "source": [
        "print(texto[-4:])"
      ],
      "metadata": {
        "id": "reG9kGH5sW0e"
      }
    },
    {
      "cell_type": "code",
      "source": [
        "print(texto[-4:])"
      ],
      "metadata": {
        "id": "-uRQvrR5xJhH",
        "colab": {
          "base_uri": "https://localhost:8080/"
        },
        "outputId": "3c66340e-dc64-4fe5-f1a5-a0e0218ef83f"
      },
      "execution_count": null,
      "outputs": [
        {
          "output_type": "stream",
          "name": "stdout",
          "text": [
            "rase\n"
          ]
        }
      ]
    },
    {
      "cell_type": "markdown",
      "source": [
        "print(texto[3:8:2])  # pulando de 2 em 2"
      ],
      "metadata": {
        "id": "MR0yzI4WwMvX"
      }
    },
    {
      "cell_type": "code",
      "source": [
        "print(texto)\n",
        "print(texto[3:8:2])"
      ],
      "metadata": {
        "colab": {
          "base_uri": "https://localhost:8080/"
        },
        "id": "hwnOq7RayToB",
        "outputId": "6ef6b37d-236a-47b3-b89d-ea04223e62e4"
      },
      "execution_count": null,
      "outputs": [
        {
          "output_type": "stream",
          "name": "stdout",
          "text": [
            "uma frase\n",
            " rs\n"
          ]
        }
      ]
    },
    {
      "cell_type": "code",
      "source": [
        "texto = 'hola mundo feio'\n",
        "print(texto[3:8:2])"
      ],
      "metadata": {
        "colab": {
          "base_uri": "https://localhost:8080/"
        },
        "id": "7Nv4bOIBwSvS",
        "outputId": "cbe9c440-a5af-495e-9c81-237b019887bc"
      },
      "execution_count": null,
      "outputs": [
        {
          "output_type": "stream",
          "name": "stdout",
          "text": [
            "amn\n"
          ]
        }
      ]
    },
    {
      "cell_type": "markdown",
      "source": [
        "# **Método _format_**"
      ],
      "metadata": {
        "id": "NYJLIg3JpoXG"
      }
    },
    {
      "cell_type": "markdown",
      "source": [
        "m = 36 ; l=45 \\\\\n",
        "print(f'{m} é o valor de minha variável e {l} é o resto')"
      ],
      "metadata": {
        "id": "fl9NLO620B4t"
      }
    },
    {
      "cell_type": "code",
      "source": [
        "m=36 ; l=51\n",
        "print(f'A minha idade é {m} e a sua é {l}.')"
      ],
      "metadata": {
        "id": "DqEC3eds4c2D",
        "colab": {
          "base_uri": "https://localhost:8080/"
        },
        "outputId": "d2ae3b36-6c3a-4972-e9b0-dc3afa3f94fe"
      },
      "execution_count": null,
      "outputs": [
        {
          "output_type": "stream",
          "name": "stdout",
          "text": [
            "A minha idade é 36 e a sua é 51.\n"
          ]
        }
      ]
    },
    {
      "cell_type": "code",
      "source": [
        "# índice de massa corporal\n",
        "massa=int(input('Qual é a sua massa?'))\n",
        "peso = massa*10\n",
        "altura = float(input('Qual é a sua altura?'))\n",
        "\n",
        "nome =  input('Qual o seu nome?')\n",
        "\n",
        "IMC = massa/altura**2\n",
        "\n",
        "print(f'Olá {nome}! Seu peso é {peso} N e\\n seu IMC é {IMC} kg/m2.')"
      ],
      "metadata": {
        "colab": {
          "base_uri": "https://localhost:8080/"
        },
        "id": "_vhbcDwG0bd7",
        "outputId": "b8f16e4f-1e47-409c-f3f9-2aa42cad4c7f"
      },
      "execution_count": null,
      "outputs": [
        {
          "output_type": "stream",
          "name": "stdout",
          "text": [
            "Qual é a sua massa?95\n",
            "Qual é a sua altura?1.45\n",
            "Qual o seu nome?eu\n",
            "Olá eu! Seu peso é 950 N e\n",
            " seu IMC é 45.18430439952437 kg/m2.\n"
          ]
        }
      ]
    },
    {
      "cell_type": "markdown",
      "source": [
        "m = 36 ; l=45 \\\\\n",
        "print(f'{m:F} é o valor de minha variável e {l:n} é o resto')"
      ],
      "metadata": {
        "id": "lMoj_BclyiTM"
      }
    },
    {
      "cell_type": "code",
      "source": [
        "m=36 ; l=45\n",
        "print(f'{m:f} é o valor e o outro é {l:n}.')"
      ],
      "metadata": {
        "id": "dm5fSxAG4uDQ",
        "colab": {
          "base_uri": "https://localhost:8080/"
        },
        "outputId": "454c45de-df16-4da6-f453-c83856fe6aca"
      },
      "execution_count": null,
      "outputs": [
        {
          "output_type": "stream",
          "name": "stdout",
          "text": [
            "36.000000 é o valor e o outro é 45.\n"
          ]
        }
      ]
    },
    {
      "cell_type": "markdown",
      "source": [
        "m = 1.25 \\\\\n",
        "print(f'{m:F} é o valor de porcentagem é {m:%}')"
      ],
      "metadata": {
        "id": "bsi_mZAmyojO"
      }
    },
    {
      "cell_type": "code",
      "source": [
        "m=1.25\n",
        "print(f'{m:f} e o valor da porcentagem é {m:%}')"
      ],
      "metadata": {
        "id": "zGqkBacB7VN2",
        "colab": {
          "base_uri": "https://localhost:8080/"
        },
        "outputId": "9a3249a7-0270-40f1-845a-dafa9ea36e58"
      },
      "execution_count": null,
      "outputs": [
        {
          "output_type": "stream",
          "name": "stdout",
          "text": [
            "1.250000 e o valor da porcentagem é 125.000000%\n"
          ]
        }
      ]
    },
    {
      "cell_type": "markdown",
      "source": [
        "m = 0.25\n",
        "print(f'{m:f} é o valor flotante {m:.3e}') # 3 casas decimais"
      ],
      "metadata": {
        "id": "AOpo4mPayxDz"
      }
    },
    {
      "cell_type": "code",
      "source": [
        "m=0.256\n",
        "print(f'{m:f} como o valor em notação científica {m:.2e}')\n"
      ],
      "metadata": {
        "id": "nSEvvwvT7b2T",
        "colab": {
          "base_uri": "https://localhost:8080/"
        },
        "outputId": "1029d12c-a93c-43d2-bbdc-44060e3c4db3"
      },
      "execution_count": null,
      "outputs": [
        {
          "output_type": "stream",
          "name": "stdout",
          "text": [
            "0.256000 como o valor em notação científica 2.56e-01\n"
          ]
        }
      ]
    },
    {
      "cell_type": "markdown",
      "source": [
        "palavra='te procuro' \\\\\n",
        "palavra.capitalize()"
      ],
      "metadata": {
        "id": "MPDsG3fR0Oyz"
      }
    },
    {
      "cell_type": "code",
      "source": [
        "palvra= 'qualquer texto'\n",
        "palvra.capitalize()"
      ],
      "metadata": {
        "id": "Jy0oI9I0pvYp",
        "colab": {
          "base_uri": "https://localhost:8080/",
          "height": 36
        },
        "outputId": "f4e8c685-eb4b-451e-b43b-63628b08af83"
      },
      "execution_count": null,
      "outputs": [
        {
          "output_type": "execute_result",
          "data": {
            "text/plain": [
              "'Qualquer texto'"
            ],
            "application/vnd.google.colaboratory.intrinsic+json": {
              "type": "string"
            }
          },
          "metadata": {},
          "execution_count": 44
        }
      ]
    },
    {
      "cell_type": "markdown",
      "source": [
        "palavra.upper()"
      ],
      "metadata": {
        "id": "Huqr7vbX0Rns"
      }
    },
    {
      "cell_type": "code",
      "source": [
        "palvra.upper()"
      ],
      "metadata": {
        "id": "4GxMct9YqOD9",
        "colab": {
          "base_uri": "https://localhost:8080/",
          "height": 36
        },
        "outputId": "590d659f-7bf7-4fbc-b8a8-bcf0e2fdedee"
      },
      "execution_count": null,
      "outputs": [
        {
          "output_type": "execute_result",
          "data": {
            "text/plain": [
              "'QUALQUER TEXTO'"
            ],
            "application/vnd.google.colaboratory.intrinsic+json": {
              "type": "string"
            }
          },
          "metadata": {},
          "execution_count": 45
        }
      ]
    },
    {
      "cell_type": "code",
      "source": [
        "print(dir(str))"
      ],
      "metadata": {
        "colab": {
          "base_uri": "https://localhost:8080/"
        },
        "id": "ALN2B_E7qR9G",
        "outputId": "49860960-fa23-4659-824e-5dfb5eede0c9"
      },
      "execution_count": null,
      "outputs": [
        {
          "output_type": "stream",
          "name": "stdout",
          "text": [
            "['__add__', '__class__', '__contains__', '__delattr__', '__dir__', '__doc__', '__eq__', '__format__', '__ge__', '__getattribute__', '__getitem__', '__getnewargs__', '__gt__', '__hash__', '__init__', '__init_subclass__', '__iter__', '__le__', '__len__', '__lt__', '__mod__', '__mul__', '__ne__', '__new__', '__reduce__', '__reduce_ex__', '__repr__', '__rmod__', '__rmul__', '__setattr__', '__sizeof__', '__str__', '__subclasshook__', 'capitalize', 'casefold', 'center', 'count', 'encode', 'endswith', 'expandtabs', 'find', 'format', 'format_map', 'index', 'isalnum', 'isalpha', 'isascii', 'isdecimal', 'isdigit', 'isidentifier', 'islower', 'isnumeric', 'isprintable', 'isspace', 'istitle', 'isupper', 'join', 'ljust', 'lower', 'lstrip', 'maketrans', 'partition', 'replace', 'rfind', 'rindex', 'rjust', 'rpartition', 'rsplit', 'rstrip', 'split', 'splitlines', 'startswith', 'strip', 'swapcase', 'title', 'translate', 'upper', 'zfill']\n"
          ]
        }
      ]
    },
    {
      "cell_type": "code",
      "source": [
        "print(str.find.__doc__)"
      ],
      "metadata": {
        "colab": {
          "base_uri": "https://localhost:8080/"
        },
        "id": "sFu0nvfJqSJg",
        "outputId": "bdcf0eea-c2f3-439a-b650-cc2c08fc7788"
      },
      "execution_count": null,
      "outputs": [
        {
          "output_type": "stream",
          "name": "stdout",
          "text": [
            "S.find(sub[, start[, end]]) -> int\n",
            "\n",
            "Return the lowest index in S where substring sub is found,\n",
            "such that sub is contained within S[start:end].  Optional\n",
            "arguments start and end are interpreted as in slice notation.\n",
            "\n",
            "Return -1 on failure.\n"
          ]
        }
      ]
    },
    {
      "cell_type": "markdown",
      "source": [
        "# **Operações Lógica**"
      ],
      "metadata": {
        "id": "2dSOBEib0ZrG"
      }
    },
    {
      "cell_type": "markdown",
      "source": [
        "## **Matemáticas**"
      ],
      "metadata": {
        "id": "Lk4_Zx-q1HMh"
      }
    },
    {
      "cell_type": "markdown",
      "source": [
        "2<5"
      ],
      "metadata": {
        "id": "wLnJVE6k0g04"
      }
    },
    {
      "cell_type": "code",
      "source": [
        "2<5"
      ],
      "metadata": {
        "id": "t4lLM1yP0pLP",
        "colab": {
          "base_uri": "https://localhost:8080/"
        },
        "outputId": "aadc83cd-b548-48d7-ca98-21f69086434f"
      },
      "execution_count": null,
      "outputs": [
        {
          "output_type": "execute_result",
          "data": {
            "text/plain": [
              "True"
            ]
          },
          "metadata": {},
          "execution_count": 1
        }
      ]
    },
    {
      "cell_type": "markdown",
      "source": [
        "2>6"
      ],
      "metadata": {
        "id": "YG7zPp4T0iCl"
      }
    },
    {
      "cell_type": "code",
      "source": [
        "2>6"
      ],
      "metadata": {
        "id": "TeR40oSnzuak",
        "colab": {
          "base_uri": "https://localhost:8080/"
        },
        "outputId": "7f839052-ece0-43e1-ce08-b21edbe48baa"
      },
      "execution_count": null,
      "outputs": [
        {
          "output_type": "execute_result",
          "data": {
            "text/plain": [
              "False"
            ]
          },
          "metadata": {},
          "execution_count": 2
        }
      ]
    },
    {
      "cell_type": "markdown",
      "source": [
        "res=5>1 \\\\\n",
        "res"
      ],
      "metadata": {
        "id": "9y4-OBlh0qzF"
      }
    },
    {
      "cell_type": "code",
      "source": [
        "res=5>1\n",
        "res"
      ],
      "metadata": {
        "id": "1IdR4KU01fmv",
        "colab": {
          "base_uri": "https://localhost:8080/"
        },
        "outputId": "f1ff0673-a58c-4f94-9d0c-4290dbbbcb09"
      },
      "execution_count": null,
      "outputs": [
        {
          "output_type": "execute_result",
          "data": {
            "text/plain": [
              "True"
            ]
          },
          "metadata": {},
          "execution_count": 3
        }
      ]
    },
    {
      "cell_type": "markdown",
      "source": [
        "a=1 \\\\\n",
        "b=1\n"
      ],
      "metadata": {
        "id": "Evh3Q-CX0tZW"
      }
    },
    {
      "cell_type": "code",
      "source": [
        "a =1 ; b = 10"
      ],
      "metadata": {
        "id": "JaEDBYSF1gdH"
      },
      "execution_count": null,
      "outputs": []
    },
    {
      "cell_type": "markdown",
      "source": [
        "a == b  # a é igual a b"
      ],
      "metadata": {
        "id": "k7yhVpQK0wYR"
      }
    },
    {
      "cell_type": "code",
      "source": [
        "a == b"
      ],
      "metadata": {
        "id": "tz-6TnBG1jj1",
        "colab": {
          "base_uri": "https://localhost:8080/"
        },
        "outputId": "d1170605-7461-4dac-dd2d-4e7827a9af3e"
      },
      "execution_count": null,
      "outputs": [
        {
          "output_type": "execute_result",
          "data": {
            "text/plain": [
              "False"
            ]
          },
          "metadata": {},
          "execution_count": 12
        }
      ]
    },
    {
      "cell_type": "code",
      "source": [
        "c = 25\n",
        "d = c\n",
        "d"
      ],
      "metadata": {
        "colab": {
          "base_uri": "https://localhost:8080/"
        },
        "id": "XqImdxbPs6xc",
        "outputId": "9ed31561-4ca7-438c-f66e-92c0e25817b0"
      },
      "execution_count": null,
      "outputs": [
        {
          "output_type": "execute_result",
          "data": {
            "text/plain": [
              "25"
            ]
          },
          "metadata": {},
          "execution_count": 10
        }
      ]
    },
    {
      "cell_type": "markdown",
      "source": [
        "a>b"
      ],
      "metadata": {
        "id": "fgf72YIL0yVP"
      }
    },
    {
      "cell_type": "code",
      "source": [
        "a>b"
      ],
      "metadata": {
        "id": "sziFuLFB1kh3",
        "colab": {
          "base_uri": "https://localhost:8080/"
        },
        "outputId": "3302d958-5968-4611-cdeb-d7739d0aa664"
      },
      "execution_count": null,
      "outputs": [
        {
          "output_type": "execute_result",
          "data": {
            "text/plain": [
              "False"
            ]
          },
          "metadata": {},
          "execution_count": 13
        }
      ]
    },
    {
      "cell_type": "markdown",
      "source": [
        "a<=b"
      ],
      "metadata": {
        "id": "JjpPJPSr0y-Y"
      }
    },
    {
      "cell_type": "code",
      "source": [
        "a <= b"
      ],
      "metadata": {
        "id": "sOFoT77J1lM3",
        "colab": {
          "base_uri": "https://localhost:8080/"
        },
        "outputId": "a91ec6b5-4a7f-42f0-b67c-e4f9789bd8b1"
      },
      "execution_count": null,
      "outputs": [
        {
          "output_type": "execute_result",
          "data": {
            "text/plain": [
              "True"
            ]
          },
          "metadata": {},
          "execution_count": 14
        }
      ]
    },
    {
      "cell_type": "markdown",
      "source": [
        "'a'!='b'  # as letras são diferentes\n",
        "\n",
        "a!=b"
      ],
      "metadata": {
        "id": "aYh_TXXc01Jk"
      }
    },
    {
      "cell_type": "code",
      "source": [
        "print(a)\n",
        "a != b"
      ],
      "metadata": {
        "id": "0X8S6myD1mvn",
        "colab": {
          "base_uri": "https://localhost:8080/"
        },
        "outputId": "32913295-4504-463c-97f7-c508d658cd09"
      },
      "execution_count": null,
      "outputs": [
        {
          "output_type": "stream",
          "name": "stdout",
          "text": [
            "1\n"
          ]
        },
        {
          "output_type": "execute_result",
          "data": {
            "text/plain": [
              "True"
            ]
          },
          "metadata": {},
          "execution_count": 16
        }
      ]
    },
    {
      "cell_type": "markdown",
      "source": [
        "x=5 \\\\\n",
        "3<x<8    # perguntar se x pertence ao intervalo (3,8)"
      ],
      "metadata": {
        "id": "9AUqgXml05iP"
      }
    },
    {
      "cell_type": "code",
      "source": [
        "x=15\n",
        "3 < x < 8 # para uma desigualdade"
      ],
      "metadata": {
        "id": "Sd_ixnuT1oBg",
        "colab": {
          "base_uri": "https://localhost:8080/"
        },
        "outputId": "45f30d29-28d5-4848-871e-71af029f177f"
      },
      "execution_count": null,
      "outputs": [
        {
          "output_type": "execute_result",
          "data": {
            "text/plain": [
              "False"
            ]
          },
          "metadata": {},
          "execution_count": 18
        }
      ]
    },
    {
      "cell_type": "markdown",
      "source": [
        "3<=x<10"
      ],
      "metadata": {
        "id": "z-xPXMXK1ArZ"
      }
    },
    {
      "cell_type": "code",
      "source": [
        "3 <= x < 10"
      ],
      "metadata": {
        "id": "pNXK4EES1osu",
        "colab": {
          "base_uri": "https://localhost:8080/"
        },
        "outputId": "72f059d3-8300-4e98-e7c4-b1eed7fda981"
      },
      "execution_count": null,
      "outputs": [
        {
          "output_type": "execute_result",
          "data": {
            "text/plain": [
              "False"
            ]
          },
          "metadata": {},
          "execution_count": 19
        }
      ]
    },
    {
      "cell_type": "markdown",
      "source": [
        "## **Boleanas**"
      ],
      "metadata": {
        "id": "g2ZH9lJT08W9"
      }
    },
    {
      "cell_type": "markdown",
      "source": [
        "3<x and x<8"
      ],
      "metadata": {
        "id": "0k7J_q4Q1RkN"
      }
    },
    {
      "cell_type": "code",
      "source": [
        "3 < x and x < 8"
      ],
      "metadata": {
        "id": "vzB1Av0i1pfS",
        "colab": {
          "base_uri": "https://localhost:8080/"
        },
        "outputId": "8b70038a-7633-4cda-dc0e-eea9b56727b7"
      },
      "execution_count": null,
      "outputs": [
        {
          "output_type": "execute_result",
          "data": {
            "text/plain": [
              "False"
            ]
          },
          "metadata": {},
          "execution_count": 20
        }
      ]
    },
    {
      "cell_type": "markdown",
      "source": [
        "a=x==0   # a=x e x=0 \\\\\n",
        "b=x>4 \\\\\n",
        "b"
      ],
      "metadata": {
        "id": "Rhj2SQFY1Rva"
      }
    },
    {
      "cell_type": "code",
      "source": [
        "a=x==0\n",
        "b=x>4\n",
        "print(x)\n",
        "b"
      ],
      "metadata": {
        "id": "vndUh1rf1qGM",
        "colab": {
          "base_uri": "https://localhost:8080/"
        },
        "outputId": "0d189231-8323-4982-ce14-aeca6c15d3cf"
      },
      "execution_count": null,
      "outputs": [
        {
          "output_type": "stream",
          "name": "stdout",
          "text": [
            "15\n"
          ]
        },
        {
          "output_type": "execute_result",
          "data": {
            "text/plain": [
              "True"
            ]
          },
          "metadata": {},
          "execution_count": 25
        }
      ]
    },
    {
      "cell_type": "markdown",
      "source": [
        "a or b   # Tabela de verdade"
      ],
      "metadata": {
        "id": "0-B4DRWk1X48"
      }
    },
    {
      "cell_type": "code",
      "source": [
        "a or b"
      ],
      "metadata": {
        "id": "_Z1AhZwy1qxS",
        "colab": {
          "base_uri": "https://localhost:8080/"
        },
        "outputId": "46f23cea-42d2-4786-c057-4f15aad2d377"
      },
      "execution_count": null,
      "outputs": [
        {
          "output_type": "execute_result",
          "data": {
            "text/plain": [
              "True"
            ]
          },
          "metadata": {},
          "execution_count": 26
        }
      ]
    },
    {
      "cell_type": "markdown",
      "source": [
        "not a   # negar a variável a, não se cumpre a."
      ],
      "metadata": {
        "id": "DIiSDG0e1a-o"
      }
    },
    {
      "cell_type": "code",
      "source": [],
      "metadata": {
        "id": "uhEJdZg71sGy"
      },
      "execution_count": null,
      "outputs": []
    },
    {
      "cell_type": "markdown",
      "source": [
        "## Funções intrínsecas do Python\n",
        "\n",
        "\\\\\n",
        "\n",
        "m=-5\n",
        "\n",
        "abs()\n",
        "\n",
        "n=0.85697855\n",
        "\n",
        "round(n,4)"
      ],
      "metadata": {
        "id": "Y2FIL8YfWuRc"
      }
    },
    {
      "cell_type": "code",
      "source": [
        "m=-5\n",
        "abs(m)"
      ],
      "metadata": {
        "id": "3yiEPRhaW6za",
        "colab": {
          "base_uri": "https://localhost:8080/"
        },
        "outputId": "9ff7b11b-2f39-4ef3-f077-36d0670c4e94"
      },
      "execution_count": null,
      "outputs": [
        {
          "output_type": "execute_result",
          "data": {
            "text/plain": [
              "5"
            ]
          },
          "metadata": {},
          "execution_count": 27
        }
      ]
    },
    {
      "cell_type": "code",
      "source": [
        "n=0.56868855148\n",
        "round(n,3)  # o segundo elemento indica a quantidade de casas decimais"
      ],
      "metadata": {
        "colab": {
          "base_uri": "https://localhost:8080/"
        },
        "id": "p6pSIwdM1Gnv",
        "outputId": "c3e7c146-dd7a-4226-80dc-ec130b655ae9"
      },
      "execution_count": null,
      "outputs": [
        {
          "output_type": "execute_result",
          "data": {
            "text/plain": [
              "0.569"
            ]
          },
          "metadata": {},
          "execution_count": 29
        }
      ]
    },
    {
      "cell_type": "markdown",
      "source": [
        "# **Modulo Matemático _Math_**\n",
        "\n",
        "https://docs.python.org/pt-br/3/library/math.html\n",
        "\n",
        "\n",
        "\n"
      ],
      "metadata": {
        "id": "0qW7QBe11s3I"
      }
    },
    {
      "cell_type": "markdown",
      "source": [
        "import math\n",
        "\n",
        "\n",
        "print(dir(math))"
      ],
      "metadata": {
        "id": "psedCsEBWiyC"
      }
    },
    {
      "cell_type": "code",
      "source": [],
      "metadata": {
        "id": "WygdQHBtWm_x"
      },
      "execution_count": null,
      "outputs": []
    },
    {
      "cell_type": "code",
      "source": [
        "from math import *"
      ],
      "metadata": {
        "id": "xXmqZX0b1xvo"
      },
      "execution_count": null,
      "outputs": []
    },
    {
      "cell_type": "code",
      "source": [
        "round( sqrt(5),2)\n"
      ],
      "metadata": {
        "colab": {
          "base_uri": "https://localhost:8080/"
        },
        "id": "4q-y2chM1x_s",
        "outputId": "fac75494-c428-4b2a-8358-d02f40f2bb2b"
      },
      "execution_count": null,
      "outputs": [
        {
          "output_type": "execute_result",
          "data": {
            "text/plain": [
              "2.24"
            ]
          },
          "metadata": {},
          "execution_count": 32
        }
      ]
    },
    {
      "cell_type": "code",
      "source": [
        "pow(5,0.5)"
      ],
      "metadata": {
        "colab": {
          "base_uri": "https://localhost:8080/"
        },
        "id": "ik7UmyFA4aWQ",
        "outputId": "20947789-d18b-4672-cea4-033b9e503af1"
      },
      "execution_count": null,
      "outputs": [
        {
          "output_type": "execute_result",
          "data": {
            "text/plain": [
              "2.23606797749979"
            ]
          },
          "metadata": {},
          "execution_count": 33
        }
      ]
    },
    {
      "cell_type": "code",
      "source": [
        "pow(27,1/8)"
      ],
      "metadata": {
        "colab": {
          "base_uri": "https://localhost:8080/"
        },
        "id": "QFTRebAp6F3M",
        "outputId": "0e3e12a6-d188-4570-9f47-ea867a0dc95c"
      },
      "execution_count": null,
      "outputs": [
        {
          "output_type": "execute_result",
          "data": {
            "text/plain": [
              "1.509803648477105"
            ]
          },
          "metadata": {},
          "execution_count": 34
        }
      ]
    },
    {
      "cell_type": "code",
      "source": [
        "f=35\n",
        "pow(f,0.8)"
      ],
      "metadata": {
        "id": "TGJM8Ztg6J2c",
        "colab": {
          "base_uri": "https://localhost:8080/"
        },
        "outputId": "6a6b231d-0b91-4536-e415-64cd71a893c1"
      },
      "execution_count": null,
      "outputs": [
        {
          "output_type": "execute_result",
          "data": {
            "text/plain": [
              "17.189151347155786"
            ]
          },
          "metadata": {},
          "execution_count": 35
        }
      ]
    },
    {
      "cell_type": "code",
      "source": [
        "sin(3.1416/2)"
      ],
      "metadata": {
        "colab": {
          "base_uri": "https://localhost:8080/"
        },
        "id": "NW9zTNXb6RQV",
        "outputId": "9891ef8c-fb66-4763-89fe-f225893fb053"
      },
      "execution_count": null,
      "outputs": [
        {
          "output_type": "execute_result",
          "data": {
            "text/plain": [
              "0.9999999999932537"
            ]
          },
          "metadata": {},
          "execution_count": 37
        }
      ]
    },
    {
      "cell_type": "code",
      "source": [
        "log(2)"
      ],
      "metadata": {
        "id": "Xj061wx_6bpQ",
        "colab": {
          "base_uri": "https://localhost:8080/"
        },
        "outputId": "beed7b6c-4908-4f5e-c812-40230e303f8a"
      },
      "execution_count": null,
      "outputs": [
        {
          "output_type": "execute_result",
          "data": {
            "text/plain": [
              "0.6931471805599453"
            ]
          },
          "metadata": {},
          "execution_count": 38
        }
      ]
    },
    {
      "cell_type": "code",
      "source": [
        "log(2,10)"
      ],
      "metadata": {
        "id": "r5DUMKGa6d3W",
        "colab": {
          "base_uri": "https://localhost:8080/"
        },
        "outputId": "51260f9c-4ad8-4ce5-efd1-8ab2b641be78"
      },
      "execution_count": null,
      "outputs": [
        {
          "output_type": "execute_result",
          "data": {
            "text/plain": [
              "0.30102999566398114"
            ]
          },
          "metadata": {},
          "execution_count": 39
        }
      ]
    },
    {
      "cell_type": "markdown",
      "source": [
        "$\\log_b(a^n)=n\\log_b(a)$"
      ],
      "metadata": {
        "id": "14jrHWQk5p6i"
      }
    },
    {
      "cell_type": "code",
      "source": [
        "log(4,2)"
      ],
      "metadata": {
        "id": "Qs5brpwo6pZD",
        "colab": {
          "base_uri": "https://localhost:8080/"
        },
        "outputId": "84237fcd-9d97-4bff-ac1e-3cbd685db4b1"
      },
      "execution_count": null,
      "outputs": [
        {
          "output_type": "execute_result",
          "data": {
            "text/plain": [
              "2.0"
            ]
          },
          "metadata": {},
          "execution_count": 53
        }
      ]
    },
    {
      "cell_type": "code",
      "source": [
        "factorial(40)"
      ],
      "metadata": {
        "id": "sG1943t26zGc",
        "colab": {
          "base_uri": "https://localhost:8080/"
        },
        "outputId": "fd7aeb0d-0899-4f48-89e2-2912dcd51d11"
      },
      "execution_count": null,
      "outputs": [
        {
          "output_type": "execute_result",
          "data": {
            "text/plain": [
              "815915283247897734345611269596115894272000000000"
            ]
          },
          "metadata": {},
          "execution_count": 40
        }
      ]
    },
    {
      "cell_type": "code",
      "source": [
        "ceil(3.5) # máximo inteiro de 3,5"
      ],
      "metadata": {
        "id": "3RfyDQt-629e",
        "colab": {
          "base_uri": "https://localhost:8080/"
        },
        "outputId": "75ecfd1b-e43d-455f-aa26-c9f9f40b37f7"
      },
      "execution_count": null,
      "outputs": [
        {
          "output_type": "execute_result",
          "data": {
            "text/plain": [
              "4"
            ]
          },
          "metadata": {},
          "execution_count": 41
        }
      ]
    },
    {
      "cell_type": "code",
      "source": [
        "floor(2.9) # mínimo inteiro"
      ],
      "metadata": {
        "id": "k63gJvp-7ATF",
        "colab": {
          "base_uri": "https://localhost:8080/"
        },
        "outputId": "70a8ef4a-b0fe-484e-b911-286f297030f0"
      },
      "execution_count": null,
      "outputs": [
        {
          "output_type": "execute_result",
          "data": {
            "text/plain": [
              "2"
            ]
          },
          "metadata": {},
          "execution_count": 42
        }
      ]
    },
    {
      "cell_type": "code",
      "source": [
        "abs(-5/55648)"
      ],
      "metadata": {
        "id": "DLArj2QX7yv1",
        "colab": {
          "base_uri": "https://localhost:8080/"
        },
        "outputId": "6e6e6473-f61e-49f0-fb5a-ffc84756b282"
      },
      "execution_count": null,
      "outputs": [
        {
          "output_type": "execute_result",
          "data": {
            "text/plain": [
              "8.9850488786659e-05"
            ]
          },
          "metadata": {},
          "execution_count": 2
        }
      ]
    },
    {
      "cell_type": "markdown",
      "source": [],
      "metadata": {
        "id": "-ZefshsFWiuS"
      }
    },
    {
      "cell_type": "markdown",
      "source": [
        "$$\\left( \\begin{array}{c} n \\\\ k\n",
        " \\end{array} \\right) = \\frac{n!}{(n-k)!k!}$$\n",
        "\n",
        " com $n>k$"
      ],
      "metadata": {
        "id": "2tULWLctVfai"
      }
    },
    {
      "cell_type": "code",
      "source": [
        "comb(3,2)"
      ],
      "metadata": {
        "id": "HTGiN7OY6bhq",
        "colab": {
          "base_uri": "https://localhost:8080/",
          "height": 179
        },
        "outputId": "79f46a65-7545-4f71-b480-25b625ac10ab"
      },
      "execution_count": null,
      "outputs": [
        {
          "output_type": "error",
          "ename": "NameError",
          "evalue": "ignored",
          "traceback": [
            "\u001b[0;31m---------------------------------------------------------------------------\u001b[0m",
            "\u001b[0;31mNameError\u001b[0m                                 Traceback (most recent call last)",
            "\u001b[0;32m<ipython-input-1-75de543dcfa9>\u001b[0m in \u001b[0;36m<module>\u001b[0;34m\u001b[0m\n\u001b[0;32m----> 1\u001b[0;31m \u001b[0mcomb\u001b[0m\u001b[0;34m(\u001b[0m\u001b[0;36m3\u001b[0m\u001b[0;34m,\u001b[0m\u001b[0;36m2\u001b[0m\u001b[0;34m)\u001b[0m\u001b[0;34m\u001b[0m\u001b[0;34m\u001b[0m\u001b[0m\n\u001b[0m",
            "\u001b[0;31mNameError\u001b[0m: name 'comb' is not defined"
          ]
        }
      ]
    },
    {
      "cell_type": "markdown",
      "source": [
        "!sudo apt-get update -y   \n",
        "\n",
        "\n",
        "\n",
        "\n",
        "!sudo apt-get install python3.8"
      ],
      "metadata": {
        "id": "m9-GM7mUA855"
      }
    },
    {
      "cell_type": "code",
      "source": [
        "!sudo apt-get update -y\n",
        "!sudo apt-get install python3.8"
      ],
      "metadata": {
        "colab": {
          "base_uri": "https://localhost:8080/"
        },
        "id": "aJwfMAfl7UJ5",
        "outputId": "e0a23b0a-ee1b-417f-86ae-ff352c332113"
      },
      "execution_count": null,
      "outputs": [
        {
          "output_type": "stream",
          "name": "stdout",
          "text": [
            "\r0% [Working]\r            \rIgn:1 https://developer.download.nvidia.com/compute/machine-learning/repos/ubuntu1804/x86_64  InRelease\n",
            "\r0% [Connecting to archive.ubuntu.com] [Connecting to security.ubuntu.com (91.18\r                                                                               \rHit:2 https://developer.download.nvidia.com/compute/cuda/repos/ubuntu1804/x86_64  InRelease\n",
            "\r0% [Connecting to archive.ubuntu.com] [Connecting to security.ubuntu.com (91.18\r0% [2 InRelease gpgv 1,581 B] [Connecting to archive.ubuntu.com] [Waiting for h\r                                                                               \rHit:3 https://developer.download.nvidia.com/compute/machine-learning/repos/ubuntu1804/x86_64  Release\n",
            "Hit:4 http://security.ubuntu.com/ubuntu bionic-security InRelease\n",
            "Hit:5 https://cloud.r-project.org/bin/linux/ubuntu bionic-cran40/ InRelease\n",
            "Hit:7 http://archive.ubuntu.com/ubuntu bionic InRelease\n",
            "Hit:8 http://ppa.launchpad.net/c2d4u.team/c2d4u4.0+/ubuntu bionic InRelease\n",
            "Hit:9 http://archive.ubuntu.com/ubuntu bionic-updates InRelease\n",
            "Hit:10 http://archive.ubuntu.com/ubuntu bionic-backports InRelease\n",
            "Hit:11 http://ppa.launchpad.net/cran/libgit2/ubuntu bionic InRelease\n",
            "Hit:12 http://ppa.launchpad.net/deadsnakes/ppa/ubuntu bionic InRelease\n",
            "Hit:13 http://ppa.launchpad.net/graphics-drivers/ppa/ubuntu bionic InRelease\n",
            "Reading package lists... Done\n",
            "Reading package lists... Done\n",
            "Building dependency tree       \n",
            "Reading state information... Done\n",
            "python3.8 is already the newest version (3.8.14-1+bionic1).\n",
            "The following package was automatically installed and is no longer required:\n",
            "  libnvidia-common-460\n",
            "Use 'sudo apt autoremove' to remove it.\n",
            "0 upgraded, 0 newly installed, 0 to remove and 20 not upgraded.\n"
          ]
        }
      ]
    },
    {
      "cell_type": "code",
      "source": [
        "from math import *\n",
        "\n",
        "comb(3,2)"
      ],
      "metadata": {
        "colab": {
          "base_uri": "https://localhost:8080/",
          "height": 218
        },
        "id": "UEQ89Yzj75rH",
        "outputId": "1d07902d-8762-40f0-cb94-7b51993e00d2"
      },
      "execution_count": null,
      "outputs": [
        {
          "output_type": "error",
          "ename": "NameError",
          "evalue": "ignored",
          "traceback": [
            "\u001b[0;31m---------------------------------------------------------------------------\u001b[0m",
            "\u001b[0;31mNameError\u001b[0m                                 Traceback (most recent call last)",
            "\u001b[0;32m<ipython-input-3-d79ca1298c3c>\u001b[0m in \u001b[0;36m<module>\u001b[0;34m\u001b[0m\n\u001b[1;32m      1\u001b[0m \u001b[0;32mfrom\u001b[0m \u001b[0mmath\u001b[0m \u001b[0;32mimport\u001b[0m \u001b[0;34m*\u001b[0m\u001b[0;34m\u001b[0m\u001b[0;34m\u001b[0m\u001b[0m\n\u001b[1;32m      2\u001b[0m \u001b[0;34m\u001b[0m\u001b[0m\n\u001b[0;32m----> 3\u001b[0;31m \u001b[0mcomb\u001b[0m\u001b[0;34m(\u001b[0m\u001b[0;36m3\u001b[0m\u001b[0;34m,\u001b[0m\u001b[0;36m2\u001b[0m\u001b[0;34m)\u001b[0m\u001b[0;34m\u001b[0m\u001b[0;34m\u001b[0m\u001b[0m\n\u001b[0m",
            "\u001b[0;31mNameError\u001b[0m: name 'comb' is not defined"
          ]
        }
      ]
    },
    {
      "cell_type": "code",
      "source": [
        "print(dir(math))"
      ],
      "metadata": {
        "colab": {
          "base_uri": "https://localhost:8080/"
        },
        "id": "AWJJii-Um3t2",
        "outputId": "0cd639e0-3041-46af-f582-8e4656a51502"
      },
      "execution_count": null,
      "outputs": [
        {
          "output_type": "stream",
          "name": "stdout",
          "text": [
            "['__doc__', '__loader__', '__name__', '__package__', '__spec__', 'acos', 'acosh', 'asin', 'asinh', 'atan', 'atan2', 'atanh', 'ceil', 'copysign', 'cos', 'cosh', 'degrees', 'e', 'erf', 'erfc', 'exp', 'expm1', 'fabs', 'factorial', 'floor', 'fmod', 'frexp', 'fsum', 'gamma', 'gcd', 'hypot', 'inf', 'isclose', 'isfinite', 'isinf', 'isnan', 'ldexp', 'lgamma', 'log', 'log10', 'log1p', 'log2', 'modf', 'nan', 'pi', 'pow', 'radians', 'remainder', 'sin', 'sinh', 'sqrt', 'tan', 'tanh', 'tau', 'trunc']\n"
          ]
        }
      ]
    },
    {
      "cell_type": "code",
      "source": [
        "import math\n",
        "\n",
        "n = 10\n",
        "k = 2\n",
        "\n",
        "nCk = math.comb(n, k)\n",
        "print(nCk)\n",
        "\n",
        "n = 5\n",
        "k = 3\n",
        "\n",
        "nCk = math.comb(n, k)\n",
        "print(nCk)"
      ],
      "metadata": {
        "colab": {
          "base_uri": "https://localhost:8080/",
          "height": 257
        },
        "id": "WdwaoEPgoJyv",
        "outputId": "dd4a157d-097e-4e3b-f2e7-95395b371844"
      },
      "execution_count": null,
      "outputs": [
        {
          "output_type": "error",
          "ename": "AttributeError",
          "evalue": "ignored",
          "traceback": [
            "\u001b[0;31m---------------------------------------------------------------------------\u001b[0m",
            "\u001b[0;31mAttributeError\u001b[0m                            Traceback (most recent call last)",
            "\u001b[0;32m<ipython-input-1-bae6fde9b262>\u001b[0m in \u001b[0;36m<module>\u001b[0;34m\u001b[0m\n\u001b[1;32m      4\u001b[0m \u001b[0mk\u001b[0m \u001b[0;34m=\u001b[0m \u001b[0;36m2\u001b[0m\u001b[0;34m\u001b[0m\u001b[0;34m\u001b[0m\u001b[0m\n\u001b[1;32m      5\u001b[0m \u001b[0;34m\u001b[0m\u001b[0m\n\u001b[0;32m----> 6\u001b[0;31m \u001b[0mnCk\u001b[0m \u001b[0;34m=\u001b[0m \u001b[0mmath\u001b[0m\u001b[0;34m.\u001b[0m\u001b[0mcomb\u001b[0m\u001b[0;34m(\u001b[0m\u001b[0mn\u001b[0m\u001b[0;34m,\u001b[0m \u001b[0mk\u001b[0m\u001b[0;34m)\u001b[0m\u001b[0;34m\u001b[0m\u001b[0;34m\u001b[0m\u001b[0m\n\u001b[0m\u001b[1;32m      7\u001b[0m \u001b[0mprint\u001b[0m\u001b[0;34m(\u001b[0m\u001b[0mnCk\u001b[0m\u001b[0;34m)\u001b[0m\u001b[0;34m\u001b[0m\u001b[0;34m\u001b[0m\u001b[0m\n\u001b[1;32m      8\u001b[0m \u001b[0;34m\u001b[0m\u001b[0m\n",
            "\u001b[0;31mAttributeError\u001b[0m: module 'math' has no attribute 'comb'"
          ]
        }
      ]
    }
  ]
}